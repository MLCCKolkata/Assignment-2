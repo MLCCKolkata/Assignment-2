{
  "nbformat": 4,
  "nbformat_minor": 0,
  "metadata": {
    "colab": {
      "name": "Untitled0.ipynb",
      "version": "0.3.2",
      "provenance": [],
      "collapsed_sections": [],
      "include_colab_link": true
    },
    "kernelspec": {
      "name": "python3",
      "display_name": "Python 3"
    }
  },
  "cells": [
    {
      "cell_type": "markdown",
      "metadata": {
        "id": "view-in-github",
        "colab_type": "text"
      },
      "source": [
        "[View in Colaboratory](https://colab.research.google.com/github/arghac14/Assignment-2/blob/arghac14/assignment2.ipynb)"
      ]
    },
    {
      "metadata": {
        "id": "5gu2ZKXVh_hh",
        "colab_type": "text"
      },
      "cell_type": "markdown",
      "source": [
        "# Exercise:list"
      ]
    },
    {
      "metadata": {
        "id": "TKZreQirj2-R",
        "colab_type": "code",
        "colab": {
          "base_uri": "https://localhost:8080/",
          "height": 68
        },
        "outputId": "c72b3c93-41d9-419c-efaf-444e6cf56b7d"
      },
      "cell_type": "code",
      "source": [
        "#1\n",
        "from random import randrange as rg \n",
        "dummy_list=[]\n",
        "for i in range(10):\n",
        "  dummy_list.append(rg(1,10))\n",
        "#2\n",
        "print(dummy_list)\n",
        "#3\n",
        "dummy_list.reverse()\n",
        "print(dummy_list)\n",
        "#4\n",
        "dummy_list_2 = [2, 200, 16, 4, 1, 0, 9.45, 45.67, 90, 12.01, 12.02]\n",
        "dummy_list.extend(dummy_list_2)\n",
        "print(dummy_list)\n"
      ],
      "execution_count": 15,
      "outputs": [
        {
          "output_type": "stream",
          "text": [
            "[3, 9, 3, 5, 5, 3, 6, 9, 1, 4]\n",
            "[4, 1, 9, 6, 3, 5, 5, 3, 9, 3]\n",
            "[4, 1, 9, 6, 3, 5, 5, 3, 9, 3, 2, 200, 16, 4, 1, 0, 9.45, 45.67, 90, 12.01, 12.02]\n"
          ],
          "name": "stdout"
        }
      ]
    },
    {
      "metadata": {
        "id": "MaHWLZR_lK5p",
        "colab_type": "code",
        "colab": {
          "base_uri": "https://localhost:8080/",
          "height": 34
        },
        "outputId": "062d6392-a55b-41b3-9ab0-8246a40c49b1"
      },
      "cell_type": "code",
      "source": [
        "#5\n",
        "dummy_dict={i: dummy_list.count(i) for i in dummy_list}\n",
        "#6\n",
        "print(dummy_dict)\n"
      ],
      "execution_count": 20,
      "outputs": [
        {
          "output_type": "stream",
          "text": [
            "{4: 2, 1: 2, 9: 2, 6: 1, 3: 3, 5: 2, 2: 1, 200: 1, 16: 1, 0: 1, 9.45: 1, 45.67: 1, 90: 1, 12.01: 1, 12.02: 1}\n"
          ],
          "name": "stdout"
        }
      ]
    },
    {
      "metadata": {
        "id": "PR8OS_POqnIN",
        "colab_type": "code",
        "colab": {
          "base_uri": "https://localhost:8080/",
          "height": 51
        },
        "outputId": "928da099-aaaf-4db4-9abc-f3bc70397a6b"
      },
      "cell_type": "code",
      "source": [
        "#7\n",
        "print(sorted(dummy_list))\n",
        "print(sorted(dummy_list,reverse=True))"
      ],
      "execution_count": 22,
      "outputs": [
        {
          "output_type": "stream",
          "text": [
            "[0, 1, 1, 2, 3, 3, 3, 4, 4, 5, 5, 6, 9, 9, 9.45, 12.01, 12.02, 16, 45.67, 90, 200]\n",
            "[200, 90, 45.67, 16, 12.02, 12.01, 9.45, 9, 9, 6, 5, 5, 4, 4, 3, 3, 3, 2, 1, 1, 0]\n"
          ],
          "name": "stdout"
        }
      ]
    },
    {
      "metadata": {
        "id": "XmIXLLt-rCj_",
        "colab_type": "code",
        "colab": {}
      },
      "cell_type": "code",
      "source": [
        "#8\n",
        "x=200\n",
        "dummy_list.remove(x)"
      ],
      "execution_count": 0,
      "outputs": []
    },
    {
      "metadata": {
        "id": "6VtM-hidrluk",
        "colab_type": "code",
        "colab": {
          "base_uri": "https://localhost:8080/",
          "height": 34
        },
        "outputId": "cb4799b7-696d-4eae-899b-f40653d716e1"
      },
      "cell_type": "code",
      "source": [
        "#9\n",
        "x=rg(len(dummy_list))\n",
        "dummy_list.remove(dummy_list[x])\n"
      ],
      "execution_count": 26,
      "outputs": [
        {
          "output_type": "stream",
          "text": [
            "[1, 6, 3, 5, 3, 9, 3, 2, 200, 16, 1, 0, 9.45, 45.67, 90, 12.01, 12.02]\n"
          ],
          "name": "stdout"
        }
      ]
    },
    {
      "metadata": {
        "id": "kXfWPPrqsUWF",
        "colab_type": "code",
        "colab": {
          "base_uri": "https://localhost:8080/",
          "height": 34
        },
        "outputId": "649916cf-b530-4d6c-9a78-5a4b3e945eee"
      },
      "cell_type": "code",
      "source": [
        "#10\n",
        "dummy_list.clear()\n",
        "print(dummy_list)"
      ],
      "execution_count": 28,
      "outputs": [
        {
          "output_type": "stream",
          "text": [
            "[]\n"
          ],
          "name": "stdout"
        }
      ]
    },
    {
      "metadata": {
        "id": "ml1vafvGqZua",
        "colab_type": "code",
        "colab": {}
      },
      "cell_type": "code",
      "source": [
        ""
      ],
      "execution_count": 0,
      "outputs": []
    }
  ]
}