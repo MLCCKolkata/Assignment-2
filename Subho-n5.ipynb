{
  "nbformat": 4,
  "nbformat_minor": 0,
  "metadata": {
    "colab": {
      "name": "Subho-n5.ipynb",
      "version": "0.3.2",
      "provenance": []
    },
    "kernelspec": {
      "display_name": "Python 3",
      "language": "python",
      "name": "python3"
    }
  },
  "cells": [
    {
      "metadata": {
        "id": "tw1aDk0WCesP",
        "colab_type": "code",
        "colab": {
          "base_uri": "https://localhost:8080/",
          "height": 53
        },
        "outputId": "1ae37d1b-a443-4b0b-a5e5-98feb5eec6b0"
      },
      "cell_type": "code",
      "source": [
        "dummy_list=[1,1,1,1,4,12.02,4]\n",
        "dummy_list_2=[2, 200, 16, 4, 1, 0, 9.45, 45.67, 90, 12.01, 12.02]\n",
        "dummy_list=dummy_list+dummy_list_2\n",
        "print (dummy_list)\n",
        "dummy_dict={}\n",
        "l=len(dummy_list)\n",
        "k=1\n",
        "for  x in dummy_list[0:(l+1)]:\n",
        "    q=dummy_list.index(x)\n",
        "\n",
        "    for y in dummy_list[(q+1):(l+1)]:\n",
        "        if x==y:\n",
        "\n",
        "            k = k + 1\n",
        "            \n",
        "\n",
        "    dummy_dict[x]=k\n",
        "    k=1\n",
        "\n",
        "\n",
        "print(dummy_dict)"
      ],
      "execution_count": 3,
      "outputs": [
        {
          "output_type": "stream",
          "text": [
            "[1, 1, 1, 1, 4, 12.02, 4, 2, 200, 16, 4, 1, 0, 9.45, 45.67, 90, 12.01, 12.02]\n",
            "{1: 5, 4: 3, 12.02: 2, 2: 1, 200: 1, 16: 1, 0: 1, 9.45: 1, 45.67: 1, 90: 1, 12.01: 1}\n"
          ],
          "name": "stdout"
        }
      ]
    }
  ]
}