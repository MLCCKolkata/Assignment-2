{
  "nbformat": 4,
  "nbformat_minor": 0,
  "metadata": {
    "colab": {
      "name": "Sounak97_numpy.ipynb",
      "version": "0.3.2",
      "provenance": []
    },
    "kernelspec": {
      "name": "python3",
      "display_name": "Python 3"
    }
  },
  "cells": [
    {
      "metadata": {
        "id": "AIms-GFlfGg1",
        "colab_type": "code",
        "colab": {
          "base_uri": "https://localhost:8080/",
          "height": 722
        },
        "outputId": "19213d69-47dc-426f-cbf4-b5348c9eb17a"
      },
      "cell_type": "code",
      "source": [
        "import numpy as np#Import numpy\n",
        "a=np.array([100,200,300])\n",
        "print(a)\n",
        "print(type(a))\n",
        "\n",
        "b=np.array([[10,20,30],[40,50,60]]) #Create numpy arrays\n",
        "print(b.shape)\n",
        "print(b[0,0],b[0,1],b[1,0])\n",
        "a=np.zeros(shape=(2,2))#Some basic functions for creating arrays\n",
        "b=np.ones(shape=(3,3))\n",
        "c=np.eye(2)\n",
        "d=np.full(shape=(3,3),fill_value=5)\n",
        "e=np.random.random((2,2))\n",
        "print('a',a)\n",
        "print('b',b)\n",
        "print('c',c)\n",
        "print('d',d)\n",
        "print('e',e)\n",
        "a==np.arange(10) #execute and understand\n",
        "b==np.linspace(0,10,num=6)\n",
        "print(a)\n",
        "print(b)\n",
        "\n",
        "x=np.array([[1,2],[3,4]])#Arithmetic operations\n",
        "print(np.sum(x))\n",
        "print(np.sum(x,axis=0))#sum of each column\n",
        "print(np.sum(x,axis=1))#sum of each row\n",
        "b=np.arange(10)#Boolean Mask use\n",
        "print(b)\n",
        "mask=b%2!=0\n",
        "print(mask)\n",
        "print(b[mask])\n",
        "mod_b=b\n",
        "mod_b[mask]=-1\n",
        "print(mod_b)\n",
        "a=np.arange(9).reshape(3,3)#swapping 2 colums\n",
        "print(a)\n",
        "print(a[:,[1,0,2]])\n",
        "a=np.arange(9).reshape(3,3)#swapping 2 rows\n",
        "print(a)\n",
        "print(a[[1,0,2],:])\n",
        "\n",
        "\n",
        "\n",
        "\n"
      ],
      "execution_count": 20,
      "outputs": [
        {
          "output_type": "stream",
          "text": [
            "[100 200 300]\n",
            "<class 'numpy.ndarray'>\n",
            "(2, 3)\n",
            "10 20 40\n",
            "a [[0. 0.]\n",
            " [0. 0.]]\n",
            "b [[1. 1. 1.]\n",
            " [1. 1. 1.]\n",
            " [1. 1. 1.]]\n",
            "c [[1. 0.]\n",
            " [0. 1.]]\n",
            "d [[5 5 5]\n",
            " [5 5 5]\n",
            " [5 5 5]]\n",
            "e [[0.30145182 0.0820182 ]\n",
            " [0.64159066 0.576512  ]]\n",
            "[[0. 0.]\n",
            " [0. 0.]]\n",
            "[[1. 1. 1.]\n",
            " [1. 1. 1.]\n",
            " [1. 1. 1.]]\n",
            "10\n",
            "[4 6]\n",
            "[3 7]\n",
            "[0 1 2 3 4 5 6 7 8 9]\n",
            "[False  True False  True False  True False  True False  True]\n",
            "[1 3 5 7 9]\n",
            "[ 0 -1  2 -1  4 -1  6 -1  8 -1]\n",
            "[[0 1 2]\n",
            " [3 4 5]\n",
            " [6 7 8]]\n",
            "[[1 0 2]\n",
            " [4 3 5]\n",
            " [7 6 8]]\n",
            "[[0 1 2]\n",
            " [3 4 5]\n",
            " [6 7 8]]\n",
            "[[3 4 5]\n",
            " [0 1 2]\n",
            " [6 7 8]]\n"
          ],
          "name": "stdout"
        },
        {
          "output_type": "stream",
          "text": [
            "/usr/local/lib/python3.6/dist-packages/ipykernel_launcher.py:19: DeprecationWarning: elementwise == comparison failed; this will raise an error in the future.\n",
            "/usr/local/lib/python3.6/dist-packages/ipykernel_launcher.py:20: DeprecationWarning: elementwise == comparison failed; this will raise an error in the future.\n"
          ],
          "name": "stderr"
        }
      ]
    }
  ]
}