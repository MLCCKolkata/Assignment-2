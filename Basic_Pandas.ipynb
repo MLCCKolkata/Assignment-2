{
  "nbformat": 4,
  "nbformat_minor": 0,
  "metadata": {
    "colab": {
      "name": "Basic Pandas.ipynb",
      "version": "0.3.2",
      "provenance": [],
      "include_colab_link": true
    },
    "kernelspec": {
      "name": "python3",
      "display_name": "Python 3"
    }
  },
  "cells": [
    {
      "cell_type": "markdown",
      "metadata": {
        "id": "view-in-github",
        "colab_type": "text"
      },
      "source": [
        "[View in Colaboratory](https://colab.research.google.com/github/suvhradipghosh07/Assignment-2/blob/suvhradipghosh07/Basic_Pandas.ipynb)"
      ]
    },
    {
      "metadata": {
        "id": "cGbE814_Xaf9",
        "colab_type": "text"
      },
      "cell_type": "markdown",
      "source": [
        "# Pandas\n",
        "\n",
        "Pandas is an open-source, BSD-licensed Python library providing high-performance, easy-to-use data structures and data analysis tools for the Python programming language. Python with Pandas is used in a wide range of fields including academic and commercial domains including finance, economics, Statistics, analytics, etc.In this tutorial, we will learn the various features of Python Pandas and how to use them in practice.\n",
        "\n",
        "\n",
        "## Import pandas and numpy"
      ]
    },
    {
      "metadata": {
        "id": "irlVYeeAXPDL",
        "colab_type": "code",
        "colab": {}
      },
      "cell_type": "code",
      "source": [
        "import pandas as pd\n",
        "import numpy as np"
      ],
      "execution_count": 0,
      "outputs": []
    },
    {
      "metadata": {
        "id": "BI2J-zdMbGwE",
        "colab_type": "text"
      },
      "cell_type": "markdown",
      "source": [
        "### This is your playground feel free to explore other functions on pandas\n",
        "\n",
        "#### Create Series from numpy array, list and dict\n",
        "\n",
        "Don't know what a series is?\n",
        "\n",
        "[Series Doc](https://pandas.pydata.org/pandas-docs/version/0.22/generated/pandas.Series.html)"
      ]
    },
    {
      "metadata": {
        "id": "GeEct691YGE3",
        "colab_type": "code",
        "colab": {}
      },
      "cell_type": "code",
      "source": [
        "a_ascii = ord('A')\n",
        "z_ascii = ord('Z')\n",
        "alphabets = [chr(i) for i in range(a_ascii, z_ascii+1)]\n",
        "\n",
        "print(alphabets)\n",
        "\n",
        "numbers = np.arange(26)\n",
        "\n",
        "print(numbers)\n",
        "\n",
        "print(type(alphabets), type(numbers))\n",
        "\n",
        "alpha_numbers = dict(zip(alphabets, numbers))\n",
        "\n",
        "print(alpha_numbers)\n",
        "\n",
        "print(type(alpha_numbers))"
      ],
      "execution_count": 0,
      "outputs": []
    },
    {
      "metadata": {
        "id": "6ouDfjWab_Mc",
        "colab_type": "code",
        "colab": {}
      },
      "cell_type": "code",
      "source": [
        "series1 = pd.Series(alphabets)\n",
        "print(series1)"
      ],
      "execution_count": 0,
      "outputs": []
    },
    {
      "metadata": {
        "id": "At7nY7vVcBZ3",
        "colab_type": "code",
        "colab": {}
      },
      "cell_type": "code",
      "source": [
        "series2 = pd.Series(numbers)\n",
        "print(series2)"
      ],
      "execution_count": 0,
      "outputs": []
    },
    {
      "metadata": {
        "id": "J5z-2CWAdH6N",
        "colab_type": "code",
        "colab": {}
      },
      "cell_type": "code",
      "source": [
        "series3 = pd.Series(alpha_numbers)\n",
        "print(series3)"
      ],
      "execution_count": 0,
      "outputs": []
    },
    {
      "metadata": {
        "id": "fYzblGGudKjO",
        "colab_type": "code",
        "colab": {}
      },
      "cell_type": "code",
      "source": [
        "#replace head() with head(n) where n can be any number between [0-25] and observe the output in deach case \n",
        "series3.head()"
      ],
      "execution_count": 0,
      "outputs": []
    },
    {
      "metadata": {
        "id": "OwsJIf5feTtg",
        "colab_type": "text"
      },
      "cell_type": "markdown",
      "source": [
        "#### Create DataFrame from lists\n",
        "\n",
        "[DataFrame Doc](https://pandas.pydata.org/pandas-docs/stable/generated/pandas.DataFrame.html)"
      ]
    },
    {
      "metadata": {
        "id": "73UTZ07EdWki",
        "colab_type": "code",
        "colab": {}
      },
      "cell_type": "code",
      "source": [
        "data = {'alphabets': alphabets, 'values': numbers}\n",
        "\n",
        "df = pd.DataFrame(data)\n",
        "\n",
        "#Lets Change the column `values` to `alpha_numbers`\n",
        "\n",
        "#df.columns = ['alphabets', 'alpha_numbers']\n",
        "\n",
        "df"
      ],
      "execution_count": 0,
      "outputs": []
    },
    {
      "metadata": {
        "id": "uaK_1EO9etGS",
        "colab_type": "code",
        "colab": {}
      },
      "cell_type": "code",
      "source": [
        "# transpose\n",
        "\n",
        "df.T\n",
        "\n",
        "# there are many more operations which we can perform look at the documentation with the subsequent exercises we will learn more"
      ],
      "execution_count": 0,
      "outputs": []
    },
    {
      "metadata": {
        "id": "ZYonoaW8gEAJ",
        "colab_type": "text"
      },
      "cell_type": "markdown",
      "source": [
        "#### Extract Items from a series"
      ]
    },
    {
      "metadata": {
        "id": "tc1-KX_Bfe7U",
        "colab_type": "code",
        "colab": {}
      },
      "cell_type": "code",
      "source": [
        "ser = pd.Series(list('abcdefghijklmnopqrstuvwxyz'))\n",
        "pos = [0, 4, 8, 14, 20]\n",
        "\n",
        "vowels = ser.take(pos)\n",
        "\n",
        "df = pd.DataFrame(vowels)#, columns=['vowels'])\n",
        "\n",
        "df.columns = ['vowels']\n",
        "\n",
        "#df.index = [0, 1, 2, 3, 4]\n",
        "\n",
        "df"
      ],
      "execution_count": 0,
      "outputs": []
    },
    {
      "metadata": {
        "id": "cmDxwtDNjWpO",
        "colab_type": "text"
      },
      "cell_type": "markdown",
      "source": [
        "#### Change the first character of each word to upper case in each word of ser"
      ]
    },
    {
      "metadata": {
        "id": "5KagP9PpgV2F",
        "colab_type": "code",
        "colab": {}
      },
      "cell_type": "code",
      "source": [
        "ser = pd.Series(['we', 'are', 'learning', 'pandas'])\n",
        "\n",
        "ser.map(lambda x : x.title())\n",
        "\n",
        "titles = [i.title() for i in ser]\n",
        "\n",
        "titles"
      ],
      "execution_count": 0,
      "outputs": []
    },
    {
      "metadata": {
        "id": "qn47ee-MkZN8",
        "colab_type": "text"
      },
      "cell_type": "markdown",
      "source": [
        "#### Reindexing"
      ]
    },
    {
      "metadata": {
        "id": "h5R0JL2NjuFS",
        "colab_type": "code",
        "colab": {}
      },
      "cell_type": "code",
      "source": [
        "my_index = [1, 2, 3, 4, 5]\n",
        "\n",
        "df1 = pd.DataFrame({'upper values': ['A', 'B', 'C', 'D', 'E'],\n",
        "                   'lower values': ['a', 'b', 'c', 'd', 'e']},\n",
        "                  index = my_index)\n",
        "\n",
        "df1"
      ],
      "execution_count": 0,
      "outputs": []
    },
    {
      "metadata": {
        "id": "G_Frvc3mk93k",
        "colab_type": "code",
        "colab": {}
      },
      "cell_type": "code",
      "source": [
        "new_index = [2, 5, 4, 3, 1]\n",
        "\n",
        "df1.reindex(index = new_index)"
      ],
      "execution_count": 0,
      "outputs": []
    }
  ]
}