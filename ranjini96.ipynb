{
  "nbformat": 4,
  "nbformat_minor": 0,
  "metadata": {
    "colab": {
      "name": "ranjini96.ipynb",
      "version": "0.3.2",
      "provenance": []
    },
    "kernelspec": {
      "display_name": "Python 3",
      "language": "python",
      "name": "python3"
    }
  },
  "cells": [
    {
      "metadata": {
        "id": "HJWHDIm7T5ie",
        "colab_type": "code",
        "colab": {
          "base_uri": "https://localhost:8080/",
          "height": 153
        },
        "outputId": "e31b320d-8781-4797-d225-a72c21f510c2"
      },
      "cell_type": "code",
      "source": [
        "dummy_list=[1,3,5,7,9,11,13,15,17,19,21,23,25,27,29]\n",
        "print(dummy_list)\n",
        "dummy_list.reverse()\n",
        "print(dummy_list)\n",
        "dummy_list_2 = [2, 200, 16, 4, 1, 0, 9.45, 45.67, 90, 12.01, 12.02]\n",
        "dummy_list.extend(dummy_list_2)\n",
        "print(dummy_list)\n",
        "dummy_dict={2:1,200:1,16:1,4:1,1:1,0:1,9.45:1,45.67:1,90:1,12.01:1,12.02:1}\n",
        "print(dummy_dict)\n",
        "dummy_list.sort()\n",
        "print(dummy_list)\n",
        "dummy_list.reverse()\n",
        "print(dummy_list)\n",
        "dummy_list.index(90)\n",
        "dummy_list.pop(0)\n",
        "print(dummy_list)\n",
        "dummy_list.clear()\n",
        "print(dummy_list)"
      ],
      "execution_count": 11,
      "outputs": [
        {
          "output_type": "stream",
          "text": [
            "[1, 3, 5, 7, 9, 11, 13, 15, 17, 19, 21, 23, 25, 27, 29]\n",
            "[29, 27, 25, 23, 21, 19, 17, 15, 13, 11, 9, 7, 5, 3, 1]\n",
            "[29, 27, 25, 23, 21, 19, 17, 15, 13, 11, 9, 7, 5, 3, 1, 2, 200, 16, 4, 1, 0, 9.45, 45.67, 90, 12.01, 12.02]\n",
            "{2: 1, 200: 1, 16: 1, 4: 1, 1: 1, 0: 1, 9.45: 1, 45.67: 1, 90: 1, 12.01: 1, 12.02: 1}\n",
            "[0, 1, 1, 2, 3, 4, 5, 7, 9, 9.45, 11, 12.01, 12.02, 13, 15, 16, 17, 19, 21, 23, 25, 27, 29, 45.67, 90, 200]\n",
            "[200, 90, 45.67, 29, 27, 25, 23, 21, 19, 17, 16, 15, 13, 12.02, 12.01, 11, 9.45, 9, 7, 5, 4, 3, 2, 1, 1, 0]\n",
            "[90, 45.67, 29, 27, 25, 23, 21, 19, 17, 16, 15, 13, 12.02, 12.01, 11, 9.45, 9, 7, 5, 4, 3, 2, 1, 1, 0]\n",
            "[]\n"
          ],
          "name": "stdout"
        }
      ]
    }
  ]
}