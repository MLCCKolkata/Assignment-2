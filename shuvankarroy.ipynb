{
  "nbformat": 4,
  "nbformat_minor": 0,
  "metadata": {
    "colab": {
      "name": "shuvankarroy.ipynb",
      "version": "0.3.2",
      "provenance": []
    },
    "kernelspec": {
      "display_name": "Python 3",
      "language": "python",
      "name": "python3"
    }
  },
  "cells": [
    {
      "metadata": {
        "id": "QzSvh0ORJkAz",
        "colab_type": "code",
        "colab": {
          "base_uri": "https://localhost:8080/",
          "height": 136
        },
        "outputId": "7a723eb2-2309-48b2-d1eb-0dc5c6df78ec"
      },
      "cell_type": "code",
      "source": [
        "\"\"\"List.ipynb - this exercise teaches you basic list manipulation.\"\"\"\n",
        "\n",
        "#1) Create any random list and assign it to a variable dummy_list\n",
        "import random\n",
        "dummy_list = random.sample(range(1, 1000), 10)\n",
        "\n",
        "#2) print dummy_list\n",
        "print(dummy_list)\n",
        "\n",
        "#3) Reverse dummy_list and print\n",
        "dummy_list.reverse()\n",
        "print(dummy_list)\n",
        "\n",
        "#4) Add the list dummy_list_2 to the previous dummy_list and now print dummy_list\n",
        "dummy_list_2 = [2, 200, 16, 4, 1, 0, 9.45, 45.67, 90, 12.01, 12.02]\n",
        "dummy_list.extend(dummy_list_2)\n",
        "print(dummy_list)\n",
        "\n",
        "#5) Create a dictionary named dummy_dict which contains all the elements of dummy_list as keys and frequency as values.\n",
        "dummy_dict = {x:dummy_list.count(x) for x in dummy_list}\n",
        "\n",
        "#6) print dummy_dict\n",
        "print(dummy_dict)\n",
        "\n",
        "#7) Sort dummy_list in ascending order as well as descending order and print the changed lists\n",
        "dummy_list.sort(reverse = False)\n",
        "print(dummy_list)\n",
        "\n",
        "dummy_list.sort(reverse = True)\n",
        "print(dummy_list)\n",
        "\n",
        "#8) Remove the first item from the list whose value is equal to x. It raises a ValueError if there is no such item.\n",
        "x = 200\n",
        "dummy_list.remove(x)\n",
        "\n",
        "#9) Remove the item at position x. x is any random integer\n",
        "x = random.randint(0,len(dummy_list)-1)\n",
        "dummy_list.remove(dummy_list[x])\n",
        "\n",
        "# Let's play: try doing the same with x > len(dummy_list) + 1 and see what you get\n",
        "x = len(dummy_list) + 1\n",
        "dummy_list.remove(dummy_list[x]) # will generate error\n",
        "\n",
        "# 10) Let's clean everything clear the list and then print\n",
        "dummy_list.clear()\n",
        "print(dummy_list)\n"
      ],
      "execution_count": 3,
      "outputs": [
        {
          "output_type": "stream",
          "text": [
            "[736, 873, 5, 530, 972, 420, 263, 754, 843, 851]\n",
            "[851, 843, 754, 263, 420, 972, 530, 5, 873, 736]\n",
            "[851, 843, 754, 263, 420, 972, 530, 5, 873, 736, 2, 200, 16, 4, 1, 0, 9.45, 45.67, 90, 12.01, 12.02]\n",
            "{851: 1, 843: 1, 754: 1, 263: 1, 420: 1, 972: 1, 530: 1, 5: 1, 873: 1, 736: 1, 2: 1, 200: 1, 16: 1, 4: 1, 1: 1, 0: 1, 9.45: 1, 45.67: 1, 90: 1, 12.01: 1, 12.02: 1}\n",
            "[0, 1, 2, 4, 5, 9.45, 12.01, 12.02, 16, 45.67, 90, 200, 263, 420, 530, 736, 754, 843, 851, 873, 972]\n",
            "[972, 873, 851, 843, 754, 736, 530, 420, 263, 200, 90, 45.67, 16, 12.02, 12.01, 9.45, 5, 4, 2, 1, 0]\n",
            "[]\n"
          ],
          "name": "stdout"
        }
      ]
    }
  ]
}