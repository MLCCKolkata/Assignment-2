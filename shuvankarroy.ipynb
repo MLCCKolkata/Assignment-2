{
  "nbformat": 4,
  "nbformat_minor": 0,
  "metadata": {
    "colab": {
      "name": "shuvankarroy.ipynb",
      "version": "0.3.2",
      "provenance": [],
      "include_colab_link": true
    },
    "kernelspec": {
      "display_name": "Python 3",
      "language": "python",
      "name": "python3"
    }
  },
  "cells": [
    {
      "cell_type": "markdown",
      "metadata": {
        "id": "view-in-github",
        "colab_type": "text"
      },
      "source": [
        "[View in Colaboratory](https://colab.research.google.com/github/shuvankarroy/Assignment-2/blob/shuvankarroy/shuvankarroy.ipynb)"
      ]
    },
    {
      "metadata": {
        "id": "QzSvh0ORJkAz",
        "colab_type": "code",
        "colab": {
          "base_uri": "https://localhost:8080/",
          "height": 333
        },
        "outputId": "c0d5314d-919a-4479-b89a-728507304ef8"
      },
      "cell_type": "code",
      "source": [
        "\"\"\"List.ipynb - this exercise teaches you basic list manipulation.\"\"\"\n",
        "\n",
        "#1) Create any random list and assign it to a variable dummy_list\n",
        "import random\n",
        "dummy_list = random.sample(range(1, 1000), 10)\n",
        "\n",
        "#2) print dummy_list\n",
        "print(dummy_list)\n",
        "\n",
        "#3) Reverse dummy_list and print\n",
        "dummy_list.reverse()\n",
        "print(dummy_list)\n",
        "\n",
        "#4) Add the list dummy_list_2 to the previous dummy_list and now print dummy_list\n",
        "dummy_list_2 = [2, 200, 16, 4, 1, 0, 9.45, 45.67, 90, 12.01, 12.02]\n",
        "dummy_list.extend(dummy_list_2)\n",
        "print(dummy_list)\n",
        "\n",
        "#5) Create a dictionary named dummy_dict which contains all the elements of dummy_list as keys and frequency as values.\n",
        "dummy_dict = {x:dummy_list.count(x) for x in dummy_list}\n",
        "\n",
        "#6) print dummy_dict\n",
        "print(dummy_dict)\n",
        "\n",
        "#7) Sort dummy_list in ascending order as well as descending order and print the changed lists\n",
        "dummy_list.sort(reverse = False)\n",
        "print(dummy_list)\n",
        "\n",
        "dummy_list.sort(reverse = True)\n",
        "print(dummy_list)\n",
        "\n",
        "#8) Remove the first item from the list whose value is equal to x. It raises a ValueError if there is no such item.\n",
        "x = 200\n",
        "dummy_list.remove(x)\n",
        "\n",
        "#9) Remove the item at position x. x is any random integer\n",
        "x = random.randint(0,len(dummy_list)-1)\n",
        "dummy_list.remove(dummy_list[x])\n",
        "\n",
        "# Let's play: try doing the same with x > len(dummy_list) + 1 and see what you get\n",
        "x = len(dummy_list) + 1\n",
        "dummy_list.remove(dummy_list[x]) # will generate error\n",
        "\n",
        "# 10) Let's clean everything clear the list and then print\n",
        "dummy_list.clear()\n",
        "print(dummy_list)\n",
        "\n",
        "\n"
      ],
      "execution_count": 5,
      "outputs": [
        {
          "output_type": "stream",
          "text": [
            "[549, 152, 465, 425, 308, 294, 404, 423, 755, 395]\n",
            "[395, 755, 423, 404, 294, 308, 425, 465, 152, 549]\n",
            "[395, 755, 423, 404, 294, 308, 425, 465, 152, 549, 2, 200, 16, 4, 1, 0, 9.45, 45.67, 90, 12.01, 12.02]\n",
            "{395: 1, 755: 1, 423: 1, 404: 1, 294: 1, 308: 1, 425: 1, 465: 1, 152: 1, 549: 1, 2: 1, 200: 1, 16: 1, 4: 1, 1: 1, 0: 1, 9.45: 1, 45.67: 1, 90: 1, 12.01: 1, 12.02: 1}\n",
            "[0, 1, 2, 4, 9.45, 12.01, 12.02, 16, 45.67, 90, 152, 200, 294, 308, 395, 404, 423, 425, 465, 549, 755]\n",
            "[755, 549, 465, 425, 423, 404, 395, 308, 294, 200, 152, 90, 45.67, 16, 12.02, 12.01, 9.45, 4, 2, 1, 0]\n"
          ],
          "name": "stdout"
        },
        {
          "output_type": "error",
          "ename": "IndexError",
          "evalue": "ignored",
          "traceback": [
            "\u001b[0;31m---------------------------------------------------------------------------\u001b[0m",
            "\u001b[0;31mIndexError\u001b[0m                                Traceback (most recent call last)",
            "\u001b[0;32m<ipython-input-5-1ff4516cf96e>\u001b[0m in \u001b[0;36m<module>\u001b[0;34m()\u001b[0m\n\u001b[1;32m     40\u001b[0m \u001b[0;31m# Let's play: try doing the same with x > len(dummy_list) + 1 and see what you get\u001b[0m\u001b[0;34m\u001b[0m\u001b[0;34m\u001b[0m\u001b[0m\n\u001b[1;32m     41\u001b[0m \u001b[0mx\u001b[0m \u001b[0;34m=\u001b[0m \u001b[0mlen\u001b[0m\u001b[0;34m(\u001b[0m\u001b[0mdummy_list\u001b[0m\u001b[0;34m)\u001b[0m \u001b[0;34m+\u001b[0m \u001b[0;36m1\u001b[0m\u001b[0;34m\u001b[0m\u001b[0m\n\u001b[0;32m---> 42\u001b[0;31m \u001b[0mdummy_list\u001b[0m\u001b[0;34m.\u001b[0m\u001b[0mremove\u001b[0m\u001b[0;34m(\u001b[0m\u001b[0mdummy_list\u001b[0m\u001b[0;34m[\u001b[0m\u001b[0mx\u001b[0m\u001b[0;34m]\u001b[0m\u001b[0;34m)\u001b[0m \u001b[0;31m# will generate error\u001b[0m\u001b[0;34m\u001b[0m\u001b[0m\n\u001b[0m\u001b[1;32m     43\u001b[0m \u001b[0;34m\u001b[0m\u001b[0m\n\u001b[1;32m     44\u001b[0m \u001b[0;31m# 10) Let's clean everything clear the list and then print\u001b[0m\u001b[0;34m\u001b[0m\u001b[0;34m\u001b[0m\u001b[0m\n",
            "\u001b[0;31mIndexError\u001b[0m: list index out of range"
          ]
        }
      ]
    },
    {
      "metadata": {
        "id": "WQVIIGkLbJIb",
        "colab_type": "code",
        "colab": {}
      },
      "cell_type": "code",
      "source": [
        "\n",
        "\"\"\"Numpy Exercises : Numpy_Exercises.ipynb\"\"\"\n",
        "\n",
        "#1) Create a uniform subdivision of the interval -1.3 to 2.5 with 64 subdivisions\n",
        "import numpy as np #import numpy\n",
        "#2) Generate an array of length 3n filled with the cyclic pattern 1, 2, 3\n",
        "pattern = [1,2,3]\n",
        "array1 = np.tile(pattern, 3)\n",
        "#print(array1)\n",
        "\n",
        "#3) Create an array of the first 10 odd integers.\n",
        "array2 = np.arange(1,20,2)\n",
        "#print(array2)\n",
        "\n",
        "#4) Find intersection of a and b\n",
        "#expected output array([2, 4])\n",
        "a = np.array([1,2,3,2,3,4,3,4,5,6])\n",
        "b = np.array([7,2,10,2,7,4,9,4,9,8])\n",
        "intersect_ab = np.intersect1d(a,b)\n",
        "#print(intersect_ab)\n",
        "\n",
        "#5) Reshape 1d array a to 2d array of 2X5\n",
        "a = np.arange(10)\n",
        "a.reshape(2,5)\n",
        "\n",
        "#6) Create a numpy array to list and vice versa\n",
        "a = [1, 2, 3, 4, 5, 6, 7, 8, 9]\n",
        "np_a = np.array(a)\n",
        "list_a = list(np_a)\n",
        "#print(np_a)\n",
        "#print(list_a)\n",
        "\n",
        "#7) Create a 10 x 10 arrays of zeros and then \"frame\" it with a border of ones.\n",
        "a = np.full(shape=(10,10), fill_value=0)\n",
        "col = np.full(shape = (10,1),fill_value = 1)\n",
        "row = np.full(shape = (1,12),fill_value = 1)\n",
        "a = np.column_stack((col,a))\n",
        "a = np.column_stack((a,col))\n",
        "a = np.row_stack((a,row))\n",
        "a= np.row_stack((row,a))\n",
        "#print(a)\n",
        "\n",
        "#8) Create an 8 x 8 array with a checkerboard pattern of zeros and ones using a slicing+striding approach.\n",
        "checker = np.zeros((8,8),dtype=int)\n",
        "checker[1::2,::2] = 1\n",
        "checker[::2,1::2] = 1\n",
        "#print(checker)\n"
      ],
      "execution_count": 0,
      "outputs": []
    }
  ]
}