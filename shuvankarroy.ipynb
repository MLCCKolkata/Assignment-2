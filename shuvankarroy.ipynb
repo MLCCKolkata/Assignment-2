{
  "nbformat": 4,
  "nbformat_minor": 0,
  "metadata": {
    "colab": {
      "name": "shuvankarroy.ipynb",
      "version": "0.3.2",
      "provenance": []
    },
    "kernelspec": {
      "display_name": "Python 3",
      "language": "python",
      "name": "python3"
    }
  },
  "cells": [
    {
      "metadata": {
        "id": "QzSvh0ORJkAz",
        "colab_type": "code",
        "colab": {
          "base_uri": "https://localhost:8080/",
          "height": 333
        },
        "outputId": "47397e25-20c3-479e-a820-73770e811036"
      },
      "cell_type": "code",
      "source": [
        "\"\"\"List.ipynb - this exercise teaches you basic list manipulation.\"\"\"\n",
        "\n",
        "#1) Create any random list and assign it to a variable dummy_list\n",
        "import random\n",
        "dummy_list = random.sample(range(1, 1000), 10)\n",
        "\n",
        "#2) print dummy_list\n",
        "print(dummy_list)\n",
        "\n",
        "#3) Reverse dummy_list and print\n",
        "dummy_list.reverse()\n",
        "print(dummy_list)\n",
        "\n",
        "#4) Add the list dummy_list_2 to the previous dummy_list and now print dummy_list\n",
        "dummy_list_2 = [2, 200, 16, 4, 1, 0, 9.45, 45.67, 90, 12.01, 12.02]\n",
        "dummy_list.extend(dummy_list_2)\n",
        "print(dummy_list)\n",
        "\n",
        "#5) Create a dictionary named dummy_dict which contains all the elements of dummy_list as keys and frequency as values.\n",
        "dummy_dict = {x:dummy_list.count(x) for x in dummy_list}\n",
        "\n",
        "#6) print dummy_dict\n",
        "print(dummy_dict)\n",
        "\n",
        "#7) Sort dummy_list in ascending order as well as descending order and print the changed lists\n",
        "dummy_list.sort(reverse = False)\n",
        "print(dummy_list)\n",
        "\n",
        "dummy_list.sort(reverse = True)\n",
        "print(dummy_list)\n",
        "\n",
        "#8) Remove the first item from the list whose value is equal to x. It raises a ValueError if there is no such item.\n",
        "x = 200\n",
        "dummy_list.remove(x)\n",
        "\n",
        "#9) Remove the item at position x. x is any random integer\n",
        "x = random.randint(0,len(dummy_list)-1)\n",
        "dummy_list.remove(dummy_list[x])\n",
        "\n",
        "# Let's play: try doing the same with x > len(dummy_list) + 1 and see what you get\n",
        "x = len(dummy_list) + 1\n",
        "dummy_list.remove(dummy_list[x]) # will generate error\n",
        "\n",
        "# 10) Let's clean everything clear the list and then print\n",
        "dummy_list.clear()\n",
        "print(dummy_list)\n"
      ],
      "execution_count": 4,
      "outputs": [
        {
          "output_type": "stream",
          "text": [
            "[451, 62, 918, 181, 363, 477, 515, 623, 475, 125]\n",
            "[125, 475, 623, 515, 477, 363, 181, 918, 62, 451]\n",
            "[125, 475, 623, 515, 477, 363, 181, 918, 62, 451, 2, 200, 16, 4, 1, 0, 9.45, 45.67, 90, 12.01, 12.02]\n",
            "{125: 1, 475: 1, 623: 1, 515: 1, 477: 1, 363: 1, 181: 1, 918: 1, 62: 1, 451: 1, 2: 1, 200: 1, 16: 1, 4: 1, 1: 1, 0: 1, 9.45: 1, 45.67: 1, 90: 1, 12.01: 1, 12.02: 1}\n",
            "[0, 1, 2, 4, 9.45, 12.01, 12.02, 16, 45.67, 62, 90, 125, 181, 200, 363, 451, 475, 477, 515, 623, 918]\n",
            "[918, 623, 515, 477, 475, 451, 363, 200, 181, 125, 90, 62, 45.67, 16, 12.02, 12.01, 9.45, 4, 2, 1, 0]\n"
          ],
          "name": "stdout"
        },
        {
          "output_type": "error",
          "ename": "IndexError",
          "evalue": "ignored",
          "traceback": [
            "\u001b[0;31m---------------------------------------------------------------------------\u001b[0m",
            "\u001b[0;31mIndexError\u001b[0m                                Traceback (most recent call last)",
            "\u001b[0;32m<ipython-input-4-02195cb0970c>\u001b[0m in \u001b[0;36m<module>\u001b[0;34m()\u001b[0m\n\u001b[1;32m     40\u001b[0m \u001b[0;31m# Let's play: try doing the same with x > len(dummy_list) + 1 and see what you get\u001b[0m\u001b[0;34m\u001b[0m\u001b[0;34m\u001b[0m\u001b[0m\n\u001b[1;32m     41\u001b[0m \u001b[0mx\u001b[0m \u001b[0;34m=\u001b[0m \u001b[0mlen\u001b[0m\u001b[0;34m(\u001b[0m\u001b[0mdummy_list\u001b[0m\u001b[0;34m)\u001b[0m \u001b[0;34m+\u001b[0m \u001b[0;36m1\u001b[0m\u001b[0;34m\u001b[0m\u001b[0m\n\u001b[0;32m---> 42\u001b[0;31m \u001b[0mdummy_list\u001b[0m\u001b[0;34m.\u001b[0m\u001b[0mremove\u001b[0m\u001b[0;34m(\u001b[0m\u001b[0mdummy_list\u001b[0m\u001b[0;34m[\u001b[0m\u001b[0mx\u001b[0m\u001b[0;34m]\u001b[0m\u001b[0;34m)\u001b[0m \u001b[0;31m# will generate error\u001b[0m\u001b[0;34m\u001b[0m\u001b[0m\n\u001b[0m\u001b[1;32m     43\u001b[0m \u001b[0;34m\u001b[0m\u001b[0m\n\u001b[1;32m     44\u001b[0m \u001b[0;31m# 10) Let's clean everything clear the list and then print\u001b[0m\u001b[0;34m\u001b[0m\u001b[0;34m\u001b[0m\u001b[0m\n",
            "\u001b[0;31mIndexError\u001b[0m: list index out of range"
          ]
        }
      ]
    }
  ]
}