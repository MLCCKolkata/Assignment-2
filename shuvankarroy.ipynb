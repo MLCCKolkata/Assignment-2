{
  "nbformat": 4,
  "nbformat_minor": 0,
  "metadata": {
    "colab": {
      "name": "shuvankarroy.ipynb",
      "version": "0.3.2",
      "provenance": [],
      "include_colab_link": true
    },
    "kernelspec": {
      "display_name": "Python 3",
      "language": "python",
      "name": "python3"
    }
  },
  "cells": [
    {
      "cell_type": "markdown",
      "metadata": {
        "id": "view-in-github",
        "colab_type": "text"
      },
      "source": [
        "<a href=\"https://colab.research.google.com/github/shuvankarroy/Assignment-2/blob/shuvankarroy/shuvankarroy.ipynb\" target=\"_parent\"><img src=\"https://colab.research.google.com/assets/colab-badge.svg\" alt=\"Open In Colab\"/></a>"
      ]
    },
    {
      "metadata": {
        "id": "SauTz4EdcXl-",
        "colab_type": "text"
      },
      "cell_type": "markdown",
      "source": [
        "##**\"\"\"List.ipynb - this exercise teaches you basic list manipulation.\"\"\"**\n",
        "\n",
        "---\n"
      ]
    },
    {
      "metadata": {
        "id": "R61tmGcPdr90",
        "colab_type": "text"
      },
      "cell_type": "markdown",
      "source": [
        "\n",
        "###1) Create any random list and assign it to a variable dummy_list"
      ]
    },
    {
      "metadata": {
        "id": "EIl7c1o0cm9L",
        "colab_type": "code",
        "colab": {}
      },
      "cell_type": "code",
      "source": [
        "import random\n",
        "dummy_list = random.sample(range(1, 1000), 10)"
      ],
      "execution_count": 0,
      "outputs": []
    },
    {
      "metadata": {
        "id": "qjq005j5cDXf",
        "colab_type": "text"
      },
      "cell_type": "markdown",
      "source": [
        "### 2) print dummy_list"
      ]
    },
    {
      "metadata": {
        "id": "VDwZzhQJbfFu",
        "colab_type": "code",
        "colab": {
          "base_uri": "https://localhost:8080/",
          "height": 34
        },
        "outputId": "b2674e05-90aa-4d5a-d013-a2dc77dd7e26"
      },
      "cell_type": "code",
      "source": [
        "print(dummy_list)"
      ],
      "execution_count": 2,
      "outputs": [
        {
          "output_type": "stream",
          "text": [
            "[297, 838, 776, 927, 968, 28, 63, 579, 882, 938]\n"
          ],
          "name": "stdout"
        }
      ]
    },
    {
      "metadata": {
        "id": "pMxpazvCcsRm",
        "colab_type": "text"
      },
      "cell_type": "markdown",
      "source": [
        "###3) Reverse dummy_list and print"
      ]
    },
    {
      "metadata": {
        "id": "_XYKZOJnbiv3",
        "colab_type": "code",
        "colab": {
          "base_uri": "https://localhost:8080/",
          "height": 34
        },
        "outputId": "cdbcd785-8cbb-46cb-a190-d39c32455896"
      },
      "cell_type": "code",
      "source": [
        "dummy_list.reverse()\n",
        "print(dummy_list)"
      ],
      "execution_count": 3,
      "outputs": [
        {
          "output_type": "stream",
          "text": [
            "[938, 882, 579, 63, 28, 968, 927, 776, 838, 297]\n"
          ],
          "name": "stdout"
        }
      ]
    },
    {
      "metadata": {
        "id": "VhCgvPv1cw-k",
        "colab_type": "text"
      },
      "cell_type": "markdown",
      "source": [
        "###4) Add the list dummy_list_2 to the previous dummy_list and now print dummy_list"
      ]
    },
    {
      "metadata": {
        "id": "4SfaAIKnbiyg",
        "colab_type": "code",
        "colab": {
          "base_uri": "https://localhost:8080/",
          "height": 34
        },
        "outputId": "76d6e310-b01c-4e2b-ce6c-da1be62b2587"
      },
      "cell_type": "code",
      "source": [
        "dummy_list_2 = [2, 200, 16, 4, 1, 0, 9.45, 45.67, 90, 12.01, 12.02]\n",
        "dummy_list.extend(dummy_list_2)\n",
        "print(dummy_list)"
      ],
      "execution_count": 4,
      "outputs": [
        {
          "output_type": "stream",
          "text": [
            "[938, 882, 579, 63, 28, 968, 927, 776, 838, 297, 2, 200, 16, 4, 1, 0, 9.45, 45.67, 90, 12.01, 12.02]\n"
          ],
          "name": "stdout"
        }
      ]
    },
    {
      "metadata": {
        "id": "NyfDPm47cxy5",
        "colab_type": "text"
      },
      "cell_type": "markdown",
      "source": [
        "###5) Create a dictionary named dummy_dict which contains all the elements of dummy_list as keys and frequency as values."
      ]
    },
    {
      "metadata": {
        "id": "WsRvuuTsbi20",
        "colab_type": "code",
        "colab": {}
      },
      "cell_type": "code",
      "source": [
        "dummy_dict = {x:dummy_list.count(x) for x in dummy_list}"
      ],
      "execution_count": 0,
      "outputs": []
    },
    {
      "metadata": {
        "id": "sSPRtJhDcyQR",
        "colab_type": "text"
      },
      "cell_type": "markdown",
      "source": [
        "###6) print dummy_dict"
      ]
    },
    {
      "metadata": {
        "id": "V55rQvL1bi5Y",
        "colab_type": "code",
        "colab": {
          "base_uri": "https://localhost:8080/",
          "height": 54
        },
        "outputId": "e99855b1-0a3e-4a4d-edbe-470e65a342b8"
      },
      "cell_type": "code",
      "source": [
        "print(dummy_dict)"
      ],
      "execution_count": 6,
      "outputs": [
        {
          "output_type": "stream",
          "text": [
            "{938: 1, 882: 1, 579: 1, 63: 1, 28: 1, 968: 1, 927: 1, 776: 1, 838: 1, 297: 1, 2: 1, 200: 1, 16: 1, 4: 1, 1: 1, 0: 1, 9.45: 1, 45.67: 1, 90: 1, 12.01: 1, 12.02: 1}\n"
          ],
          "name": "stdout"
        }
      ]
    },
    {
      "metadata": {
        "id": "Aln35LpNcy4p",
        "colab_type": "text"
      },
      "cell_type": "markdown",
      "source": [
        "###7) Sort dummy_list in ascending order as well as descending order and print the changed lists"
      ]
    },
    {
      "metadata": {
        "id": "gGlHQECQbi8b",
        "colab_type": "code",
        "colab": {
          "base_uri": "https://localhost:8080/",
          "height": 51
        },
        "outputId": "65814a02-3877-4218-df0d-fe0c33be8862"
      },
      "cell_type": "code",
      "source": [
        "dummy_list.sort(reverse = False)\n",
        "print(dummy_list)\n",
        "dummy_list.sort(reverse = True)\n",
        "print(dummy_list)"
      ],
      "execution_count": 7,
      "outputs": [
        {
          "output_type": "stream",
          "text": [
            "[0, 1, 2, 4, 9.45, 12.01, 12.02, 16, 28, 45.67, 63, 90, 200, 297, 579, 776, 838, 882, 927, 938, 968]\n",
            "[968, 938, 927, 882, 838, 776, 579, 297, 200, 90, 63, 45.67, 28, 16, 12.02, 12.01, 9.45, 4, 2, 1, 0]\n"
          ],
          "name": "stdout"
        }
      ]
    },
    {
      "metadata": {
        "id": "xa7QyxYFczgh",
        "colab_type": "text"
      },
      "cell_type": "markdown",
      "source": [
        "###8) Remove the first item from the list whose value is equal to x. It raises a ValueError if there is no such item."
      ]
    },
    {
      "metadata": {
        "id": "CFubmR3KbwvY",
        "colab_type": "code",
        "colab": {}
      },
      "cell_type": "code",
      "source": [
        "x = 200\n",
        "dummy_list.remove(x)"
      ],
      "execution_count": 0,
      "outputs": []
    },
    {
      "metadata": {
        "id": "sKoG2exnc0BG",
        "colab_type": "text"
      },
      "cell_type": "markdown",
      "source": [
        "###9) Remove the item at position x. x is any random integer"
      ]
    },
    {
      "metadata": {
        "id": "93dJlmljbwx-",
        "colab_type": "code",
        "colab": {}
      },
      "cell_type": "code",
      "source": [
        "x = random.randint(0,len(dummy_list)-1)\n",
        "dummy_list.remove(dummy_list[x])\n"
      ],
      "execution_count": 0,
      "outputs": []
    },
    {
      "metadata": {
        "id": "qFmsXVwEc0h3",
        "colab_type": "text"
      },
      "cell_type": "markdown",
      "source": [
        "###Let's play: try doing the same with x > len(dummy_list) + 1 and see what you get"
      ]
    },
    {
      "metadata": {
        "id": "jbiXsnb0bw0c",
        "colab_type": "code",
        "colab": {
          "base_uri": "https://localhost:8080/",
          "height": 180
        },
        "outputId": "3f216216-1392-41c3-bde9-5b9c36a8dc9b"
      },
      "cell_type": "code",
      "source": [
        "x = len(dummy_list) + 1\n",
        "dummy_list.remove(dummy_list[x]) # will generate error"
      ],
      "execution_count": 10,
      "outputs": [
        {
          "output_type": "error",
          "ename": "IndexError",
          "evalue": "ignored",
          "traceback": [
            "\u001b[0;31m---------------------------------------------------------------------------\u001b[0m",
            "\u001b[0;31mIndexError\u001b[0m                                Traceback (most recent call last)",
            "\u001b[0;32m<ipython-input-10-7fcc0303938c>\u001b[0m in \u001b[0;36m<module>\u001b[0;34m()\u001b[0m\n\u001b[1;32m      1\u001b[0m \u001b[0mx\u001b[0m \u001b[0;34m=\u001b[0m \u001b[0mlen\u001b[0m\u001b[0;34m(\u001b[0m\u001b[0mdummy_list\u001b[0m\u001b[0;34m)\u001b[0m \u001b[0;34m+\u001b[0m \u001b[0;36m1\u001b[0m\u001b[0;34m\u001b[0m\u001b[0;34m\u001b[0m\u001b[0m\n\u001b[0;32m----> 2\u001b[0;31m \u001b[0mdummy_list\u001b[0m\u001b[0;34m.\u001b[0m\u001b[0mremove\u001b[0m\u001b[0;34m(\u001b[0m\u001b[0mdummy_list\u001b[0m\u001b[0;34m[\u001b[0m\u001b[0mx\u001b[0m\u001b[0;34m]\u001b[0m\u001b[0;34m)\u001b[0m \u001b[0;31m# will generate error\u001b[0m\u001b[0;34m\u001b[0m\u001b[0;34m\u001b[0m\u001b[0m\n\u001b[0m",
            "\u001b[0;31mIndexError\u001b[0m: list index out of range"
          ]
        }
      ]
    },
    {
      "metadata": {
        "id": "_e4LDl98c1Nv",
        "colab_type": "text"
      },
      "cell_type": "markdown",
      "source": [
        "### 10) Let's clean everything clear the list and then print"
      ]
    },
    {
      "metadata": {
        "id": "SuRCtQ6rcBFH",
        "colab_type": "code",
        "colab": {
          "base_uri": "https://localhost:8080/",
          "height": 34
        },
        "outputId": "328b197a-f40b-4869-c432-b0fb55a1da8e"
      },
      "cell_type": "code",
      "source": [
        "dummy_list.clear()\n",
        "print(dummy_list)"
      ],
      "execution_count": 11,
      "outputs": [
        {
          "output_type": "stream",
          "text": [
            "[]\n"
          ],
          "name": "stdout"
        }
      ]
    },
    {
      "metadata": {
        "id": "SDWtDnaAc1_A",
        "colab_type": "text"
      },
      "cell_type": "markdown",
      "source": [
        "##\"\"\"Numpy Exercises : Numpy_Exercises.ipynb\"\"\"\n",
        "\n",
        "---\n"
      ]
    },
    {
      "metadata": {
        "id": "QPup0TZsbU2n",
        "colab_type": "text"
      },
      "cell_type": "markdown",
      "source": [
        "###**import** numpy"
      ]
    },
    {
      "metadata": {
        "id": "U2a3l8ZHe6Ke",
        "colab_type": "code",
        "colab": {}
      },
      "cell_type": "code",
      "source": [
        "import numpy as np "
      ],
      "execution_count": 0,
      "outputs": []
    },
    {
      "metadata": {
        "id": "o5qDqpdMfE9m",
        "colab_type": "text"
      },
      "cell_type": "markdown",
      "source": [
        "###1) Create a uniform subdivision of the interval -1.3 to 2.5 with 64 subdivisions"
      ]
    },
    {
      "metadata": {
        "id": "0oej0f7AfDfA",
        "colab_type": "code",
        "colab": {
          "base_uri": "https://localhost:8080/",
          "height": 238
        },
        "outputId": "a5186ffe-1d56-4ffd-99a6-61c4bc0de6f4"
      },
      "cell_type": "code",
      "source": [
        "np.linspace(-1.3, 2.5, num=64)"
      ],
      "execution_count": 14,
      "outputs": [
        {
          "output_type": "execute_result",
          "data": {
            "text/plain": [
              "array([-1.3       , -1.23968254, -1.17936508, -1.11904762, -1.05873016,\n",
              "       -0.9984127 , -0.93809524, -0.87777778, -0.81746032, -0.75714286,\n",
              "       -0.6968254 , -0.63650794, -0.57619048, -0.51587302, -0.45555556,\n",
              "       -0.3952381 , -0.33492063, -0.27460317, -0.21428571, -0.15396825,\n",
              "       -0.09365079, -0.03333333,  0.02698413,  0.08730159,  0.14761905,\n",
              "        0.20793651,  0.26825397,  0.32857143,  0.38888889,  0.44920635,\n",
              "        0.50952381,  0.56984127,  0.63015873,  0.69047619,  0.75079365,\n",
              "        0.81111111,  0.87142857,  0.93174603,  0.99206349,  1.05238095,\n",
              "        1.11269841,  1.17301587,  1.23333333,  1.29365079,  1.35396825,\n",
              "        1.41428571,  1.47460317,  1.53492063,  1.5952381 ,  1.65555556,\n",
              "        1.71587302,  1.77619048,  1.83650794,  1.8968254 ,  1.95714286,\n",
              "        2.01746032,  2.07777778,  2.13809524,  2.1984127 ,  2.25873016,\n",
              "        2.31904762,  2.37936508,  2.43968254,  2.5       ])"
            ]
          },
          "metadata": {
            "tags": []
          },
          "execution_count": 14
        }
      ]
    },
    {
      "metadata": {
        "id": "6mDscV6bfN4M",
        "colab_type": "text"
      },
      "cell_type": "markdown",
      "source": [
        "###2) Generate an array of length 3n filled with the cyclic pattern 1, 2, 3"
      ]
    },
    {
      "metadata": {
        "id": "BVrM2nTzfPYP",
        "colab_type": "code",
        "colab": {
          "base_uri": "https://localhost:8080/",
          "height": 34
        },
        "outputId": "5be69b4a-7388-4c8b-bed8-dc2f62ac4d8a"
      },
      "cell_type": "code",
      "source": [
        "pattern = [1,2,3]\n",
        "n = 1 + np.random.randint(10)\n",
        "array1 = np.tile(pattern, n)\n",
        "print(array1)"
      ],
      "execution_count": 23,
      "outputs": [
        {
          "output_type": "stream",
          "text": [
            "[1 2 3 1 2 3 1 2 3 1 2 3 1 2 3 1 2 3 1 2 3 1 2 3 1 2 3 1 2 3]\n"
          ],
          "name": "stdout"
        }
      ]
    },
    {
      "metadata": {
        "id": "PfRqtZoifPgK",
        "colab_type": "text"
      },
      "cell_type": "markdown",
      "source": [
        "###3) Create an array of the first 10 odd integers."
      ]
    },
    {
      "metadata": {
        "id": "dtTIYm7efPnU",
        "colab_type": "code",
        "colab": {
          "base_uri": "https://localhost:8080/",
          "height": 34
        },
        "outputId": "727b0079-4d8e-489a-a670-c7fb9b442de5"
      },
      "cell_type": "code",
      "source": [
        "array2 = np.arange(1,20,2)\n",
        "print(array2)"
      ],
      "execution_count": 24,
      "outputs": [
        {
          "output_type": "stream",
          "text": [
            "[ 1  3  5  7  9 11 13 15 17 19]\n"
          ],
          "name": "stdout"
        }
      ]
    },
    {
      "metadata": {
        "id": "96kv5e8ufPt2",
        "colab_type": "text"
      },
      "cell_type": "markdown",
      "source": [
        "###4) Find intersection of a and b\n",
        "###expected output array([2, 4])"
      ]
    },
    {
      "metadata": {
        "id": "j-vWJSzofP0T",
        "colab_type": "code",
        "colab": {
          "base_uri": "https://localhost:8080/",
          "height": 34
        },
        "outputId": "35787458-cef2-40e3-8c1b-f6a06430f921"
      },
      "cell_type": "code",
      "source": [
        "a = np.array([1,2,3,2,3,4,3,4,5,6])\n",
        "b = np.array([7,2,10,2,7,4,9,4,9,8])\n",
        "intersect_ab = np.intersect1d(a,b)\n",
        "print(intersect_ab)"
      ],
      "execution_count": 25,
      "outputs": [
        {
          "output_type": "stream",
          "text": [
            "[2 4]\n"
          ],
          "name": "stdout"
        }
      ]
    },
    {
      "metadata": {
        "id": "HkMNRiZsfP6w",
        "colab_type": "text"
      },
      "cell_type": "markdown",
      "source": [
        "#5) Reshape 1d array a to 2d array of 2X5"
      ]
    },
    {
      "metadata": {
        "id": "vOe8suFnfQBe",
        "colab_type": "code",
        "colab": {
          "base_uri": "https://localhost:8080/",
          "height": 51
        },
        "outputId": "795ae284-523f-4390-abcd-c36813ef82c7"
      },
      "cell_type": "code",
      "source": [
        "a = np.arange(10)\n",
        "a = a.reshape(2,5)\n",
        "print(a)"
      ],
      "execution_count": 28,
      "outputs": [
        {
          "output_type": "stream",
          "text": [
            "[[0 1 2 3 4]\n",
            " [5 6 7 8 9]]\n"
          ],
          "name": "stdout"
        }
      ]
    },
    {
      "metadata": {
        "id": "N9M-96d0fQH7",
        "colab_type": "text"
      },
      "cell_type": "markdown",
      "source": [
        "#6) Create a numpy array to list and vice versa"
      ]
    },
    {
      "metadata": {
        "id": "O6vDHOrPfQOL",
        "colab_type": "code",
        "colab": {
          "base_uri": "https://localhost:8080/",
          "height": 51
        },
        "outputId": "51342a89-c154-432a-c33f-2afc1fbf8ba5"
      },
      "cell_type": "code",
      "source": [
        "a = [1, 2, 3, 4, 5, 6, 7, 8, 9]\n",
        "np_a = np.array(a)\n",
        "list_a = list(np_a)\n",
        "print(np_a)\n",
        "print(list_a)"
      ],
      "execution_count": 29,
      "outputs": [
        {
          "output_type": "stream",
          "text": [
            "[1 2 3 4 5 6 7 8 9]\n",
            "[1, 2, 3, 4, 5, 6, 7, 8, 9]\n"
          ],
          "name": "stdout"
        }
      ]
    },
    {
      "metadata": {
        "id": "GzyWUwL1fy8T",
        "colab_type": "text"
      },
      "cell_type": "markdown",
      "source": [
        "###7) Create a 10 x 10 arrays of zeros and then \"frame\" it with a border of ones."
      ]
    },
    {
      "metadata": {
        "id": "goGNrMKmfyDu",
        "colab_type": "code",
        "colab": {
          "base_uri": "https://localhost:8080/",
          "height": 221
        },
        "outputId": "edd821c6-21fa-4ead-e373-ed1ea3d41b0c"
      },
      "cell_type": "code",
      "source": [
        "a = np.full(shape=(10,10), fill_value=0)\n",
        "col = np.full(shape = (10,1),fill_value = 1)\n",
        "row = np.full(shape = (1,12),fill_value = 1)\n",
        "a = np.column_stack((col,a))\n",
        "a = np.column_stack((a,col))\n",
        "a = np.row_stack((a,row))\n",
        "a= np.row_stack((row,a))\n",
        "print(a)"
      ],
      "execution_count": 30,
      "outputs": [
        {
          "output_type": "stream",
          "text": [
            "[[1 1 1 1 1 1 1 1 1 1 1 1]\n",
            " [1 0 0 0 0 0 0 0 0 0 0 1]\n",
            " [1 0 0 0 0 0 0 0 0 0 0 1]\n",
            " [1 0 0 0 0 0 0 0 0 0 0 1]\n",
            " [1 0 0 0 0 0 0 0 0 0 0 1]\n",
            " [1 0 0 0 0 0 0 0 0 0 0 1]\n",
            " [1 0 0 0 0 0 0 0 0 0 0 1]\n",
            " [1 0 0 0 0 0 0 0 0 0 0 1]\n",
            " [1 0 0 0 0 0 0 0 0 0 0 1]\n",
            " [1 0 0 0 0 0 0 0 0 0 0 1]\n",
            " [1 0 0 0 0 0 0 0 0 0 0 1]\n",
            " [1 1 1 1 1 1 1 1 1 1 1 1]]\n"
          ],
          "name": "stdout"
        }
      ]
    },
    {
      "metadata": {
        "id": "jYocLdEcf8hP",
        "colab_type": "text"
      },
      "cell_type": "markdown",
      "source": [
        "###8) Create an 8 x 8 array with a checkerboard pattern of zeros and ones using a slicing+striding approach."
      ]
    },
    {
      "metadata": {
        "id": "WQVIIGkLbJIb",
        "colab_type": "code",
        "colab": {
          "base_uri": "https://localhost:8080/",
          "height": 153
        },
        "outputId": "61efeb42-d298-4835-9902-3c641985b541"
      },
      "cell_type": "code",
      "source": [
        "checker = np.zeros((8,8),dtype=int)\n",
        "checker[1::2,::2] = 1\n",
        "checker[::2,1::2] = 1\n",
        "print(checker)"
      ],
      "execution_count": 31,
      "outputs": [
        {
          "output_type": "stream",
          "text": [
            "[[0 1 0 1 0 1 0 1]\n",
            " [1 0 1 0 1 0 1 0]\n",
            " [0 1 0 1 0 1 0 1]\n",
            " [1 0 1 0 1 0 1 0]\n",
            " [0 1 0 1 0 1 0 1]\n",
            " [1 0 1 0 1 0 1 0]\n",
            " [0 1 0 1 0 1 0 1]\n",
            " [1 0 1 0 1 0 1 0]]\n"
          ],
          "name": "stdout"
        }
      ]
    }
  ]
}