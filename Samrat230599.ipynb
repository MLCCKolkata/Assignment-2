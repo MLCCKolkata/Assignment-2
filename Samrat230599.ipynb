{
  "nbformat": 4,
  "nbformat_minor": 0,
  "metadata": {
    "colab": {
      "name": "Samrat230599.ipynb",
      "version": "0.3.2",
      "provenance": []
    },
    "kernelspec": {
      "display_name": "Python 3",
      "language": "python",
      "name": "python3"
    }
  },
  "cells": [
    {
      "metadata": {
        "id": "Vp3wziPHRNl2",
        "colab_type": "text"
      },
      "cell_type": "markdown",
      "source": [
        "####List Exercise"
      ]
    },
    {
      "metadata": {
        "id": "FX-UqXi8N12s",
        "colab_type": "text"
      },
      "cell_type": "markdown",
      "source": [
        "1) Create any random list and assign it to a variable dummy_list and print"
      ]
    },
    {
      "metadata": {
        "id": "BChMkHM5NKJW",
        "colab_type": "code",
        "colab": {
          "base_uri": "https://localhost:8080/",
          "height": 35
        },
        "outputId": "c93655d9-3203-4af0-e054-d91a4a89eecc"
      },
      "cell_type": "code",
      "source": [
        "import random\n",
        "dummy_list = random.sample(range(100), 10)\n",
        "\n",
        "dummy_list"
      ],
      "execution_count": 4,
      "outputs": [
        {
          "output_type": "execute_result",
          "data": {
            "text/plain": [
              "[18, 39, 93, 21, 87, 90, 75, 84, 86, 34]"
            ]
          },
          "metadata": {
            "tags": []
          },
          "execution_count": 4
        }
      ]
    },
    {
      "metadata": {
        "id": "6DdiOeq2UKed",
        "colab_type": "text"
      },
      "cell_type": "markdown",
      "source": [
        "2)Reverse and print"
      ]
    },
    {
      "metadata": {
        "id": "tuNsWSJoO-hT",
        "colab_type": "code",
        "colab": {
          "base_uri": "https://localhost:8080/",
          "height": 35
        },
        "outputId": "f09f39c1-b905-4067-cdde-fecdc415b0dc"
      },
      "cell_type": "code",
      "source": [
        "dummy_list.reverse()\n",
        "\n",
        "dummy_list"
      ],
      "execution_count": 5,
      "outputs": [
        {
          "output_type": "execute_result",
          "data": {
            "text/plain": [
              "[34, 86, 84, 75, 90, 87, 21, 93, 39, 18]"
            ]
          },
          "metadata": {
            "tags": []
          },
          "execution_count": 5
        }
      ]
    },
    {
      "metadata": {
        "id": "KJsK-g4EURFB",
        "colab_type": "text"
      },
      "cell_type": "markdown",
      "source": [
        "Add dumy_list_2 to dummy_list"
      ]
    },
    {
      "metadata": {
        "id": "26zKbWzHPU-W",
        "colab_type": "code",
        "colab": {
          "base_uri": "https://localhost:8080/",
          "height": 403
        },
        "outputId": "70d972c6-d7f1-4b98-df46-1d42d55e4345"
      },
      "cell_type": "code",
      "source": [
        "dummy_list_2 = [2, 200, 16, 4, 1, 0, 9.45, 45.67, 90, 12.01, 12.02]\n",
        "\n",
        "dummy_list = dummy_list + dummy_list_2\n",
        "\n",
        "dummy_list"
      ],
      "execution_count": 6,
      "outputs": [
        {
          "output_type": "execute_result",
          "data": {
            "text/plain": [
              "[34,\n",
              " 86,\n",
              " 84,\n",
              " 75,\n",
              " 90,\n",
              " 87,\n",
              " 21,\n",
              " 93,\n",
              " 39,\n",
              " 18,\n",
              " 2,\n",
              " 200,\n",
              " 16,\n",
              " 4,\n",
              " 1,\n",
              " 0,\n",
              " 9.45,\n",
              " 45.67,\n",
              " 90,\n",
              " 12.01,\n",
              " 12.02]"
            ]
          },
          "metadata": {
            "tags": []
          },
          "execution_count": 6
        }
      ]
    },
    {
      "metadata": {
        "id": "GiBmdD6KUagm",
        "colab_type": "text"
      },
      "cell_type": "markdown",
      "source": [
        "Creating a dictionary to store elements as keys and frequency as values"
      ]
    },
    {
      "metadata": {
        "id": "bXh8m_dgPi7d",
        "colab_type": "code",
        "colab": {
          "base_uri": "https://localhost:8080/",
          "height": 384
        },
        "outputId": "cc25d1ea-73d8-4854-e29e-1970d5a7fc87"
      },
      "cell_type": "code",
      "source": [
        "dummy_dict = {}\n",
        "\n",
        "for i in dummy_list:\n",
        "  if i not in dummy_dict.keys():\n",
        "    dummy_dict[i] = 1\n",
        "  else:\n",
        "    dummy_dict[i] += 1\n",
        "    \n",
        "dummy_dict\n"
      ],
      "execution_count": 8,
      "outputs": [
        {
          "output_type": "execute_result",
          "data": {
            "text/plain": [
              "{0: 1,\n",
              " 1: 1,\n",
              " 2: 1,\n",
              " 4: 1,\n",
              " 9.45: 1,\n",
              " 12.01: 1,\n",
              " 12.02: 1,\n",
              " 16: 1,\n",
              " 18: 1,\n",
              " 21: 1,\n",
              " 34: 1,\n",
              " 39: 1,\n",
              " 45.67: 1,\n",
              " 75: 1,\n",
              " 84: 1,\n",
              " 86: 1,\n",
              " 87: 1,\n",
              " 90: 2,\n",
              " 93: 1,\n",
              " 200: 1}"
            ]
          },
          "metadata": {
            "tags": []
          },
          "execution_count": 8
        }
      ]
    },
    {
      "metadata": {
        "id": "M0NSiNyHUna8",
        "colab_type": "text"
      },
      "cell_type": "markdown",
      "source": [
        "Sort the list"
      ]
    },
    {
      "metadata": {
        "id": "Qz47Rp1kP90F",
        "colab_type": "code",
        "colab": {
          "base_uri": "https://localhost:8080/",
          "height": 35
        },
        "outputId": "5ecb28b7-4c8f-46e6-c639-ee1c238f2201"
      },
      "cell_type": "code",
      "source": [
        "dummy_list.sort()\n",
        "\n",
        "print(dummy_list)"
      ],
      "execution_count": 9,
      "outputs": [
        {
          "output_type": "stream",
          "text": [
            "[0, 1, 2, 4, 9.45, 12.01, 12.02, 16, 18, 21, 34, 39, 45.67, 75, 84, 86, 87, 90, 90, 93, 200]\n"
          ],
          "name": "stdout"
        }
      ]
    },
    {
      "metadata": {
        "id": "7AZrvKMmUqAG",
        "colab_type": "text"
      },
      "cell_type": "markdown",
      "source": [
        "Reverse the list"
      ]
    },
    {
      "metadata": {
        "id": "-gbVUe1kQEVe",
        "colab_type": "code",
        "colab": {
          "base_uri": "https://localhost:8080/",
          "height": 35
        },
        "outputId": "ba96a9fe-51df-45e5-e671-5cea3a1d433e"
      },
      "cell_type": "code",
      "source": [
        "dummy_list.reverse()\n",
        "print(dummy_list)"
      ],
      "execution_count": 10,
      "outputs": [
        {
          "output_type": "stream",
          "text": [
            "[200, 93, 90, 90, 87, 86, 84, 75, 45.67, 39, 34, 21, 18, 16, 12.02, 12.01, 9.45, 4, 2, 1, 0]\n"
          ],
          "name": "stdout"
        }
      ]
    },
    {
      "metadata": {
        "id": "ANR2yx6lUsRc",
        "colab_type": "text"
      },
      "cell_type": "markdown",
      "source": [
        "Delete an element by value from a list"
      ]
    },
    {
      "metadata": {
        "id": "0CcdBcOcQLqK",
        "colab_type": "code",
        "colab": {
          "base_uri": "https://localhost:8080/",
          "height": 35
        },
        "outputId": "37fa65fb-035f-4e70-ae08-406d64fe537e"
      },
      "cell_type": "code",
      "source": [
        "x = 200\n",
        "\n",
        "for i  in dummy_list:\n",
        "  if i == x:\n",
        "    dummy_list.remove(i)\n",
        "    break\n",
        "    \n",
        "print(dummy_list)\n"
      ],
      "execution_count": 12,
      "outputs": [
        {
          "output_type": "stream",
          "text": [
            "[93, 90, 90, 87, 86, 84, 75, 45.67, 39, 34, 21, 18, 16, 12.02, 12.01, 9.45, 4, 2, 1, 0]\n"
          ],
          "name": "stdout"
        }
      ]
    },
    {
      "metadata": {
        "id": "-uRgRTEaUyWv",
        "colab_type": "text"
      },
      "cell_type": "markdown",
      "source": [
        "Delete an element by  location"
      ]
    },
    {
      "metadata": {
        "id": "2DFiso5dQe8L",
        "colab_type": "code",
        "colab": {
          "base_uri": "https://localhost:8080/",
          "height": 54
        },
        "outputId": "cd8d6ecf-1287-46c3-94d1-94e8ca5bc51b"
      },
      "cell_type": "code",
      "source": [
        "x = random.randint(1,10)\n",
        "\n",
        "print(x)\n",
        "\n",
        "dummy_list.pop(x)\n",
        "\n",
        "print(dummy_list)"
      ],
      "execution_count": 15,
      "outputs": [
        {
          "output_type": "stream",
          "text": [
            "1\n",
            "[93, 90, 87, 86, 84, 45.67, 39, 34, 21, 18, 16, 12.02, 12.01, 9.45, 4, 2, 1, 0]\n"
          ],
          "name": "stdout"
        }
      ]
    },
    {
      "metadata": {
        "id": "f5VuIXzeU5Sq",
        "colab_type": "text"
      },
      "cell_type": "markdown",
      "source": [
        "Print the list"
      ]
    },
    {
      "metadata": {
        "id": "bSAI6TsVQxHX",
        "colab_type": "code",
        "colab": {
          "base_uri": "https://localhost:8080/",
          "height": 35
        },
        "outputId": "a06ab2a9-6286-4684-a6d6-3c03b3fe3ae4"
      },
      "cell_type": "code",
      "source": [
        "print(dummy_list)"
      ],
      "execution_count": 16,
      "outputs": [
        {
          "output_type": "stream",
          "text": [
            "[93, 90, 87, 86, 84, 45.67, 39, 34, 21, 18, 16, 12.02, 12.01, 9.45, 4, 2, 1, 0]\n"
          ],
          "name": "stdout"
        }
      ]
    },
    {
      "metadata": {
        "id": "fR3YuG3MRHVI",
        "colab_type": "text"
      },
      "cell_type": "markdown",
      "source": [
        "####Numpy Exercise"
      ]
    },
    {
      "metadata": {
        "id": "0lmsWMY6U_ni",
        "colab_type": "text"
      },
      "cell_type": "markdown",
      "source": [
        "1) Create a uniform subdivision of the interval -1.3 to 2.5 with 64 subdivisions"
      ]
    },
    {
      "metadata": {
        "id": "OjsqJHU0RGqu",
        "colab_type": "code",
        "colab": {
          "base_uri": "https://localhost:8080/",
          "height": 219
        },
        "outputId": "6cfb483c-1667-4f08-acd2-739307873cd9"
      },
      "cell_type": "code",
      "source": [
        "import numpy as np #import numpy\n",
        "\n",
        "\n",
        "arr = np.linspace(-1.3,2.5,64)\n",
        "print(arr)"
      ],
      "execution_count": 17,
      "outputs": [
        {
          "output_type": "stream",
          "text": [
            "[-1.3        -1.23968254 -1.17936508 -1.11904762 -1.05873016 -0.9984127\n",
            " -0.93809524 -0.87777778 -0.81746032 -0.75714286 -0.6968254  -0.63650794\n",
            " -0.57619048 -0.51587302 -0.45555556 -0.3952381  -0.33492063 -0.27460317\n",
            " -0.21428571 -0.15396825 -0.09365079 -0.03333333  0.02698413  0.08730159\n",
            "  0.14761905  0.20793651  0.26825397  0.32857143  0.38888889  0.44920635\n",
            "  0.50952381  0.56984127  0.63015873  0.69047619  0.75079365  0.81111111\n",
            "  0.87142857  0.93174603  0.99206349  1.05238095  1.11269841  1.17301587\n",
            "  1.23333333  1.29365079  1.35396825  1.41428571  1.47460317  1.53492063\n",
            "  1.5952381   1.65555556  1.71587302  1.77619048  1.83650794  1.8968254\n",
            "  1.95714286  2.01746032  2.07777778  2.13809524  2.1984127   2.25873016\n",
            "  2.31904762  2.37936508  2.43968254  2.5       ]\n"
          ],
          "name": "stdout"
        }
      ]
    },
    {
      "metadata": {
        "id": "sy-YNn8LVCHK",
        "colab_type": "text"
      },
      "cell_type": "markdown",
      "source": [
        "2) Generate an array of length 3n filled with the cyclic pattern 1, 2, 3"
      ]
    },
    {
      "metadata": {
        "id": "UWNaBQ3URbg4",
        "colab_type": "code",
        "colab": {
          "base_uri": "https://localhost:8080/",
          "height": 35
        },
        "outputId": "1079f89b-f6dd-493e-9e87-6b8f2f2f5264"
      },
      "cell_type": "code",
      "source": [
        "a = np.array([1,2,3])\n",
        "\n",
        "n = random.randint(1,10)\n",
        "\n",
        "b = np.resize(a,n)\n",
        "\n",
        "print(b)"
      ],
      "execution_count": 19,
      "outputs": [
        {
          "output_type": "stream",
          "text": [
            "[1 2 3 1 2]\n"
          ],
          "name": "stdout"
        }
      ]
    },
    {
      "metadata": {
        "id": "rfy8ao5hVEml",
        "colab_type": "text"
      },
      "cell_type": "markdown",
      "source": [
        "3) Create an array of the first 10 odd integers."
      ]
    },
    {
      "metadata": {
        "id": "bnBGL6GESLzd",
        "colab_type": "code",
        "colab": {}
      },
      "cell_type": "code",
      "source": [
        "a = np.arange(30)\n",
        "\n",
        "mask = a%2!=0\n",
        "\n",
        "a = a[mask]\n",
        "\n",
        "a = np.resize(a,10)"
      ],
      "execution_count": 0,
      "outputs": []
    },
    {
      "metadata": {
        "id": "fv17hNsFSvWj",
        "colab_type": "code",
        "colab": {
          "base_uri": "https://localhost:8080/",
          "height": 35
        },
        "outputId": "acca7d93-6d1b-45c1-a4c1-bde571c7e3f9"
      },
      "cell_type": "code",
      "source": [
        "print(a)"
      ],
      "execution_count": 22,
      "outputs": [
        {
          "output_type": "stream",
          "text": [
            "[ 1  3  5  7  9 11 13 15 17 19]\n"
          ],
          "name": "stdout"
        }
      ]
    },
    {
      "metadata": {
        "id": "vAesixJwVJPf",
        "colab_type": "text"
      },
      "cell_type": "markdown",
      "source": [
        "4) Find intersection of a and b"
      ]
    },
    {
      "metadata": {
        "id": "kuP85OGDSxah",
        "colab_type": "code",
        "colab": {
          "base_uri": "https://localhost:8080/",
          "height": 35
        },
        "outputId": "8e171889-ffad-47bb-cabf-4dcbb3864dd7"
      },
      "cell_type": "code",
      "source": [
        "a = np.array([1,2,3,2,3,4,3,4,5,6])\n",
        "b = np.array([7,2,10,2,7,4,9,4,9,8])\n",
        "\n",
        "print(np.intersect1d(a,b))"
      ],
      "execution_count": 24,
      "outputs": [
        {
          "output_type": "stream",
          "text": [
            "[2 4]\n"
          ],
          "name": "stdout"
        }
      ]
    },
    {
      "metadata": {
        "id": "Fwe3FxB0VM7d",
        "colab_type": "text"
      },
      "cell_type": "markdown",
      "source": [
        "5) Reshape 1d array a to 2d array of 2X5"
      ]
    },
    {
      "metadata": {
        "id": "kyQ8_YoPS7nt",
        "colab_type": "code",
        "colab": {}
      },
      "cell_type": "code",
      "source": [
        "a = np.arange(10)\n",
        "\n",
        "a = a.reshape((2,5))"
      ],
      "execution_count": 0,
      "outputs": []
    },
    {
      "metadata": {
        "id": "dQfNiIivTHXr",
        "colab_type": "code",
        "colab": {
          "base_uri": "https://localhost:8080/",
          "height": 54
        },
        "outputId": "4561c148-ac03-4222-bf47-137b8e32db65"
      },
      "cell_type": "code",
      "source": [
        "print(a)"
      ],
      "execution_count": 27,
      "outputs": [
        {
          "output_type": "stream",
          "text": [
            "[[0 1 2 3 4]\n",
            " [5 6 7 8 9]]\n"
          ],
          "name": "stdout"
        }
      ]
    },
    {
      "metadata": {
        "id": "yoBBxquHVQXO",
        "colab_type": "text"
      },
      "cell_type": "markdown",
      "source": [
        "6) Create a numpy array to list and vice versa"
      ]
    },
    {
      "metadata": {
        "id": "2MoHW4BuTQg0",
        "colab_type": "code",
        "colab": {
          "base_uri": "https://localhost:8080/",
          "height": 54
        },
        "outputId": "66dd605d-9c88-4e9a-f5d6-12c79cd30394"
      },
      "cell_type": "code",
      "source": [
        "a = [1, 2, 3, 4, 5, 6, 7, 8, 9]\n",
        "\n",
        "print(type(a))\n",
        "\n",
        "a = np.asarray(a)\n",
        "\n",
        "print(type(a))"
      ],
      "execution_count": 29,
      "outputs": [
        {
          "output_type": "stream",
          "text": [
            "<class 'list'>\n",
            "<class 'numpy.ndarray'>\n"
          ],
          "name": "stdout"
        }
      ]
    },
    {
      "metadata": {
        "id": "BvUAPGx_Ttve",
        "colab_type": "code",
        "colab": {
          "base_uri": "https://localhost:8080/",
          "height": 54
        },
        "outputId": "d8a54f06-0d2b-4bac-a66a-96f27c81a27c"
      },
      "cell_type": "code",
      "source": [
        "b = np.arange(10)\n",
        "\n",
        "print(type(b))\n",
        "\n",
        "b = b.tolist()\n",
        "\n",
        "print(type(b))"
      ],
      "execution_count": 30,
      "outputs": [
        {
          "output_type": "stream",
          "text": [
            "<class 'numpy.ndarray'>\n",
            "<class 'list'>\n"
          ],
          "name": "stdout"
        }
      ]
    },
    {
      "metadata": {
        "id": "7vLWIp4EVTcx",
        "colab_type": "text"
      },
      "cell_type": "markdown",
      "source": [
        "7) Create a 10 x 10 arrays of zeros and then \"frame\" it with a border of ones."
      ]
    },
    {
      "metadata": {
        "id": "B8L5YxxkT-P-",
        "colab_type": "code",
        "colab": {
          "base_uri": "https://localhost:8080/",
          "height": 201
        },
        "outputId": "072bf7a6-05a5-4ab6-c590-83bad0838629"
      },
      "cell_type": "code",
      "source": [
        "z = np.zeros((10,10))\n",
        "# print(z)\n",
        "\n",
        "z[:,0]=1\n",
        "z[:,9]=1\n",
        "z[0,:]=1\n",
        "z[9,:]=1\n",
        "\n",
        "print(z)"
      ],
      "execution_count": 31,
      "outputs": [
        {
          "output_type": "stream",
          "text": [
            "[[1. 1. 1. 1. 1. 1. 1. 1. 1. 1.]\n",
            " [1. 0. 0. 0. 0. 0. 0. 0. 0. 1.]\n",
            " [1. 0. 0. 0. 0. 0. 0. 0. 0. 1.]\n",
            " [1. 0. 0. 0. 0. 0. 0. 0. 0. 1.]\n",
            " [1. 0. 0. 0. 0. 0. 0. 0. 0. 1.]\n",
            " [1. 0. 0. 0. 0. 0. 0. 0. 0. 1.]\n",
            " [1. 0. 0. 0. 0. 0. 0. 0. 0. 1.]\n",
            " [1. 0. 0. 0. 0. 0. 0. 0. 0. 1.]\n",
            " [1. 0. 0. 0. 0. 0. 0. 0. 0. 1.]\n",
            " [1. 1. 1. 1. 1. 1. 1. 1. 1. 1.]]\n"
          ],
          "name": "stdout"
        }
      ]
    },
    {
      "metadata": {
        "id": "XWLyj9TeVXAg",
        "colab_type": "text"
      },
      "cell_type": "markdown",
      "source": [
        "8) Create an 8 x 8 array with a checkerboard pattern of zeros and ones using a slicing+striding approach."
      ]
    },
    {
      "metadata": {
        "id": "PxY1BcUfUDn4",
        "colab_type": "code",
        "colab": {
          "base_uri": "https://localhost:8080/",
          "height": 164
        },
        "outputId": "f1c9bdd9-c6c4-47d9-8aa1-a838065d9238"
      },
      "cell_type": "code",
      "source": [
        "x = np.zeros((8,8),dtype=int)\n",
        "x[1::2,::2] = 1\n",
        "x[::2,1::2] = 1\n",
        "print(x)"
      ],
      "execution_count": 32,
      "outputs": [
        {
          "output_type": "stream",
          "text": [
            "[[0 1 0 1 0 1 0 1]\n",
            " [1 0 1 0 1 0 1 0]\n",
            " [0 1 0 1 0 1 0 1]\n",
            " [1 0 1 0 1 0 1 0]\n",
            " [0 1 0 1 0 1 0 1]\n",
            " [1 0 1 0 1 0 1 0]\n",
            " [0 1 0 1 0 1 0 1]\n",
            " [1 0 1 0 1 0 1 0]]\n"
          ],
          "name": "stdout"
        }
      ]
    }
  ]
}