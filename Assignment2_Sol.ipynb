{
  "nbformat": 4,
  "nbformat_minor": 0,
  "metadata": {
    "colab": {
      "name": "Assignment2_Sol.ipynb",
      "version": "0.3.2",
      "provenance": [],
      "include_colab_link": true
    },
    "kernelspec": {
      "name": "python3",
      "display_name": "Python 3"
    }
  },
  "cells": [
    {
      "cell_type": "markdown",
      "metadata": {
        "id": "view-in-github",
        "colab_type": "text"
      },
      "source": [
        "[View in Colaboratory](https://colab.research.google.com/github/soumisarkar02/Assignment-2/blob/soumisarkar02/Assignment2_Sol.ipynb)"
      ]
    },
    {
      "metadata": {
        "id": "VhK756-dTLOQ",
        "colab_type": "text"
      },
      "cell_type": "markdown",
      "source": [
        "1) Create any random list and assign it to a variable dummy_list"
      ]
    },
    {
      "metadata": {
        "id": "aSMDpnmr2CAZ",
        "colab_type": "code",
        "colab": {
          "base_uri": "https://localhost:8080/",
          "height": 134
        },
        "outputId": "184d0761-c8c8-4a33-f3ec-0184bc308aa1"
      },
      "cell_type": "code",
      "source": [
        "item_list = []\n",
        "\n",
        "while 1:\n",
        "  msg = input (\"Enter Item: \")\n",
        "  item_list.append(msg)\n",
        "  if input(\"Do You Want To Enter Another Item? (Y/N) \") == \"N\": break;\n",
        "  \n",
        "print(item_list)"
      ],
      "execution_count": 0,
      "outputs": [
        {
          "output_type": "stream",
          "text": [
            "Enter Item: 9\n",
            "Do You Want To Enter Another Item? (Y/N) Y\n",
            "Enter Item: -8\n",
            "Do You Want To Enter Another Item? (Y/N) Y\n",
            "Enter Item: 0\n",
            "Do You Want To Enter Another Item? (Y/N) N\n",
            "['9', '-8', '0']\n"
          ],
          "name": "stdout"
        }
      ]
    },
    {
      "metadata": {
        "id": "jOLK_24mTOtE",
        "colab_type": "text"
      },
      "cell_type": "markdown",
      "source": [
        "2) print dummy_list"
      ]
    },
    {
      "metadata": {
        "id": "rb5a0s3XE99g",
        "colab_type": "code",
        "colab": {
          "base_uri": "https://localhost:8080/",
          "height": 34
        },
        "outputId": "16ca993f-6754-4bff-d5ef-e47f868bd768"
      },
      "cell_type": "code",
      "source": [
        "dummy_list = [\"Soumi\", \"Shramana\", \"Mayurima\"]\n",
        "print (dummy_list)"
      ],
      "execution_count": 2,
      "outputs": [
        {
          "output_type": "stream",
          "text": [
            "['Soumi', 'Shramana', 'Mayurima']\n"
          ],
          "name": "stdout"
        }
      ]
    },
    {
      "metadata": {
        "id": "mt_cfoPeTS0k",
        "colab_type": "text"
      },
      "cell_type": "markdown",
      "source": [
        "3) Reverse dummy_list and print"
      ]
    },
    {
      "metadata": {
        "id": "ZS8TaJZFFwrf",
        "colab_type": "code",
        "colab": {
          "base_uri": "https://localhost:8080/",
          "height": 34
        },
        "outputId": "dbdbd32f-d6ba-40cc-8dd6-aea6b2794528"
      },
      "cell_type": "code",
      "source": [
        "dummy_list = [\"Soumi\", \"Shramana\", \"Mayurima\"]\n",
        "rev_dummy_list = dummy_list[::-1]\n",
        "print (rev_dummy_list)"
      ],
      "execution_count": 5,
      "outputs": [
        {
          "output_type": "stream",
          "text": [
            "['Mayurima', 'Shramana', 'Soumi']\n"
          ],
          "name": "stdout"
        }
      ]
    },
    {
      "metadata": {
        "id": "-GsS_z72TXwa",
        "colab_type": "text"
      },
      "cell_type": "markdown",
      "source": [
        "4) Add the list dummy_list_2 to the previous dummy_list and now print dummy_list"
      ]
    },
    {
      "metadata": {
        "id": "MjDYlebrG4ac",
        "colab_type": "code",
        "colab": {
          "base_uri": "https://localhost:8080/",
          "height": 34
        },
        "outputId": "978151f9-6000-4ee1-cf7a-b4157e84bd95"
      },
      "cell_type": "code",
      "source": [
        "dummy_list = [\"Soumi\", \"Shramana\", \"Mayurima\"]\n",
        "dummy_list_2 = [2, 200, 16, 4, 1, 0, 9.45, 45.67, 90, 12.01, 12.02]\n",
        "\n",
        "i=0\n",
        "while i < len(dummy_list_2):\n",
        "  item = dummy_list_2[i]\n",
        "  dummy_list.append(item)\n",
        "  i+=1\n",
        "  \n",
        "print (dummy_list)"
      ],
      "execution_count": 7,
      "outputs": [
        {
          "output_type": "stream",
          "text": [
            "['Soumi', 'Shramana', 'Mayurima', 2, 200, 16, 4, 1, 0, 9.45, 45.67, 90, 12.01, 12.02]\n"
          ],
          "name": "stdout"
        }
      ]
    },
    {
      "metadata": {
        "id": "9WpyCkw3TcEh",
        "colab_type": "text"
      },
      "cell_type": "markdown",
      "source": [
        "5) Create a dictionary named dummy_dict which contains all the elements of dummy_list as keys and frequency as values."
      ]
    },
    {
      "metadata": {
        "id": "a3tJxfPLLVh1",
        "colab_type": "code",
        "colab": {
          "base_uri": "https://localhost:8080/",
          "height": 34
        },
        "outputId": "2eab18c6-89bf-4e89-9358-06632ad88edc"
      },
      "cell_type": "code",
      "source": [
        "dummy_list = [\"Soumi\", \"Shramana\", \"Mayurima\",\"Soumi\"]\n",
        "dummy_dict = {}\n",
        "\n",
        "i=0\n",
        "while i < len(dummy_list):\n",
        "  item = dummy_list[i]\n",
        "  count=0\n",
        "  j=0\n",
        "  while j < len(dummy_list):\n",
        "    if item == dummy_list[j]:\n",
        "      count+=1\n",
        "    j+=1\n",
        "  dummy_dict[item] = count\n",
        "  i+=1\n",
        "  \n",
        "print(dummy_dict)"
      ],
      "execution_count": 9,
      "outputs": [
        {
          "output_type": "stream",
          "text": [
            "{'Soumi': 2, 'Shramana': 1, 'Mayurima': 1}\n"
          ],
          "name": "stdout"
        }
      ]
    },
    {
      "metadata": {
        "id": "y3MVVwIBThp7",
        "colab_type": "text"
      },
      "cell_type": "markdown",
      "source": [
        "6) print dummy_dict"
      ]
    },
    {
      "metadata": {
        "id": "5sSFl7HtNssw",
        "colab_type": "code",
        "colab": {
          "base_uri": "https://localhost:8080/",
          "height": 34
        },
        "outputId": "1c7963f7-77aa-44b5-dcc8-d323fb97a9cc"
      },
      "cell_type": "code",
      "source": [
        "dummy_dict = {\"Jennifer\":8, 'A':65, 66:'B', 9.45:\"Decimals\"}\n",
        "print(dummy_dict)"
      ],
      "execution_count": 10,
      "outputs": [
        {
          "output_type": "stream",
          "text": [
            "{'Jennifer': 8, 'A': 65, 66: 'B', 9.45: 'Decimals'}\n"
          ],
          "name": "stdout"
        }
      ]
    },
    {
      "metadata": {
        "id": "xU-g7vDMTmvw",
        "colab_type": "text"
      },
      "cell_type": "markdown",
      "source": [
        "7) Sort dummy_list in ascending order as well as descending order and print the changed lists"
      ]
    },
    {
      "metadata": {
        "id": "uQsQBBlJN4-c",
        "colab_type": "code",
        "colab": {
          "base_uri": "https://localhost:8080/",
          "height": 67
        },
        "outputId": "a0546952-66a1-42c0-866f-f4444ae9ecea"
      },
      "cell_type": "code",
      "source": [
        "dummy_list = [\"Poulami\",\"Soumi\", \"Shramana\", \"Mayurima\"]\n",
        "print (dummy_list)\n",
        "print (sorted(dummy_list))\n",
        "print (sorted(dummy_list, reverse = True))"
      ],
      "execution_count": 12,
      "outputs": [
        {
          "output_type": "stream",
          "text": [
            "['Poulami', 'Soumi', 'Shramana', 'Mayurima']\n",
            "['Mayurima', 'Poulami', 'Shramana', 'Soumi']\n",
            "['Soumi', 'Shramana', 'Poulami', 'Mayurima']\n"
          ],
          "name": "stdout"
        }
      ]
    },
    {
      "metadata": {
        "id": "kiQQTCkJTt7v",
        "colab_type": "text"
      },
      "cell_type": "markdown",
      "source": [
        "8) Remove the first item from the list whose value is equal to x. It raises a ValueError if there is no such item."
      ]
    },
    {
      "metadata": {
        "id": "RXlwwIFBOtHF",
        "colab_type": "code",
        "colab": {
          "base_uri": "https://localhost:8080/",
          "height": 50
        },
        "outputId": "13f01551-9756-40dd-ce9e-cd53a8a89cfd"
      },
      "cell_type": "code",
      "source": [
        "dummy_list = [\"Poulami\",\"Soumi\", \"Shramana\", \"Mayurima\"]\n",
        "x = 200\n",
        "\n",
        "i=0\n",
        "flag = 0\n",
        "while i < len(dummy_list):\n",
        "  item = dummy_list[i]\n",
        "  if x == dummy_list[i]:\n",
        "    flag = 1\n",
        "    dummy_list.pop(i)\n",
        "    break\n",
        "  i+=1\n",
        "  \n",
        "if flag == 0:\n",
        "  print(\"Element Not Found\")\n",
        "  \n",
        "print(dummy_list)"
      ],
      "execution_count": 16,
      "outputs": [
        {
          "output_type": "stream",
          "text": [
            "Element Not Found\n",
            "['Poulami', 'Soumi', 'Shramana', 'Mayurima']\n"
          ],
          "name": "stdout"
        }
      ]
    },
    {
      "metadata": {
        "id": "GRo3nu7HTwR8",
        "colab_type": "text"
      },
      "cell_type": "markdown",
      "source": [
        "9) Remove the item at position x. x is any random integer"
      ]
    },
    {
      "metadata": {
        "id": "VruWNwYVQCBt",
        "colab_type": "code",
        "colab": {
          "base_uri": "https://localhost:8080/",
          "height": 67
        },
        "outputId": "d7b07ef0-6888-4168-bdf2-3d0e80d3cd5b"
      },
      "cell_type": "code",
      "source": [
        "dummy_list = [\"Poulami\",\"Soumi\", \"Shramana\", \"Mayurima\"]\n",
        "x = int(input(\"Enter The Position Where Deletion Is To Perform: \"))\n",
        "\n",
        "flag = 0\n",
        "if(x < len(dummy_list)):\n",
        "  dummy_list.pop(x)\n",
        "  flag = 1\n",
        "  \n",
        "if flag == 1:\n",
        "  print(\"Item Deleted\")\n",
        "else:\n",
        "  print(\"Item Not Found\")\n",
        "  \n",
        "print(dummy_list)"
      ],
      "execution_count": 27,
      "outputs": [
        {
          "output_type": "stream",
          "text": [
            "Enter The Position Where Deletion Is To Perform: 8\n",
            "Item Not Found\n",
            "['Poulami', 'Soumi', 'Shramana', 'Mayurima']\n"
          ],
          "name": "stdout"
        }
      ]
    },
    {
      "metadata": {
        "id": "-sMmTLynT0nY",
        "colab_type": "text"
      },
      "cell_type": "markdown",
      "source": [
        "10) Let's clean everything clear the list and then print"
      ]
    },
    {
      "metadata": {
        "id": "nnlHRLC7SWoA",
        "colab_type": "code",
        "colab": {
          "base_uri": "https://localhost:8080/",
          "height": 34
        },
        "outputId": "e4404a03-6925-45c0-b24a-112db9fe8b07"
      },
      "cell_type": "code",
      "source": [
        "dummy_list = [\"Poulami\",\"Soumi\", \"Shramana\", \"Mayurima\"]\n",
        "\n",
        "while len(dummy_list)!=0:\n",
        "  dummy_list.pop()\n",
        "  \n",
        "print(dummy_list)"
      ],
      "execution_count": 30,
      "outputs": [
        {
          "output_type": "stream",
          "text": [
            "[]\n"
          ],
          "name": "stdout"
        }
      ]
    }
  ]
}