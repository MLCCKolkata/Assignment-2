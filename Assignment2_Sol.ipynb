{
  "nbformat": 4,
  "nbformat_minor": 0,
  "metadata": {
    "colab": {
      "name": "Assignment2_Sol.ipynb",
      "version": "0.3.2",
      "provenance": [],
      "include_colab_link": true
    },
    "kernelspec": {
      "name": "python3",
      "display_name": "Python 3"
    }
  },
  "cells": [
    {
      "cell_type": "markdown",
      "metadata": {
        "id": "view-in-github",
        "colab_type": "text"
      },
      "source": [
        "[View in Colaboratory](https://colab.research.google.com/github/soumisarkar02/Assignment-2/blob/soumisarkar02/Assignment2_Sol.ipynb)"
      ]
    },
    {
      "metadata": {
        "id": "aSMDpnmr2CAZ",
        "colab_type": "code",
        "colab": {
          "base_uri": "https://localhost:8080/",
          "height": 134
        },
        "outputId": "184d0761-c8c8-4a33-f3ec-0184bc308aa1"
      },
      "cell_type": "code",
      "source": [
        "item_list = []\n",
        "\n",
        "while 1:\n",
        "  msg = input (\"Enter Item: \")\n",
        "  item_list.append(msg)\n",
        "  if input(\"Do You Want To Enter Another Item? (Y/N) \") == \"N\": break;\n",
        "  \n",
        "print(item_list)"
      ],
      "execution_count": 0,
      "outputs": [
        {
          "output_type": "stream",
          "text": [
            "Enter Item: 9\n",
            "Do You Want To Enter Another Item? (Y/N) Y\n",
            "Enter Item: -8\n",
            "Do You Want To Enter Another Item? (Y/N) Y\n",
            "Enter Item: 0\n",
            "Do You Want To Enter Another Item? (Y/N) N\n",
            "['9', '-8', '0']\n"
          ],
          "name": "stdout"
        }
      ]
    },
    {
      "metadata": {
        "id": "rb5a0s3XE99g",
        "colab_type": "code",
        "colab": {
          "base_uri": "https://localhost:8080/",
          "height": 34
        },
        "outputId": "16ca993f-6754-4bff-d5ef-e47f868bd768"
      },
      "cell_type": "code",
      "source": [
        "dummy_list = [\"Soumi\", \"Shramana\", \"Mayurima\"]\n",
        "print (dummy_list)"
      ],
      "execution_count": 2,
      "outputs": [
        {
          "output_type": "stream",
          "text": [
            "['Soumi', 'Shramana', 'Mayurima']\n"
          ],
          "name": "stdout"
        }
      ]
    },
    {
      "metadata": {
        "id": "ZS8TaJZFFwrf",
        "colab_type": "code",
        "colab": {
          "base_uri": "https://localhost:8080/",
          "height": 34
        },
        "outputId": "dbdbd32f-d6ba-40cc-8dd6-aea6b2794528"
      },
      "cell_type": "code",
      "source": [
        "dummy_list = [\"Soumi\", \"Shramana\", \"Mayurima\"]\n",
        "rev_dummy_list = dummy_list[::-1]\n",
        "print (rev_dummy_list)"
      ],
      "execution_count": 5,
      "outputs": [
        {
          "output_type": "stream",
          "text": [
            "['Mayurima', 'Shramana', 'Soumi']\n"
          ],
          "name": "stdout"
        }
      ]
    },
    {
      "metadata": {
        "id": "MjDYlebrG4ac",
        "colab_type": "code",
        "colab": {
          "base_uri": "https://localhost:8080/",
          "height": 34
        },
        "outputId": "978151f9-6000-4ee1-cf7a-b4157e84bd95"
      },
      "cell_type": "code",
      "source": [
        "dummy_list = [\"Soumi\", \"Shramana\", \"Mayurima\"]\n",
        "dummy_list_2 = [2, 200, 16, 4, 1, 0, 9.45, 45.67, 90, 12.01, 12.02]\n",
        "\n",
        "i=0\n",
        "while i < len(dummy_list_2):\n",
        "  item = dummy_list_2[i]\n",
        "  dummy_list.append(item)\n",
        "  i+=1\n",
        "  \n",
        "print (dummy_list)"
      ],
      "execution_count": 7,
      "outputs": [
        {
          "output_type": "stream",
          "text": [
            "['Soumi', 'Shramana', 'Mayurima', 2, 200, 16, 4, 1, 0, 9.45, 45.67, 90, 12.01, 12.02]\n"
          ],
          "name": "stdout"
        }
      ]
    }
  ]
}