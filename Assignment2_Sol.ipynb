{
  "nbformat": 4,
  "nbformat_minor": 0,
  "metadata": {
    "colab": {
      "name": "Assignment2_Sol.ipynb",
      "version": "0.3.2",
      "provenance": [],
      "include_colab_link": true
    },
    "kernelspec": {
      "name": "python3",
      "display_name": "Python 3"
    }
  },
  "cells": [
    {
      "cell_type": "markdown",
      "metadata": {
        "id": "view-in-github",
        "colab_type": "text"
      },
      "source": [
        "[View in Colaboratory](https://colab.research.google.com/github/soumisarkar02/Assignment-2/blob/soumisarkar02/Assignment2_Sol.ipynb)"
      ]
    },
    {
      "metadata": {
        "id": "aSMDpnmr2CAZ",
        "colab_type": "code",
        "colab": {
          "base_uri": "https://localhost:8080/",
          "height": 134
        },
        "outputId": "184d0761-c8c8-4a33-f3ec-0184bc308aa1"
      },
      "cell_type": "code",
      "source": [
        "item_list = []\n",
        "\n",
        "while 1:\n",
        "  msg = input (\"Enter Item: \")\n",
        "  item_list.append(msg)\n",
        "  if input(\"Do You Want To Enter Another Item? (Y/N) \") == \"N\": break;\n",
        "  \n",
        "print(item_list)"
      ],
      "execution_count": 7,
      "outputs": [
        {
          "output_type": "stream",
          "text": [
            "Enter Item: 9\n",
            "Do You Want To Enter Another Item? (Y/N) Y\n",
            "Enter Item: -8\n",
            "Do You Want To Enter Another Item? (Y/N) Y\n",
            "Enter Item: 0\n",
            "Do You Want To Enter Another Item? (Y/N) N\n",
            "['9', '-8', '0']\n"
          ],
          "name": "stdout"
        }
      ]
    }
  ]
}