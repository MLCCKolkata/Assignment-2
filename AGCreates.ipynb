{
  "nbformat": 4,
  "nbformat_minor": 0,
  "metadata": {
    "colab": {
      "name": "AGCreates.ipynb",
      "version": "0.3.2",
      "provenance": [],
      "include_colab_link": true
    },
    "kernelspec": {
      "display_name": "Python 3",
      "language": "python",
      "name": "python3"
    }
  },
  "cells": [
    {
      "cell_type": "markdown",
      "metadata": {
        "id": "view-in-github",
        "colab_type": "text"
      },
      "source": [
        "[View in Colaboratory](https://colab.research.google.com/github/AGCreates/Assignment-2/blob/AGCreates/AGCreates.ipynb)"
      ]
    },
    {
      "metadata": {
        "id": "FTBef_OJr-Mu",
        "colab_type": "code",
        "colab": {
          "base_uri": "https://localhost:8080/",
          "height": 136
        },
        "outputId": "607f64d3-512a-4b67-8c3c-be3d29a4f5be"
      },
      "cell_type": "code",
      "source": [
        "import random\n",
        "dummy_list = [x for x in range (10)]\n",
        "print (\"Dummy List\", dummy_list)\n",
        "dummy_list.reverse()\n",
        "print (\" Dummy List Reversed\", dummy_list)\n",
        "dummy_list_2 = [2, 200, 16, 4, 1, 0, 9.45, 45.67, 90, 12.01, 12.02]\n",
        "dummy_list= dummy_list + dummy_list_2\n",
        "print(\"Dummy List after addition \", dummy_list)\n",
        "\n",
        "dummy_list_freq = []\n",
        "dummy_list_unique = []\n",
        "for x in dummy_list:\n",
        "      if x not in dummy_list_unique:\n",
        "             dummy_list_unique.append(x)\n",
        "print (\" Dummy List Unique \",dummy_list_unique)\n",
        "\n",
        "for x in (dummy_list_unique):\n",
        "  counter=0\n",
        "  for y in (dummy_list):\n",
        "    if x==y:\n",
        "      counter= counter+1\n",
        "  dummy_list_freq.append(counter)\n",
        "  \n",
        "dummy_dict = dict()\n",
        "for i in range (len(dummy_list_unique)):\n",
        "       for j in range (len(dummy_list_freq)):\n",
        "              if i == j:  dummy_dict[dummy_list_unique[i]] = dummy_list_freq[j]\n",
        "print (\"Dummy Dictionary\", dummy_dict)\n",
        "dummy_list.sort()\n",
        "print (\"Dummy List Sorted Ascending Order\", dummy_list)\n",
        "dummy_list.reverse()\n",
        "print (\"Dummy List Sorted Descending Order\",dummy_list)  \n",
        "dummy_list.remove(200)\n",
        "print (\"Dummy List Sorted After removing x= 200\", dummy_list)\n",
        "index_remove = random.randint(0, len(dummy_list)-1)\n",
        "print (\"Removing the value at radom index \", index_remove, \" which is \")\n",
        "dummy_list.pop(index_remove)\n",
        "print (\"Dummy List after removal of value at random index \", dummy_list)\n",
        "print (\"Cleared Dummy List \", dummy_list.clear())"
      ],
      "execution_count": 2,
      "outputs": [
        {
          "output_type": "stream",
          "text": [
            "Dummy List [0, 1, 2, 3, 4, 5, 6, 7, 8, 9]\n",
            " Dummy List Reversed [9, 8, 7, 6, 5, 4, 3, 2, 1, 0]\n",
            "Dummy List after addition  [9, 8, 7, 6, 5, 4, 3, 2, 1, 0, 2, 200, 16, 4, 1, 0, 9.45, 45.67, 90, 12.01, 12.02]\n",
            " Dummy List Unique  [9, 8, 7, 6, 5, 4, 3, 2, 1, 0, 200, 16, 9.45, 45.67, 90, 12.01, 12.02]\n",
            "Dummy Dictionary {9: 1, 8: 1, 7: 1, 6: 1, 5: 1, 4: 2, 3: 1, 2: 2, 1: 2, 0: 2, 200: 1, 16: 1, 9.45: 1, 45.67: 1, 90: 1, 12.01: 1, 12.02: 1}\n",
            "Dummy List Sorted Ascending Order [0, 0, 1, 1, 2, 2, 3, 4, 4, 5, 6, 7, 8, 9, 9.45, 12.01, 12.02, 16, 45.67, 90, 200]\n",
            "Dummy List Sorted Descending Order [200, 90, 45.67, 16, 12.02, 12.01, 9.45, 9, 8, 7, 6, 5, 4, 4, 3, 2, 2, 1, 1, 0, 0]\n"
          ],
          "name": "stdout"
        }
      ]
    },
    {
      "metadata": {
        "id": "7wkOxQUpzRl2",
        "colab_type": "code",
        "colab": {
          "base_uri": "https://localhost:8080/",
          "height": 986
        },
        "outputId": "877ad255-e68e-4042-ea73-8d701553ec76"
      },
      "cell_type": "code",
      "source": [
        "import numpy as np\n",
        "\n",
        "#Numpy examples have been tried out but haven not been added here.\n",
        "#This part consists of the Numpy Exercise only \n",
        "\n",
        "\n",
        "unisub = np.linspace(-1.3, 2.5, 64)\n",
        "print (\"Uniform Subdivision: \\n\", unisub) \n",
        "\n",
        "n = 8\n",
        "cyc= np.array([1, 2, 3])\n",
        "cyc = np.resize(cyc, 3 * n) \n",
        "print(\"Cyclic Pattern \\n\", cyc) \n",
        "\n",
        "oddarr = np.arange(1, 2 * 10, 2)\n",
        "print (\" First 10 odd int array:\\n\", oddarr) \n",
        "\n",
        "\n",
        "a = np.array([1,2,3,2,3,4,3,4,5,6])\n",
        "b = np.array([7,2,10,2,7,4,9,4,9,8])\n",
        "\n",
        "intersect = np.intersect1d(a, b)\n",
        "print(\"Intersection array \\n\", intersect)\n",
        "\n",
        "a = np.arange(10)\n",
        "        \n",
        "a = a.reshape(2, 5)\n",
        "        \n",
        "print(\"Reshaped Array \\n\",  a)\n",
        "\n",
        "\n",
        "a = [1, 2, 3, 4, 5, 6, 7, 8, 9]\n",
        "      \n",
        "a = np.array(a)\n",
        "print(\"List to Numpy Array: \\n\", a)\n",
        "     \n",
        "a= list(a)\n",
        "print(\"Numpy Array to List: \\n\", a)\n",
        "\n",
        "\n",
        "\n",
        "\n",
        "n = 10\n",
        "arr = np.zeros(shape = (n, n))\n",
        "print(\"Array of Zeroes: \\n\", arr)\n",
        "print()\n",
        "arr[n - 1, :] = np.ones(n)\n",
        "arr[:, 0] = np.ones(n)\n",
        "arr[:, n - 1] = np.ones(n)\n",
        "arr[0, :] = np.ones(n)\n",
        "print(\"Array of Zeroes bounded by 1:\\n\", arr)\n",
        "  \n",
        "\n",
        "n=8 \n",
        "      \n",
        "print(\"Checkerboard:\")\n",
        "x = np.zeros((n, n), dtype = int) \n",
        "x[1::2, ::2] = 1\n",
        "x[::2, 1::2] = 1\n",
        "      \n",
        "for i in range(n): \n",
        "    for j in range(n): \n",
        "        print(x[i][j], end= \" \",)  \n",
        "    print()  \n",
        "  "
      ],
      "execution_count": 5,
      "outputs": [
        {
          "output_type": "stream",
          "text": [
            "Uniform Subdivision: \n",
            " [-1.3        -1.23968254 -1.17936508 -1.11904762 -1.05873016 -0.9984127\n",
            " -0.93809524 -0.87777778 -0.81746032 -0.75714286 -0.6968254  -0.63650794\n",
            " -0.57619048 -0.51587302 -0.45555556 -0.3952381  -0.33492063 -0.27460317\n",
            " -0.21428571 -0.15396825 -0.09365079 -0.03333333  0.02698413  0.08730159\n",
            "  0.14761905  0.20793651  0.26825397  0.32857143  0.38888889  0.44920635\n",
            "  0.50952381  0.56984127  0.63015873  0.69047619  0.75079365  0.81111111\n",
            "  0.87142857  0.93174603  0.99206349  1.05238095  1.11269841  1.17301587\n",
            "  1.23333333  1.29365079  1.35396825  1.41428571  1.47460317  1.53492063\n",
            "  1.5952381   1.65555556  1.71587302  1.77619048  1.83650794  1.8968254\n",
            "  1.95714286  2.01746032  2.07777778  2.13809524  2.1984127   2.25873016\n",
            "  2.31904762  2.37936508  2.43968254  2.5       ]\n",
            "Cyclic Pattern \n",
            " [1 2 3 1 2 3 1 2 3 1 2 3 1 2 3 1 2 3 1 2 3 1 2 3]\n",
            " First 10 odd int array:\n",
            " [ 1  3  5  7  9 11 13 15 17 19]\n",
            "Intersection array \n",
            " [2 4]\n",
            "Reshaped Array \n",
            " [[0 1 2 3 4]\n",
            " [5 6 7 8 9]]\n",
            "List to Numpy Array: \n",
            " [1 2 3 4 5 6 7 8 9]\n",
            "Numpy Array to List: \n",
            " [1, 2, 3, 4, 5, 6, 7, 8, 9]\n",
            "Array of Zeroes: \n",
            " [[0. 0. 0. 0. 0. 0. 0. 0. 0. 0.]\n",
            " [0. 0. 0. 0. 0. 0. 0. 0. 0. 0.]\n",
            " [0. 0. 0. 0. 0. 0. 0. 0. 0. 0.]\n",
            " [0. 0. 0. 0. 0. 0. 0. 0. 0. 0.]\n",
            " [0. 0. 0. 0. 0. 0. 0. 0. 0. 0.]\n",
            " [0. 0. 0. 0. 0. 0. 0. 0. 0. 0.]\n",
            " [0. 0. 0. 0. 0. 0. 0. 0. 0. 0.]\n",
            " [0. 0. 0. 0. 0. 0. 0. 0. 0. 0.]\n",
            " [0. 0. 0. 0. 0. 0. 0. 0. 0. 0.]\n",
            " [0. 0. 0. 0. 0. 0. 0. 0. 0. 0.]]\n",
            "\n",
            "Array of Zeroes bounded by 1:\n",
            " [[1. 1. 1. 1. 1. 1. 1. 1. 1. 1.]\n",
            " [1. 0. 0. 0. 0. 0. 0. 0. 0. 1.]\n",
            " [1. 0. 0. 0. 0. 0. 0. 0. 0. 1.]\n",
            " [1. 0. 0. 0. 0. 0. 0. 0. 0. 1.]\n",
            " [1. 0. 0. 0. 0. 0. 0. 0. 0. 1.]\n",
            " [1. 0. 0. 0. 0. 0. 0. 0. 0. 1.]\n",
            " [1. 0. 0. 0. 0. 0. 0. 0. 0. 1.]\n",
            " [1. 0. 0. 0. 0. 0. 0. 0. 0. 1.]\n",
            " [1. 0. 0. 0. 0. 0. 0. 0. 0. 1.]\n",
            " [1. 1. 1. 1. 1. 1. 1. 1. 1. 1.]]\n",
            "Checkerboard:\n",
            "0 1 0 1 0 1 0 1 \n",
            "1 0 1 0 1 0 1 0 \n",
            "0 1 0 1 0 1 0 1 \n",
            "1 0 1 0 1 0 1 0 \n",
            "0 1 0 1 0 1 0 1 \n",
            "1 0 1 0 1 0 1 0 \n",
            "0 1 0 1 0 1 0 1 \n",
            "1 0 1 0 1 0 1 0 \n"
          ],
          "name": "stdout"
        }
      ]
    },
    {
      "metadata": {
        "id": "dozwmoLWM_jJ",
        "colab_type": "code",
        "colab": {}
      },
      "cell_type": "code",
      "source": [
        ""
      ],
      "execution_count": 0,
      "outputs": []
    }
  ]
}