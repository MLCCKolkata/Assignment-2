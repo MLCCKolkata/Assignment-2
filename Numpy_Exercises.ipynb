{
  "nbformat": 4,
  "nbformat_minor": 0,
  "metadata": {
    "colab": {
      "name": "Numpy_Exercises.ipynb",
      "version": "0.3.2",
      "provenance": [],
      "include_colab_link": true
    },
    "kernelspec": {
      "name": "python3",
      "display_name": "Python 3"
    }
  },
  "cells": [
    {
      "cell_type": "markdown",
      "metadata": {
        "id": "view-in-github",
        "colab_type": "text"
      },
      "source": [
        "[View in Colaboratory](https://colab.research.google.com/github/SoumitriM/Assignment-2/blob/SoumitriM/Numpy_Exercises.ipynb)"
      ]
    },
    {
      "metadata": {
        "id": "a_4UupTr9fbX",
        "colab_type": "text"
      },
      "cell_type": "markdown",
      "source": [
        "# Numpy Exercises\n",
        "\n",
        "1) Create a uniform subdivision of the interval -1.3 to 2.5 with 64 subdivisions"
      ]
    },
    {
      "metadata": {
        "id": "LIP5u4zi0Nmg",
        "colab_type": "code",
        "colab": {
          "base_uri": "https://localhost:8080/",
          "height": 217
        },
        "outputId": "78764cbf-2f86-4f8f-cc7b-97e75d5126e6"
      },
      "cell_type": "code",
      "source": [
        "import numpy as np#import numpy\n",
        "x=np.linspace(-1.3,2.5,64)\n",
        "print(x)"
      ],
      "execution_count": 6,
      "outputs": [
        {
          "output_type": "stream",
          "text": [
            "[-1.3        -1.23968254 -1.17936508 -1.11904762 -1.05873016 -0.9984127\n",
            " -0.93809524 -0.87777778 -0.81746032 -0.75714286 -0.6968254  -0.63650794\n",
            " -0.57619048 -0.51587302 -0.45555556 -0.3952381  -0.33492063 -0.27460317\n",
            " -0.21428571 -0.15396825 -0.09365079 -0.03333333  0.02698413  0.08730159\n",
            "  0.14761905  0.20793651  0.26825397  0.32857143  0.38888889  0.44920635\n",
            "  0.50952381  0.56984127  0.63015873  0.69047619  0.75079365  0.81111111\n",
            "  0.87142857  0.93174603  0.99206349  1.05238095  1.11269841  1.17301587\n",
            "  1.23333333  1.29365079  1.35396825  1.41428571  1.47460317  1.53492063\n",
            "  1.5952381   1.65555556  1.71587302  1.77619048  1.83650794  1.8968254\n",
            "  1.95714286  2.01746032  2.07777778  2.13809524  2.1984127   2.25873016\n",
            "  2.31904762  2.37936508  2.43968254  2.5       ]\n"
          ],
          "name": "stdout"
        }
      ]
    },
    {
      "metadata": {
        "id": "dBoH_A7M9jjL",
        "colab_type": "text"
      },
      "cell_type": "markdown",
      "source": [
        "2) Generate an array of length 3n filled with the cyclic pattern 1, 2, 3"
      ]
    },
    {
      "metadata": {
        "id": "4TxT66309n1o",
        "colab_type": "code",
        "colab": {
          "base_uri": "https://localhost:8080/",
          "height": 54
        },
        "outputId": "6f113db7-19b2-458a-fab2-5dbcfd6acdee"
      },
      "cell_type": "code",
      "source": [
        "n=int(input(\"Enter the value of n: \"))\n",
        "arr1=([1,2,3]*3*n)\n",
        "print(arr1)"
      ],
      "execution_count": 11,
      "outputs": [
        {
          "output_type": "stream",
          "text": [
            "Enter the value of n: 3\n",
            "[1, 2, 3, 1, 2, 3, 1, 2, 3, 1, 2, 3, 1, 2, 3, 1, 2, 3, 1, 2, 3, 1, 2, 3, 1, 2, 3]\n"
          ],
          "name": "stdout"
        }
      ]
    },
    {
      "metadata": {
        "id": "Vh-UKizx9oTp",
        "colab_type": "text"
      },
      "cell_type": "markdown",
      "source": [
        "3) Create an array of the first 10 odd integers."
      ]
    },
    {
      "metadata": {
        "id": "ebhEUZq29r32",
        "colab_type": "code",
        "colab": {
          "base_uri": "https://localhost:8080/",
          "height": 35
        },
        "outputId": "6f63a7e7-ea3b-49dc-b73b-6d04d7433d56"
      },
      "cell_type": "code",
      "source": [
        "arr2=np.linspace(1,19,10)\n",
        "print(arr2)"
      ],
      "execution_count": 13,
      "outputs": [
        {
          "output_type": "stream",
          "text": [
            "[ 1.  3.  5.  7.  9. 11. 13. 15. 17. 19.]\n"
          ],
          "name": "stdout"
        }
      ]
    },
    {
      "metadata": {
        "id": "QfJRdMat90f4",
        "colab_type": "text"
      },
      "cell_type": "markdown",
      "source": [
        "4) Find intersection of a and b"
      ]
    },
    {
      "metadata": {
        "id": "gOlfuJCo-JwF",
        "colab_type": "code",
        "colab": {
          "base_uri": "https://localhost:8080/",
          "height": 35
        },
        "outputId": "ec924bc4-4899-40ed-832a-eb21e6698706"
      },
      "cell_type": "code",
      "source": [
        "#expected output array([2, 4])\n",
        "a = np.array([1,2,3,2,3,4,3,4,5,6])\n",
        "b = np.array([7,2,10,2,7,4,9,4,9,8])\n",
        "c = np.intersect1d(a,b) \n",
        "print(c)"
      ],
      "execution_count": 19,
      "outputs": [
        {
          "output_type": "stream",
          "text": [
            "[2 4]\n"
          ],
          "name": "stdout"
        }
      ]
    },
    {
      "metadata": {
        "id": "RtVCf0UoCeB8",
        "colab_type": "text"
      },
      "cell_type": "markdown",
      "source": [
        "5) Reshape 1d array a to 2d array of 2X5"
      ]
    },
    {
      "metadata": {
        "id": "2E8b55_2Cjx5",
        "colab_type": "code",
        "colab": {
          "base_uri": "https://localhost:8080/",
          "height": 54
        },
        "outputId": "a5244673-0648-4eeb-9ab6-e3bda5c0c226"
      },
      "cell_type": "code",
      "source": [
        "a = np.arange(10)\n",
        "print(a.reshape(2,5))"
      ],
      "execution_count": 21,
      "outputs": [
        {
          "output_type": "stream",
          "text": [
            "[[0 1 2 3 4]\n",
            " [5 6 7 8 9]]\n"
          ],
          "name": "stdout"
        }
      ]
    },
    {
      "metadata": {
        "id": "dVrSBW1zEjp2",
        "colab_type": "text"
      },
      "cell_type": "markdown",
      "source": [
        "6) Create a numpy array to list and vice versa"
      ]
    },
    {
      "metadata": {
        "id": "tcBCyhXPEp9C",
        "colab_type": "code",
        "colab": {
          "base_uri": "https://localhost:8080/",
          "height": 54
        },
        "outputId": "19b852b4-52ec-4a7d-bfb1-7399aacdc060"
      },
      "cell_type": "code",
      "source": [
        "a = [1, 2, 3, 4, 5, 6, 7, 8, 9]\n",
        "a=np.asarray(a)\n",
        "print(type(a),a)\n",
        "a=a.tolist()\n",
        "print(type(a),a)\n",
        "\n"
      ],
      "execution_count": 60,
      "outputs": [
        {
          "output_type": "stream",
          "text": [
            "<class 'numpy.ndarray'> [1 2 3 4 5 6 7 8 9]\n",
            "<class 'list'> [1, 2, 3, 4, 5, 6, 7, 8, 9]\n"
          ],
          "name": "stdout"
        }
      ]
    },
    {
      "metadata": {
        "id": "JNqX8wnz9sQJ",
        "colab_type": "text"
      },
      "cell_type": "markdown",
      "source": [
        "7) Create a 10 x 10 arrays of zeros and then \"frame\" it with a border of ones."
      ]
    },
    {
      "metadata": {
        "id": "4bjP3JAc9vRD",
        "colab_type": "code",
        "colab": {
          "base_uri": "https://localhost:8080/",
          "height": 217
        },
        "outputId": "8f2ec8ff-a757-4484-ccb9-d036a74e7b30"
      },
      "cell_type": "code",
      "source": [
        "arr3=np.ones((11,11))\n",
        "arr3[1:10,1:10]=0\n",
        "print(arr3)"
      ],
      "execution_count": 47,
      "outputs": [
        {
          "output_type": "stream",
          "text": [
            "[[1. 1. 1. 1. 1. 1. 1. 1. 1. 1. 1.]\n",
            " [1. 0. 0. 0. 0. 0. 0. 0. 0. 0. 1.]\n",
            " [1. 0. 0. 0. 0. 0. 0. 0. 0. 0. 1.]\n",
            " [1. 0. 0. 0. 0. 0. 0. 0. 0. 0. 1.]\n",
            " [1. 0. 0. 0. 0. 0. 0. 0. 0. 0. 1.]\n",
            " [1. 0. 0. 0. 0. 0. 0. 0. 0. 0. 1.]\n",
            " [1. 0. 0. 0. 0. 0. 0. 0. 0. 0. 1.]\n",
            " [1. 0. 0. 0. 0. 0. 0. 0. 0. 0. 1.]\n",
            " [1. 0. 0. 0. 0. 0. 0. 0. 0. 0. 1.]\n",
            " [1. 0. 0. 0. 0. 0. 0. 0. 0. 0. 1.]\n",
            " [1. 1. 1. 1. 1. 1. 1. 1. 1. 1. 1.]]\n"
          ],
          "name": "stdout"
        }
      ]
    },
    {
      "metadata": {
        "id": "xaQgf8tT9v-n",
        "colab_type": "text"
      },
      "cell_type": "markdown",
      "source": [
        "8) Create an 8 x 8 array with a checkerboard pattern of zeros and ones using a slicing+striding approach."
      ]
    },
    {
      "metadata": {
        "id": "No7fx0Xy9zEh",
        "colab_type": "code",
        "colab": {
          "base_uri": "https://localhost:8080/",
          "height": 163
        },
        "outputId": "f40ca074-835d-4420-b708-774073b9e71c"
      },
      "cell_type": "code",
      "source": [
        "arr4=np.zeros((8,8))\n",
        "arr4[1::2,::2]=1\n",
        "arr4[::2,1::2]=1\n",
        "print(arr4)"
      ],
      "execution_count": 49,
      "outputs": [
        {
          "output_type": "stream",
          "text": [
            "[[0. 1. 0. 1. 0. 1. 0. 1.]\n",
            " [1. 0. 1. 0. 1. 0. 1. 0.]\n",
            " [0. 1. 0. 1. 0. 1. 0. 1.]\n",
            " [1. 0. 1. 0. 1. 0. 1. 0.]\n",
            " [0. 1. 0. 1. 0. 1. 0. 1.]\n",
            " [1. 0. 1. 0. 1. 0. 1. 0.]\n",
            " [0. 1. 0. 1. 0. 1. 0. 1.]\n",
            " [1. 0. 1. 0. 1. 0. 1. 0.]]\n"
          ],
          "name": "stdout"
        }
      ]
    }
  ]
}