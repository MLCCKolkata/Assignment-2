{
  "nbformat": 4,
  "nbformat_minor": 0,
  "metadata": {
    "colab": {
      "name": "Numpy_Exercises.ipynb",
      "version": "0.3.2",
      "provenance": [],
      "include_colab_link": true
    },
    "kernelspec": {
      "name": "python3",
      "display_name": "Python 3"
    }
  },
  "cells": [
    {
      "cell_type": "markdown",
      "metadata": {
        "id": "view-in-github",
        "colab_type": "text"
      },
      "source": [
        "[View in Colaboratory](https://colab.research.google.com/github/rrb8319/Assignment-2/blob/master/Numpy_Exercises.ipynb)"
      ]
    },
    {
      "metadata": {
        "id": "a_4UupTr9fbX",
        "colab_type": "text"
      },
      "cell_type": "markdown",
      "source": [
        "# Numpy Exercises\n",
        "\n",
        "1) Create a uniform subdivision of the interval -1.3 to 2.5 with 64 subdivisions"
      ]
    },
    {
      "metadata": {
        "id": "LIP5u4zi0Nmg",
        "colab_type": "code",
        "colab": {}
      },
      "cell_type": "code",
      "source": [
        "import numpy as np #import numpy"
      ],
      "execution_count": 0,
      "outputs": []
    },
    {
      "metadata": {
        "id": "dBoH_A7M9jjL",
        "colab_type": "text"
      },
      "cell_type": "markdown",
      "source": [
        "2) Generate an array of length 3n filled with the cyclic pattern 1, 2, 3"
      ]
    },
    {
      "metadata": {
        "id": "4TxT66309n1o",
        "colab_type": "code",
        "colab": {
          "base_uri": "https://localhost:8080/",
          "height": 35
        },
        "outputId": "c2fbc9cf-3c63-4506-a886-6724a2329243"
      },
      "cell_type": "code",
      "source": [
        "a=np.arange(1,4)\n",
        "print(a)"
      ],
      "execution_count": 5,
      "outputs": [
        {
          "output_type": "stream",
          "text": [
            "[1 2 3]\n"
          ],
          "name": "stdout"
        }
      ]
    },
    {
      "metadata": {
        "id": "Vh-UKizx9oTp",
        "colab_type": "text"
      },
      "cell_type": "markdown",
      "source": [
        "3) Create an array of the first 10 odd integers."
      ]
    },
    {
      "metadata": {
        "id": "ebhEUZq29r32",
        "colab_type": "code",
        "colab": {
          "base_uri": "https://localhost:8080/",
          "height": 35
        },
        "outputId": "61b4acad-44e7-47c5-c2eb-abe65d02364e"
      },
      "cell_type": "code",
      "source": [
        "a= np.arange(1,20,2)\n",
        "print(a)"
      ],
      "execution_count": 8,
      "outputs": [
        {
          "output_type": "stream",
          "text": [
            "[ 1  3  5  7  9 11 13 15 17 19]\n"
          ],
          "name": "stdout"
        }
      ]
    },
    {
      "metadata": {
        "id": "QfJRdMat90f4",
        "colab_type": "text"
      },
      "cell_type": "markdown",
      "source": [
        "4) Find intersection of a and b"
      ]
    },
    {
      "metadata": {
        "id": "gOlfuJCo-JwF",
        "colab_type": "code",
        "colab": {}
      },
      "cell_type": "code",
      "source": [
        "#expected output array([2, 4])\n",
        "a = np.array([1,2,3,2,3,4,3,4,5,6])\n",
        "b = np.array([7,2,10,2,7,4,9,4,9,8])"
      ],
      "execution_count": 0,
      "outputs": []
    },
    {
      "metadata": {
        "id": "5UI4oWBYgT4-",
        "colab_type": "code",
        "colab": {
          "base_uri": "https://localhost:8080/",
          "height": 35
        },
        "outputId": "6840de6f-b857-4efd-d8a6-a4dd3f9d414a"
      },
      "cell_type": "code",
      "source": [
        "print(list(set(a) & set(b)))"
      ],
      "execution_count": 11,
      "outputs": [
        {
          "output_type": "stream",
          "text": [
            "[2, 4]\n"
          ],
          "name": "stdout"
        }
      ]
    },
    {
      "metadata": {
        "id": "RtVCf0UoCeB8",
        "colab_type": "text"
      },
      "cell_type": "markdown",
      "source": [
        "5) Reshape 1d array a to 2d array of 2X5"
      ]
    },
    {
      "metadata": {
        "id": "2E8b55_2Cjx5",
        "colab_type": "code",
        "colab": {
          "base_uri": "https://localhost:8080/",
          "height": 54
        },
        "outputId": "00900202-163d-4f5c-df46-ff2cad352709"
      },
      "cell_type": "code",
      "source": [
        "a = np.arange(10).reshape(2,5)\n",
        "\n",
        "print(a)\n"
      ],
      "execution_count": 16,
      "outputs": [
        {
          "output_type": "stream",
          "text": [
            "[[0 1 2 3 4]\n",
            " [5 6 7 8 9]]\n"
          ],
          "name": "stdout"
        }
      ]
    },
    {
      "metadata": {
        "id": "4MUDW3KygU32",
        "colab_type": "code",
        "colab": {}
      },
      "cell_type": "code",
      "source": [
        ""
      ],
      "execution_count": 0,
      "outputs": []
    },
    {
      "metadata": {
        "id": "dVrSBW1zEjp2",
        "colab_type": "text"
      },
      "cell_type": "markdown",
      "source": [
        "6) Create a numpy array to list and vice versa"
      ]
    },
    {
      "metadata": {
        "id": "tcBCyhXPEp9C",
        "colab_type": "code",
        "colab": {
          "base_uri": "https://localhost:8080/",
          "height": 54
        },
        "outputId": "33b2811e-0a4b-4afe-dab6-2374767133c1"
      },
      "cell_type": "code",
      "source": [
        "a = [1, 2, 3, 4, 5, 6, 7, 8, 9]\n",
        "\n",
        "a=np.array(a)\n",
        "print(type(a))\n",
        "\n",
        "a=a.tolist()\n",
        "print(type(a))\n",
        "\n"
      ],
      "execution_count": 23,
      "outputs": [
        {
          "output_type": "stream",
          "text": [
            "<class 'numpy.ndarray'>\n",
            "<class 'list'>\n"
          ],
          "name": "stdout"
        }
      ]
    },
    {
      "metadata": {
        "id": "pVQNe0MxgVud",
        "colab_type": "code",
        "colab": {}
      },
      "cell_type": "code",
      "source": [
        ""
      ],
      "execution_count": 0,
      "outputs": []
    },
    {
      "metadata": {
        "id": "JNqX8wnz9sQJ",
        "colab_type": "text"
      },
      "cell_type": "markdown",
      "source": [
        "7) Create a 10 x 10 arrays of zeros and then \"frame\" it with a border of ones."
      ]
    },
    {
      "metadata": {
        "id": "4bjP3JAc9vRD",
        "colab_type": "code",
        "colab": {
          "base_uri": "https://localhost:8080/",
          "height": 199
        },
        "outputId": "2e059040-8e32-48b2-8494-f6a4be464503"
      },
      "cell_type": "code",
      "source": [
        "a = np.zeros(shape=(10,10))\n",
        "\n",
        "for i in range(10) :\n",
        "  for j in range(10) :\n",
        "    if i==0 or j==0 or i==9 or j==9 :\n",
        "       a[i,j]=1\n",
        "print(a)        \n",
        "   "
      ],
      "execution_count": 35,
      "outputs": [
        {
          "output_type": "stream",
          "text": [
            "[[1. 1. 1. 1. 1. 1. 1. 1. 1. 1.]\n",
            " [1. 0. 0. 0. 0. 0. 0. 0. 0. 1.]\n",
            " [1. 0. 0. 0. 0. 0. 0. 0. 0. 1.]\n",
            " [1. 0. 0. 0. 0. 0. 0. 0. 0. 1.]\n",
            " [1. 0. 0. 0. 0. 0. 0. 0. 0. 1.]\n",
            " [1. 0. 0. 0. 0. 0. 0. 0. 0. 1.]\n",
            " [1. 0. 0. 0. 0. 0. 0. 0. 0. 1.]\n",
            " [1. 0. 0. 0. 0. 0. 0. 0. 0. 1.]\n",
            " [1. 0. 0. 0. 0. 0. 0. 0. 0. 1.]\n",
            " [1. 1. 1. 1. 1. 1. 1. 1. 1. 1.]]\n"
          ],
          "name": "stdout"
        }
      ]
    },
    {
      "metadata": {
        "id": "xaQgf8tT9v-n",
        "colab_type": "text"
      },
      "cell_type": "markdown",
      "source": [
        "8) Create an 8 x 8 array with a checkerboard pattern of zeros and ones using a slicing+striding approach."
      ]
    },
    {
      "metadata": {
        "id": "No7fx0Xy9zEh",
        "colab_type": "code",
        "colab": {
          "base_uri": "https://localhost:8080/",
          "height": 163
        },
        "outputId": "2564d0a5-26a0-4def-cf0a-6d6d356ca0dc"
      },
      "cell_type": "code",
      "source": [
        "x = np.zeros((8,8),dtype=int)\n",
        "x[1::2,::2] = 1\n",
        "x[::2,1::2] = 1\n",
        "print(x)"
      ],
      "execution_count": 38,
      "outputs": [
        {
          "output_type": "stream",
          "text": [
            "[[0 1 0 1 0 1 0 1]\n",
            " [1 0 1 0 1 0 1 0]\n",
            " [0 1 0 1 0 1 0 1]\n",
            " [1 0 1 0 1 0 1 0]\n",
            " [0 1 0 1 0 1 0 1]\n",
            " [1 0 1 0 1 0 1 0]\n",
            " [0 1 0 1 0 1 0 1]\n",
            " [1 0 1 0 1 0 1 0]]\n"
          ],
          "name": "stdout"
        }
      ]
    },
    {
      "metadata": {
        "id": "OQwfS2jYvBv_",
        "colab_type": "code",
        "colab": {}
      },
      "cell_type": "code",
      "source": [
        ""
      ],
      "execution_count": 0,
      "outputs": []
    }
  ]
}