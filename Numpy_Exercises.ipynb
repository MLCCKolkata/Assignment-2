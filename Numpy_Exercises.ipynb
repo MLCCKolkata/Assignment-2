{
  "nbformat": 4,
  "nbformat_minor": 0,
  "metadata": {
    "colab": {
      "name": "Numpy_Exercises.ipynb",
      "version": "0.3.2",
      "provenance": [],
      "include_colab_link": true
    },
    "kernelspec": {
      "name": "python3",
      "display_name": "Python 3"
    }
  },
  "cells": [
    {
      "cell_type": "markdown",
      "metadata": {
        "id": "view-in-github",
        "colab_type": "text"
      },
      "source": [
        "[View in Colaboratory](https://colab.research.google.com/github/soumisarkar02/Assignment-2/blob/soumisarkar02/Numpy_Exercises.ipynb)"
      ]
    },
    {
      "metadata": {
        "id": "a_4UupTr9fbX",
        "colab_type": "text"
      },
      "cell_type": "markdown",
      "source": [
        "# Numpy Exercises\n",
        "\n",
        "1) Create a uniform subdivision of the interval -1.3 to 2.5 with 64 subdivisions"
      ]
    },
    {
      "metadata": {
        "id": "LIP5u4zi0Nmg",
        "colab_type": "code",
        "colab": {
          "base_uri": "https://localhost:8080/",
          "height": 202
        },
        "outputId": "e898ba19-3d68-4d2b-f416-e466fad52651"
      },
      "cell_type": "code",
      "source": [
        "import numpy as np #import numpy\n",
        "x = np.linspace(-1.3, 2.5, 64)\n",
        "print(x)"
      ],
      "execution_count": 0,
      "outputs": [
        {
          "output_type": "stream",
          "text": [
            "[-1.3        -1.23968254 -1.17936508 -1.11904762 -1.05873016 -0.9984127\n",
            " -0.93809524 -0.87777778 -0.81746032 -0.75714286 -0.6968254  -0.63650794\n",
            " -0.57619048 -0.51587302 -0.45555556 -0.3952381  -0.33492063 -0.27460317\n",
            " -0.21428571 -0.15396825 -0.09365079 -0.03333333  0.02698413  0.08730159\n",
            "  0.14761905  0.20793651  0.26825397  0.32857143  0.38888889  0.44920635\n",
            "  0.50952381  0.56984127  0.63015873  0.69047619  0.75079365  0.81111111\n",
            "  0.87142857  0.93174603  0.99206349  1.05238095  1.11269841  1.17301587\n",
            "  1.23333333  1.29365079  1.35396825  1.41428571  1.47460317  1.53492063\n",
            "  1.5952381   1.65555556  1.71587302  1.77619048  1.83650794  1.8968254\n",
            "  1.95714286  2.01746032  2.07777778  2.13809524  2.1984127   2.25873016\n",
            "  2.31904762  2.37936508  2.43968254  2.5       ]\n"
          ],
          "name": "stdout"
        }
      ]
    },
    {
      "metadata": {
        "id": "dBoH_A7M9jjL",
        "colab_type": "text"
      },
      "cell_type": "markdown",
      "source": [
        "2) Generate an array of length 3n filled with the cyclic pattern 1, 2, 3"
      ]
    },
    {
      "metadata": {
        "id": "4TxT66309n1o",
        "colab_type": "code",
        "colab": {
          "base_uri": "https://localhost:8080/",
          "height": 84
        },
        "outputId": "2822e9a3-7b7f-494c-fb33-0122354a9a35"
      },
      "cell_type": "code",
      "source": [
        "import numpy as np #import numpy\n",
        "n = int(input(\"Enter Array Length: \"))\n",
        "m = 3 * n\n",
        "\n",
        "x = np.array([1,2,3])\n",
        "y = np.resize(x, m)\n",
        "\n",
        "print(y)"
      ],
      "execution_count": 0,
      "outputs": [
        {
          "output_type": "stream",
          "text": [
            "Enter Array Length: 30\n",
            "[1 2 3 1 2 3 1 2 3 1 2 3 1 2 3 1 2 3 1 2 3 1 2 3 1 2 3 1 2 3 1 2 3 1 2 3 1\n",
            " 2 3 1 2 3 1 2 3 1 2 3 1 2 3 1 2 3 1 2 3 1 2 3 1 2 3 1 2 3 1 2 3 1 2 3 1 2\n",
            " 3 1 2 3 1 2 3 1 2 3 1 2 3 1 2 3]\n"
          ],
          "name": "stdout"
        }
      ]
    },
    {
      "metadata": {
        "id": "Vh-UKizx9oTp",
        "colab_type": "text"
      },
      "cell_type": "markdown",
      "source": [
        "3) Create an array of the first 10 odd integers."
      ]
    },
    {
      "metadata": {
        "id": "ebhEUZq29r32",
        "colab_type": "code",
        "colab": {
          "base_uri": "https://localhost:8080/",
          "height": 34
        },
        "outputId": "5bdad082-a2cd-4c31-e0c6-dcc589bd09c3"
      },
      "cell_type": "code",
      "source": [
        "import numpy as np\n",
        "b = np.arange(20)\n",
        "\n",
        "mask = b%2!=0 #perform computations on the list \n",
        "\n",
        "print(b[mask]) #applying the mask on the numpy array"
      ],
      "execution_count": 0,
      "outputs": [
        {
          "output_type": "stream",
          "text": [
            "[ 1  3  5  7  9 11 13 15 17 19]\n"
          ],
          "name": "stdout"
        }
      ]
    },
    {
      "metadata": {
        "id": "QfJRdMat90f4",
        "colab_type": "text"
      },
      "cell_type": "markdown",
      "source": [
        "4) Find intersection of a and b"
      ]
    },
    {
      "metadata": {
        "id": "gOlfuJCo-JwF",
        "colab_type": "code",
        "colab": {
          "base_uri": "https://localhost:8080/",
          "height": 34
        },
        "outputId": "8a69ef7f-b796-496f-a1ac-2aaec7fd176c"
      },
      "cell_type": "code",
      "source": [
        "import numpy as np\n",
        "#expected output array([2, 4])\n",
        "a = np.array([1,2,3,2,3,4,3,4,5,6])\n",
        "b = np.array([7,2,10,2,7,4,9,4,9,8])\n",
        "\n",
        "x = list(set(a) & set(b)) \n",
        "c = np.array(x)\n",
        "print(c)"
      ],
      "execution_count": 0,
      "outputs": [
        {
          "output_type": "stream",
          "text": [
            "[2 4]\n"
          ],
          "name": "stdout"
        }
      ]
    },
    {
      "metadata": {
        "id": "RtVCf0UoCeB8",
        "colab_type": "text"
      },
      "cell_type": "markdown",
      "source": [
        "5) Reshape 1d array a to 2d array of 2X5"
      ]
    },
    {
      "metadata": {
        "id": "2E8b55_2Cjx5",
        "colab_type": "code",
        "colab": {
          "base_uri": "https://localhost:8080/",
          "height": 50
        },
        "outputId": "6bb7d696-2b08-47dd-fc37-59771c638c0c"
      },
      "cell_type": "code",
      "source": [
        "import numpy as np\n",
        "a = np.arange(10).reshape(2,5)\n",
        "print(a)"
      ],
      "execution_count": 0,
      "outputs": [
        {
          "output_type": "stream",
          "text": [
            "[[0 1 2 3 4]\n",
            " [5 6 7 8 9]]\n"
          ],
          "name": "stdout"
        }
      ]
    },
    {
      "metadata": {
        "id": "dVrSBW1zEjp2",
        "colab_type": "text"
      },
      "cell_type": "markdown",
      "source": [
        "6) Create a numpy array to list and vice versa"
      ]
    },
    {
      "metadata": {
        "id": "tcBCyhXPEp9C",
        "colab_type": "code",
        "colab": {
          "base_uri": "https://localhost:8080/",
          "height": 50
        },
        "outputId": "8e4e9117-dd54-49e3-f324-b91c23857e5e"
      },
      "cell_type": "code",
      "source": [
        "import numpy as np\n",
        "a = [1, 2, 3, 4, 5, 6, 7, 8, 9]\n",
        "\n",
        "A_List = list(a);\n",
        "\n",
        "print(A_List)\n",
        "\n",
        "A_Numpy = np.array(A_List)\n",
        "print(A_Numpy)\n"
      ],
      "execution_count": 0,
      "outputs": [
        {
          "output_type": "stream",
          "text": [
            "[1, 2, 3, 4, 5, 6, 7, 8, 9]\n",
            "[1 2 3 4 5 6 7 8 9]\n"
          ],
          "name": "stdout"
        }
      ]
    },
    {
      "metadata": {
        "id": "JNqX8wnz9sQJ",
        "colab_type": "text"
      },
      "cell_type": "markdown",
      "source": [
        "7) Create a 10 x 10 arrays of zeros and then \"frame\" it with a border of ones."
      ]
    },
    {
      "metadata": {
        "id": "4bjP3JAc9vRD",
        "colab_type": "code",
        "colab": {
          "base_uri": "https://localhost:8080/",
          "height": 185
        },
        "outputId": "2e78af9a-134f-4ada-8c0b-362fc6be108f"
      },
      "cell_type": "code",
      "source": [
        "import numpy as np\n",
        "a = np.zeros(shape=(10,10))\n",
        "a[:, 0] = 1.0\n",
        "a[:, 9] = 1.0\n",
        "a[0, :] = 1.0\n",
        "a[9, :] = 1.0\n",
        "\n",
        "print(a)"
      ],
      "execution_count": 0,
      "outputs": [
        {
          "output_type": "stream",
          "text": [
            "[[1. 1. 1. 1. 1. 1. 1. 1. 1. 1.]\n",
            " [1. 0. 0. 0. 0. 0. 0. 0. 0. 1.]\n",
            " [1. 0. 0. 0. 0. 0. 0. 0. 0. 1.]\n",
            " [1. 0. 0. 0. 0. 0. 0. 0. 0. 1.]\n",
            " [1. 0. 0. 0. 0. 0. 0. 0. 0. 1.]\n",
            " [1. 0. 0. 0. 0. 0. 0. 0. 0. 1.]\n",
            " [1. 0. 0. 0. 0. 0. 0. 0. 0. 1.]\n",
            " [1. 0. 0. 0. 0. 0. 0. 0. 0. 1.]\n",
            " [1. 0. 0. 0. 0. 0. 0. 0. 0. 1.]\n",
            " [1. 1. 1. 1. 1. 1. 1. 1. 1. 1.]]\n"
          ],
          "name": "stdout"
        }
      ]
    },
    {
      "metadata": {
        "id": "xaQgf8tT9v-n",
        "colab_type": "text"
      },
      "cell_type": "markdown",
      "source": [
        "8) Create an 8 x 8 array with a checkerboard pattern of zeros and ones using a slicing+striding approach."
      ]
    },
    {
      "metadata": {
        "id": "No7fx0Xy9zEh",
        "colab_type": "code",
        "colab": {
          "base_uri": "https://localhost:8080/",
          "height": 159
        },
        "outputId": "ae3b713d-c250-48ae-ab21-e3933c44852f"
      },
      "cell_type": "code",
      "source": [
        "import numpy as np\n",
        "x = np.zeros(shape=(8,8),dtype=\"int\")\n",
        "#x[:, ::2] = 0.0\n",
        "#x[:, 1::2] = 1.0\n",
        "x[1::2, ::2] = 1\n",
        "x[::2, 1::2] = 1\n",
        "print(x)"
      ],
      "execution_count": 1,
      "outputs": [
        {
          "output_type": "stream",
          "text": [
            "[[0 1 0 1 0 1 0 1]\n",
            " [1 0 1 0 1 0 1 0]\n",
            " [0 1 0 1 0 1 0 1]\n",
            " [1 0 1 0 1 0 1 0]\n",
            " [0 1 0 1 0 1 0 1]\n",
            " [1 0 1 0 1 0 1 0]\n",
            " [0 1 0 1 0 1 0 1]\n",
            " [1 0 1 0 1 0 1 0]]\n"
          ],
          "name": "stdout"
        }
      ]
    }
  ]
}