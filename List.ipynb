{
  "nbformat": 4,
  "nbformat_minor": 0,
  "metadata": {
    "colab": {
      "name": "List",
      "version": "0.3.2",
      "provenance": [],
      "collapsed_sections": [],
      "include_colab_link": true
    },
    "kernelspec": {
      "name": "python3",
      "display_name": "Python 3"
    }
  },
  "cells": [
    {
      "cell_type": "markdown",
      "metadata": {
        "id": "view-in-github",
        "colab_type": "text"
      },
      "source": [
        "[View in Colaboratory](https://colab.research.google.com/github/nabhoneel/Assignment-2/blob/nabhoneel/List.ipynb)"
      ]
    },
    {
      "metadata": {
        "id": "up7nFkrYIbui",
        "colab_type": "code",
        "colab": {}
      },
      "cell_type": "code",
      "source": [
        "import numpy as np"
      ],
      "execution_count": 0,
      "outputs": []
    },
    {
      "metadata": {
        "id": "05f1yqOULgfd",
        "colab_type": "code",
        "colab": {
          "base_uri": "https://localhost:8080/",
          "height": 35
        },
        "outputId": "43184d3e-7abb-471f-e314-1c9c3249308c"
      },
      "cell_type": "code",
      "source": [
        "dummy_list = [5, 6, 1, 2, 3] # random list\n",
        "print(dummy_list)"
      ],
      "execution_count": 7,
      "outputs": [
        {
          "output_type": "stream",
          "text": [
            "[5, 6, 1, 2, 3]\n"
          ],
          "name": "stdout"
        }
      ]
    },
    {
      "metadata": {
        "id": "KZmpEjFgUTS7",
        "colab_type": "code",
        "colab": {
          "base_uri": "https://localhost:8080/",
          "height": 35
        },
        "outputId": "2dbd11ec-866f-4102-9392-1d39e0fca80f"
      },
      "cell_type": "code",
      "source": [
        "print(dummy_list[::-1]) # reversed the random list"
      ],
      "execution_count": 8,
      "outputs": [
        {
          "output_type": "stream",
          "text": [
            "[3, 2, 1, 6, 5]\n"
          ],
          "name": "stdout"
        }
      ]
    },
    {
      "metadata": {
        "id": "jLAMyuBiUZW0",
        "colab_type": "code",
        "colab": {
          "base_uri": "https://localhost:8080/",
          "height": 35
        },
        "outputId": "a1e87b81-8774-4cde-8dd2-16942a94576a"
      },
      "cell_type": "code",
      "source": [
        "dummy_list_2 = [2, 200, 16, 4, 1, 0, 9.45, 45.67, 90, 12.01, 12.02]\n",
        "dummy_list = dummy_list + dummy_list_2 # added dummy_list_2 to original dummy_list\n",
        "print(dummy_list)"
      ],
      "execution_count": 9,
      "outputs": [
        {
          "output_type": "stream",
          "text": [
            "[5, 6, 1, 2, 3, 2, 200, 16, 4, 1, 0, 9.45, 45.67, 90, 12.01, 12.02]\n"
          ],
          "name": "stdout"
        }
      ]
    },
    {
      "metadata": {
        "id": "40h4QgzHUbXi",
        "colab_type": "code",
        "colab": {
          "base_uri": "https://localhost:8080/",
          "height": 35
        },
        "outputId": "4f7b51d7-6a0b-4d19-8a97-08a8aad5828d"
      },
      "cell_type": "code",
      "source": [
        "# frequency of each element in dummy_list\n",
        "dummy_list_keys = list(set(dummy_list))\n",
        "dummy_dict = {x: dummy_list.count(x) for x in dummy_list_keys}\n",
        "\n",
        "# print dummy_dict\n",
        "print(dummy_dict)"
      ],
      "execution_count": 13,
      "outputs": [
        {
          "output_type": "stream",
          "text": [
            "{0: 1, 1: 2, 2: 2, 3: 1, 4: 1, 5: 1, 6: 1, 200: 1, 9.45: 1, 12.01: 1, 45.67: 1, 12.02: 1, 16: 1, 90: 1}\n"
          ],
          "name": "stdout"
        }
      ]
    },
    {
      "metadata": {
        "id": "vHqzUbnoVqkj",
        "colab_type": "code",
        "colab": {
          "base_uri": "https://localhost:8080/",
          "height": 53
        },
        "outputId": "5ac41384-2590-4c6d-9419-1dc3258b3fa7"
      },
      "cell_type": "code",
      "source": [
        "dummy_list.sort() # ascending order sort\n",
        "print(dummy_list)\n",
        "\n",
        "dummy_list.sort(reverse=True) # descending order sort\n",
        "print(dummy_list)"
      ],
      "execution_count": 14,
      "outputs": [
        {
          "output_type": "stream",
          "text": [
            "[0, 1, 1, 2, 2, 3, 4, 5, 6, 9.45, 12.01, 12.02, 16, 45.67, 90, 200]\n",
            "[200, 90, 45.67, 16, 12.02, 12.01, 9.45, 6, 5, 4, 3, 2, 2, 1, 1, 0]\n"
          ],
          "name": "stdout"
        }
      ]
    },
    {
      "metadata": {
        "id": "fOVj9RrbWM7b",
        "colab_type": "code",
        "colab": {
          "base_uri": "https://localhost:8080/",
          "height": 35
        },
        "outputId": "c27fcfcb-2468-4660-fc7c-426544e171e7"
      },
      "cell_type": "code",
      "source": [
        "x = 200\n",
        "dummy_list.remove(x) # remove first occurrence of 'x' in the list\n",
        "print(dummy_list)"
      ],
      "execution_count": 15,
      "outputs": [
        {
          "output_type": "stream",
          "text": [
            "[90, 45.67, 16, 12.02, 12.01, 9.45, 6, 5, 4, 3, 2, 2, 1, 1, 0]\n"
          ],
          "name": "stdout"
        }
      ]
    },
    {
      "metadata": {
        "id": "3QgQK_efW1Aj",
        "colab_type": "code",
        "colab": {
          "base_uri": "https://localhost:8080/",
          "height": 35
        },
        "outputId": "43841b69-1bd5-478e-849e-267651deccbd"
      },
      "cell_type": "code",
      "source": [
        "del dummy_list[4] # delete element at position 4\n",
        "print(dummy_list)"
      ],
      "execution_count": 18,
      "outputs": [
        {
          "output_type": "stream",
          "text": [
            "[90, 45.67, 16, 12.02, 5, 4, 3, 2, 2, 1, 1, 0]\n"
          ],
          "name": "stdout"
        }
      ]
    },
    {
      "metadata": {
        "id": "kM2R32bxXT0K",
        "colab_type": "code",
        "colab": {
          "base_uri": "https://localhost:8080/",
          "height": 171
        },
        "outputId": "d1ca4b44-a5c3-44c8-a850-1ca1dba6400b"
      },
      "cell_type": "code",
      "source": [
        "# attempting to delete element at position length + 1\n",
        "del dummy_list[len(dummy_list) + 1]"
      ],
      "execution_count": 19,
      "outputs": [
        {
          "output_type": "error",
          "ename": "IndexError",
          "evalue": "ignored",
          "traceback": [
            "\u001b[0;31m---------------------------------------------------------------------------\u001b[0m",
            "\u001b[0;31mIndexError\u001b[0m                                Traceback (most recent call last)",
            "\u001b[0;32m<ipython-input-19-f074f3629e57>\u001b[0m in \u001b[0;36m<module>\u001b[0;34m()\u001b[0m\n\u001b[0;32m----> 1\u001b[0;31m \u001b[0;32mdel\u001b[0m \u001b[0mdummy_list\u001b[0m\u001b[0;34m[\u001b[0m\u001b[0mlen\u001b[0m\u001b[0;34m(\u001b[0m\u001b[0mdummy_list\u001b[0m\u001b[0;34m)\u001b[0m \u001b[0;34m+\u001b[0m \u001b[0;36m1\u001b[0m\u001b[0;34m]\u001b[0m\u001b[0;34m\u001b[0m\u001b[0m\n\u001b[0m",
            "\u001b[0;31mIndexError\u001b[0m: list assignment index out of range"
          ]
        }
      ]
    },
    {
      "metadata": {
        "id": "Kh9lTau7XVIM",
        "colab_type": "code",
        "colab": {
          "base_uri": "https://localhost:8080/",
          "height": 35
        },
        "outputId": "8a374a5b-1b9b-4771-dc6f-52729b403e78"
      },
      "cell_type": "code",
      "source": [
        "# cleared the list\n",
        "dummy_list.clear()\n",
        "print(dummy_list)"
      ],
      "execution_count": 20,
      "outputs": [
        {
          "output_type": "stream",
          "text": [
            "[]\n"
          ],
          "name": "stdout"
        }
      ]
    }
  ]
}