{
  "nbformat": 4,
  "nbformat_minor": 0,
  "metadata": {
    "colab": {
      "name": "SoumakMajumdar.ipynb",
      "version": "0.3.2",
      "provenance": []
    },
    "kernelspec": {
      "display_name": "Python 3",
      "language": "python",
      "name": "python3"
    }
  },
  "cells": [
    {
      "metadata": {
        "id": "We_o6hql8gok",
        "colab_type": "text"
      },
      "cell_type": "markdown",
      "source": [
        "# 1. List.ipynb"
      ]
    },
    {
      "metadata": {
        "id": "OEZ_0ZNv8__C",
        "colab_type": "text"
      },
      "cell_type": "markdown",
      "source": [
        "1) Create any random list and assign it to a variable dummy_list"
      ]
    },
    {
      "metadata": {
        "id": "g-p0MKKm9M_p",
        "colab_type": "code",
        "colab": {}
      },
      "cell_type": "code",
      "source": [
        "import random\n",
        "dummy_list = [random.randrange(1, 100) for i in range(0, 10)]"
      ],
      "execution_count": 0,
      "outputs": []
    },
    {
      "metadata": {
        "id": "e6hiWTBI9TXC",
        "colab_type": "text"
      },
      "cell_type": "markdown",
      "source": [
        "2) print dummy_list"
      ]
    },
    {
      "metadata": {
        "id": "BhieMC8TjcGT",
        "colab_type": "code",
        "outputId": "a195b1ae-3948-47e2-fe84-04fe0c56797c",
        "colab": {
          "base_uri": "https://localhost:8080/",
          "height": 35
        }
      },
      "cell_type": "code",
      "source": [
        "print(dummy_list)"
      ],
      "execution_count": 0,
      "outputs": [
        {
          "output_type": "stream",
          "text": [
            "[39, 5, 67, 26, 19, 29, 19, 50, 76, 2]\n"
          ],
          "name": "stdout"
        }
      ]
    },
    {
      "metadata": {
        "id": "R3jTQonb9g_d",
        "colab_type": "text"
      },
      "cell_type": "markdown",
      "source": [
        "3) Reverse dummy_list and print"
      ]
    },
    {
      "metadata": {
        "id": "B56COmb59lqn",
        "colab_type": "code",
        "outputId": "cf6bf9d2-8f81-47ac-a1c9-06a7826aed75",
        "colab": {
          "base_uri": "https://localhost:8080/",
          "height": 35
        }
      },
      "cell_type": "code",
      "source": [
        "dummy_list.reverse()\n",
        "print(dummy_list)"
      ],
      "execution_count": 0,
      "outputs": [
        {
          "output_type": "stream",
          "text": [
            "[2, 76, 50, 19, 29, 19, 26, 67, 5, 39]\n"
          ],
          "name": "stdout"
        }
      ]
    },
    {
      "metadata": {
        "id": "Cqin3HlH9x6y",
        "colab_type": "text"
      },
      "cell_type": "markdown",
      "source": [
        "4) Add the list dummy_list_2 to the previous dummy_list and now print dummy_list"
      ]
    },
    {
      "metadata": {
        "id": "FMkLBulo92bv",
        "colab_type": "code",
        "outputId": "d5ecb5b0-07ee-4adc-8aaa-9107a8e767dc",
        "colab": {
          "base_uri": "https://localhost:8080/",
          "height": 35
        }
      },
      "cell_type": "code",
      "source": [
        "dummy_list_2 = [2, 200, 16, 4, 1, 0, 9.45, 45.67, 90, 12.01, 12.02]\n",
        "dummy_list = dummy_list + dummy_list_2\n",
        "print(dummy_list)"
      ],
      "execution_count": 0,
      "outputs": [
        {
          "output_type": "stream",
          "text": [
            "[2, 76, 50, 19, 29, 19, 26, 67, 5, 39, 2, 200, 16, 4, 1, 0, 9.45, 45.67, 90, 12.01, 12.02]\n"
          ],
          "name": "stdout"
        }
      ]
    },
    {
      "metadata": {
        "id": "q7bI8OVw9-WQ",
        "colab_type": "text"
      },
      "cell_type": "markdown",
      "source": [
        "5) Create a dictionary named dummy_dict which contains all the elements of dummy_list as keys and frequency as values."
      ]
    },
    {
      "metadata": {
        "id": "3-q0Sp3J-LVs",
        "colab_type": "code",
        "colab": {}
      },
      "cell_type": "code",
      "source": [
        "dummy_dict = {x:dummy_list.count(x) for x in dummy_list}"
      ],
      "execution_count": 0,
      "outputs": []
    },
    {
      "metadata": {
        "id": "S74Kw8QZ-RXa",
        "colab_type": "text"
      },
      "cell_type": "markdown",
      "source": [
        "6) print dummy_dict"
      ]
    },
    {
      "metadata": {
        "id": "C8xeNq5M-VXY",
        "colab_type": "code",
        "outputId": "c9e3da40-ddca-4bec-8d0f-7281a21748bc",
        "colab": {
          "base_uri": "https://localhost:8080/",
          "height": 55
        }
      },
      "cell_type": "code",
      "source": [
        "print(dummy_dict)"
      ],
      "execution_count": 0,
      "outputs": [
        {
          "output_type": "stream",
          "text": [
            "{2: 2, 76: 1, 50: 1, 19: 2, 29: 1, 26: 1, 67: 1, 5: 1, 39: 1, 200: 1, 16: 1, 4: 1, 1: 1, 0: 1, 9.45: 1, 45.67: 1, 90: 1, 12.01: 1, 12.02: 1}\n"
          ],
          "name": "stdout"
        }
      ]
    },
    {
      "metadata": {
        "id": "BWP77cut-aza",
        "colab_type": "text"
      },
      "cell_type": "markdown",
      "source": [
        "7) Sort dummy_list in ascending order as well as descending order and print the changed lists"
      ]
    },
    {
      "metadata": {
        "id": "Vw-vxKsl-ham",
        "colab_type": "code",
        "outputId": "9137d347-df48-4cd1-a991-bce3f74dab35",
        "colab": {
          "base_uri": "https://localhost:8080/",
          "height": 53
        }
      },
      "cell_type": "code",
      "source": [
        "dummy_list.sort()\n",
        "print(dummy_list)\n",
        "dummy_list.reverse()\n",
        "print(dummy_list)"
      ],
      "execution_count": 0,
      "outputs": [
        {
          "output_type": "stream",
          "text": [
            "[0, 1, 2, 2, 4, 5, 9.45, 12.01, 12.02, 16, 19, 19, 26, 29, 39, 45.67, 50, 67, 76, 90, 200]\n",
            "[200, 90, 76, 67, 50, 45.67, 39, 29, 26, 19, 19, 16, 12.02, 12.01, 9.45, 5, 4, 2, 2, 1, 0]\n"
          ],
          "name": "stdout"
        }
      ]
    },
    {
      "metadata": {
        "id": "z83oTzSh-pLr",
        "colab_type": "text"
      },
      "cell_type": "markdown",
      "source": [
        "8) Remove the first item from the list whose value is equal to x. It raises a ValueError if there is no such item."
      ]
    },
    {
      "metadata": {
        "id": "x5DCJFyN-u0W",
        "colab_type": "code",
        "colab": {}
      },
      "cell_type": "code",
      "source": [
        "x = 200\n",
        "dummy_list.remove(x)"
      ],
      "execution_count": 0,
      "outputs": []
    },
    {
      "metadata": {
        "id": "MIHHQ74xDbTm",
        "colab_type": "code",
        "outputId": "07fac2f9-8bde-41bc-9c36-039c58ae0d69",
        "colab": {
          "base_uri": "https://localhost:8080/",
          "height": 187
        }
      },
      "cell_type": "code",
      "source": [
        "x = 500\n",
        "dummy_list.remove(x)"
      ],
      "execution_count": 0,
      "outputs": [
        {
          "output_type": "error",
          "ename": "ValueError",
          "evalue": "ignored",
          "traceback": [
            "\u001b[0;31m---------------------------------------------------------------------------\u001b[0m",
            "\u001b[0;31mValueError\u001b[0m                                Traceback (most recent call last)",
            "\u001b[0;32m<ipython-input-8-1db950982bb8>\u001b[0m in \u001b[0;36m<module>\u001b[0;34m()\u001b[0m\n\u001b[1;32m      1\u001b[0m \u001b[0mx\u001b[0m \u001b[0;34m=\u001b[0m \u001b[0;36m500\u001b[0m\u001b[0;34m\u001b[0m\u001b[0m\n\u001b[0;32m----> 2\u001b[0;31m \u001b[0mdummy_list\u001b[0m\u001b[0;34m.\u001b[0m\u001b[0mremove\u001b[0m\u001b[0;34m(\u001b[0m\u001b[0mx\u001b[0m\u001b[0;34m)\u001b[0m\u001b[0;34m\u001b[0m\u001b[0m\n\u001b[0m",
            "\u001b[0;31mValueError\u001b[0m: list.remove(x): x not in list"
          ]
        }
      ]
    },
    {
      "metadata": {
        "id": "Ms1rV1Kp-0aw",
        "colab_type": "text"
      },
      "cell_type": "markdown",
      "source": [
        "9) Remove the item at position x. x is any random integer"
      ]
    },
    {
      "metadata": {
        "id": "6kQ0W2tb-6ay",
        "colab_type": "code",
        "outputId": "e29d4f42-e757-480c-dcf3-c0c02cba99a1",
        "colab": {
          "base_uri": "https://localhost:8080/",
          "height": 35
        }
      },
      "cell_type": "code",
      "source": [
        "import random\n",
        "x = random.randint(0, len(dummy_list))\n",
        "dummy_list.pop(x)"
      ],
      "execution_count": 0,
      "outputs": [
        {
          "output_type": "execute_result",
          "data": {
            "text/plain": [
              "12.02"
            ]
          },
          "metadata": {
            "tags": []
          },
          "execution_count": 10
        }
      ]
    },
    {
      "metadata": {
        "id": "Yfn3_dFk_Brd",
        "colab_type": "text"
      },
      "cell_type": "markdown",
      "source": [
        "10) Let's clean everything clear the list and then print"
      ]
    },
    {
      "metadata": {
        "id": "Yq-9MvEIAPir",
        "colab_type": "code",
        "outputId": "b67f147b-c41b-4d04-e123-29d2a544067e",
        "colab": {
          "base_uri": "https://localhost:8080/",
          "height": 53
        }
      },
      "cell_type": "code",
      "source": [
        "del dummy_list[:]\n",
        "del dummy_list_2[:]\n",
        "print(dummy_list)\n",
        "print(dummy_list_2)"
      ],
      "execution_count": 0,
      "outputs": [
        {
          "output_type": "stream",
          "text": [
            "[]\n",
            "[]\n"
          ],
          "name": "stdout"
        }
      ]
    },
    {
      "metadata": {
        "id": "AIxl-MPg1MXY",
        "colab_type": "text"
      },
      "cell_type": "markdown",
      "source": [
        "# 2. Numpy Examples"
      ]
    },
    {
      "metadata": {
        "id": "9wH5oRrK1m1B",
        "colab_type": "text"
      },
      "cell_type": "markdown",
      "source": [
        "**Import numpy**"
      ]
    },
    {
      "metadata": {
        "id": "5ThA-zrB137_",
        "colab_type": "code",
        "colab": {}
      },
      "cell_type": "code",
      "source": [
        "import numpy as np"
      ],
      "execution_count": 0,
      "outputs": []
    },
    {
      "metadata": {
        "id": "lH1qXvok2FaR",
        "colab_type": "text"
      },
      "cell_type": "markdown",
      "source": [
        "**Create numpy arrays**"
      ]
    },
    {
      "metadata": {
        "id": "NFMXc1nl2Ulq",
        "colab_type": "code",
        "colab": {}
      },
      "cell_type": "code",
      "source": [
        "a = np.array([1, 2, 3])   # Create a rank 1 array\n",
        "#print(a)\n",
        "#print(type(a)) #print type of a\n",
        "\n",
        "b = np.array([[1,2,3],[4,5,6]])    # Create a rank 2 array\n",
        "#print(b.shape)                     # Prints \"(2, 3)\"\n",
        "#print(b[0, 0], b[0, 1], b[1, 0])"
      ],
      "execution_count": 0,
      "outputs": []
    },
    {
      "metadata": {
        "id": "0mHWPPoS2a5o",
        "colab_type": "text"
      },
      "cell_type": "markdown",
      "source": [
        "**Some basic functions for creating arrays. Print all the defined arrays and see the results.**"
      ]
    },
    {
      "metadata": {
        "id": "z2QXSXZL2w5C",
        "colab_type": "code",
        "colab": {}
      },
      "cell_type": "code",
      "source": [
        "a = np.zeros(shape=(2,2))\n",
        "b = np.ones(shape = (3,3))\n",
        "c = np.eye(2)\n",
        "d = np.full(shape=(3,3), fill_value=5)\n",
        "e = np.random.random((2,2))\n",
        "\n",
        "#print('a', a)\n",
        "#print('b',b)\n",
        "#print('c',c)\n",
        "#print('d',d)\n",
        "#print('e',e)"
      ],
      "execution_count": 0,
      "outputs": []
    },
    {
      "metadata": {
        "id": "MUe2CFpb2y1z",
        "colab_type": "text"
      },
      "cell_type": "markdown",
      "source": [
        "**Execute and understand :)**"
      ]
    },
    {
      "metadata": {
        "id": "yGd7XA8I28mQ",
        "colab_type": "code",
        "colab": {
          "base_uri": "https://localhost:8080/",
          "height": 102
        },
        "outputId": "6abe5dac-b31d-43f0-c5d0-fcca6e60c3bb"
      },
      "cell_type": "code",
      "source": [
        "a  ==  np.arange(10)\n",
        "b  ==  np.linspace(0,10, num=6)\n",
        "#print(a)\n",
        "#print(b)"
      ],
      "execution_count": 6,
      "outputs": [
        {
          "output_type": "stream",
          "text": [
            "/usr/local/lib/python3.6/dist-packages/ipykernel_launcher.py:1: DeprecationWarning: elementwise == comparison failed; this will raise an error in the future.\n",
            "  \"\"\"Entry point for launching an IPython kernel.\n",
            "/usr/local/lib/python3.6/dist-packages/ipykernel_launcher.py:2: DeprecationWarning: elementwise == comparison failed; this will raise an error in the future.\n",
            "  \n"
          ],
          "name": "stderr"
        },
        {
          "output_type": "execute_result",
          "data": {
            "text/plain": [
              "False"
            ]
          },
          "metadata": {
            "tags": []
          },
          "execution_count": 6
        }
      ]
    },
    {
      "metadata": {
        "id": "Hcr8xOtI3HVH",
        "colab_type": "text"
      },
      "cell_type": "markdown",
      "source": [
        "**Array Indexing**"
      ]
    },
    {
      "metadata": {
        "id": "GwYZnJQs3NUZ",
        "colab_type": "code",
        "colab": {}
      },
      "cell_type": "code",
      "source": [
        "a = np.array([[1,2,3,4], [5,6,7,8], [9,10,11,12]])\n",
        "\n",
        "# Use slicing to pull out the subarray consisting of the first 2 rows\n",
        "# and columns 1 and 2; b is the following array of shape (2, 2):\n",
        "# [[2 3]\n",
        "#  [6 7]]\n",
        "b = a[:2, 1:3]\n",
        "\n",
        "# A slice of an array is a view into the same data, so modifying it\n",
        "# will modify the original array.\n",
        "\n",
        "#print(a[0, 1])   # Prints \"2\"\n",
        "\n",
        "b[0, 0] = 77     # b[0, 0] is the same piece of data as a[0, 1]\n",
        "#print(a[0, 1])   # Prints \"77\""
      ],
      "execution_count": 0,
      "outputs": []
    },
    {
      "metadata": {
        "id": "9l_1WSxO3SAI",
        "colab_type": "text"
      },
      "cell_type": "markdown",
      "source": [
        "**Slicing**"
      ]
    },
    {
      "metadata": {
        "id": "aoAL0fZU3WkL",
        "colab_type": "code",
        "colab": {}
      },
      "cell_type": "code",
      "source": [
        "a = np.array([[1,2,3,4], [5,6,7,8], [9,10,11,12]])\n",
        "\n",
        "row_r1 = a[1, :]    # Rank 1 view of the second row of a\n",
        "row_r2 = a[1:2, :]  # Rank 2 view of the second row of a\n",
        "\n",
        "#print(row_r1, row_r1.shape)  # Prints \"[5 6 7 8] (4,)\"\n",
        "#print(row_r2, row_r2.shape)  # Prints \"[[5 6 7 8]] (1, 4)\"\n",
        "\n",
        "col_r1 = a[:, 1]\n",
        "col_r2 = a[:, 1:2]\n",
        "\n",
        "#print(col_r1, col_r1.shape)  # Prints \"[ 2  6 10] (3,)\"\n",
        "#print(col_r2, col_r2.shape)"
      ],
      "execution_count": 0,
      "outputs": []
    },
    {
      "metadata": {
        "id": "e0IxT5HA3aft",
        "colab_type": "text"
      },
      "cell_type": "markdown",
      "source": [
        "**Arithmetic Operation**"
      ]
    },
    {
      "metadata": {
        "id": "pKP85uHf3fcu",
        "colab_type": "code",
        "colab": {}
      },
      "cell_type": "code",
      "source": [
        "x = np.array([[1,2],[3,4]])\n",
        "\n",
        "#print(np.sum(x))  # Compute sum of all elements; prints \"10\"\n",
        "#print(np.sum(x, axis=0))  # Compute sum of each column; prints \"[4 6]\"\n",
        "#print(np.sum(x, axis=1))  # Compute sum of each row; prints \"[3 7]\""
      ],
      "execution_count": 0,
      "outputs": []
    },
    {
      "metadata": {
        "id": "XHFKTifE3lsx",
        "colab_type": "text"
      },
      "cell_type": "markdown",
      "source": [
        "**Using Boolean Mask**"
      ]
    },
    {
      "metadata": {
        "id": "3YapT-gJ3lAp",
        "colab_type": "code",
        "colab": {}
      },
      "cell_type": "code",
      "source": [
        "b = np.arange(10)\n",
        "\n",
        "#print(b)\n",
        "\n",
        "mask = b%2!=0 #perform computations on the list \n",
        "\n",
        "#print(mask)\n",
        "\n",
        "#print(b[mask]) #applying the mask on the numpy array"
      ],
      "execution_count": 0,
      "outputs": []
    },
    {
      "metadata": {
        "id": "SiQ6Vk823zKP",
        "colab_type": "code",
        "colab": {}
      },
      "cell_type": "code",
      "source": [
        "modified_b = b\n",
        "modified_b[mask] = -1\n",
        "\n",
        "#print(modified_b)"
      ],
      "execution_count": 0,
      "outputs": []
    },
    {
      "metadata": {
        "id": "oEQvHd4-32mY",
        "colab_type": "text"
      },
      "cell_type": "markdown",
      "source": [
        "**Swapping two columns in a 2d numpy array**"
      ]
    },
    {
      "metadata": {
        "id": "qZdNOOdi33NG",
        "colab_type": "code",
        "colab": {}
      },
      "cell_type": "code",
      "source": [
        "a = np.arange(9).reshape(3,3)\n",
        "#print(a)\n",
        "\n",
        "#print(a[:, [1,0,2]])"
      ],
      "execution_count": 0,
      "outputs": []
    },
    {
      "metadata": {
        "id": "QC4RiFJD4C_B",
        "colab_type": "text"
      },
      "cell_type": "markdown",
      "source": [
        "**Swapping two rows in a 2d numpy array**"
      ]
    },
    {
      "metadata": {
        "id": "X0DZGZdZ4Cv2",
        "colab_type": "code",
        "colab": {}
      },
      "cell_type": "code",
      "source": [
        "a = np.arange(9).reshape(3,3)\n",
        "#print(a)\n",
        "\n",
        "#print(arr[[1,0,2], :])"
      ],
      "execution_count": 0,
      "outputs": []
    },
    {
      "metadata": {
        "id": "CQhmXoeU5jrI",
        "colab_type": "text"
      },
      "cell_type": "markdown",
      "source": [
        "# 3. Numpy Exercises.ipynb"
      ]
    },
    {
      "metadata": {
        "id": "a_4UupTr9fbX",
        "colab_type": "text"
      },
      "cell_type": "markdown",
      "source": [
        "1) Create a uniform subdivision of the interval -1.3 to 2.5 with 64 subdivisions"
      ]
    },
    {
      "metadata": {
        "id": "RgNYMPQ56LEP",
        "colab_type": "code",
        "colab": {}
      },
      "cell_type": "code",
      "source": [
        "import numpy as np\n",
        "a = np.linspace(-1.3, 2.5, num = 64)\n",
        "#print(a)"
      ],
      "execution_count": 0,
      "outputs": []
    },
    {
      "metadata": {
        "id": "dBoH_A7M9jjL",
        "colab_type": "text"
      },
      "cell_type": "markdown",
      "source": [
        "2) Generate an array of length 3n filled with the cyclic pattern 1, 2, 3"
      ]
    },
    {
      "metadata": {
        "id": "9JI6WCW27TJr",
        "colab_type": "code",
        "outputId": "14eed5c8-1fb4-45ef-9590-6b5608ad4f12",
        "colab": {
          "base_uri": "https://localhost:8080/",
          "height": 35
        }
      },
      "cell_type": "code",
      "source": [
        "x = np.array([1, 2, 3])\n",
        "n = int(input(\"Enter value of n\"))\n",
        "x =np.resize(x, (3*n))\n",
        "#print(x)"
      ],
      "execution_count": 0,
      "outputs": [
        {
          "output_type": "stream",
          "text": [
            "Enter value of n3\n"
          ],
          "name": "stdout"
        }
      ]
    },
    {
      "metadata": {
        "id": "Vh-UKizx9oTp",
        "colab_type": "text"
      },
      "cell_type": "markdown",
      "source": [
        "3) Create an array of the first 10 odd integers."
      ]
    },
    {
      "metadata": {
        "id": "PI5R4_FDEK-9",
        "colab_type": "code",
        "colab": {}
      },
      "cell_type": "code",
      "source": [
        "b = np.arange(20)\n",
        "mask = b%2!=0\n",
        "b = b[mask]\n",
        "#print(b)"
      ],
      "execution_count": 0,
      "outputs": []
    },
    {
      "metadata": {
        "id": "QfJRdMat90f4",
        "colab_type": "text"
      },
      "cell_type": "markdown",
      "source": [
        "4) Find intersection of a and b"
      ]
    },
    {
      "metadata": {
        "id": "VAcCKxlW87dU",
        "colab_type": "code",
        "colab": {}
      },
      "cell_type": "code",
      "source": [
        "a = np.array([1,2,3,2,3,4,3,4,5,6])\n",
        "b = np.array([7,2,10,2,7,4,9,4,9,8])\n",
        "inter = []\n",
        "n = 0\n",
        "for i in range(len(a)):\n",
        "  for j in range(len(b)):\n",
        "    if(a[i] == b[j]):\n",
        "      for k in range(len(inter)):\n",
        "        if(a[i] == inter[k]):\n",
        "          n = n + 1\n",
        "      if(n == 0):\n",
        "          inter.append(a[i]) \n",
        "      n = 0\n",
        "#print(inter)    "
      ],
      "execution_count": 0,
      "outputs": []
    },
    {
      "metadata": {
        "id": "RtVCf0UoCeB8",
        "colab_type": "text"
      },
      "cell_type": "markdown",
      "source": [
        "5) Reshape 1d array a to 2d array of 2X5"
      ]
    },
    {
      "metadata": {
        "id": "MUHUKvmkIQGN",
        "colab_type": "code",
        "colab": {}
      },
      "cell_type": "code",
      "source": [
        "a = np.arange(10)\n",
        "b = np.reshape(a, (2, 5))\n",
        "#print(b)"
      ],
      "execution_count": 0,
      "outputs": []
    },
    {
      "metadata": {
        "id": "dVrSBW1zEjp2",
        "colab_type": "text"
      },
      "cell_type": "markdown",
      "source": [
        "6) Create a numpy array to list and vice versa"
      ]
    },
    {
      "metadata": {
        "id": "AQy1NoABL5x-",
        "colab_type": "code",
        "colab": {}
      },
      "cell_type": "code",
      "source": [
        "a = [1, 2, 3, 4, 5, 6, 7, 8, 9]\n",
        "a = np.asarray(a)\n",
        "#print(a)\n",
        "a = a.tolist()\n",
        "#print(a)"
      ],
      "execution_count": 0,
      "outputs": []
    },
    {
      "metadata": {
        "id": "JNqX8wnz9sQJ",
        "colab_type": "text"
      },
      "cell_type": "markdown",
      "source": [
        "7) Create a 10 x 10 arrays of zeros and then \"frame\" it with a border of ones."
      ]
    },
    {
      "metadata": {
        "id": "B2TgT8dPNXlF",
        "colab_type": "code",
        "colab": {}
      },
      "cell_type": "code",
      "source": [
        "a = np.zeros(shape=(10,10))\n",
        "#print(a)\n",
        "a[0, 0:10] = 1\n",
        "a[9, 0:10] = 1\n",
        "a[0:10, 9] = 1\n",
        "a[0:10, 0] = 1\n",
        "#print(a)"
      ],
      "execution_count": 0,
      "outputs": []
    },
    {
      "metadata": {
        "id": "xaQgf8tT9v-n",
        "colab_type": "text"
      },
      "cell_type": "markdown",
      "source": [
        "8) Create an 8 x 8 array with a checkerboard pattern of zeros and ones using a slicing+striding approach."
      ]
    },
    {
      "metadata": {
        "id": "s6O8YqDmQvkV",
        "colab_type": "code",
        "colab": {}
      },
      "cell_type": "code",
      "source": [
        "a = np.zeros(shape=(8, 8)) \n",
        "a[1::2, ::2] = 1\n",
        "a[::2, 1::2] = 1\n",
        "#print(a)"
      ],
      "execution_count": 0,
      "outputs": []
    }
  ]
}