{
  "nbformat": 4,
  "nbformat_minor": 0,
  "metadata": {
    "colab": {
      "name": "List_Exercise.ipynb",
      "version": "0.3.2",
      "provenance": [],
      "include_colab_link": true
    },
    "kernelspec": {
      "name": "python3",
      "display_name": "Python 3"
    }
  },
  "cells": [
    {
      "cell_type": "markdown",
      "metadata": {
        "id": "view-in-github",
        "colab_type": "text"
      },
      "source": [
        "[View in Colaboratory](https://colab.research.google.com/github/Sensrdt/Assignment-2/blob/Sensrdt/List_Exercise.ipynb)"
      ]
    },
    {
      "metadata": {
        "id": "MfX298rE56kL",
        "colab_type": "code",
        "colab": {}
      },
      "cell_type": "code",
      "source": [
        "import random \n",
        "  \n",
        "def Rand(start, end, num): \n",
        "    res = [] \n",
        "  \n",
        "    for j in range(num): \n",
        "      res.append(random.randint(start, end)) \n",
        "  \n",
        "    return res \n",
        "   \n",
        "num = 10\n",
        "start = 20\n",
        "end = 40\n",
        "dummy_list = Rand(start, end, num)"
      ],
      "execution_count": 0,
      "outputs": []
    },
    {
      "metadata": {
        "id": "i-HTcXqJ6MbM",
        "colab_type": "code",
        "colab": {
          "base_uri": "https://localhost:8080/",
          "height": 34
        },
        "outputId": "8dd5aa41-bf72-47a1-ccf3-570fdafc72b7"
      },
      "cell_type": "code",
      "source": [
        "print(dummy_list)"
      ],
      "execution_count": 42,
      "outputs": [
        {
          "output_type": "stream",
          "text": [
            "[33, 24, 38, 21, 30, 20, 30, 33, 20, 37]\n"
          ],
          "name": "stdout"
        }
      ]
    },
    {
      "metadata": {
        "id": "dLfgYjP86Ryn",
        "colab_type": "code",
        "colab": {
          "base_uri": "https://localhost:8080/",
          "height": 34
        },
        "outputId": "17bb287d-7493-44ab-ced6-b5d736be6272"
      },
      "cell_type": "code",
      "source": [
        "dummy_list.reverse()\n",
        "print(dummy_list)"
      ],
      "execution_count": 43,
      "outputs": [
        {
          "output_type": "stream",
          "text": [
            "[37, 20, 33, 30, 20, 30, 21, 38, 24, 33]\n"
          ],
          "name": "stdout"
        }
      ]
    },
    {
      "metadata": {
        "id": "YxUP5I-36ZJH",
        "colab_type": "code",
        "colab": {
          "base_uri": "https://localhost:8080/",
          "height": 34
        },
        "outputId": "cc35423f-7711-41c8-84cc-290ba76ccfd2"
      },
      "cell_type": "code",
      "source": [
        "dummy_list_2 = [2, 200, 16, 4, 1, 0, 9.45, 45.67, 90, 12.01, 12.02]\n",
        "new_dummy_list = dummy_list + dummy_list_2\n",
        "print(new_dummy_list)"
      ],
      "execution_count": 44,
      "outputs": [
        {
          "output_type": "stream",
          "text": [
            "[37, 20, 33, 30, 20, 30, 21, 38, 24, 33, 2, 200, 16, 4, 1, 0, 9.45, 45.67, 90, 12.01, 12.02]\n"
          ],
          "name": "stdout"
        }
      ]
    },
    {
      "metadata": {
        "id": "SeGqrnw_6k16",
        "colab_type": "code",
        "colab": {}
      },
      "cell_type": "code",
      "source": [
        "dummy_dict = {}\n",
        "for i in range(len(dummy_list)):\n",
        "  dummy_dict[dummy_list[i]] = dummy_list.count(dummy_list[i])"
      ],
      "execution_count": 0,
      "outputs": []
    },
    {
      "metadata": {
        "id": "1efG9-Vq6uBm",
        "colab_type": "code",
        "colab": {
          "base_uri": "https://localhost:8080/",
          "height": 34
        },
        "outputId": "106b88f2-6804-46d3-b844-63fba8fd4010"
      },
      "cell_type": "code",
      "source": [
        "print(dummy_dict)"
      ],
      "execution_count": 48,
      "outputs": [
        {
          "output_type": "stream",
          "text": [
            "{37: 1, 20: 2, 33: 2, 30: 2, 21: 1, 38: 1, 24: 1}\n"
          ],
          "name": "stdout"
        }
      ]
    },
    {
      "metadata": {
        "id": "tB02oQJX6wU5",
        "colab_type": "code",
        "colab": {
          "base_uri": "https://localhost:8080/",
          "height": 50
        },
        "outputId": "b60bda95-b893-4b90-c2bc-1c38f45705b0"
      },
      "cell_type": "code",
      "source": [
        "dummy_list.sort()\n",
        "print(dummy_list)\n",
        "dummy_list.sort(reverse = True)\n",
        "print(dummy_list)"
      ],
      "execution_count": 49,
      "outputs": [
        {
          "output_type": "stream",
          "text": [
            "[20, 20, 21, 24, 30, 30, 33, 33, 37, 38]\n",
            "[38, 37, 33, 33, 30, 30, 24, 21, 20, 20]\n"
          ],
          "name": "stdout"
        }
      ]
    },
    {
      "metadata": {
        "id": "aVsxkND767Kb",
        "colab_type": "code",
        "colab": {
          "base_uri": "https://localhost:8080/",
          "height": 229
        },
        "outputId": "b65a30a2-0938-48fa-c0d3-ed3fe4650eb5"
      },
      "cell_type": "code",
      "source": [
        "x = 200\n",
        "for i in range(len(dummy_list)):\n",
        "  if x == dummy_list[i]:\n",
        "    dummy_list.pop(i)\n",
        "    print(dummy_list)\n",
        "    \n",
        "  else:\n",
        "    int(\"MlCC\")\n",
        "   \n",
        " "
      ],
      "execution_count": 51,
      "outputs": [
        {
          "output_type": "error",
          "ename": "ValueError",
          "evalue": "ignored",
          "traceback": [
            "\u001b[0;31m---------------------------------------------------------------------------\u001b[0m",
            "\u001b[0;31mValueError\u001b[0m                                Traceback (most recent call last)",
            "\u001b[0;32m<ipython-input-51-eca239a42809>\u001b[0m in \u001b[0;36m<module>\u001b[0;34m()\u001b[0m\n\u001b[1;32m      6\u001b[0m \u001b[0;34m\u001b[0m\u001b[0m\n\u001b[1;32m      7\u001b[0m   \u001b[0;32melse\u001b[0m\u001b[0;34m:\u001b[0m\u001b[0;34m\u001b[0m\u001b[0m\n\u001b[0;32m----> 8\u001b[0;31m     \u001b[0mint\u001b[0m\u001b[0;34m(\u001b[0m\u001b[0;34m\"MlCC\"\u001b[0m\u001b[0;34m)\u001b[0m\u001b[0;34m\u001b[0m\u001b[0m\n\u001b[0m\u001b[1;32m      9\u001b[0m \u001b[0;34m\u001b[0m\u001b[0m\n\u001b[1;32m     10\u001b[0m \u001b[0;34m\u001b[0m\u001b[0m\n",
            "\u001b[0;31mValueError\u001b[0m: invalid literal for int() with base 10: 'MlCC'"
          ]
        }
      ]
    },
    {
      "metadata": {
        "id": "Ub_GzbFj7Dv_",
        "colab_type": "code",
        "colab": {
          "base_uri": "https://localhost:8080/",
          "height": 50
        },
        "outputId": "60b36d6e-78d2-4c84-910c-6a4ca6bd221b"
      },
      "cell_type": "code",
      "source": [
        "print(dummy_list)\n",
        "#let x = 3 as a test case and removing the value of third index\n",
        "x = 3\n",
        "for i in range(len(dummy_list)):\n",
        "  if x == i:\n",
        "    dummy_list.pop(i)\n",
        "    print(dummy_list)"
      ],
      "execution_count": 52,
      "outputs": [
        {
          "output_type": "stream",
          "text": [
            "[38, 37, 33, 33, 30, 30, 24, 21, 20, 20]\n",
            "[38, 37, 33, 30, 30, 24, 21, 20, 20]\n"
          ],
          "name": "stdout"
        }
      ]
    },
    {
      "metadata": {
        "id": "CsV32n4I-ZAx",
        "colab_type": "code",
        "colab": {
          "base_uri": "https://localhost:8080/",
          "height": 34
        },
        "outputId": "c0964d0a-43a6-4f66-ba14-e637d011a9ff"
      },
      "cell_type": "code",
      "source": [
        "print(dummy_list)"
      ],
      "execution_count": 53,
      "outputs": [
        {
          "output_type": "stream",
          "text": [
            "[38, 37, 33, 30, 30, 24, 21, 20, 20]\n"
          ],
          "name": "stdout"
        }
      ]
    },
    {
      "metadata": {
        "id": "1FCtNSN2_no5",
        "colab_type": "code",
        "colab": {
          "base_uri": "https://localhost:8080/",
          "height": 34
        },
        "outputId": "ed792bb0-3843-40c5-ec27-9b4d11122971"
      },
      "cell_type": "code",
      "source": [
        "del dummy_list[:]\n",
        "print(dummy_list)"
      ],
      "execution_count": 54,
      "outputs": [
        {
          "output_type": "stream",
          "text": [
            "[]\n"
          ],
          "name": "stdout"
        }
      ]
    },
    {
      "metadata": {
        "id": "OZmpoTwmACnd",
        "colab_type": "code",
        "colab": {}
      },
      "cell_type": "code",
      "source": [
        ""
      ],
      "execution_count": 0,
      "outputs": []
    }
  ]
}