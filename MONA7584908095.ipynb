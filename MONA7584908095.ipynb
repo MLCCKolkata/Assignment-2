{
  "nbformat": 4,
  "nbformat_minor": 0,
  "metadata": {
    "colab": {
      "name": "MONA7584908095.ipynb",
      "version": "0.3.2",
      "provenance": [],
      "include_colab_link": true
    },
    "kernelspec": {
      "display_name": "Python 3",
      "language": "python",
      "name": "python3"
    }
  },
  "cells": [
    {
      "cell_type": "markdown",
      "metadata": {
        "id": "view-in-github",
        "colab_type": "text"
      },
      "source": [
        "[View in Colaboratory](https://colab.research.google.com/github/MONA7584908095/Assignment-2/blob/MONA7584908095/MONA7584908095.ipynb)"
      ]
    },
    {
      "metadata": {
        "id": "l__k5Lh_Qp-_",
        "colab_type": "code",
        "colab": {}
      },
      "cell_type": "code",
      "source": [
        " import numpy as np"
      ],
      "execution_count": 0,
      "outputs": []
    },
    {
      "metadata": {
        "id": "CumcatFiShHm",
        "colab_type": "code",
        "colab": {
          "base_uri": "https://localhost:8080/",
          "height": 51
        },
        "outputId": "90ecb97c-627d-4fdf-95bf-aea2b3189510"
      },
      "cell_type": "code",
      "source": [
        "dummy_list_1=[12, 4, 5, 6, 7, 8, 9, 10, 45, 98, 14]\n",
        "dummy_list_2 = [2, 200, 16, 4, 1, 0, 9.45, 45.67, 90, 12.01, 12.02]\n",
        "print (dummy_list_1)\n",
        "print (dummy_list_2)"
      ],
      "execution_count": 1,
      "outputs": [
        {
          "output_type": "stream",
          "text": [
            "[12, 4, 5, 6, 7, 8, 9, 10, 45, 98, 14]\n",
            "[2, 200, 16, 4, 1, 0, 9.45, 45.67, 90, 12.01, 12.02]\n"
          ],
          "name": "stdout"
        }
      ]
    },
    {
      "metadata": {
        "id": "9qkHJzuVSwPW",
        "colab_type": "code",
        "colab": {
          "base_uri": "https://localhost:8080/",
          "height": 34
        },
        "outputId": "2c3990df-6d93-4176-af66-a7650ea0829c"
      },
      "cell_type": "code",
      "source": [
        "dummy_list_2 = [2, 200, 16, 4, 1, 0, 9.45, 45.67, 90, 12.01, 12.02]\n",
        "dummy_list_1=[12, 4, 5, 6, 7, 8, 9, 10, 45, 98, 14]\n",
        "dummy_list=dummy_list_1+dummy_list_2\n",
        "print (dummy_list)\n"
      ],
      "execution_count": 2,
      "outputs": [
        {
          "output_type": "stream",
          "text": [
            "[12, 4, 5, 6, 7, 8, 9, 10, 45, 98, 14, 2, 200, 16, 4, 1, 0, 9.45, 45.67, 90, 12.01, 12.02]\n"
          ],
          "name": "stdout"
        }
      ]
    },
    {
      "metadata": {
        "id": "ZvAw_CLdTBdg",
        "colab_type": "code",
        "colab": {
          "base_uri": "https://localhost:8080/",
          "height": 34
        },
        "outputId": "856029b9-c1de-4088-80f3-94095a054ccb"
      },
      "cell_type": "code",
      "source": [
        "dummy_list_2 = [2, 200, 16, 4, 1, 0, 9.45, 45.67, 90, 12.01, 12.02]\n",
        "dummy_list_1=[12, 4, 5, 6, 7, 8, 9, 10, 45, 98, 14]\n",
        "dummy_list=dummy_list_1+dummy_list_2\n",
        "dummy_list.sort()\n",
        "print (dummy_list)"
      ],
      "execution_count": 3,
      "outputs": [
        {
          "output_type": "stream",
          "text": [
            "[0, 1, 2, 4, 4, 5, 6, 7, 8, 9, 9.45, 10, 12, 12.01, 12.02, 14, 16, 45, 45.67, 90, 98, 200]\n"
          ],
          "name": "stdout"
        }
      ]
    },
    {
      "metadata": {
        "id": "1QASD5O-THeb",
        "colab_type": "code",
        "colab": {
          "base_uri": "https://localhost:8080/",
          "height": 34
        },
        "outputId": "9b137851-9ab3-437e-c453-c9c6b01c91f5"
      },
      "cell_type": "code",
      "source": [
        "import numpy as np\n",
        "dummy_list_2 = [2, 200, 16, 4, 1, 0, 9.45, 45.67, 90, 12.01, 12.02]\n",
        "dummy_list_1=[12, 4, 5, 6, 7, 8, 9, 10, 45, 98, 14]\n",
        "dummy_list=dummy_list_1+dummy_list_2\n",
        "dummy_list.sort()\n",
        "dummy_list.pop()\n",
        "print (dummy_list)"
      ],
      "execution_count": 4,
      "outputs": [
        {
          "output_type": "stream",
          "text": [
            "[0, 1, 2, 4, 4, 5, 6, 7, 8, 9, 9.45, 10, 12, 12.01, 12.02, 14, 16, 45, 45.67, 90, 98]\n"
          ],
          "name": "stdout"
        }
      ]
    },
    {
      "metadata": {
        "id": "2KO1f78VTO_b",
        "colab_type": "code",
        "colab": {
          "base_uri": "https://localhost:8080/",
          "height": 68
        },
        "outputId": "113979df-39ed-4810-9677-c6c01d9da290"
      },
      "cell_type": "code",
      "source": [
        "a = np.array([1, 2, 3])\n",
        "print(a)\n",
        "b = np.array([[1,2,3],[4,5,6]])\n",
        "print(b.shape)        \n",
        "print(b[0, 0], b[0, 1], b[1, 0])"
      ],
      "execution_count": 5,
      "outputs": [
        {
          "output_type": "stream",
          "text": [
            "[1 2 3]\n",
            "(2, 3)\n",
            "1 2 4\n"
          ],
          "name": "stdout"
        }
      ]
    },
    {
      "metadata": {
        "id": "cz3d2zPJTTxe",
        "colab_type": "code",
        "colab": {
          "base_uri": "https://localhost:8080/",
          "height": 221
        },
        "outputId": "f0e381c6-c704-4f9f-9295-93cee7ae4235"
      },
      "cell_type": "code",
      "source": [
        "a = np.zeros(shape=(2,2))\n",
        "b = np.ones(shape = (3,3))\n",
        "c = np.eye(2)\n",
        "d = np.full(shape=(3,3), fill_value=5)\n",
        "e = np.random.random((2,2))\n",
        "\n",
        "print(a)\n",
        "print(b)\n",
        "print(c)\n",
        "print(d)\n",
        "print(e)"
      ],
      "execution_count": 6,
      "outputs": [
        {
          "output_type": "stream",
          "text": [
            "[[0. 0.]\n",
            " [0. 0.]]\n",
            "[[1. 1. 1.]\n",
            " [1. 1. 1.]\n",
            " [1. 1. 1.]]\n",
            "[[1. 0.]\n",
            " [0. 1.]]\n",
            "[[5 5 5]\n",
            " [5 5 5]\n",
            " [5 5 5]]\n",
            "[[0.26047818 0.07837141]\n",
            " [0.93970419 0.25886382]]\n"
          ],
          "name": "stdout"
        }
      ]
    },
    {
      "metadata": {
        "id": "3r8gB16YTazj",
        "colab_type": "code",
        "colab": {
          "base_uri": "https://localhost:8080/",
          "height": 51
        },
        "outputId": "7483ed6d-aab5-42fe-fe65-b51f290b4b91"
      },
      "cell_type": "code",
      "source": [
        "a  =  np.arange(10)\n",
        "b  =  np.linspace(0,10, num=6)\n",
        "print(a)\n",
        "print(b)"
      ],
      "execution_count": 7,
      "outputs": [
        {
          "output_type": "stream",
          "text": [
            "[0 1 2 3 4 5 6 7 8 9]\n",
            "[ 0.  2.  4.  6.  8. 10.]\n"
          ],
          "name": "stdout"
        }
      ]
    },
    {
      "metadata": {
        "id": "G7XRNlIQT3-h",
        "colab_type": "code",
        "colab": {
          "base_uri": "https://localhost:8080/",
          "height": 51
        },
        "outputId": "3fa1a04e-d20f-4e7a-c176-89161c961ef8"
      },
      "cell_type": "code",
      "source": [
        "a = np.array([[1,2,3,4], [5,6,7,8], [9,10,11,12]])\n",
        "b = a[:2, 1:3]\n",
        "print(a[0, 1])  \n",
        "\n",
        "b[0, 0] = 77   \n",
        "print(a[0, 1])"
      ],
      "execution_count": 8,
      "outputs": [
        {
          "output_type": "stream",
          "text": [
            "2\n",
            "77\n"
          ],
          "name": "stdout"
        }
      ]
    },
    {
      "metadata": {
        "id": "uHtGAAptT7Lh",
        "colab_type": "code",
        "colab": {
          "base_uri": "https://localhost:8080/",
          "height": 119
        },
        "outputId": "c7ba9cdc-3e75-4b5e-e706-7542d4322be0"
      },
      "cell_type": "code",
      "source": [
        "a = np.array([[1,2,3,4], [5,6,7,8], [9,10,11,12]])\n",
        "\n",
        "row_r1 = a[1, :]   \n",
        "row_r2 = a[1:2, :] \n",
        "print(row_r1, row_r1.shape)  \n",
        "print(row_r2, row_r2.shape) \n",
        "\n",
        "col_r1 = a[:, 1]\n",
        "col_r2 = a[:, 1:2]\n",
        "\n",
        "print(col_r1, col_r1.shape)  \n",
        "print(col_r2, col_r2.shape)"
      ],
      "execution_count": 9,
      "outputs": [
        {
          "output_type": "stream",
          "text": [
            "[5 6 7 8] (4,)\n",
            "[[5 6 7 8]] (1, 4)\n",
            "[ 2  6 10] (3,)\n",
            "[[ 2]\n",
            " [ 6]\n",
            " [10]] (3, 1)\n"
          ],
          "name": "stdout"
        }
      ]
    },
    {
      "metadata": {
        "id": "yRs33DKQUDzf",
        "colab_type": "code",
        "colab": {
          "base_uri": "https://localhost:8080/",
          "height": 68
        },
        "outputId": "4f4460d8-1594-458f-c360-ed3a44c048cc"
      },
      "cell_type": "code",
      "source": [
        "x = np.array([[1,2],[3,4]])\n",
        "\n",
        "print(np.sum(x)) \n",
        "print(np.sum(x, axis=0)) \n",
        "print(np.sum(x, axis=1)) "
      ],
      "execution_count": 10,
      "outputs": [
        {
          "output_type": "stream",
          "text": [
            "10\n",
            "[4 6]\n",
            "[3 7]\n"
          ],
          "name": "stdout"
        }
      ]
    },
    {
      "metadata": {
        "id": "T00-P1XVUD1y",
        "colab_type": "code",
        "colab": {
          "base_uri": "https://localhost:8080/",
          "height": 68
        },
        "outputId": "008f427f-9144-4cba-8444-b4e24c305f79"
      },
      "cell_type": "code",
      "source": [
        "b = np.arange(10)\n",
        "\n",
        "print(b)\n",
        "\n",
        "mask = b%2!=0 \n",
        "print(mask)\n",
        "print(b[mask])\n"
      ],
      "execution_count": 11,
      "outputs": [
        {
          "output_type": "stream",
          "text": [
            "[0 1 2 3 4 5 6 7 8 9]\n",
            "[False  True False  True False  True False  True False  True]\n",
            "[1 3 5 7 9]\n"
          ],
          "name": "stdout"
        }
      ]
    },
    {
      "metadata": {
        "id": "NCI0FTF3UD5K",
        "colab_type": "code",
        "colab": {
          "base_uri": "https://localhost:8080/",
          "height": 34
        },
        "outputId": "cf399ae1-10cd-4490-a668-ae78b5549210"
      },
      "cell_type": "code",
      "source": [
        "modified_b = b\n",
        "modified_b[mask] = -1\n",
        "print(modified_b)"
      ],
      "execution_count": 12,
      "outputs": [
        {
          "output_type": "stream",
          "text": [
            "[ 0 -1  2 -1  4 -1  6 -1  8 -1]\n"
          ],
          "name": "stdout"
        }
      ]
    },
    {
      "metadata": {
        "id": "83IbAzVNUdVL",
        "colab_type": "code",
        "colab": {
          "base_uri": "https://localhost:8080/",
          "height": 119
        },
        "outputId": "b4a9cf1f-c161-4a5f-9da7-0c76c63b0d1a"
      },
      "cell_type": "code",
      "source": [
        "a = np.arange(9).reshape(3,3)\n",
        "print(a)\n",
        "print(a[:, [1,0,2]])"
      ],
      "execution_count": 13,
      "outputs": [
        {
          "output_type": "stream",
          "text": [
            "[[0 1 2]\n",
            " [3 4 5]\n",
            " [6 7 8]]\n",
            "[[1 0 2]\n",
            " [4 3 5]\n",
            " [7 6 8]]\n"
          ],
          "name": "stdout"
        }
      ]
    },
    {
      "metadata": {
        "id": "LuICdiXgUdXl",
        "colab_type": "code",
        "colab": {
          "base_uri": "https://localhost:8080/",
          "height": 85
        },
        "outputId": "c2326eda-6d41-43ad-9e83-b394dbd7364e"
      },
      "cell_type": "code",
      "source": [
        "a = np.arange(9).reshape(3,3)\n",
        "print(a)\n",
        "print([[1,0,2]])"
      ],
      "execution_count": 14,
      "outputs": [
        {
          "output_type": "stream",
          "text": [
            "[[0 1 2]\n",
            " [3 4 5]\n",
            " [6 7 8]]\n",
            "[[1, 0, 2]]\n"
          ],
          "name": "stdout"
        }
      ]
    },
    {
      "metadata": {
        "id": "0kuweqHbUdcL",
        "colab_type": "code",
        "colab": {
          "base_uri": "https://localhost:8080/",
          "height": 71
        },
        "outputId": "c8c10a5e-1a45-477a-8e06-993607f97750"
      },
      "cell_type": "code",
      "source": [
        "array1=[]\n",
        "diff=(2.5-1.3)/64\n",
        "for i in range(64):\n",
        "    array1.append(1.3+(i*diff))\n",
        "print(array1)\n",
        "print(len(array1))\n"
      ],
      "execution_count": 15,
      "outputs": [
        {
          "output_type": "stream",
          "text": [
            "[1.3, 1.31875, 1.3375000000000001, 1.35625, 1.375, 1.39375, 1.4125, 1.4312500000000001, 1.45, 1.46875, 1.4875, 1.50625, 1.525, 1.54375, 1.5625, 1.58125, 1.6, 1.61875, 1.6375, 1.65625, 1.675, 1.69375, 1.7125, 1.73125, 1.75, 1.76875, 1.7875, 1.80625, 1.8250000000000002, 1.84375, 1.8625, 1.88125, 1.9, 1.9187500000000002, 1.9375, 1.95625, 1.975, 1.99375, 2.0125, 2.03125, 2.05, 2.06875, 2.0875, 2.10625, 2.125, 2.14375, 2.1625, 2.18125, 2.2, 2.21875, 2.2375, 2.25625, 2.275, 2.29375, 2.3125, 2.33125, 2.35, 2.36875, 2.3875, 2.40625, 2.425, 2.44375, 2.4625, 2.48125]\n",
            "64\n"
          ],
          "name": "stdout"
        }
      ]
    },
    {
      "metadata": {
        "id": "Xi05YqvdUdfG",
        "colab_type": "code",
        "colab": {
          "base_uri": "https://localhost:8080/",
          "height": 153
        },
        "outputId": "05284b17-bfd1-46bf-e308-85f831c0edec"
      },
      "cell_type": "code",
      "source": [
        "import numpy as np\n",
        "n=input(\"Enter a no.: \")\n",
        "array1=np.arange(1,3*int(n)+1)\n",
        "print (array1)\n",
        "for j in range(len(array1)):\n",
        "    \n",
        "    c=array1[0]\n",
        "\n",
        "    for i in range(len(array1)-1):\n",
        "    \n",
        "        array1[i]=array1[i+1]\n",
        "\n",
        "    array1[len(array1)-1]=c\n",
        "    print (array1)"
      ],
      "execution_count": 17,
      "outputs": [
        {
          "output_type": "stream",
          "text": [
            "Enter a no.: 2\n",
            "[1 2 3 4 5 6]\n",
            "[2 3 4 5 6 1]\n",
            "[3 4 5 6 1 2]\n",
            "[4 5 6 1 2 3]\n",
            "[5 6 1 2 3 4]\n",
            "[6 1 2 3 4 5]\n",
            "[1 2 3 4 5 6]\n"
          ],
          "name": "stdout"
        }
      ]
    },
    {
      "metadata": {
        "id": "lR3LytRdUwNO",
        "colab_type": "code",
        "colab": {
          "base_uri": "https://localhost:8080/",
          "height": 238
        },
        "outputId": "0fc128f3-6974-47a4-d48e-b5ebd02ed873"
      },
      "cell_type": "code",
      "source": [
        "lower=int(input(\"Enter the lower limit for the range:\"))\n",
        "upper=int(input(\"Enter the upper limit for the range:\"))\n",
        "for i in range(lower,upper+1):\n",
        "    if(i%2!=0):\n",
        "        print(i)"
      ],
      "execution_count": 18,
      "outputs": [
        {
          "output_type": "stream",
          "text": [
            "Enter the lower limit for the range:1\n",
            "Enter the upper limit for the range:21\n",
            "1\n",
            "3\n",
            "5\n",
            "7\n",
            "9\n",
            "11\n",
            "13\n",
            "15\n",
            "17\n",
            "19\n",
            "21\n"
          ],
          "name": "stdout"
        }
      ]
    },
    {
      "metadata": {
        "id": "UFB0j74IU2-K",
        "colab_type": "code",
        "colab": {
          "base_uri": "https://localhost:8080/",
          "height": 34
        },
        "outputId": "4adab402-d414-4738-b9c3-2af78c0cb521"
      },
      "cell_type": "code",
      "source": [
        "set1 = {2, 4, 5, 6}  \n",
        "set2 = {4, 6, 7, 8}   \n",
        "print(\"set1 intersection set2 : \", set1.intersection(set2)) \n",
        " "
      ],
      "execution_count": 19,
      "outputs": [
        {
          "output_type": "stream",
          "text": [
            "set1 intersection set2 :  {4, 6}\n"
          ],
          "name": "stdout"
        }
      ]
    },
    {
      "metadata": {
        "id": "mNBAkgdDU7_V",
        "colab_type": "code",
        "colab": {
          "base_uri": "https://localhost:8080/",
          "height": 85
        },
        "outputId": "8a2b5cb6-4325-4b42-babf-04d6cf082af9"
      },
      "cell_type": "code",
      "source": [
        "from numpy import array\n",
        "data = array([[11, 22, 33],\n",
        "\t\t[44, 55, 66],\n",
        "\t\t[77, 88, 99]])\n",
        "X, y = data[:, :-1], data[:, -1]\n",
        "print(X)\n",
        "print(y)"
      ],
      "execution_count": 20,
      "outputs": [
        {
          "output_type": "stream",
          "text": [
            "[[11 22]\n",
            " [44 55]\n",
            " [77 88]]\n",
            "[33 66 99]\n"
          ],
          "name": "stdout"
        }
      ]
    },
    {
      "metadata": {
        "id": "8VlS5hf9U8vH",
        "colab_type": "code",
        "colab": {
          "base_uri": "https://localhost:8080/",
          "height": 119
        },
        "outputId": "b63fc2e6-381f-4c74-fefd-c855751caf3f"
      },
      "cell_type": "code",
      "source": [
        "import numpy as np\n",
        "import numpy as np\n",
        "x = np.arange(12, 38)\n",
        "print(\"Original array:\")\n",
        "print(x)\n",
        "print(\"Reverse array:\")\n",
        "x = x[::-1]\n",
        "print(x)"
      ],
      "execution_count": 21,
      "outputs": [
        {
          "output_type": "stream",
          "text": [
            "Original array:\n",
            "[12 13 14 15 16 17 18 19 20 21 22 23 24 25 26 27 28 29 30 31 32 33 34 35\n",
            " 36 37]\n",
            "Reverse array:\n",
            "[37 36 35 34 33 32 31 30 29 28 27 26 25 24 23 22 21 20 19 18 17 16 15 14\n",
            " 13 12]\n"
          ],
          "name": "stdout"
        }
      ]
    },
    {
      "metadata": {
        "id": "y8JYP7NjVEqk",
        "colab_type": "code",
        "colab": {
          "base_uri": "https://localhost:8080/",
          "height": 425
        },
        "outputId": "613367f3-e680-44f3-c885-92d8b6ef3a49"
      },
      "cell_type": "code",
      "source": [
        "import numpy as np\n",
        "x = np.zeros((10,10))\n",
        "print(\"Original array:\")\n",
        "print(x)\n",
        "print(\"1 on the border and 0 inside in the array\")\n",
        "x = np.pad(x, pad_width=1, mode='constant', constant_values=1)\n",
        "print(x)"
      ],
      "execution_count": 22,
      "outputs": [
        {
          "output_type": "stream",
          "text": [
            "Original array:\n",
            "[[0. 0. 0. 0. 0. 0. 0. 0. 0. 0.]\n",
            " [0. 0. 0. 0. 0. 0. 0. 0. 0. 0.]\n",
            " [0. 0. 0. 0. 0. 0. 0. 0. 0. 0.]\n",
            " [0. 0. 0. 0. 0. 0. 0. 0. 0. 0.]\n",
            " [0. 0. 0. 0. 0. 0. 0. 0. 0. 0.]\n",
            " [0. 0. 0. 0. 0. 0. 0. 0. 0. 0.]\n",
            " [0. 0. 0. 0. 0. 0. 0. 0. 0. 0.]\n",
            " [0. 0. 0. 0. 0. 0. 0. 0. 0. 0.]\n",
            " [0. 0. 0. 0. 0. 0. 0. 0. 0. 0.]\n",
            " [0. 0. 0. 0. 0. 0. 0. 0. 0. 0.]]\n",
            "1 on the border and 0 inside in the array\n",
            "[[1. 1. 1. 1. 1. 1. 1. 1. 1. 1. 1. 1.]\n",
            " [1. 0. 0. 0. 0. 0. 0. 0. 0. 0. 0. 1.]\n",
            " [1. 0. 0. 0. 0. 0. 0. 0. 0. 0. 0. 1.]\n",
            " [1. 0. 0. 0. 0. 0. 0. 0. 0. 0. 0. 1.]\n",
            " [1. 0. 0. 0. 0. 0. 0. 0. 0. 0. 0. 1.]\n",
            " [1. 0. 0. 0. 0. 0. 0. 0. 0. 0. 0. 1.]\n",
            " [1. 0. 0. 0. 0. 0. 0. 0. 0. 0. 0. 1.]\n",
            " [1. 0. 0. 0. 0. 0. 0. 0. 0. 0. 0. 1.]\n",
            " [1. 0. 0. 0. 0. 0. 0. 0. 0. 0. 0. 1.]\n",
            " [1. 0. 0. 0. 0. 0. 0. 0. 0. 0. 0. 1.]\n",
            " [1. 0. 0. 0. 0. 0. 0. 0. 0. 0. 0. 1.]\n",
            " [1. 1. 1. 1. 1. 1. 1. 1. 1. 1. 1. 1.]]\n"
          ],
          "name": "stdout"
        }
      ]
    },
    {
      "metadata": {
        "id": "n0AlH-OfVMUx",
        "colab_type": "code",
        "colab": {
          "base_uri": "https://localhost:8080/",
          "height": 170
        },
        "outputId": "aa95025a-e1bd-4524-9858-aeddca4d67e3"
      },
      "cell_type": "code",
      "source": [
        "import numpy as np\n",
        "x = np.ones((3,3))\n",
        "print(\"Checkerboard pattern:\")\n",
        "x = np.zeros((8,8),dtype=int)\n",
        "x[1::2,::2] = 1\n",
        "x[::2,1::2] = 1\n",
        "print(x)\n"
      ],
      "execution_count": 23,
      "outputs": [
        {
          "output_type": "stream",
          "text": [
            "Checkerboard pattern:\n",
            "[[0 1 0 1 0 1 0 1]\n",
            " [1 0 1 0 1 0 1 0]\n",
            " [0 1 0 1 0 1 0 1]\n",
            " [1 0 1 0 1 0 1 0]\n",
            " [0 1 0 1 0 1 0 1]\n",
            " [1 0 1 0 1 0 1 0]\n",
            " [0 1 0 1 0 1 0 1]\n",
            " [1 0 1 0 1 0 1 0]]\n"
          ],
          "name": "stdout"
        }
      ]
    }
  ]
}