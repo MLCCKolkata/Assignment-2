{
  "nbformat": 4,
  "nbformat_minor": 0,
  "metadata": {
    "colab": {
      "name": "Sayan46.ipynb",
      "version": "0.3.2",
      "provenance": []
    },
    "kernelspec": {
      "display_name": "Python 3",
      "language": "python",
      "name": "python3"
    }
  },
  "cells": [
    {
      "metadata": {
        "id": "Qe-ZxpUvSb2t",
        "colab_type": "code",
        "colab": {}
      },
      "cell_type": "code",
      "source": [
        "l1=[1,3,5,7,9,8,400,87,93,10]\n",
        "dummy_list=l1[:]"
      ],
      "execution_count": 0,
      "outputs": []
    },
    {
      "metadata": {
        "id": "42Yq3oVuSkcU",
        "colab_type": "code",
        "colab": {
          "base_uri": "https://localhost:8080/",
          "height": 34
        },
        "outputId": "d1390096-158b-4fa9-eba7-0d1bd0e0df99"
      },
      "cell_type": "code",
      "source": [
        "print(dummy_list)"
      ],
      "execution_count": 3,
      "outputs": [
        {
          "output_type": "stream",
          "text": [
            "[1, 3, 5, 7, 9, 8, 400, 87, 93, 10]\n"
          ],
          "name": "stdout"
        }
      ]
    },
    {
      "metadata": {
        "id": "I084a3G7TMOS",
        "colab_type": "code",
        "colab": {
          "base_uri": "https://localhost:8080/",
          "height": 34
        },
        "outputId": "a420aa6c-a023-476a-a614-2dc8ddac3fbc"
      },
      "cell_type": "code",
      "source": [
        "dummy_list.reverse()\n",
        "print(dummy_list)"
      ],
      "execution_count": 4,
      "outputs": [
        {
          "output_type": "stream",
          "text": [
            "[10, 93, 87, 400, 8, 9, 7, 5, 3, 1]\n"
          ],
          "name": "stdout"
        }
      ]
    },
    {
      "metadata": {
        "id": "gP3_OHpFTt76",
        "colab_type": "code",
        "colab": {
          "base_uri": "https://localhost:8080/",
          "height": 34
        },
        "outputId": "c1a288ed-d6be-46ef-d983-0a51fa378dcd"
      },
      "cell_type": "code",
      "source": [
        "dummy_list_2 = [2, 200, 16, 4, 1, 0, 9.45, 45.67, 90, 12.01, 12.02]\n",
        "i = len(l1)\n",
        "i1=0\n",
        "p=len(dummy_list_2)\n",
        "while i1 is not p:\n",
        "    dummy_list.insert(i+i1,dummy_list_2[i1])\n",
        "    i1 += 1\n",
        "print(dummy_list)"
      ],
      "execution_count": 5,
      "outputs": [
        {
          "output_type": "stream",
          "text": [
            "[10, 93, 87, 400, 8, 9, 7, 5, 3, 1, 2, 200, 16, 4, 1, 0, 9.45, 45.67, 90, 12.01, 12.02]\n"
          ],
          "name": "stdout"
        }
      ]
    },
    {
      "metadata": {
        "id": "s0Rt59pvUPov",
        "colab_type": "code",
        "colab": {}
      },
      "cell_type": "code",
      "source": [
        "dummy_dict={}\n",
        "(i,j,c)=(0,0,0)\n",
        "for i in range(len(dummy_list)):\n",
        "    for j in range(len(dummy_list)):\n",
        "        if(dummy_list[j]==dummy_list[i]):\n",
        "            c=c+1\n",
        "    dummy_dict[dummy_list[i]]=c\n",
        "    c=0"
      ],
      "execution_count": 0,
      "outputs": []
    },
    {
      "metadata": {
        "id": "p8Aa_x26Wjsi",
        "colab_type": "code",
        "colab": {
          "base_uri": "https://localhost:8080/",
          "height": 34
        },
        "outputId": "dd8ad13c-e5b7-47f4-e0f3-de019cce5f4d"
      },
      "cell_type": "code",
      "source": [
        "print(dummy_dict)"
      ],
      "execution_count": 7,
      "outputs": [
        {
          "output_type": "stream",
          "text": [
            "{10: 1, 93: 1, 87: 1, 400: 1, 8: 1, 9: 1, 7: 1, 5: 1, 3: 1, 1: 2, 2: 1, 200: 1, 16: 1, 4: 1, 0: 1, 9.45: 1, 45.67: 1, 90: 1, 12.01: 1, 12.02: 1}\n"
          ],
          "name": "stdout"
        }
      ]
    },
    {
      "metadata": {
        "id": "Vw0FfvmeWnOR",
        "colab_type": "code",
        "colab": {
          "base_uri": "https://localhost:8080/",
          "height": 50
        },
        "outputId": "483b1d92-c4d6-4f98-be7f-65cf238fbd96"
      },
      "cell_type": "code",
      "source": [
        "dummy_list.sort()\n",
        "print(dummy_list)\n",
        "dummy_list.sort(reverse=True)\n",
        "print(dummy_list)"
      ],
      "execution_count": 8,
      "outputs": [
        {
          "output_type": "stream",
          "text": [
            "[0, 1, 1, 2, 3, 4, 5, 7, 8, 9, 9.45, 10, 12.01, 12.02, 16, 45.67, 87, 90, 93, 200, 400]\n",
            "[400, 200, 93, 90, 87, 45.67, 16, 12.02, 12.01, 10, 9.45, 9, 8, 7, 5, 4, 3, 2, 1, 1, 0]\n"
          ],
          "name": "stdout"
        }
      ]
    },
    {
      "metadata": {
        "id": "ZhyQieKHj3lL",
        "colab_type": "code",
        "colab": {
          "base_uri": "https://localhost:8080/",
          "height": 34
        },
        "outputId": "d3d7267b-9023-443c-935d-a5ee95ba82d1"
      },
      "cell_type": "code",
      "source": [
        "(x,f,a)=(200,0,0)\n",
        "for a in range(len(dummy_list)):\n",
        "    if(dummy_list[a]==x):\n",
        "        f=1\n",
        "        dummy_list.remove(x)\n",
        "        break\n",
        "if f==0:\n",
        "    print(\"No such integer is present in the list! Please try again ...\")\n"
      ],
      "execution_count": 11,
      "outputs": [
        {
          "output_type": "stream",
          "text": [
            "No such integer is present in the list! Please try again ...\n"
          ],
          "name": "stdout"
        }
      ]
    },
    {
      "metadata": {
        "id": "hZGSnQOOa8nn",
        "colab_type": "code",
        "colab": {}
      },
      "cell_type": "code",
      "source": [
        "x=10\n",
        "del dummy_list[x]"
      ],
      "execution_count": 0,
      "outputs": []
    },
    {
      "metadata": {
        "id": "p7366u_YbDD9",
        "colab_type": "code",
        "colab": {
          "base_uri": "https://localhost:8080/",
          "height": 34
        },
        "outputId": "a2fe3eec-f50b-4d63-fb56-48d24f689541"
      },
      "cell_type": "code",
      "source": [
        "i=len(dummy_list)\n",
        "while i is not 0:\n",
        "    del dummy_list[i-1]\n",
        "    i-=1\n",
        "print(dummy_list)\n",
        "\n"
      ],
      "execution_count": 13,
      "outputs": [
        {
          "output_type": "stream",
          "text": [
            "[]\n"
          ],
          "name": "stdout"
        }
      ]
    }
  ]
}