{
  "nbformat": 4,
  "nbformat_minor": 0,
  "metadata": {
    "colab": {
      "name": "yashyasviagarwal.ipynb",
      "version": "0.3.2",
      "provenance": []
    },
    "kernelspec": {
      "display_name": "Python 3",
      "language": "python",
      "name": "python3"
    }
  },
  "cells": [
    {
      "metadata": {
        "id": "z_AwQhf51-sJ",
        "colab_type": "code",
        "colab": {}
      },
      "cell_type": "code",
      "source": [
        "#Create any random list and assign it to a variable dummy_list\n",
        "dummy_list=[1,2,3,4,6,4,7,8,9,9]"
      ],
      "execution_count": 0,
      "outputs": []
    },
    {
      "metadata": {
        "id": "rMXDmOEz4YHk",
        "colab_type": "code",
        "colab": {
          "base_uri": "https://localhost:8080/",
          "height": 34
        },
        "outputId": "05bace49-0972-45af-d05c-e6ac0eb160b7"
      },
      "cell_type": "code",
      "source": [
        "print(dummy_list)"
      ],
      "execution_count": 8,
      "outputs": [
        {
          "output_type": "stream",
          "text": [
            "[1, 2, 3, 4, 6, 4, 7, 8, 9, 9]\n"
          ],
          "name": "stdout"
        }
      ]
    },
    {
      "metadata": {
        "id": "wgsGO6HB4fwS",
        "colab_type": "code",
        "colab": {
          "base_uri": "https://localhost:8080/",
          "height": 34
        },
        "outputId": "f389b15c-d923-4b9a-be6d-ffb3bc9c0221"
      },
      "cell_type": "code",
      "source": [
        "#Reverse dummy_list and print\n",
        "print(dummy_list[::-1])"
      ],
      "execution_count": 9,
      "outputs": [
        {
          "output_type": "stream",
          "text": [
            "[9, 9, 8, 7, 4, 6, 4, 3, 2, 1]\n"
          ],
          "name": "stdout"
        }
      ]
    },
    {
      "metadata": {
        "id": "PSID_vXJ4pNi",
        "colab_type": "code",
        "colab": {
          "base_uri": "https://localhost:8080/",
          "height": 34
        },
        "outputId": "0e47af73-0a78-4456-ec95-d52dc06f5609"
      },
      "cell_type": "code",
      "source": [
        "#Add the list dummy_list_2 to the previous dummy_list and now print dummy_list\n",
        "dummy_list_2 = [2, 200, 16, 4, 1, 0, 9.45, 45.67, 90, 12.01, 12.02]\n",
        "print(dummy_list+dummy_list_2)"
      ],
      "execution_count": 10,
      "outputs": [
        {
          "output_type": "stream",
          "text": [
            "[1, 2, 3, 4, 6, 4, 7, 8, 9, 9, 2, 200, 16, 4, 1, 0, 9.45, 45.67, 90, 12.01, 12.02]\n"
          ],
          "name": "stdout"
        }
      ]
    },
    {
      "metadata": {
        "id": "9ywagR1s416U",
        "colab_type": "code",
        "colab": {}
      },
      "cell_type": "code",
      "source": [
        "#Create a dictionary named dummy_dict which contains all the elements of dummy_list as keys and frequency as values.\n",
        "dummy_dict = {}\n",
        "for i in dummy_list:\n",
        "        dummy_dict[i] = dummy_list.count(i)"
      ],
      "execution_count": 0,
      "outputs": []
    },
    {
      "metadata": {
        "id": "P-XPAzjS49dG",
        "colab_type": "code",
        "colab": {
          "base_uri": "https://localhost:8080/",
          "height": 34
        },
        "outputId": "c2cfed24-d74c-4eff-ed37-3cede9e3a106"
      },
      "cell_type": "code",
      "source": [
        "print(dummy_dict)"
      ],
      "execution_count": 12,
      "outputs": [
        {
          "output_type": "stream",
          "text": [
            "{1: 1, 2: 1, 3: 1, 4: 2, 6: 1, 7: 1, 8: 1, 9: 2}\n"
          ],
          "name": "stdout"
        }
      ]
    },
    {
      "metadata": {
        "id": "RIjKJW2E5AR7",
        "colab_type": "code",
        "colab": {
          "base_uri": "https://localhost:8080/",
          "height": 51
        },
        "outputId": "477a584f-fbdb-4d51-b7d8-eb73b7def182"
      },
      "cell_type": "code",
      "source": [
        "#Sort dummy_list in ascending order as well as descending order and print the changed lists\n",
        "print(sorted(dummy_list))\n",
        "print(sorted(dummy_list,reverse=True))"
      ],
      "execution_count": 13,
      "outputs": [
        {
          "output_type": "stream",
          "text": [
            "[1, 2, 3, 4, 4, 6, 7, 8, 9, 9]\n",
            "[9, 9, 8, 7, 6, 4, 4, 3, 2, 1]\n"
          ],
          "name": "stdout"
        }
      ]
    },
    {
      "metadata": {
        "id": "mRpMrjSb5Jpo",
        "colab_type": "code",
        "colab": {}
      },
      "cell_type": "code",
      "source": [
        "#Remove the first item from the list whose value is equal to x. It raises a ValueError if there is no such item.\n",
        "x = 9\n",
        "#x=200\n",
        "if x in dummy_list:\n",
        "  dummy_list.remove(x)\n",
        "elif x not in dummy_list:\n",
        "  raise ValueError(\"Element not in list\")\n",
        "# Let's play: try the same with something which is not in the list to get the ValueError"
      ],
      "execution_count": 0,
      "outputs": []
    },
    {
      "metadata": {
        "id": "kYI2WpH45TEa",
        "colab_type": "code",
        "colab": {
          "base_uri": "https://localhost:8080/",
          "height": 51
        },
        "outputId": "f7be4029-2a05-423f-ae89-21199e2b03b6"
      },
      "cell_type": "code",
      "source": [
        "#Remove the item at position x. x is any random integer\n",
        "import random\n",
        "x=random.randrange(0,len(dummy_list))\n",
        "#x=random.randrange(len(dummy_list)+1,len(dummy_list)+10)\n",
        "print(x)\n",
        "dummy_list.remove(dummy_list[x])\n",
        "print(\"the element at\",x,\"has been deleted new list is\", dummy_list)\n",
        "# Let's play: try doing the same with x > len(dummy_list) + 1 and see what you get"
      ],
      "execution_count": 15,
      "outputs": [
        {
          "output_type": "stream",
          "text": [
            "0\n",
            "the element at 0 has been deleted new list is [2, 3, 4, 6, 4, 7, 8, 9]\n"
          ],
          "name": "stdout"
        }
      ]
    },
    {
      "metadata": {
        "id": "wW29DX135bq_",
        "colab_type": "code",
        "colab": {
          "base_uri": "https://localhost:8080/",
          "height": 34
        },
        "outputId": "81b84008-9434-4b8a-bfe3-874777d7b2a8"
      },
      "cell_type": "code",
      "source": [
        "#Let's clean everything clear the list and then print\n",
        "dummy_list.clear()\n",
        "print(dummy_list)"
      ],
      "execution_count": 16,
      "outputs": [
        {
          "output_type": "stream",
          "text": [
            "[]\n"
          ],
          "name": "stdout"
        }
      ]
    },
    {
      "metadata": {
        "id": "ijGUXSIj6gvq",
        "colab_type": "text"
      },
      "cell_type": "markdown",
      "source": [
        "**NUMPY** **EXERCISES**"
      ]
    },
    {
      "metadata": {
        "id": "kN13PEhZ5r2h",
        "colab_type": "code",
        "colab": {
          "base_uri": "https://localhost:8080/",
          "height": 238
        },
        "outputId": "361d14f5-2432-44e2-f6ee-7d1a2a7a46ae"
      },
      "cell_type": "code",
      "source": [
        "#Create a uniform subdivision of the interval -1.3 to 2.5 with 64 subdivisions\n",
        "import numpy as np #import numpy\n",
        "a=np.linspace(-1.3,2.5,num=64)\n",
        "a"
      ],
      "execution_count": 17,
      "outputs": [
        {
          "output_type": "execute_result",
          "data": {
            "text/plain": [
              "array([-1.3       , -1.23968254, -1.17936508, -1.11904762, -1.05873016,\n",
              "       -0.9984127 , -0.93809524, -0.87777778, -0.81746032, -0.75714286,\n",
              "       -0.6968254 , -0.63650794, -0.57619048, -0.51587302, -0.45555556,\n",
              "       -0.3952381 , -0.33492063, -0.27460317, -0.21428571, -0.15396825,\n",
              "       -0.09365079, -0.03333333,  0.02698413,  0.08730159,  0.14761905,\n",
              "        0.20793651,  0.26825397,  0.32857143,  0.38888889,  0.44920635,\n",
              "        0.50952381,  0.56984127,  0.63015873,  0.69047619,  0.75079365,\n",
              "        0.81111111,  0.87142857,  0.93174603,  0.99206349,  1.05238095,\n",
              "        1.11269841,  1.17301587,  1.23333333,  1.29365079,  1.35396825,\n",
              "        1.41428571,  1.47460317,  1.53492063,  1.5952381 ,  1.65555556,\n",
              "        1.71587302,  1.77619048,  1.83650794,  1.8968254 ,  1.95714286,\n",
              "        2.01746032,  2.07777778,  2.13809524,  2.1984127 ,  2.25873016,\n",
              "        2.31904762,  2.37936508,  2.43968254,  2.5       ])"
            ]
          },
          "metadata": {
            "tags": []
          },
          "execution_count": 17
        }
      ]
    },
    {
      "metadata": {
        "id": "LePB0Yqj5_Pl",
        "colab_type": "code",
        "colab": {
          "base_uri": "https://localhost:8080/",
          "height": 51
        },
        "outputId": "a2a29f3d-877a-4b9e-ded9-2fb2e64acc00"
      },
      "cell_type": "code",
      "source": [
        "#Generate an array of length 3n filled with the cyclic pattern 1, 2, 3\n",
        "n=9\n",
        "#use different values of n\n",
        "a=np.arange(1,4)\n",
        "a=np.resize(a,3*n)\n",
        "a"
      ],
      "execution_count": 18,
      "outputs": [
        {
          "output_type": "execute_result",
          "data": {
            "text/plain": [
              "array([1, 2, 3, 1, 2, 3, 1, 2, 3, 1, 2, 3, 1, 2, 3, 1, 2, 3, 1, 2, 3, 1,\n",
              "       2, 3, 1, 2, 3])"
            ]
          },
          "metadata": {
            "tags": []
          },
          "execution_count": 18
        }
      ]
    },
    {
      "metadata": {
        "id": "JUgakOWp6FTj",
        "colab_type": "code",
        "colab": {
          "base_uri": "https://localhost:8080/",
          "height": 34
        },
        "outputId": "756282b6-eb3e-475c-84c2-9de14d551156"
      },
      "cell_type": "code",
      "source": [
        "#Create an array of the first 10 odd integers.\n",
        "odd=np.arange(1,20,2)\n",
        "odd"
      ],
      "execution_count": 19,
      "outputs": [
        {
          "output_type": "execute_result",
          "data": {
            "text/plain": [
              "array([ 1,  3,  5,  7,  9, 11, 13, 15, 17, 19])"
            ]
          },
          "metadata": {
            "tags": []
          },
          "execution_count": 19
        }
      ]
    },
    {
      "metadata": {
        "id": "PtuV-vMc6eKX",
        "colab_type": "code",
        "colab": {
          "base_uri": "https://localhost:8080/",
          "height": 34
        },
        "outputId": "da732f0a-505c-4d79-fc14-07c7c7ea03ed"
      },
      "cell_type": "code",
      "source": [
        "#Find intersection of a and b\n",
        "#expected output array([2, 4])\n",
        "a = np.array([1,2,3,2,3,4,3,4,5,6])\n",
        "b = np.array([7,2,10,2,7,4,9,4,9,8])\n",
        "np.intersect1d(a,b)"
      ],
      "execution_count": 20,
      "outputs": [
        {
          "output_type": "execute_result",
          "data": {
            "text/plain": [
              "array([2, 4])"
            ]
          },
          "metadata": {
            "tags": []
          },
          "execution_count": 20
        }
      ]
    },
    {
      "metadata": {
        "id": "BtfctxG66sty",
        "colab_type": "code",
        "colab": {
          "base_uri": "https://localhost:8080/",
          "height": 51
        },
        "outputId": "95ae70ee-efa7-4bbc-830c-c90333cda24e"
      },
      "cell_type": "code",
      "source": [
        "#Reshape 1d array a to 2d array of 2X5\n",
        "a = np.arange(10)\n",
        "a.reshape(2,5)"
      ],
      "execution_count": 21,
      "outputs": [
        {
          "output_type": "execute_result",
          "data": {
            "text/plain": [
              "array([[0, 1, 2, 3, 4],\n",
              "       [5, 6, 7, 8, 9]])"
            ]
          },
          "metadata": {
            "tags": []
          },
          "execution_count": 21
        }
      ]
    },
    {
      "metadata": {
        "id": "NyiS8tH86xtx",
        "colab_type": "code",
        "colab": {
          "base_uri": "https://localhost:8080/",
          "height": 34
        },
        "outputId": "ea5ee5c0-af97-40bf-9d97-997e7538054f"
      },
      "cell_type": "code",
      "source": [
        "#Create a numpy array to list and vice versa\n",
        "a = [1, 2, 3, 4, 5, 6, 7, 8, 9]\n",
        "a = np.array(a)\n",
        "np.array(a)\n",
        "a.tolist()"
      ],
      "execution_count": 22,
      "outputs": [
        {
          "output_type": "execute_result",
          "data": {
            "text/plain": [
              "[1, 2, 3, 4, 5, 6, 7, 8, 9]"
            ]
          },
          "metadata": {
            "tags": []
          },
          "execution_count": 22
        }
      ]
    },
    {
      "metadata": {
        "id": "Qywlt4Ho64je",
        "colab_type": "code",
        "colab": {
          "base_uri": "https://localhost:8080/",
          "height": 187
        },
        "outputId": "44790a43-7965-46b3-f7d0-0108db45f3d1"
      },
      "cell_type": "code",
      "source": [
        "#Create a 10 x 10 arrays of zeros and then \"frame\" it with a border of ones.\n",
        "arr = np.zeros((10, 10),dtype=int)\n",
        "arr[0:10,::9] = 1\n",
        "arr[::9,0:10] = 1\n",
        "arr"
      ],
      "execution_count": 23,
      "outputs": [
        {
          "output_type": "execute_result",
          "data": {
            "text/plain": [
              "array([[1, 1, 1, 1, 1, 1, 1, 1, 1, 1],\n",
              "       [1, 0, 0, 0, 0, 0, 0, 0, 0, 1],\n",
              "       [1, 0, 0, 0, 0, 0, 0, 0, 0, 1],\n",
              "       [1, 0, 0, 0, 0, 0, 0, 0, 0, 1],\n",
              "       [1, 0, 0, 0, 0, 0, 0, 0, 0, 1],\n",
              "       [1, 0, 0, 0, 0, 0, 0, 0, 0, 1],\n",
              "       [1, 0, 0, 0, 0, 0, 0, 0, 0, 1],\n",
              "       [1, 0, 0, 0, 0, 0, 0, 0, 0, 1],\n",
              "       [1, 0, 0, 0, 0, 0, 0, 0, 0, 1],\n",
              "       [1, 1, 1, 1, 1, 1, 1, 1, 1, 1]])"
            ]
          },
          "metadata": {
            "tags": []
          },
          "execution_count": 23
        }
      ]
    },
    {
      "metadata": {
        "id": "dK6QXElM69ke",
        "colab_type": "code",
        "colab": {
          "base_uri": "https://localhost:8080/",
          "height": 153
        },
        "outputId": "e0e1b3fb-753e-4561-eb74-f94e0a3581f9"
      },
      "cell_type": "code",
      "source": [
        "#Create an 8 x 8 array with a checkerboard pattern of zeros and ones using a slicing+striding approach.\n",
        "x = np.zeros((8,8),dtype=int)\n",
        "x[1::2,::2] = 1\n",
        "x[::2,1::2] = 1\n",
        "x"
      ],
      "execution_count": 24,
      "outputs": [
        {
          "output_type": "execute_result",
          "data": {
            "text/plain": [
              "array([[0, 1, 0, 1, 0, 1, 0, 1],\n",
              "       [1, 0, 1, 0, 1, 0, 1, 0],\n",
              "       [0, 1, 0, 1, 0, 1, 0, 1],\n",
              "       [1, 0, 1, 0, 1, 0, 1, 0],\n",
              "       [0, 1, 0, 1, 0, 1, 0, 1],\n",
              "       [1, 0, 1, 0, 1, 0, 1, 0],\n",
              "       [0, 1, 0, 1, 0, 1, 0, 1],\n",
              "       [1, 0, 1, 0, 1, 0, 1, 0]])"
            ]
          },
          "metadata": {
            "tags": []
          },
          "execution_count": 24
        }
      ]
    }
  ]
}