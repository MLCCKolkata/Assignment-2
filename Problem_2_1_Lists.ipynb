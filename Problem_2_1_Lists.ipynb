{
  "nbformat": 4,
  "nbformat_minor": 0,
  "metadata": {
    "colab": {
      "name": "Problem_2.1_Lists.ipynb",
      "version": "0.3.2",
      "provenance": [],
      "collapsed_sections": [],
      "include_colab_link": true
    },
    "kernelspec": {
      "name": "python3",
      "display_name": "Python 3"
    }
  },
  "cells": [
    {
      "cell_type": "markdown",
      "metadata": {
        "id": "view-in-github",
        "colab_type": "text"
      },
      "source": [
        "[View in Colaboratory](https://colab.research.google.com/github/crazy-lazy-life/Assignment-2/blob/crazy-lazy-life/Problem_2_1_Lists.ipynb)"
      ]
    },
    {
      "metadata": {
        "id": "JnmucIEj8cTj",
        "colab_type": "text"
      },
      "cell_type": "markdown",
      "source": [
        "Creating a random list and assigning it to a variable dummy_list and printing it."
      ]
    },
    {
      "metadata": {
        "id": "_naORDs17-x8",
        "colab_type": "code",
        "colab": {
          "base_uri": "https://localhost:8080/",
          "height": 34
        },
        "outputId": "17580dee-8b09-420c-f3f6-3334c54c44f1"
      },
      "cell_type": "code",
      "source": [
        "dummy_list = [5, 6 , 12, 23, 52]\n",
        "print(dummy_list)"
      ],
      "execution_count": 0,
      "outputs": [
        {
          "output_type": "stream",
          "text": [
            "[5, 6, 12, 23, 52]\n"
          ],
          "name": "stdout"
        }
      ]
    },
    {
      "metadata": {
        "id": "NKN7C_PM8vjF",
        "colab_type": "text"
      },
      "cell_type": "markdown",
      "source": [
        "Reversing 'dummy_list' and printing it."
      ]
    },
    {
      "metadata": {
        "id": "tT0UfxRZ8K86",
        "colab_type": "code",
        "colab": {
          "base_uri": "https://localhost:8080/",
          "height": 34
        },
        "outputId": "6bed2478-3467-42f9-a1b6-0f3a655b5054"
      },
      "cell_type": "code",
      "source": [
        "dummy_list.reverse()\n",
        "print(dummy_list)"
      ],
      "execution_count": 0,
      "outputs": [
        {
          "output_type": "stream",
          "text": [
            "[52, 23, 12, 6, 5]\n"
          ],
          "name": "stdout"
        }
      ]
    },
    {
      "metadata": {
        "id": "FfnTZebL9SX_",
        "colab_type": "text"
      },
      "cell_type": "markdown",
      "source": [
        "Adding pre-defined 'dummy_list_2' to our 'dummy_list'"
      ]
    },
    {
      "metadata": {
        "id": "Kn7o-srS8509",
        "colab_type": "code",
        "colab": {
          "base_uri": "https://localhost:8080/",
          "height": 34
        },
        "outputId": "be7d40e2-d74d-4d19-9002-4ed33ea7bd74"
      },
      "cell_type": "code",
      "source": [
        "dummy_list_2 = [2, 200, 16, 4, 1, 0, 9.45, 45.67, 90, 12.01, 12.02]\n",
        "dummy_list.extend(dummy_list_2)\n",
        "print(dummy_list)"
      ],
      "execution_count": 0,
      "outputs": [
        {
          "output_type": "stream",
          "text": [
            "[52, 23, 12, 6, 5, 2, 200, 16, 4, 1, 0, 9.45, 45.67, 90, 12.01, 12.02]\n"
          ],
          "name": "stdout"
        }
      ]
    },
    {
      "metadata": {
        "id": "RkKQUQ6OAKO_",
        "colab_type": "text"
      },
      "cell_type": "markdown",
      "source": [
        "Creating a dictionary named 'dummy_dict' and adding the elemts of the list as keys and their frequency as their corresponding values and printing the dictionary."
      ]
    },
    {
      "metadata": {
        "id": "_Bfgd6_g9pK3",
        "colab_type": "code",
        "colab": {
          "base_uri": "https://localhost:8080/",
          "height": 34
        },
        "outputId": "f84d9194-36e5-4f77-a1bb-1004b041d3fd"
      },
      "cell_type": "code",
      "source": [
        "dummy_dict={}\n",
        "for i in dummy_list:\n",
        "  freq=dummy_list.count(i)\n",
        "  dummy_dict.update({i:freq})\n",
        "  \n",
        "print(dummy_dict)"
      ],
      "execution_count": 0,
      "outputs": [
        {
          "output_type": "stream",
          "text": [
            "{52: 1, 23: 1, 12: 1, 6: 1, 5: 1, 2: 1, 200: 1, 16: 1, 4: 1, 1: 1, 0: 1, 9.45: 1, 45.67: 1, 90: 1, 12.01: 1, 12.02: 1}\n"
          ],
          "name": "stdout"
        }
      ]
    },
    {
      "metadata": {
        "id": "s6_YDAiUEV7b",
        "colab_type": "text"
      },
      "cell_type": "markdown",
      "source": [
        "Sorting 'dummy_list' in ascending and descending order and printing them."
      ]
    },
    {
      "metadata": {
        "id": "uZM1Y7BBD1sV",
        "colab_type": "code",
        "colab": {
          "base_uri": "https://localhost:8080/",
          "height": 34
        },
        "outputId": "cbc1a453-d370-45ef-b1cf-e9077d8ad0a7"
      },
      "cell_type": "code",
      "source": [
        "dummy_list_copy = dummy_list\n",
        "dummy_list.sort()\n",
        "print(dummy_list)"
      ],
      "execution_count": 0,
      "outputs": [
        {
          "output_type": "stream",
          "text": [
            "[0, 1, 2, 4, 5, 6, 9.45, 12, 12.01, 12.02, 16, 23, 45.67, 52, 90, 200]\n"
          ],
          "name": "stdout"
        }
      ]
    },
    {
      "metadata": {
        "id": "5phEYwStFSb7",
        "colab_type": "code",
        "colab": {
          "base_uri": "https://localhost:8080/",
          "height": 34
        },
        "outputId": "00ac1185-a53a-4414-d7a6-2c1d77c35f8c"
      },
      "cell_type": "code",
      "source": [
        "dummy_list = dummy_list_copy\n",
        "dummy_list.sort(reverse=True)\n",
        "print(dummy_list)"
      ],
      "execution_count": 0,
      "outputs": [
        {
          "output_type": "stream",
          "text": [
            "[200, 90, 52, 45.67, 23, 16, 12.02, 12.01, 12, 9.45, 6, 5, 4, 2, 1, 0]\n"
          ],
          "name": "stdout"
        }
      ]
    },
    {
      "metadata": {
        "id": "FAiNeK_tGI9v",
        "colab_type": "text"
      },
      "cell_type": "markdown",
      "source": [
        "Removing the first occurance of the value x=200 from the list."
      ]
    },
    {
      "metadata": {
        "id": "vg7Etjs9F4bw",
        "colab_type": "code",
        "colab": {
          "base_uri": "https://localhost:8080/",
          "height": 34
        },
        "outputId": "21198cf2-b596-4dcc-9873-59dbf350460c"
      },
      "cell_type": "code",
      "source": [
        "dummy_list = dummy_list_copy\n",
        "x=200\n",
        "dummy_list.remove(x)\n",
        "print(dummy_list)"
      ],
      "execution_count": 0,
      "outputs": [
        {
          "output_type": "stream",
          "text": [
            "[90, 52, 45.67, 23, 16, 12.02, 12.01, 12, 9.45, 6, 5, 4, 2, 1, 0]\n"
          ],
          "name": "stdout"
        }
      ]
    },
    {
      "metadata": {
        "id": "_f6dHWhCGw9K",
        "colab_type": "text"
      },
      "cell_type": "markdown",
      "source": [
        "Removing an item from position x (random number) from 'dummy_list'"
      ]
    },
    {
      "metadata": {
        "id": "5Dp5OZymGd0V",
        "colab_type": "code",
        "colab": {
          "base_uri": "https://localhost:8080/",
          "height": 34
        },
        "outputId": "2f87cbea-c5df-4065-a53d-62f59b85e482"
      },
      "cell_type": "code",
      "source": [
        "x = 5\n",
        "del dummy_list[x]\n",
        "print(dummy_list)"
      ],
      "execution_count": 0,
      "outputs": [
        {
          "output_type": "stream",
          "text": [
            "[90, 52, 45.67, 23, 16, 12.01, 12, 9.45, 6, 5, 4, 2, 1, 0]\n"
          ],
          "name": "stdout"
        }
      ]
    },
    {
      "metadata": {
        "id": "9oCPf_ErHx8K",
        "colab_type": "text"
      },
      "cell_type": "markdown",
      "source": [
        "Clearing the list and printing it to show its emptiness"
      ]
    },
    {
      "metadata": {
        "id": "XNmpGxzXHieJ",
        "colab_type": "code",
        "colab": {
          "base_uri": "https://localhost:8080/",
          "height": 34
        },
        "outputId": "89da434f-f57f-4aa8-86b6-3f8bc086c40e"
      },
      "cell_type": "code",
      "source": [
        "dummy_list.clear()\n",
        "print(dummy_list)"
      ],
      "execution_count": 0,
      "outputs": [
        {
          "output_type": "stream",
          "text": [
            "[]\n"
          ],
          "name": "stdout"
        }
      ]
    },
    {
      "metadata": {
        "id": "BSj4RlVSH_SH",
        "colab_type": "code",
        "colab": {}
      },
      "cell_type": "code",
      "source": [
        ""
      ],
      "execution_count": 0,
      "outputs": []
    }
  ]
}