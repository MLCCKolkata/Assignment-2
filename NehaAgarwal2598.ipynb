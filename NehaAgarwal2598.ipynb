{
  "nbformat": 4,
  "nbformat_minor": 0,
  "metadata": {
    "colab": {
      "name": "NehaAgarwal2598.ipynb",
      "version": "0.3.2",
      "provenance": [],
      "include_colab_link": true
    },
    "kernelspec": {
      "display_name": "Python 3",
      "language": "python",
      "name": "python3"
    }
  },
  "cells": [
    {
      "cell_type": "markdown",
      "metadata": {
        "id": "view-in-github",
        "colab_type": "text"
      },
      "source": [
        "[View in Colaboratory](https://colab.research.google.com/github/NehaAgarwal2598/Assignment-2/blob/NehaAgarwal2598/NehaAgarwal2598.ipynb)"
      ]
    },
    {
      "metadata": {
        "id": "PfU6KCMiME1g",
        "colab_type": "code",
        "colab": {}
      },
      "cell_type": "code",
      "source": [
        "#Create any random list and assign it to a variable dummy_list\n",
        "\n",
        "import random\n",
        "\n",
        "dummy_list = random.sample(range(0, 100), 10)\n"
      ],
      "execution_count": 0,
      "outputs": []
    },
    {
      "metadata": {
        "id": "yHVoTXKTM6QN",
        "colab_type": "code",
        "colab": {
          "base_uri": "https://localhost:8080/",
          "height": 34
        },
        "outputId": "bc0ec9b8-755b-48ce-e04e-bdfd0ba682f3"
      },
      "cell_type": "code",
      "source": [
        "# print dummy_list\n",
        "\n",
        "print(dummy_list)"
      ],
      "execution_count": 2,
      "outputs": [
        {
          "output_type": "stream",
          "text": [
            "[54, 59, 17, 71, 78, 50, 51, 16, 82, 1]\n"
          ],
          "name": "stdout"
        }
      ]
    },
    {
      "metadata": {
        "id": "q-k7BLoWM8CT",
        "colab_type": "code",
        "colab": {
          "base_uri": "https://localhost:8080/",
          "height": 34
        },
        "outputId": "36fed6a1-d6c0-4aec-a7dd-c09efb9ac7a2"
      },
      "cell_type": "code",
      "source": [
        "#Reverse dummy_list and print\n",
        "\n",
        "dummy_list.reverse()\n",
        "print(dummy_list)"
      ],
      "execution_count": 3,
      "outputs": [
        {
          "output_type": "stream",
          "text": [
            "[1, 82, 16, 51, 50, 78, 71, 17, 59, 54]\n"
          ],
          "name": "stdout"
        }
      ]
    },
    {
      "metadata": {
        "id": "kR2W7_0qM99R",
        "colab_type": "code",
        "colab": {
          "base_uri": "https://localhost:8080/",
          "height": 34
        },
        "outputId": "edc793d1-b4d0-4312-a454-f35a597370cd"
      },
      "cell_type": "code",
      "source": [
        "#Add the list dummy_list_2 to the previous dummy_list and now print dummy_list\n",
        "\n",
        "dummy_list_2 = [2, 200, 16, 4, 1, 0, 9.45, 45.67, 90, 12.01, 12.02]\n",
        "print(dummy_list+dummy_list_2)"
      ],
      "execution_count": 4,
      "outputs": [
        {
          "output_type": "stream",
          "text": [
            "[1, 82, 16, 51, 50, 78, 71, 17, 59, 54, 2, 200, 16, 4, 1, 0, 9.45, 45.67, 90, 12.01, 12.02]\n"
          ],
          "name": "stdout"
        }
      ]
    },
    {
      "metadata": {
        "id": "WoywsV7pNCDD",
        "colab_type": "code",
        "colab": {}
      },
      "cell_type": "code",
      "source": [
        "# Create a dictionary named dummy_dict which contains all the elements of dummy_list as keys and frequency as values.\n",
        "\n",
        "dummy_dict={i:dummy_list.count(i) for i in set(dummy_list)}"
      ],
      "execution_count": 0,
      "outputs": []
    },
    {
      "metadata": {
        "id": "_D3TKbqfNO0U",
        "colab_type": "code",
        "colab": {
          "base_uri": "https://localhost:8080/",
          "height": 34
        },
        "outputId": "d034b661-03f4-4fcc-bd88-d42f073831d0"
      },
      "cell_type": "code",
      "source": [
        "#print dummy_dict\n",
        "print (dummy_dict)"
      ],
      "execution_count": 6,
      "outputs": [
        {
          "output_type": "stream",
          "text": [
            "{1: 1, 71: 1, 78: 1, 16: 1, 17: 1, 82: 1, 51: 1, 50: 1, 54: 1, 59: 1}\n"
          ],
          "name": "stdout"
        }
      ]
    },
    {
      "metadata": {
        "id": "Eij_Cg1bNRa2",
        "colab_type": "code",
        "colab": {
          "base_uri": "https://localhost:8080/",
          "height": 51
        },
        "outputId": "8bd42174-39fe-435d-ace4-d50de166082c"
      },
      "cell_type": "code",
      "source": [
        "#Sort dummy_list in ascending order as well as descending order and print the changed lists\n",
        "#ASCENDING ORDER \n",
        "dummy_list.sort()\n",
        "print(dummy_list)\n",
        "\n",
        "#DESCENDING ORDER\n",
        "dummy_list.sort(reverse=True)\n",
        "print(dummy_list)\n"
      ],
      "execution_count": 7,
      "outputs": [
        {
          "output_type": "stream",
          "text": [
            "[1, 16, 17, 50, 51, 54, 59, 71, 78, 82]\n",
            "[82, 78, 71, 59, 54, 51, 50, 17, 16, 1]\n"
          ],
          "name": "stdout"
        }
      ]
    },
    {
      "metadata": {
        "id": "60DuZGuBNZNK",
        "colab_type": "code",
        "colab": {
          "base_uri": "https://localhost:8080/",
          "height": 231
        },
        "outputId": "c9bb3b6f-64bb-4e69-fc2d-4804bda76f7e"
      },
      "cell_type": "code",
      "source": [
        "# Remove the first item from the list whose value is equal to x. It raises a ValueError if there is no such item.\n",
        "\n",
        "x = 200\n",
        "dummy_list.remove(x)\n",
        "\n",
        "# Let's play: try the same with something which is not in the list to get the ValueError\n",
        "\n",
        "x=300\n",
        "\n",
        "dummy_list.remove(x)"
      ],
      "execution_count": 8,
      "outputs": [
        {
          "output_type": "error",
          "ename": "ValueError",
          "evalue": "ignored",
          "traceback": [
            "\u001b[0;31m---------------------------------------------------------------------------\u001b[0m",
            "\u001b[0;31mValueError\u001b[0m                                Traceback (most recent call last)",
            "\u001b[0;32m<ipython-input-8-fd49bc364331>\u001b[0m in \u001b[0;36m<module>\u001b[0;34m()\u001b[0m\n\u001b[1;32m      1\u001b[0m \u001b[0;34m\u001b[0m\u001b[0m\n\u001b[1;32m      2\u001b[0m \u001b[0mx\u001b[0m \u001b[0;34m=\u001b[0m \u001b[0;36m200\u001b[0m\u001b[0;34m\u001b[0m\u001b[0m\n\u001b[0;32m----> 3\u001b[0;31m \u001b[0mdummy_list\u001b[0m\u001b[0;34m.\u001b[0m\u001b[0mremove\u001b[0m\u001b[0;34m(\u001b[0m\u001b[0mx\u001b[0m\u001b[0;34m)\u001b[0m\u001b[0;34m\u001b[0m\u001b[0m\n\u001b[0m\u001b[1;32m      4\u001b[0m \u001b[0;34m\u001b[0m\u001b[0m\n\u001b[1;32m      5\u001b[0m \u001b[0;31m# Let's play: try the same with something which is not in the list to get the ValueError\u001b[0m\u001b[0;34m\u001b[0m\u001b[0;34m\u001b[0m\u001b[0m\n",
            "\u001b[0;31mValueError\u001b[0m: list.remove(x): x not in list"
          ]
        }
      ]
    },
    {
      "metadata": {
        "id": "C2BpoyE2Ncgn",
        "colab_type": "code",
        "colab": {
          "base_uri": "https://localhost:8080/",
          "height": 231
        },
        "outputId": "73ecfabf-8001-46c5-d470-d75234fae244"
      },
      "cell_type": "code",
      "source": [
        "#Remove the item at position x. x is any random integer\n",
        "# Let's play: try doing the same with x > len(dummy_list) + 1 and see what you get\n",
        "\n",
        "x=20\n",
        "dummy_list.remove(dummy_list[x])\n",
        "\n",
        "x=len(dummy_list)+5\n",
        "dummy_list.remove(dummy_list[x])\n"
      ],
      "execution_count": 9,
      "outputs": [
        {
          "output_type": "error",
          "ename": "IndexError",
          "evalue": "ignored",
          "traceback": [
            "\u001b[0;31m---------------------------------------------------------------------------\u001b[0m",
            "\u001b[0;31mIndexError\u001b[0m                                Traceback (most recent call last)",
            "\u001b[0;32m<ipython-input-9-33e1453e2910>\u001b[0m in \u001b[0;36m<module>\u001b[0;34m()\u001b[0m\n\u001b[1;32m      1\u001b[0m \u001b[0;34m\u001b[0m\u001b[0m\n\u001b[1;32m      2\u001b[0m \u001b[0mx\u001b[0m\u001b[0;34m=\u001b[0m\u001b[0;36m20\u001b[0m\u001b[0;34m\u001b[0m\u001b[0m\n\u001b[0;32m----> 3\u001b[0;31m \u001b[0mdummy_list\u001b[0m\u001b[0;34m.\u001b[0m\u001b[0mremove\u001b[0m\u001b[0;34m(\u001b[0m\u001b[0mdummy_list\u001b[0m\u001b[0;34m[\u001b[0m\u001b[0mx\u001b[0m\u001b[0;34m]\u001b[0m\u001b[0;34m)\u001b[0m\u001b[0;34m\u001b[0m\u001b[0m\n\u001b[0m\u001b[1;32m      4\u001b[0m \u001b[0;34m\u001b[0m\u001b[0m\n\u001b[1;32m      5\u001b[0m \u001b[0mx\u001b[0m\u001b[0;34m=\u001b[0m\u001b[0mlen\u001b[0m\u001b[0;34m(\u001b[0m\u001b[0mdummy_list\u001b[0m\u001b[0;34m)\u001b[0m\u001b[0;34m+\u001b[0m\u001b[0;36m5\u001b[0m\u001b[0;34m\u001b[0m\u001b[0m\n",
            "\u001b[0;31mIndexError\u001b[0m: list index out of range"
          ]
        }
      ]
    },
    {
      "metadata": {
        "id": "k78snHo9NekM",
        "colab_type": "code",
        "colab": {
          "base_uri": "https://localhost:8080/",
          "height": 34
        },
        "outputId": "ed0961a9-2873-4b06-9e96-0937b75a76bd"
      },
      "cell_type": "code",
      "source": [
        " #Let's clean everything clear the list and then print\n",
        "dummy_list.clear()\n",
        "print(dummy_list)"
      ],
      "execution_count": 10,
      "outputs": [
        {
          "output_type": "stream",
          "text": [
            "[]\n"
          ],
          "name": "stdout"
        }
      ]
    },
    {
      "metadata": {
        "id": "F-EIOr7fiHIC",
        "colab_type": "code",
        "colab": {
          "base_uri": "https://localhost:8080/",
          "height": 238
        },
        "outputId": "5662a174-a308-432c-9334-4996b1837a2e"
      },
      "cell_type": "code",
      "source": [
        "#) Create a uniform subdivision of the interval -1.3 to 2.5 with 64 subdivisions\n",
        "\n",
        "import numpy as np\n",
        "\n",
        "np.linspace(-1.3, 25, num=64)"
      ],
      "execution_count": 11,
      "outputs": [
        {
          "output_type": "execute_result",
          "data": {
            "text/plain": [
              "array([-1.3       , -0.88253968, -0.46507937, -0.04761905,  0.36984127,\n",
              "        0.78730159,  1.2047619 ,  1.62222222,  2.03968254,  2.45714286,\n",
              "        2.87460317,  3.29206349,  3.70952381,  4.12698413,  4.54444444,\n",
              "        4.96190476,  5.37936508,  5.7968254 ,  6.21428571,  6.63174603,\n",
              "        7.04920635,  7.46666667,  7.88412698,  8.3015873 ,  8.71904762,\n",
              "        9.13650794,  9.55396825,  9.97142857, 10.38888889, 10.80634921,\n",
              "       11.22380952, 11.64126984, 12.05873016, 12.47619048, 12.89365079,\n",
              "       13.31111111, 13.72857143, 14.14603175, 14.56349206, 14.98095238,\n",
              "       15.3984127 , 15.81587302, 16.23333333, 16.65079365, 17.06825397,\n",
              "       17.48571429, 17.9031746 , 18.32063492, 18.73809524, 19.15555556,\n",
              "       19.57301587, 19.99047619, 20.40793651, 20.82539683, 21.24285714,\n",
              "       21.66031746, 22.07777778, 22.4952381 , 22.91269841, 23.33015873,\n",
              "       23.74761905, 24.16507937, 24.58253968, 25.        ])"
            ]
          },
          "metadata": {
            "tags": []
          },
          "execution_count": 11
        }
      ]
    },
    {
      "metadata": {
        "id": "p57T3Wa1iHSY",
        "colab_type": "code",
        "colab": {}
      },
      "cell_type": "code",
      "source": [
        "#Generate an array of length 3n filled with the cyclic pattern 1, 2, 3\n",
        "\n"
      ],
      "execution_count": 0,
      "outputs": []
    },
    {
      "metadata": {
        "id": "R8sN_irCiHaz",
        "colab_type": "code",
        "colab": {
          "base_uri": "https://localhost:8080/",
          "height": 34
        },
        "outputId": "27908c60-1712-43b9-d986-b1c6fba877be"
      },
      "cell_type": "code",
      "source": [
        "#Create an array of the first 10 odd integers.\n",
        "\n",
        "np.arange(1,20,2)\n"
      ],
      "execution_count": 12,
      "outputs": [
        {
          "output_type": "execute_result",
          "data": {
            "text/plain": [
              "array([ 1,  3,  5,  7,  9, 11, 13, 15, 17, 19])"
            ]
          },
          "metadata": {
            "tags": []
          },
          "execution_count": 12
        }
      ]
    },
    {
      "metadata": {
        "id": "cuqJKU_kiHim",
        "colab_type": "code",
        "colab": {
          "base_uri": "https://localhost:8080/",
          "height": 34
        },
        "outputId": "b1bbcdca-d02e-4945-f23a-913287197e7c"
      },
      "cell_type": "code",
      "source": [
        "# Find intersection of a and b\n",
        "# expected output array([2, 4])\n",
        "# a = np.array([1,2,3,2,3,4,3,4,5,6])\n",
        "# b = np.array([7,2,10,2,7,4,9,4,9,8])\n",
        "\n",
        "a = np.array([1,2,3,2,3,4,3,4,5,6])\n",
        "b = np.array([7,2,10,2,7,4,9,4,9,8])\n",
        "\n",
        "np.intersect1d(a,b)"
      ],
      "execution_count": 23,
      "outputs": [
        {
          "output_type": "execute_result",
          "data": {
            "text/plain": [
              "array([2, 4])"
            ]
          },
          "metadata": {
            "tags": []
          },
          "execution_count": 23
        }
      ]
    },
    {
      "metadata": {
        "id": "PEB8u4_FiHng",
        "colab_type": "code",
        "colab": {}
      },
      "cell_type": "code",
      "source": [
        "#5) Reshape 1d array a to 2d array of 2X5\n",
        "\n",
        "a = np.arange(10)\n",
        "b = np.reshape(a, (-1, 5))\n"
      ],
      "execution_count": 0,
      "outputs": []
    },
    {
      "metadata": {
        "id": "xj0_U3s9iHq4",
        "colab_type": "code",
        "colab": {
          "base_uri": "https://localhost:8080/",
          "height": 34
        },
        "outputId": "27c649b4-0ec7-4a9a-8fda-0dc2ce6f2569"
      },
      "cell_type": "code",
      "source": [
        "# Create a numpy array to list and vice versa\n",
        "\n",
        "#a = [1, 2, 3, 4, 5, 6, 7, 8, 9]\n",
        "\n",
        "#numpy array to list \n",
        "a.tolist()\n",
        "\n",
        "#list to numpy array\n",
        "\n",
        "from numpy import array\n",
        "array(a)"
      ],
      "execution_count": 20,
      "outputs": [
        {
          "output_type": "execute_result",
          "data": {
            "text/plain": [
              "array([0, 1, 2, 3, 4, 5, 6, 7, 8, 9])"
            ]
          },
          "metadata": {
            "tags": []
          },
          "execution_count": 20
        }
      ]
    },
    {
      "metadata": {
        "id": "F4hIdN9giHu2",
        "colab_type": "code",
        "colab": {}
      },
      "cell_type": "code",
      "source": [
        "# Create a 10 x 10 arrays of zeros and then \"frame\" it with a border of ones.\n",
        "\n",
        "x = np.ones((10,10))\n",
        "\n",
        "x[1:-1,1:-1] = 0"
      ],
      "execution_count": 0,
      "outputs": []
    },
    {
      "metadata": {
        "id": "X1P8kzVziHzM",
        "colab_type": "code",
        "colab": {}
      },
      "cell_type": "code",
      "source": [
        "# Create an 8 x 8 array with a checkerboard pattern of zeros and ones using a slicing+striding approach.\n",
        "\n",
        "x = np.ones((3,3))\n",
        "x = np.zeros((8,8),dtype=int)\n",
        "x[1::2,::2] = 1\n",
        "x[::2,1::2] = 1\n"
      ],
      "execution_count": 0,
      "outputs": []
    }
  ]
}