{
  "nbformat": 4,
  "nbformat_minor": 0,
  "metadata": {
    "colab": {
      "name": "NehaAgarwal2598.ipynb",
      "version": "0.3.2",
      "provenance": [],
      "include_colab_link": true
    },
    "kernelspec": {
      "display_name": "Python 3",
      "language": "python",
      "name": "python3"
    }
  },
  "cells": [
    {
      "cell_type": "markdown",
      "metadata": {
        "id": "view-in-github",
        "colab_type": "text"
      },
      "source": [
        "[View in Colaboratory](https://colab.research.google.com/github/NehaAgarwal2598/Assignment-2/blob/NehaAgarwal2598/NehaAgarwal2598.ipynb)"
      ]
    },
    {
      "metadata": {
        "id": "PfU6KCMiME1g",
        "colab_type": "code",
        "colab": {}
      },
      "cell_type": "code",
      "source": [
        "#Create any random list and assign it to a variable dummy_list\n",
        "\n",
        "import random\n",
        "\n",
        "dummy_list = random.sample(range(0, 100), 10)\n"
      ],
      "execution_count": 0,
      "outputs": []
    },
    {
      "metadata": {
        "id": "yHVoTXKTM6QN",
        "colab_type": "code",
        "colab": {
          "base_uri": "https://localhost:8080/",
          "height": 34
        },
        "outputId": "01135e2b-c0cc-46d1-ddd0-37ce570a5ea8"
      },
      "cell_type": "code",
      "source": [
        "# print dummy_list\n",
        "\n",
        "print(dummy_list)"
      ],
      "execution_count": 0,
      "outputs": [
        {
          "output_type": "stream",
          "text": [
            "[85, 86, 17, 46, 99, 68, 35, 78, 4, 37]\n"
          ],
          "name": "stdout"
        }
      ]
    },
    {
      "metadata": {
        "id": "q-k7BLoWM8CT",
        "colab_type": "code",
        "colab": {
          "base_uri": "https://localhost:8080/",
          "height": 34
        },
        "outputId": "3db68a74-81fa-4d22-91c6-ba798c7e7927"
      },
      "cell_type": "code",
      "source": [
        "#Reverse dummy_list and print\n",
        "\n",
        "dummy_list.reverse()\n",
        "print(dummy_list)"
      ],
      "execution_count": 0,
      "outputs": [
        {
          "output_type": "stream",
          "text": [
            "[37, 4, 78, 35, 68, 99, 46, 17, 86, 85]\n"
          ],
          "name": "stdout"
        }
      ]
    },
    {
      "metadata": {
        "id": "kR2W7_0qM99R",
        "colab_type": "code",
        "colab": {
          "base_uri": "https://localhost:8080/",
          "height": 34
        },
        "outputId": "289cfc40-c124-472d-be17-1c491e445a44"
      },
      "cell_type": "code",
      "source": [
        "#Add the list dummy_list_2 to the previous dummy_list and now print dummy_list\n",
        "\n",
        "dummy_list_2 = [2, 200, 16, 4, 1, 0, 9.45, 45.67, 90, 12.01, 12.02]\n",
        "print(dummy_list+dummy_list_2)"
      ],
      "execution_count": 0,
      "outputs": [
        {
          "output_type": "stream",
          "text": [
            "[37, 4, 78, 35, 68, 99, 46, 17, 86, 85, 2, 200, 16, 4, 1, 0, 9.45, 45.67, 90, 12.01, 12.02]\n"
          ],
          "name": "stdout"
        }
      ]
    },
    {
      "metadata": {
        "id": "WoywsV7pNCDD",
        "colab_type": "code",
        "colab": {}
      },
      "cell_type": "code",
      "source": [
        "# Create a dictionary named dummy_dict which contains all the elements of dummy_list as keys and frequency as values.\n",
        "\n",
        "dummy_dict={i:dummy_list.count(i) for i in set(dummy_list)}"
      ],
      "execution_count": 0,
      "outputs": []
    },
    {
      "metadata": {
        "id": "_D3TKbqfNO0U",
        "colab_type": "code",
        "colab": {
          "base_uri": "https://localhost:8080/",
          "height": 34
        },
        "outputId": "59b8d671-41af-4de8-cdef-b71c4a3d402b"
      },
      "cell_type": "code",
      "source": [
        "#print dummy_dict\n",
        "print (dummy_dict)"
      ],
      "execution_count": 0,
      "outputs": [
        {
          "output_type": "stream",
          "text": [
            "{35: 1, 4: 1, 37: 1, 68: 1, 99: 1, 78: 1, 46: 1, 17: 1, 85: 1, 86: 1}\n"
          ],
          "name": "stdout"
        }
      ]
    },
    {
      "metadata": {
        "id": "Eij_Cg1bNRa2",
        "colab_type": "code",
        "colab": {
          "base_uri": "https://localhost:8080/",
          "height": 51
        },
        "outputId": "6f3fd126-8ef0-4562-d10b-4bd8fd3f765e"
      },
      "cell_type": "code",
      "source": [
        "#Sort dummy_list in ascending order as well as descending order and print the changed lists\n",
        "#ASCENDING ORDER \n",
        "dummy_list.sort()\n",
        "print(dummy_list)\n",
        "\n",
        "#DESCENDING ORDER\n",
        "dummy_list.sort(reverse=True)\n",
        "print(dummy_list)\n"
      ],
      "execution_count": 0,
      "outputs": [
        {
          "output_type": "stream",
          "text": [
            "[4, 17, 35, 37, 46, 68, 78, 85, 86, 99]\n",
            "[99, 86, 85, 78, 68, 46, 37, 35, 17, 4]\n"
          ],
          "name": "stdout"
        }
      ]
    },
    {
      "metadata": {
        "id": "60DuZGuBNZNK",
        "colab_type": "code",
        "colab": {
          "base_uri": "https://localhost:8080/",
          "height": 231
        },
        "outputId": "a7028e87-8bb7-4be7-b6c3-6eb205622a40"
      },
      "cell_type": "code",
      "source": [
        "# Remove the first item from the list whose value is equal to x. It raises a ValueError if there is no such item.\n",
        "\n",
        "x = 200\n",
        "dummy_list.remove(x)\n",
        "\n",
        "# Let's play: try the same with something which is not in the list to get the ValueError\n",
        "\n",
        "x=300\n",
        "\n",
        "dummy_list.remove(x)"
      ],
      "execution_count": 0,
      "outputs": [
        {
          "output_type": "error",
          "ename": "ValueError",
          "evalue": "ignored",
          "traceback": [
            "\u001b[0;31m---------------------------------------------------------------------------\u001b[0m",
            "\u001b[0;31mValueError\u001b[0m                                Traceback (most recent call last)",
            "\u001b[0;32m<ipython-input-8-fd49bc364331>\u001b[0m in \u001b[0;36m<module>\u001b[0;34m()\u001b[0m\n\u001b[1;32m      1\u001b[0m \u001b[0;34m\u001b[0m\u001b[0m\n\u001b[1;32m      2\u001b[0m \u001b[0mx\u001b[0m \u001b[0;34m=\u001b[0m \u001b[0;36m200\u001b[0m\u001b[0;34m\u001b[0m\u001b[0m\n\u001b[0;32m----> 3\u001b[0;31m \u001b[0mdummy_list\u001b[0m\u001b[0;34m.\u001b[0m\u001b[0mremove\u001b[0m\u001b[0;34m(\u001b[0m\u001b[0mx\u001b[0m\u001b[0;34m)\u001b[0m\u001b[0;34m\u001b[0m\u001b[0m\n\u001b[0m\u001b[1;32m      4\u001b[0m \u001b[0;34m\u001b[0m\u001b[0m\n\u001b[1;32m      5\u001b[0m \u001b[0;31m# Let's play: try the same with something which is not in the list to get the ValueError\u001b[0m\u001b[0;34m\u001b[0m\u001b[0;34m\u001b[0m\u001b[0m\n",
            "\u001b[0;31mValueError\u001b[0m: list.remove(x): x not in list"
          ]
        }
      ]
    },
    {
      "metadata": {
        "id": "C2BpoyE2Ncgn",
        "colab_type": "code",
        "colab": {
          "base_uri": "https://localhost:8080/",
          "height": 231
        },
        "outputId": "fd4104b1-891c-4693-81fc-41f3983f99f5"
      },
      "cell_type": "code",
      "source": [
        "#Remove the item at position x. x is any random integer\n",
        "# Let's play: try doing the same with x > len(dummy_list) + 1 and see what you get\n",
        "\n",
        "x=20\n",
        "dummy_list.remove(dummy_list[x])\n",
        "\n",
        "x=len(dummy_list)+5\n",
        "dummy_list.remove(dummy_list[x])\n"
      ],
      "execution_count": 0,
      "outputs": [
        {
          "output_type": "error",
          "ename": "IndexError",
          "evalue": "ignored",
          "traceback": [
            "\u001b[0;31m---------------------------------------------------------------------------\u001b[0m",
            "\u001b[0;31mIndexError\u001b[0m                                Traceback (most recent call last)",
            "\u001b[0;32m<ipython-input-9-33e1453e2910>\u001b[0m in \u001b[0;36m<module>\u001b[0;34m()\u001b[0m\n\u001b[1;32m      1\u001b[0m \u001b[0;34m\u001b[0m\u001b[0m\n\u001b[1;32m      2\u001b[0m \u001b[0mx\u001b[0m\u001b[0;34m=\u001b[0m\u001b[0;36m20\u001b[0m\u001b[0;34m\u001b[0m\u001b[0m\n\u001b[0;32m----> 3\u001b[0;31m \u001b[0mdummy_list\u001b[0m\u001b[0;34m.\u001b[0m\u001b[0mremove\u001b[0m\u001b[0;34m(\u001b[0m\u001b[0mdummy_list\u001b[0m\u001b[0;34m[\u001b[0m\u001b[0mx\u001b[0m\u001b[0;34m]\u001b[0m\u001b[0;34m)\u001b[0m\u001b[0;34m\u001b[0m\u001b[0m\n\u001b[0m\u001b[1;32m      4\u001b[0m \u001b[0;34m\u001b[0m\u001b[0m\n\u001b[1;32m      5\u001b[0m \u001b[0mx\u001b[0m\u001b[0;34m=\u001b[0m\u001b[0mlen\u001b[0m\u001b[0;34m(\u001b[0m\u001b[0mdummy_list\u001b[0m\u001b[0;34m)\u001b[0m\u001b[0;34m+\u001b[0m\u001b[0;36m5\u001b[0m\u001b[0;34m\u001b[0m\u001b[0m\n",
            "\u001b[0;31mIndexError\u001b[0m: list index out of range"
          ]
        }
      ]
    },
    {
      "metadata": {
        "id": "k78snHo9NekM",
        "colab_type": "code",
        "colab": {
          "base_uri": "https://localhost:8080/",
          "height": 34
        },
        "outputId": "8f294a6d-9c56-497b-d9d7-e94dafe96e81"
      },
      "cell_type": "code",
      "source": [
        " #Let's clean everything clear the list and then print\n",
        "dummy_list.clear()\n",
        "print(dummy_list)"
      ],
      "execution_count": 0,
      "outputs": [
        {
          "output_type": "stream",
          "text": [
            "[]\n"
          ],
          "name": "stdout"
        }
      ]
    },
    {
      "metadata": {
        "id": "F-EIOr7fiHIC",
        "colab_type": "code",
        "colab": {}
      },
      "cell_type": "code",
      "source": [
        "#) Create a uniform subdivision of the interval -1.3 to 2.5 with 64 subdivisions\n",
        "\n",
        "import numpy as np\n",
        "\n",
        "np.linspace(-1.3, 25, num=64)"
      ],
      "execution_count": 0,
      "outputs": []
    },
    {
      "metadata": {
        "id": "p57T3Wa1iHSY",
        "colab_type": "code",
        "colab": {}
      },
      "cell_type": "code",
      "source": [
        "#Generate an array of length 3n filled with the cyclic pattern 1, 2, 3\n",
        "\n"
      ],
      "execution_count": 0,
      "outputs": []
    },
    {
      "metadata": {
        "id": "R8sN_irCiHaz",
        "colab_type": "code",
        "colab": {}
      },
      "cell_type": "code",
      "source": [
        "#Create an array of the first 10 odd integers.\n",
        "\n",
        "np.arange(1,20,2)\n"
      ],
      "execution_count": 0,
      "outputs": []
    },
    {
      "metadata": {
        "id": "cuqJKU_kiHim",
        "colab_type": "code",
        "colab": {}
      },
      "cell_type": "code",
      "source": [
        "# Find intersection of a and b\n",
        "# expected output array([2, 4])\n",
        "# a = np.array([1,2,3,2,3,4,3,4,5,6])\n",
        "# b = np.array([7,2,10,2,7,4,9,4,9,8])\n",
        "\n",
        "a = np.array([1,2,3,2,3,4,3,4,5,6])\n",
        "b = np.array([7,2,10,2,7,4,9,4,9,8])\n",
        "\n",
        "np.intersect1d(a,b)"
      ],
      "execution_count": 0,
      "outputs": []
    },
    {
      "metadata": {
        "id": "PEB8u4_FiHng",
        "colab_type": "code",
        "colab": {}
      },
      "cell_type": "code",
      "source": [
        "#5) Reshape 1d array a to 2d array of 2X5\n",
        "\n",
        "a = np.arange(10)\n",
        "b = np.reshape(a, (-1, 5))\n"
      ],
      "execution_count": 0,
      "outputs": []
    },
    {
      "metadata": {
        "id": "xj0_U3s9iHq4",
        "colab_type": "code",
        "colab": {}
      },
      "cell_type": "code",
      "source": [
        "# Create a numpy array to list and vice versa\n",
        "\n",
        "# a = [1, 2, 3, 4, 5, 6, 7, 8, 9]\n",
        "\n",
        "#numpy array to list \n",
        "a.tolist()\n",
        "\n",
        "#list to numpy array\n",
        "\n",
        "from numpy import array\n",
        "array(a)"
      ],
      "execution_count": 0,
      "outputs": []
    },
    {
      "metadata": {
        "id": "F4hIdN9giHu2",
        "colab_type": "code",
        "colab": {}
      },
      "cell_type": "code",
      "source": [
        "# Create a 10 x 10 arrays of zeros and then \"frame\" it with a border of ones.\n",
        "\n",
        "x = np.ones((10,10))\n",
        "\n",
        "x[1:-1,1:-1] = 0"
      ],
      "execution_count": 0,
      "outputs": []
    },
    {
      "metadata": {
        "id": "X1P8kzVziHzM",
        "colab_type": "code",
        "colab": {}
      },
      "cell_type": "code",
      "source": [
        "# Create an 8 x 8 array with a checkerboard pattern of zeros and ones using a slicing+striding approach.\n",
        "\n",
        "x = np.ones((3,3))\n",
        "x = np.zeros((8,8),dtype=int)\n",
        "x[1::2,::2] = 1\n",
        "x[::2,1::2] = 1\n"
      ],
      "execution_count": 0,
      "outputs": []
    }
  ]
}