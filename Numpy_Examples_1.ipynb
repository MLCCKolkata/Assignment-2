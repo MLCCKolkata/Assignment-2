{
  "nbformat": 4,
  "nbformat_minor": 0,
  "metadata": {
    "colab": {
      "name": "Numpy_Examples 1.ipynb",
      "version": "0.3.2",
      "provenance": []
    },
    "kernelspec": {
      "name": "python3",
      "display_name": "Python 3"
    }
  },
  "cells": [
    {
      "metadata": {
        "id": "3pSVAeWfuPcq",
        "colab_type": "text"
      },
      "cell_type": "markdown",
      "source": [
        "# Numpy Examples\n",
        "\n",
        "## What is numpy?\n",
        "\n",
        "#### Python has built-in:\n",
        "\n",
        "-  containers: lists (costless insertion and append), dictionnaries (fast lookup)\n",
        "-  high-level number objects: integers, floating point\n",
        "\n",
        "#### Numpy is:\n",
        "\n",
        " - extension package to Python for multidimensional arrays\n",
        " - closer to hardware (efficiency)\n",
        " - designed for scientific computation (convenience)\n",
        "\n",
        "\n",
        "#### Import numpy\n",
        "\n"
      ]
    },
    {
      "metadata": {
        "id": "ozUi4_X55UHE",
        "colab_type": "code",
        "colab": {}
      },
      "cell_type": "code",
      "source": [
        "import numpy as np"
      ],
      "execution_count": 0,
      "outputs": []
    },
    {
      "metadata": {
        "id": "3-1ghFDF5N2z",
        "colab_type": "text"
      },
      "cell_type": "markdown",
      "source": [
        "### Uncomment Print statement and run each cell to see the output\n",
        "\n",
        "#### Create numpy arrays\n"
      ]
    },
    {
      "metadata": {
        "id": "atYpk2ert0b-",
        "colab_type": "code",
        "colab": {
          "base_uri": "https://localhost:8080/",
          "height": 84
        },
        "outputId": "736cb19a-6c30-48a8-ac72-a3e44ac307b6"
      },
      "cell_type": "code",
      "source": [
        "a = np.array([1, 2, 3])   # Create a rank 1 array\n",
        "print(a)\n",
        "print(type(a)) #print type of a\n",
        "\n",
        "b = np.array([[1,2,3],[4,5,6]])    # Create a rank 2 array\n",
        "print(b.shape)                     # Prints \"(2, 3)\"\n",
        "print(b[0, 0], b[0, 1], b[1, 0])"
      ],
      "execution_count": 6,
      "outputs": [
        {
          "output_type": "stream",
          "text": [
            "[1 2 3]\n",
            "<class 'numpy.ndarray'>\n",
            "(2, 3)\n",
            "1 2 4\n"
          ],
          "name": "stdout"
        }
      ]
    },
    {
      "metadata": {
        "id": "Kro5ZOwXue5n",
        "colab_type": "text"
      },
      "cell_type": "markdown",
      "source": [
        "#### Some basic functions for creating arrays. Print all the defined arrays and see the results."
      ]
    },
    {
      "metadata": {
        "id": "V3rdzgr9uhHS",
        "colab_type": "code",
        "colab": {
          "base_uri": "https://localhost:8080/",
          "height": 218
        },
        "outputId": "b3ead4ac-522b-4ff5-afbb-85a500786ee3"
      },
      "cell_type": "code",
      "source": [
        "a = np.zeros(shape=(2,2))\n",
        "b = np.ones(shape = (3,3))\n",
        "c = np.eye(2)\n",
        "d = np.full(shape=(3,3), fill_value=5)\n",
        "e = np.random.random((2,2))\n",
        "\n",
        "print('a', a)\n",
        "print('b',b)\n",
        "print('c',c)\n",
        "print('d',d)\n",
        "print('e',e)"
      ],
      "execution_count": 23,
      "outputs": [
        {
          "output_type": "stream",
          "text": [
            "a [[0. 0.]\n",
            " [0. 0.]]\n",
            "b [[1. 1. 1.]\n",
            " [1. 1. 1.]\n",
            " [1. 1. 1.]]\n",
            "c [[1. 0.]\n",
            " [0. 1.]]\n",
            "d [[5 5 5]\n",
            " [5 5 5]\n",
            " [5 5 5]]\n",
            "e [[0.4611648  0.26782752]\n",
            " [0.07432486 0.56662522]]\n"
          ],
          "name": "stdout"
        }
      ]
    },
    {
      "metadata": {
        "id": "8RPW_SutukjF",
        "colab_type": "text"
      },
      "cell_type": "markdown",
      "source": [
        "#### Execute and understand :)"
      ]
    },
    {
      "metadata": {
        "id": "-8JuqYt4upeo",
        "colab_type": "code",
        "colab": {
          "base_uri": "https://localhost:8080/",
          "height": 168
        },
        "outputId": "70af0fee-9fc0-42c1-e24c-273a9e95ec81"
      },
      "cell_type": "code",
      "source": [
        "a  ==  np.arange(10)\n",
        "b  ==  np.linspace(0,10, num=6)\n",
        "print(a)\n",
        "print(b)"
      ],
      "execution_count": 28,
      "outputs": [
        {
          "output_type": "stream",
          "text": [
            "[[0. 0.]\n",
            " [0. 0.]]\n",
            "[[1. 1. 1.]\n",
            " [1. 1. 1.]\n",
            " [1. 1. 1.]]\n"
          ],
          "name": "stdout"
        },
        {
          "output_type": "stream",
          "text": [
            "/usr/local/lib/python3.6/dist-packages/ipykernel_launcher.py:1: DeprecationWarning: elementwise == comparison failed; this will raise an error in the future.\n",
            "  \"\"\"Entry point for launching an IPython kernel.\n",
            "/usr/local/lib/python3.6/dist-packages/ipykernel_launcher.py:2: DeprecationWarning: elementwise == comparison failed; this will raise an error in the future.\n",
            "  \n"
          ],
          "name": "stderr"
        }
      ]
    },
    {
      "metadata": {
        "id": "MRHhbjx4uvYN",
        "colab_type": "text"
      },
      "cell_type": "markdown",
      "source": [
        "#### Array Indexing"
      ]
    },
    {
      "metadata": {
        "id": "grF5_yUSuxVK",
        "colab_type": "code",
        "colab": {
          "base_uri": "https://localhost:8080/",
          "height": 50
        },
        "outputId": "54ecafd5-6032-4673-caa9-cde3b580d3a0"
      },
      "cell_type": "code",
      "source": [
        "a = np.array([[1,2,3,4], [5,6,7,8], [9,10,11,12]])\n",
        "\n",
        "# Use slicing to pull out the subarray consisting of the first 2 rows\n",
        "# and columns 1 and 2; b is the following array of shape (2, 2):\n",
        "# [[2 3]\n",
        "#  [6 7]]\n",
        "b = a[:2, 1:3]\n",
        "# A slice of an array is a view into the same data, so modifying it\n",
        "# will modify the original array.\n",
        "\n",
        "print(a[0, 1])   # Prints \"2\"\n",
        "\n",
        "b[0, 0] = 77     # b[0, 0] is the same piece of data as a[0, 1]\n",
        "print(a[0, 1])   # Prints \"77\""
      ],
      "execution_count": 31,
      "outputs": [
        {
          "output_type": "stream",
          "text": [
            "2\n",
            "77\n"
          ],
          "name": "stdout"
        }
      ]
    },
    {
      "metadata": {
        "id": "s400Gijxu0kO",
        "colab_type": "text"
      },
      "cell_type": "markdown",
      "source": [
        "#### Slicing"
      ]
    },
    {
      "metadata": {
        "id": "kubpegh2u4zF",
        "colab_type": "code",
        "colab": {
          "base_uri": "https://localhost:8080/",
          "height": 101
        },
        "outputId": "47d3bfb2-1fa5-4fbe-dabc-44bedd07983f"
      },
      "cell_type": "code",
      "source": [
        "a = np.array([[1,2,3,4], [5,6,7,8], [9,10,11,12]])\n",
        "row_r1 = a[1, :]    # Rank 1 view of the second row of a\n",
        "row_r2 = a[1:2, :]  # Rank 2 view of the second row of a\n",
        "\n",
        "print(row_r1, row_r1.shape)  # Prints \"[5 6 7 8] (4,)\"\n",
        "print(row_r2, row_r2.shape)  # Prints \"[[5 6 7 8]] (1, 4)\"\n",
        "\n",
        "col_r1 = a[:, 1]\n",
        "col_r2 = a[:, 1:2]\n",
        "\n",
        "print(col_r1, col_r1.shape)  # Prints \"[ 2  6 10] (3,)\"\n",
        "print(col_r2, col_r2.shape)"
      ],
      "execution_count": 37,
      "outputs": [
        {
          "output_type": "stream",
          "text": [
            "[5 6 7 8] (4,)\n",
            "[[5 6 7 8]] (1, 4)\n",
            "[[ 2]\n",
            " [ 6]\n",
            " [10]] (3, 1)\n"
          ],
          "name": "stdout"
        }
      ]
    },
    {
      "metadata": {
        "id": "TmGnCO3AvE8t",
        "colab_type": "text"
      },
      "cell_type": "markdown",
      "source": [
        "#### Aritmetic operations"
      ]
    },
    {
      "metadata": {
        "id": "YvBw3ImjvGqD",
        "colab_type": "code",
        "colab": {}
      },
      "cell_type": "code",
      "source": [
        "x = np.array([[1,2],[3,4]])\n",
        "\n",
        "print(np.sum(x))  # Compute sum of all elements; prints \"10\"\n",
        "print(np.sum(x, axis=0))  # Compute sum of each column; prints \"[4 6]\"\n",
        "print(np.sum(x, axis=1))  # Compute sum of each row; prints \"[3 7]\""
      ],
      "execution_count": 0,
      "outputs": []
    },
    {
      "metadata": {
        "id": "uaVY3ZzD4pC2",
        "colab_type": "text"
      },
      "cell_type": "markdown",
      "source": [
        "#### Using Boolean Mask"
      ]
    },
    {
      "metadata": {
        "id": "-PNfOMvh4_Gp",
        "colab_type": "code",
        "colab": {
          "base_uri": "https://localhost:8080/",
          "height": 67
        },
        "outputId": "2e5dadfe-1de2-4e0d-e5e0-15a1eed60197"
      },
      "cell_type": "code",
      "source": [
        "b = np.arange(10)\n",
        "print(b)\n",
        "mask = b%2!=0 #perform computations on the list \n",
        "print(mask)\n",
        "print(b[mask]) #applying the mask on the numpy array\n"
      ],
      "execution_count": 38,
      "outputs": [
        {
          "output_type": "stream",
          "text": [
            "[0 1 2 3 4 5 6 7 8 9]\n",
            "[False  True False  True False  True False  True False  True]\n",
            "[1 3 5 7 9]\n"
          ],
          "name": "stdout"
        }
      ]
    },
    {
      "metadata": {
        "id": "HbEPBbz-5J9K",
        "colab_type": "code",
        "colab": {
          "base_uri": "https://localhost:8080/",
          "height": 34
        },
        "outputId": "252cdb05-9a76-4837-d894-b14ce6343281"
      },
      "cell_type": "code",
      "source": [
        "modified_b = b\n",
        "modified_b[mask] = -1\n",
        "\n",
        "print(modified_b)"
      ],
      "execution_count": 39,
      "outputs": [
        {
          "output_type": "stream",
          "text": [
            "[ 0 -1  2 -1  4 -1  6 -1  8 -1]\n"
          ],
          "name": "stdout"
        }
      ]
    },
    {
      "metadata": {
        "id": "zgSd71EEAHC7",
        "colab_type": "text"
      },
      "cell_type": "markdown",
      "source": [
        "#### Swapping two columns in a 2d numpy array"
      ]
    },
    {
      "metadata": {
        "id": "-cvqeXd_AGo1",
        "colab_type": "code",
        "colab": {
          "base_uri": "https://localhost:8080/",
          "height": 118
        },
        "outputId": "eebdb669-aae9-4d3d-8717-d74b2e6d9b69"
      },
      "cell_type": "code",
      "source": [
        "a = np.arange(9)\n",
        "a=a.reshape(3,3)\n",
        "print(a)\n",
        "print(a[:, [1,0,2]])"
      ],
      "execution_count": 45,
      "outputs": [
        {
          "output_type": "stream",
          "text": [
            "[[0 1 2]\n",
            " [3 4 5]\n",
            " [6 7 8]]\n",
            "[[1 0 2]\n",
            " [4 3 5]\n",
            " [7 6 8]]\n"
          ],
          "name": "stdout"
        }
      ]
    },
    {
      "metadata": {
        "id": "U7ifiLY3Ayky",
        "colab_type": "text"
      },
      "cell_type": "markdown",
      "source": [
        "#### Swapping two rows in a 2d numpy array"
      ]
    },
    {
      "metadata": {
        "id": "0FrOURRDAZNP",
        "colab_type": "code",
        "colab": {
          "base_uri": "https://localhost:8080/",
          "height": 118
        },
        "outputId": "5a494d0f-772d-49de-bfb7-539a3e2667b0"
      },
      "cell_type": "code",
      "source": [
        "a = np.arange(9)\n",
        "a=a.reshape(3,3)\n",
        "print(a)\n",
        "print(a[[1,0,2], :])"
      ],
      "execution_count": 49,
      "outputs": [
        {
          "output_type": "stream",
          "text": [
            "[[0 1 2]\n",
            " [3 4 5]\n",
            " [6 7 8]]\n",
            "[[3 4 5]\n",
            " [0 1 2]\n",
            " [6 7 8]]\n"
          ],
          "name": "stdout"
        }
      ]
    },
    {
      "metadata": {
        "id": "Ao_fbw6JbVCL",
        "colab_type": "code",
        "colab": {}
      },
      "cell_type": "code",
      "source": [
        ""
      ],
      "execution_count": 0,
      "outputs": []
    }
  ]
}