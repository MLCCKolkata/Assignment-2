{
  "nbformat": 4,
  "nbformat_minor": 0,
  "metadata": {
    "colab": {
      "name": "AhamedMohammedHussain.ipynb",
      "version": "0.3.2",
      "provenance": []
    },
    "kernelspec": {
      "display_name": "Python 3",
      "language": "python",
      "name": "python3"
    }
  },
  "cells": [
    {
      "metadata": {
        "id": "-cJi03bTa-5x",
        "colab_type": "code",
        "colab": {}
      },
      "cell_type": "code",
      "source": [
        "#1) Create any random list and assign it to a variable dummy_list\n",
        "dummy_list=[11,12,13,14,15]"
      ],
      "execution_count": 0,
      "outputs": []
    },
    {
      "metadata": {
        "id": "WuwrxH-7bLUQ",
        "colab_type": "code",
        "colab": {
          "base_uri": "https://localhost:8080/",
          "height": 33
        },
        "outputId": "e57b1e22-a664-4ede-e724-bb85a1862f53"
      },
      "cell_type": "code",
      "source": [
        "#2) print dummy_list\n",
        "print(dummy_list)"
      ],
      "execution_count": 6,
      "outputs": [
        {
          "output_type": "stream",
          "text": [
            "[11, 12, 13, 14, 15]\n"
          ],
          "name": "stdout"
        }
      ]
    },
    {
      "metadata": {
        "id": "yRYlvRqnbTNY",
        "colab_type": "code",
        "colab": {
          "base_uri": "https://localhost:8080/",
          "height": 33
        },
        "outputId": "9df7d900-e273-48de-85f8-73ca251afe0a"
      },
      "cell_type": "code",
      "source": [
        "#3) Reverse dummy_list and print\n",
        "dummy_list.reverse()\n",
        "print(dummy_list)"
      ],
      "execution_count": 7,
      "outputs": [
        {
          "output_type": "stream",
          "text": [
            "[15, 14, 13, 12, 11]\n"
          ],
          "name": "stdout"
        }
      ]
    },
    {
      "metadata": {
        "id": "vjMqgBi8baUp",
        "colab_type": "code",
        "colab": {
          "base_uri": "https://localhost:8080/",
          "height": 33
        },
        "outputId": "5cfe5520-d218-42ec-adf3-7be05e36f040"
      },
      "cell_type": "code",
      "source": [
        "#4) Add the list dummy_list_2 to the previous dummy_list and now print dummy_list\n",
        "dummy_list_2 = [2, 200, 16, 4, 1, 0, 9.45, 45.67, 90, 12.01, 12.02]\n",
        "dummy_list=dummy_list + dummy_list_2\n",
        "print(dummy_list)"
      ],
      "execution_count": 8,
      "outputs": [
        {
          "output_type": "stream",
          "text": [
            "[15, 14, 13, 12, 11, 2, 200, 16, 4, 1, 0, 9.45, 45.67, 90, 12.01, 12.02]\n"
          ],
          "name": "stdout"
        }
      ]
    },
    {
      "metadata": {
        "id": "QocFtkJQbjvJ",
        "colab_type": "code",
        "colab": {}
      },
      "cell_type": "code",
      "source": [
        "#5) Create a dictionary named dummy_dict which contains all the elements of dummy_list as keys and frequency as values.\n",
        "dummy_dict={15:1,14:1,13:1,12:1,11:1,2:1,200:1,16:1,4:1,1:1,0:1,9.45:1,45.67:1,90:1,12.01:1,12.02:1}"
      ],
      "execution_count": 0,
      "outputs": []
    },
    {
      "metadata": {
        "id": "mgSSkR5uceL-",
        "colab_type": "code",
        "colab": {
          "base_uri": "https://localhost:8080/",
          "height": 33
        },
        "outputId": "ad368a1a-d413-4cb2-b923-5f504fb3efa7"
      },
      "cell_type": "code",
      "source": [
        "#6) print dummy_dict\n",
        "print(dummy_dict)"
      ],
      "execution_count": 10,
      "outputs": [
        {
          "output_type": "stream",
          "text": [
            "{15: 1, 14: 1, 13: 1, 12: 1, 11: 1, 2: 1, 200: 1, 16: 1, 4: 1, 1: 1, 0: 1, 9.45: 1, 45.67: 1, 90: 1, 12.01: 1, 12.02: 1}\n"
          ],
          "name": "stdout"
        }
      ]
    },
    {
      "metadata": {
        "id": "OsT3B_-Bci-o",
        "colab_type": "code",
        "colab": {
          "base_uri": "https://localhost:8080/",
          "height": 50
        },
        "outputId": "f313765b-32ca-4e60-f09b-59109786e98e"
      },
      "cell_type": "code",
      "source": [
        "#7) Sort dummy_list in ascending order as well as descending order and print the changed lists\n",
        "dummy_list.sort()\n",
        "print(dummy_list)\n",
        "dummy_list.sort(reverse=True)\n",
        "print(dummy_list)"
      ],
      "execution_count": 11,
      "outputs": [
        {
          "output_type": "stream",
          "text": [
            "[0, 1, 2, 4, 9.45, 11, 12, 12.01, 12.02, 13, 14, 15, 16, 45.67, 90, 200]\n",
            "[200, 90, 45.67, 16, 15, 14, 13, 12.02, 12.01, 12, 11, 9.45, 4, 2, 1, 0]\n"
          ],
          "name": "stdout"
        }
      ]
    },
    {
      "metadata": {
        "id": "G_4y9w3Ncp9l",
        "colab_type": "code",
        "colab": {
          "base_uri": "https://localhost:8080/",
          "height": 33
        },
        "outputId": "eee72dcd-888b-456f-f2a7-06736ab1e478"
      },
      "cell_type": "code",
      "source": [
        "#8) Remove the first item from the list whose value is equal to x. It raises a ValueError if there is no such item.\n",
        "x=200\n",
        "i=0\n",
        "j=0\n",
        "for i in dummy_list:\n",
        "  if i==x :\n",
        "    dummy_list.remove(i)\n",
        "    break\n",
        "  else:\n",
        "    i=i+1\n",
        "    j=j+1\n",
        "  \n",
        "if j==len(dummy_list):\n",
        "  print(\"ValueError\")\n",
        "else:\n",
        "  print(dummy_list)"
      ],
      "execution_count": 12,
      "outputs": [
        {
          "output_type": "stream",
          "text": [
            "[90, 45.67, 16, 15, 14, 13, 12.02, 12.01, 12, 11, 9.45, 4, 2, 1, 0]\n"
          ],
          "name": "stdout"
        }
      ]
    },
    {
      "metadata": {
        "id": "zVDdxIM2dR8R",
        "colab_type": "code",
        "colab": {
          "base_uri": "https://localhost:8080/",
          "height": 33
        },
        "outputId": "0678ced3-d244-4a25-c372-49aab9e4728e"
      },
      "cell_type": "code",
      "source": [
        "#9) Remove the item at position x. x is any random integer\n",
        "x=5\n",
        "if(x>len(dummy_list)):\n",
        "  print(\"Out of Range\")\n",
        "else:\n",
        "  del dummy_list[x]\n",
        "print(dummy_list)"
      ],
      "execution_count": 13,
      "outputs": [
        {
          "output_type": "stream",
          "text": [
            "[90, 45.67, 16, 15, 14, 12.02, 12.01, 12, 11, 9.45, 4, 2, 1, 0]\n"
          ],
          "name": "stdout"
        }
      ]
    },
    {
      "metadata": {
        "id": "OmedgBmgdiV3",
        "colab_type": "code",
        "colab": {
          "base_uri": "https://localhost:8080/",
          "height": 33
        },
        "outputId": "4faa6053-658e-4550-951a-c33c805f197e"
      },
      "cell_type": "code",
      "source": [
        "#10) Let's clean everything clear the list and then print\n",
        "del dummy_list[:]\n",
        "print(dummy_list)"
      ],
      "execution_count": 14,
      "outputs": [
        {
          "output_type": "stream",
          "text": [
            "[]\n"
          ],
          "name": "stdout"
        }
      ]
    }
  ]
}