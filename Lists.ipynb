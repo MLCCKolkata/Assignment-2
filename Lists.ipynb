{
  "nbformat": 4,
  "nbformat_minor": 0,
  "metadata": {
    "colab": {
      "name": "Lists.ipynb",
      "version": "0.3.2",
      "provenance": [],
      "include_colab_link": true
    },
    "kernelspec": {
      "name": "python3",
      "display_name": "Python 3"
    }
  },
  "cells": [
    {
      "cell_type": "markdown",
      "metadata": {
        "id": "view-in-github",
        "colab_type": "text"
      },
      "source": [
        "[View in Colaboratory](https://colab.research.google.com/github/MonojitBag/Assignment-2/blob/MonojitBag/Lists.ipynb)"
      ]
    },
    {
      "metadata": {
        "id": "e0R1W0Vzm4UU",
        "colab_type": "text"
      },
      "cell_type": "markdown",
      "source": [
        "# Exercise - List"
      ]
    },
    {
      "metadata": {
        "id": "TrO7XNQnnQZ7",
        "colab_type": "text"
      },
      "cell_type": "markdown",
      "source": [
        "1) Create  any random list and assign it to a variable dummy_list"
      ]
    },
    {
      "metadata": {
        "id": "bjl-2QkznWid",
        "colab_type": "code",
        "colab": {}
      },
      "cell_type": "code",
      "source": [
        "dummy_list=[1,52,46,78,52,65,45,25,23,49,50]"
      ],
      "execution_count": 0,
      "outputs": []
    },
    {
      "metadata": {
        "id": "cDjddNGfngnp",
        "colab_type": "text"
      },
      "cell_type": "markdown",
      "source": [
        "2) print dummy_list"
      ]
    },
    {
      "metadata": {
        "id": "RVL5178inz9M",
        "colab_type": "code",
        "colab": {
          "base_uri": "https://localhost:8080/",
          "height": 35
        },
        "outputId": "42b07993-7f7a-4f5b-ec87-a3b891ba5839"
      },
      "cell_type": "code",
      "source": [
        "dummy_list=[1,52,46,78,52,65,45,25,23,49,50]\n",
        "print(dummy_list)"
      ],
      "execution_count": 1,
      "outputs": [
        {
          "output_type": "stream",
          "text": [
            "[1, 52, 46, 78, 52, 65, 45, 25, 23, 49, 50]\n"
          ],
          "name": "stdout"
        }
      ]
    },
    {
      "metadata": {
        "id": "15jKDXxkn16M",
        "colab_type": "text"
      },
      "cell_type": "markdown",
      "source": [
        "3) Reverse dummy_list and print"
      ]
    },
    {
      "metadata": {
        "id": "bYa9gFOOn-4o",
        "colab_type": "code",
        "colab": {
          "base_uri": "https://localhost:8080/",
          "height": 35
        },
        "outputId": "9aeb6f4e-e962-4020-f2ba-3b7b1d2c3cbc"
      },
      "cell_type": "code",
      "source": [
        "dummy_list=[1,52,46,78,52,65,45,25,23,49,50]\n",
        "dummy_list.reverse()\n",
        "print(dummy_list)"
      ],
      "execution_count": 2,
      "outputs": [
        {
          "output_type": "stream",
          "text": [
            "[50, 49, 23, 25, 45, 65, 52, 78, 46, 52, 1]\n"
          ],
          "name": "stdout"
        }
      ]
    },
    {
      "metadata": {
        "id": "EShv0nfXpUys",
        "colab_type": "text"
      },
      "cell_type": "markdown",
      "source": [
        "4) Add the list dummy_list_2 to the previous dummy_list and now print dummy_list"
      ]
    },
    {
      "metadata": {
        "id": "Ngkc7hnYphg6",
        "colab_type": "code",
        "colab": {
          "base_uri": "https://localhost:8080/",
          "height": 35
        },
        "outputId": "1367ca9c-a701-4c08-f71d-e728cd688c6e"
      },
      "cell_type": "code",
      "source": [
        "dummy_list_2 = [2, 200, 16, 4, 1, 0, 9.45, 45.67, 90, 12.01, 12.02]\n",
        "dummy_list_1=[1,52,46,78,52,65,45,25,23,49,50]\n",
        "dummy_list=dummy_list_1+dummy_list_2\n",
        "print (dummy_list)"
      ],
      "execution_count": 3,
      "outputs": [
        {
          "output_type": "stream",
          "text": [
            "[1, 52, 46, 78, 52, 65, 45, 25, 23, 49, 50, 2, 200, 16, 4, 1, 0, 9.45, 45.67, 90, 12.01, 12.02]\n"
          ],
          "name": "stdout"
        }
      ]
    },
    {
      "metadata": {
        "id": "Le1aRTuYoDzS",
        "colab_type": "text"
      },
      "cell_type": "markdown",
      "source": [
        "5) Create a dictionary named dummy_dict which contains all the elements of dummy_list as keys and frequency as values. "
      ]
    },
    {
      "metadata": {
        "id": "VHfSR_Csthnk",
        "colab_type": "code",
        "colab": {
          "base_uri": "https://localhost:8080/",
          "height": 311
        },
        "outputId": "86173a15-e40a-4566-a544-4395658a17ae"
      },
      "cell_type": "code",
      "source": [
        "dummy_dict={}\n",
        "dummy_dict[\"my_list\"]=[1,52,46,78,52,65,45,25,23,49,50]\n",
        "dummy_dict[\"sub_dict\"]={\"key\": \"value\"}\n",
        "dummy_dict[\"my_set\"]=set([1,52,46,78,52,65,45,25,23,49,50])\n",
        "dummy_dict[(15.335,56.456)]=(\"Everest\",\"Nepal\",8356)\n",
        "for key,value in dummy_dict.items():\n",
        "  print(\"key:{}\\nValue: {}\\n\\n\".format(key,value))\n"
      ],
      "execution_count": 9,
      "outputs": [
        {
          "output_type": "stream",
          "text": [
            "key:my_list\n",
            "Value: [1, 52, 46, 78, 52, 65, 45, 25, 23, 49, 50]\n",
            "\n",
            "\n",
            "key:sub_dict\n",
            "Value: {'key': 'value'}\n",
            "\n",
            "\n",
            "key:my_set\n",
            "Value: {65, 1, 45, 46, 78, 49, 50, 52, 23, 25}\n",
            "\n",
            "\n",
            "key:(15.335, 56.456)\n",
            "Value: ('Everest', 'Nepal', 8356)\n",
            "\n",
            "\n"
          ],
          "name": "stdout"
        }
      ]
    },
    {
      "metadata": {
        "id": "rtPC6WkSos-y",
        "colab_type": "code",
        "colab": {}
      },
      "cell_type": "code",
      "source": [
        ""
      ],
      "execution_count": 0,
      "outputs": []
    },
    {
      "metadata": {
        "id": "RgCYpFXGou6q",
        "colab_type": "text"
      },
      "cell_type": "markdown",
      "source": [
        "6) print dummy_dict"
      ]
    },
    {
      "metadata": {
        "id": "qe5E5IgxpTWU",
        "colab_type": "code",
        "colab": {
          "base_uri": "https://localhost:8080/",
          "height": 311
        },
        "outputId": "b8fde1be-3953-4a00-af63-45fc3d719678"
      },
      "cell_type": "code",
      "source": [
        "dummy_dict={}\n",
        "dummy_dict[\"my_list\"]=[1,52,46,78,52,65,45,25,23,49,50]\n",
        "dummy_dict[\"sub_dict\"]={\"key\": \"value\"}\n",
        "dummy_dict[\"my_set\"]=set([1,52,46,78,52,65,45,25,23,49,50])\n",
        "dummy_dict[(15.335,56.456)]=(\"Everest\",\"Nepal\",8356)\n",
        "for key,value in dummy_dict.items():\n",
        "  print(\"key:{}\\nValue: {}\\n\\n\".format(key,value))"
      ],
      "execution_count": 10,
      "outputs": [
        {
          "output_type": "stream",
          "text": [
            "key:my_list\n",
            "Value: [1, 52, 46, 78, 52, 65, 45, 25, 23, 49, 50]\n",
            "\n",
            "\n",
            "key:sub_dict\n",
            "Value: {'key': 'value'}\n",
            "\n",
            "\n",
            "key:my_set\n",
            "Value: {65, 1, 45, 46, 78, 49, 50, 52, 23, 25}\n",
            "\n",
            "\n",
            "key:(15.335, 56.456)\n",
            "Value: ('Everest', 'Nepal', 8356)\n",
            "\n",
            "\n"
          ],
          "name": "stdout"
        }
      ]
    },
    {
      "metadata": {
        "id": "8n_nsBDup4--",
        "colab_type": "text"
      },
      "cell_type": "markdown",
      "source": [
        "7) Sort dummy_list in ascending order as well as descending order and print the changed lists "
      ]
    },
    {
      "metadata": {
        "id": "Z_m7vr26qKnK",
        "colab_type": "code",
        "colab": {
          "base_uri": "https://localhost:8080/",
          "height": 35
        },
        "outputId": "d5300675-0fff-44f4-d28a-4f945c60a633"
      },
      "cell_type": "code",
      "source": [
        "dummy_list_2 = [2, 200, 16, 4, 1, 0, 9.45, 45.67, 90, 12.01, 12.02]\n",
        "dummy_list_1=[1,52,46,78,52,65,45,25,23,49,50]\n",
        "dummy_list=dummy_list_1+dummy_list_2\n",
        "dummy_list.sort()\n",
        "print (dummy_list)"
      ],
      "execution_count": 4,
      "outputs": [
        {
          "output_type": "stream",
          "text": [
            "[0, 1, 1, 2, 4, 9.45, 12.01, 12.02, 16, 23, 25, 45, 45.67, 46, 49, 50, 52, 52, 65, 78, 90, 200]\n"
          ],
          "name": "stdout"
        }
      ]
    },
    {
      "metadata": {
        "id": "Znm5Qo4LqPKA",
        "colab_type": "text"
      },
      "cell_type": "markdown",
      "source": [
        "8) Remove the first item from the list whose value is equal to x. It raises a ValueError if there is no such item."
      ]
    },
    {
      "metadata": {
        "id": "1-8mlngDqYvS",
        "colab_type": "code",
        "colab": {
          "base_uri": "https://localhost:8080/",
          "height": 35
        },
        "outputId": "3908c52b-87eb-4f2d-b458-e678719fecc1"
      },
      "cell_type": "code",
      "source": [
        "x = 200\n",
        "dummy_list_2 = [2, 200, 16, 4, 1, 0, 9.45, 45.67, 90, 12.01, 12.02]\n",
        "dummy_list_1=[1,52,46,78,52,65,45,25,23,49,50]\n",
        "dummy_list=dummy_list_1+dummy_list_2\n",
        "dummy_list.sort()\n",
        "dummy_list.remove(x)\n",
        "print (dummy_list)\n",
        "# Let's play: try the same with something which is not in the list to get the ValueError"
      ],
      "execution_count": 5,
      "outputs": [
        {
          "output_type": "stream",
          "text": [
            "[0, 1, 1, 2, 4, 9.45, 12.01, 12.02, 16, 23, 25, 45, 45.67, 46, 49, 50, 52, 52, 65, 78, 90]\n"
          ],
          "name": "stdout"
        }
      ]
    },
    {
      "metadata": {
        "id": "QPB6iGbeqviN",
        "colab_type": "text"
      },
      "cell_type": "markdown",
      "source": [
        "9) Remove the item at position x. x is any random integer"
      ]
    },
    {
      "metadata": {
        "id": "aMyo1gmRrVHo",
        "colab_type": "code",
        "colab": {
          "base_uri": "https://localhost:8080/",
          "height": 54
        },
        "outputId": "98b8d8b3-c8a8-40ae-b643-32e91bc9ac78"
      },
      "cell_type": "code",
      "source": [
        "# Ledummy_list_2 = [2, 200, 16, 4, 1, 0, 9.45, 45.67, 90, 12.01, 12.02]\n",
        "x=int(input(\"value\"))\n",
        "dummy_list_1=[1,52,46,78,52,65,45,25,23,49,50]\n",
        "dummy_list=dummy_list_1+dummy_list_2\n",
        "dummy_list.sort()\n",
        "dummy_list.remove(x)\n",
        "print (dummy_list)"
      ],
      "execution_count": 7,
      "outputs": [
        {
          "output_type": "stream",
          "text": [
            "value52\n",
            "[0, 1, 1, 2, 4, 9.45, 12.01, 12.02, 16, 23, 25, 45, 45.67, 46, 49, 50, 52, 65, 78, 90, 200]\n"
          ],
          "name": "stdout"
        }
      ]
    },
    {
      "metadata": {
        "id": "bqQnnsr8rm6G",
        "colab_type": "text"
      },
      "cell_type": "markdown",
      "source": [
        "10) Let's clean everything clear the list and then print"
      ]
    },
    {
      "metadata": {
        "id": "qBC8lKpLrtJW",
        "colab_type": "code",
        "colab": {
          "base_uri": "https://localhost:8080/",
          "height": 35
        },
        "outputId": "b8e833a8-33ed-4b4a-cf54-0ff931afd97d"
      },
      "cell_type": "code",
      "source": [
        "dummy_list_1=[1,52,46,78,52,65,45,25,23,49,50]\n",
        "dummy_list=dummy_list_1+dummy_list_2\n",
        "dummy_list.sort()\n",
        "print (dummy_list)"
      ],
      "execution_count": 8,
      "outputs": [
        {
          "output_type": "stream",
          "text": [
            "[0, 1, 1, 2, 4, 9.45, 12.01, 12.02, 16, 23, 25, 45, 45.67, 46, 49, 50, 52, 52, 65, 78, 90, 200]\n"
          ],
          "name": "stdout"
        }
      ]
    }
  ]
}