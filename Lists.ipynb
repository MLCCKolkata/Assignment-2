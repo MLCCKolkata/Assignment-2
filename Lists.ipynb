{
  "nbformat": 4,
  "nbformat_minor": 0,
  "metadata": {
    "colab": {
      "name": "Lists.ipynb",
      "version": "0.3.2",
      "provenance": [],
      "include_colab_link": true
    },
    "kernelspec": {
      "name": "python3",
      "display_name": "Python 3"
    }
  },
  "cells": [
    {
      "cell_type": "markdown",
      "metadata": {
        "id": "view-in-github",
        "colab_type": "text"
      },
      "source": [
        "[View in Colaboratory](https://colab.research.google.com/github/dineshnadimpalli/Assignment-2/blob/dineshnadimpalli/Lists.ipynb)"
      ]
    },
    {
      "metadata": {
        "id": "e0R1W0Vzm4UU",
        "colab_type": "text"
      },
      "cell_type": "markdown",
      "source": [
        "# Exercise - List"
      ]
    },
    {
      "metadata": {
        "id": "TrO7XNQnnQZ7",
        "colab_type": "text"
      },
      "cell_type": "markdown",
      "source": [
        "1) Create  any random list and assign it to a variable dummy_list"
      ]
    },
    {
      "metadata": {
        "id": "bjl-2QkznWid",
        "colab_type": "code",
        "colab": {}
      },
      "cell_type": "code",
      "source": [
        "dummy_list = [\"Hi\", \"ML\", \"Kolkata\"]"
      ],
      "execution_count": 0,
      "outputs": []
    },
    {
      "metadata": {
        "id": "cDjddNGfngnp",
        "colab_type": "text"
      },
      "cell_type": "markdown",
      "source": [
        "2) print dummy_list"
      ]
    },
    {
      "metadata": {
        "id": "RVL5178inz9M",
        "colab_type": "code",
        "colab": {
          "base_uri": "https://localhost:8080/",
          "height": 34
        },
        "outputId": "fbcd00a3-843b-49c0-bd6d-7b4e3069d33b"
      },
      "cell_type": "code",
      "source": [
        "print(dummy_list)"
      ],
      "execution_count": 10,
      "outputs": [
        {
          "output_type": "stream",
          "text": [
            "['Hi', 'ML', 'Kolkata']\n"
          ],
          "name": "stdout"
        }
      ]
    },
    {
      "metadata": {
        "id": "15jKDXxkn16M",
        "colab_type": "text"
      },
      "cell_type": "markdown",
      "source": [
        "3) Reverse dummy_list and print"
      ]
    },
    {
      "metadata": {
        "id": "bYa9gFOOn-4o",
        "colab_type": "code",
        "colab": {
          "base_uri": "https://localhost:8080/",
          "height": 34
        },
        "outputId": "f40316c6-a1d3-4fb2-e33d-b979e991a297"
      },
      "cell_type": "code",
      "source": [
        "dummy_list.reverse()\n",
        "print(dummy_list)"
      ],
      "execution_count": 81,
      "outputs": [
        {
          "output_type": "stream",
          "text": [
            "['Kolkata', 'ML', 'Hi']\n"
          ],
          "name": "stdout"
        }
      ]
    },
    {
      "metadata": {
        "id": "EShv0nfXpUys",
        "colab_type": "text"
      },
      "cell_type": "markdown",
      "source": [
        "4) Add the list dummy_list_2 to the previous dummy_list and now print dummy_list"
      ]
    },
    {
      "metadata": {
        "id": "Ngkc7hnYphg6",
        "colab_type": "code",
        "colab": {
          "base_uri": "https://localhost:8080/",
          "height": 34
        },
        "outputId": "d6b11246-2690-49e0-ebac-3d294f85c05e"
      },
      "cell_type": "code",
      "source": [
        "dummy_list_2 = [2, 200, 16, 4, 1, 0, 9.45, 45.67, 90, 12.01, 12.02]\n",
        "dummy_list.extend(dummy_list_2)\n",
        "print(dummy_list)"
      ],
      "execution_count": 82,
      "outputs": [
        {
          "output_type": "stream",
          "text": [
            "['Kolkata', 'ML', 'Hi', 2, 200, 16, 4, 1, 0, 9.45, 45.67, 90, 12.01, 12.02]\n"
          ],
          "name": "stdout"
        }
      ]
    },
    {
      "metadata": {
        "id": "Le1aRTuYoDzS",
        "colab_type": "text"
      },
      "cell_type": "markdown",
      "source": [
        "5) Create a dictionary named dummy_dict which contains all the elements of dummy_list as keys and frequency as values. "
      ]
    },
    {
      "metadata": {
        "id": "VHfSR_Csthnk",
        "colab_type": "code",
        "colab": {}
      },
      "cell_type": "code",
      "source": [
        "dummy_list_freq=[3,1,6,4,2,11,7,44,22,5,90,43,12,31]\n",
        "dummy_dict = dict(zip(dummy_list, dummy_list_freq))\n"
      ],
      "execution_count": 0,
      "outputs": []
    },
    {
      "metadata": {
        "id": "rtPC6WkSos-y",
        "colab_type": "code",
        "colab": {}
      },
      "cell_type": "code",
      "source": [
        ""
      ],
      "execution_count": 0,
      "outputs": []
    },
    {
      "metadata": {
        "id": "RgCYpFXGou6q",
        "colab_type": "text"
      },
      "cell_type": "markdown",
      "source": [
        "6) print dummy_dict"
      ]
    },
    {
      "metadata": {
        "id": "qe5E5IgxpTWU",
        "colab_type": "code",
        "colab": {
          "base_uri": "https://localhost:8080/",
          "height": 34
        },
        "outputId": "3ceb7db9-8fe5-4c18-f148-9ac1f62903f9"
      },
      "cell_type": "code",
      "source": [
        "print(dummy_dict)"
      ],
      "execution_count": 17,
      "outputs": [
        {
          "output_type": "stream",
          "text": [
            "{'Kolkata': 3, 'ML': 1, 'Hi': 6, 2: 4, 200: 2, 16: 11, 4: 7, 1: 44, 0: 22, 9.45: 5, 45.67: 90, 90: 43, 12.01: 12, 12.02: 31}\n"
          ],
          "name": "stdout"
        }
      ]
    },
    {
      "metadata": {
        "id": "8n_nsBDup4--",
        "colab_type": "text"
      },
      "cell_type": "markdown",
      "source": [
        "7) Sort dummy_list in ascending order as well as descending order and print the changed lists "
      ]
    },
    {
      "metadata": {
        "id": "Z_m7vr26qKnK",
        "colab_type": "code",
        "colab": {
          "base_uri": "https://localhost:8080/",
          "height": 68
        },
        "outputId": "43007421-d123-4d71-d94c-ecfd715acacd"
      },
      "cell_type": "code",
      "source": [
        "def ConvertToDict(dictionary, dummy_list):\n",
        "  dictionary = dict(dummy_list)\n",
        "  return dictionary\n",
        "\n",
        "asc_sorted = sorted(dummy_dict.items(), key=lambda kv: kv[1])\n",
        "asc_dict={}\n",
        "print(\"Sorted dict in ascending order: \" + str(ConvertToDict(asc_dict, asc_sorted))+ \"\\n\")\n",
        "\n",
        "des_sorted = sorted(dummy_dict.items(), key=lambda kv: kv[1], reverse = True)\n",
        "des_dict={}\n",
        "print(\"Sorted dict in descending order: \" + str(ConvertToDict(des_dict, des_sorted)))\n",
        "  "
      ],
      "execution_count": 27,
      "outputs": [
        {
          "output_type": "stream",
          "text": [
            "Sorted dict in ascending order: {'ML': 1, 200: 2, 'Kolkata': 3, 2: 4, 9.45: 5, 'Hi': 6, 4: 7, 16: 11, 12.01: 12, 0: 22, 12.02: 31, 90: 43, 1: 44, 45.67: 90}\n",
            "\n",
            "Sorted dict in descending order: {45.67: 90, 1: 44, 90: 43, 12.02: 31, 0: 22, 12.01: 12, 16: 11, 4: 7, 'Hi': 6, 9.45: 5, 2: 4, 'Kolkata': 3, 200: 2, 'ML': 1}\n"
          ],
          "name": "stdout"
        }
      ]
    },
    {
      "metadata": {
        "id": "Znm5Qo4LqPKA",
        "colab_type": "text"
      },
      "cell_type": "markdown",
      "source": [
        "\n",
        "8) Remove the first item from the list whose value is equal to x. It raises a ValueError if there is no such item."
      ]
    },
    {
      "metadata": {
        "id": "1-8mlngDqYvS",
        "colab_type": "code",
        "colab": {
          "base_uri": "https://localhost:8080/",
          "height": 85
        },
        "outputId": "f2b600fa-65b2-478c-c32b-e14e5fa5b891"
      },
      "cell_type": "code",
      "source": [
        "x = 200\n",
        "\n",
        "print(dummy_list)\n",
        "print(\"\\n\")\n",
        "\n",
        "length = len(dummy_list)\n",
        "\n",
        "# print(length)\n",
        "\n",
        "for i in dummy_list:\n",
        "  if(i == x):\n",
        "    dummy_list.remove(i)\n",
        "    \n",
        "# print(len(dummy_list))\n",
        "\n",
        "if(length == len(dummy_list)):\n",
        "  raise ValueError(\"Item not found\")\n",
        "    \n",
        "print(dummy_list)\n",
        "\n",
        "# Let's play: try the same with something which is not in the list to get the ValueError"
      ],
      "execution_count": 83,
      "outputs": [
        {
          "output_type": "stream",
          "text": [
            "['Kolkata', 'ML', 'Hi', 2, 200, 16, 4, 1, 0, 9.45, 45.67, 90, 12.01, 12.02]\n",
            "\n",
            "\n",
            "['Kolkata', 'ML', 'Hi', 2, 16, 4, 1, 0, 9.45, 45.67, 90, 12.01, 12.02]\n"
          ],
          "name": "stdout"
        }
      ]
    },
    {
      "metadata": {
        "id": "QPB6iGbeqviN",
        "colab_type": "text"
      },
      "cell_type": "markdown",
      "source": [
        "9) Remove the item at position x. x is any random integer"
      ]
    },
    {
      "metadata": {
        "id": "aMyo1gmRrVHo",
        "colab_type": "code",
        "colab": {
          "base_uri": "https://localhost:8080/",
          "height": 136
        },
        "outputId": "98a027fa-a720-4a66-8724-51d5556ebbbd"
      },
      "cell_type": "code",
      "source": [
        "# Let's play: try doing the same with x > len(dummy_list) + 1 and see what you get\n",
        "\n",
        "import random\n",
        "\n",
        "# print(len(dummy_list))\n",
        "\n",
        "x = random.randint(1, len(dummy_list))\n",
        "# x = len(dummy_list)+1\n",
        "print(x)\n",
        "print(\"\\n\")\n",
        "print(dummy_list)\n",
        "print(\"\\n\")\n",
        "\n",
        "dummy_list.pop(x)\n",
        "print(dummy_list)"
      ],
      "execution_count": 50,
      "outputs": [
        {
          "output_type": "stream",
          "text": [
            "14\n",
            "\n",
            "\n",
            "['Hi', 2, 16, 4, 1, 9.45, 45.67, 90, 12.01, 2, 200, 16, 4, 1, 0, 9.45, 45.67, 90, 2, 200, 16, 4, 1, 0, 9.45, 45.67, 90, 12.01, 12.02]\n",
            "\n",
            "\n",
            "['Hi', 2, 16, 4, 1, 9.45, 45.67, 90, 12.01, 2, 200, 16, 4, 1, 9.45, 45.67, 90, 2, 200, 16, 4, 1, 0, 9.45, 45.67, 90, 12.01, 12.02]\n"
          ],
          "name": "stdout"
        }
      ]
    },
    {
      "metadata": {
        "id": "bqQnnsr8rm6G",
        "colab_type": "text"
      },
      "cell_type": "markdown",
      "source": [
        "10) Let's clean everything clear the list and then print"
      ]
    },
    {
      "metadata": {
        "id": "qBC8lKpLrtJW",
        "colab_type": "code",
        "colab": {
          "base_uri": "https://localhost:8080/",
          "height": 85
        },
        "outputId": "dc2e393c-7458-4de6-a6bd-ef98af9f2b25"
      },
      "cell_type": "code",
      "source": [
        "print(dummy_list)\n",
        "dummy_list.clear()\n",
        "print(\"\\n\")\n",
        "print(dummy_list)"
      ],
      "execution_count": 84,
      "outputs": [
        {
          "output_type": "stream",
          "text": [
            "['Kolkata', 'ML', 'Hi', 2, 16, 4, 1, 0, 9.45, 45.67, 90, 12.01, 12.02]\n",
            "\n",
            "\n",
            "[]\n"
          ],
          "name": "stdout"
        }
      ]
    }
  ]
}