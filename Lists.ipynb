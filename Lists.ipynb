{
  "nbformat": 4,
  "nbformat_minor": 0,
  "metadata": {
    "colab": {
      "name": "Lists.ipynb",
      "version": "0.3.2",
      "provenance": [],
      "include_colab_link": true
    },
    "kernelspec": {
      "name": "python3",
      "display_name": "Python 3"
    }
  },
  "cells": [
    {
      "cell_type": "markdown",
      "metadata": {
        "id": "view-in-github",
        "colab_type": "text"
      },
      "source": [
        "[View in Colaboratory](https://colab.research.google.com/github/soumisarkar02/Assignment-2/blob/soumisarkar02/Lists.ipynb)"
      ]
    },
    {
      "metadata": {
        "id": "e0R1W0Vzm4UU",
        "colab_type": "text"
      },
      "cell_type": "markdown",
      "source": [
        "# Exercise - List"
      ]
    },
    {
      "metadata": {
        "id": "TrO7XNQnnQZ7",
        "colab_type": "text"
      },
      "cell_type": "markdown",
      "source": [
        "1) Create  any random list and assign it to a variable dummy_list"
      ]
    },
    {
      "metadata": {
        "id": "bjl-2QkznWid",
        "colab_type": "code",
        "colab": {
          "base_uri": "https://localhost:8080/",
          "height": 101
        },
        "outputId": "7659b4f0-5482-44ab-9874-7b4f257da20d"
      },
      "cell_type": "code",
      "source": [
        "item_list = []\n",
        "\n",
        "while 1:\n",
        "  msg = input (\"Enter Item: \")\n",
        "  item_list.append(msg)\n",
        "  if input(\"Do You Want To Enter Another Item? (Y/N) \") == \"N\": break;\n",
        "  \n",
        "print(item_list)"
      ],
      "execution_count": 1,
      "outputs": [
        {
          "output_type": "stream",
          "text": [
            "Enter Item: 5\n",
            "Do You Want To Enter Another Item? (Y/N) Y\n",
            "Enter Item: 8\n",
            "Do You Want To Enter Another Item? (Y/N) N\n",
            "['5', '8']\n"
          ],
          "name": "stdout"
        }
      ]
    },
    {
      "metadata": {
        "id": "cDjddNGfngnp",
        "colab_type": "text"
      },
      "cell_type": "markdown",
      "source": [
        "2) print dummy_list"
      ]
    },
    {
      "metadata": {
        "id": "RVL5178inz9M",
        "colab_type": "code",
        "colab": {
          "base_uri": "https://localhost:8080/",
          "height": 34
        },
        "outputId": "b191ed7f-4f08-4e38-964e-0226f6fec448"
      },
      "cell_type": "code",
      "source": [
        "dummy_list = [\"Soumi\", \"Shramana\", \"Mayurima\"]\n",
        "print (dummy_list)"
      ],
      "execution_count": 2,
      "outputs": [
        {
          "output_type": "stream",
          "text": [
            "['Soumi', 'Shramana', 'Mayurima']\n"
          ],
          "name": "stdout"
        }
      ]
    },
    {
      "metadata": {
        "id": "15jKDXxkn16M",
        "colab_type": "text"
      },
      "cell_type": "markdown",
      "source": [
        "3) Reverse dummy_list and print"
      ]
    },
    {
      "metadata": {
        "id": "bYa9gFOOn-4o",
        "colab_type": "code",
        "colab": {
          "base_uri": "https://localhost:8080/",
          "height": 34
        },
        "outputId": "43696933-72eb-45ca-ae26-81d966925a69"
      },
      "cell_type": "code",
      "source": [
        "dummy_list = [\"Soumi\", \"Shramana\", \"Mayurima\"]\n",
        "rev_dummy_list = dummy_list[::-1]\n",
        "print (rev_dummy_list)"
      ],
      "execution_count": 3,
      "outputs": [
        {
          "output_type": "stream",
          "text": [
            "['Mayurima', 'Shramana', 'Soumi']\n"
          ],
          "name": "stdout"
        }
      ]
    },
    {
      "metadata": {
        "id": "EShv0nfXpUys",
        "colab_type": "text"
      },
      "cell_type": "markdown",
      "source": [
        "4) Add the list dummy_list_2 to the previous dummy_list and now print dummy_list"
      ]
    },
    {
      "metadata": {
        "id": "Ngkc7hnYphg6",
        "colab_type": "code",
        "colab": {
          "base_uri": "https://localhost:8080/",
          "height": 34
        },
        "outputId": "d57989af-a1b3-45bf-a04d-797261153e60"
      },
      "cell_type": "code",
      "source": [
        "dummy_list = [\"Soumi\", \"Shramana\", \"Mayurima\"]\n",
        "dummy_list_2 = [2, 200, 16, 4, 1, 0, 9.45, 45.67, 90, 12.01, 12.02]\n",
        "\n",
        "i=0\n",
        "while i < len(dummy_list_2):\n",
        "  item = dummy_list_2[i]\n",
        "  dummy_list.append(item)\n",
        "  i+=1\n",
        "  \n",
        "print (dummy_list)"
      ],
      "execution_count": 4,
      "outputs": [
        {
          "output_type": "stream",
          "text": [
            "['Soumi', 'Shramana', 'Mayurima', 2, 200, 16, 4, 1, 0, 9.45, 45.67, 90, 12.01, 12.02]\n"
          ],
          "name": "stdout"
        }
      ]
    },
    {
      "metadata": {
        "id": "Le1aRTuYoDzS",
        "colab_type": "text"
      },
      "cell_type": "markdown",
      "source": [
        "5) Create a dictionary named dummy_dict which contains all the elements of dummy_list as keys and frequency as values. "
      ]
    },
    {
      "metadata": {
        "id": "VHfSR_Csthnk",
        "colab_type": "code",
        "colab": {
          "base_uri": "https://localhost:8080/",
          "height": 34
        },
        "outputId": "b59eea15-9fa0-45bf-f95e-fbb05b9390ed"
      },
      "cell_type": "code",
      "source": [
        "dummy_list = [\"Soumi\", \"Shramana\", \"Mayurima\",\"Soumi\"]\n",
        "dummy_dict = {}\n",
        "\n",
        "i=0\n",
        "while i < len(dummy_list):\n",
        "  item = dummy_list[i]\n",
        "  count=0\n",
        "  j=0\n",
        "  while j < len(dummy_list):\n",
        "    if item == dummy_list[j]:\n",
        "      count+=1\n",
        "    j+=1\n",
        "  dummy_dict[item] = count\n",
        "  i+=1\n",
        "  \n",
        "print(dummy_dict)"
      ],
      "execution_count": 5,
      "outputs": [
        {
          "output_type": "stream",
          "text": [
            "{'Soumi': 2, 'Shramana': 1, 'Mayurima': 1}\n"
          ],
          "name": "stdout"
        }
      ]
    },
    {
      "metadata": {
        "id": "RgCYpFXGou6q",
        "colab_type": "text"
      },
      "cell_type": "markdown",
      "source": [
        "6) print dummy_dict"
      ]
    },
    {
      "metadata": {
        "id": "qe5E5IgxpTWU",
        "colab_type": "code",
        "colab": {
          "base_uri": "https://localhost:8080/",
          "height": 34
        },
        "outputId": "172bacb3-fd9c-4fda-bad5-99faf9873aca"
      },
      "cell_type": "code",
      "source": [
        "dummy_dict = {\"Jennifer\":8, 'A':65, 66:'B', 9.45:\"Decimals\"}\n",
        "print(dummy_dict)"
      ],
      "execution_count": 6,
      "outputs": [
        {
          "output_type": "stream",
          "text": [
            "{'Jennifer': 8, 'A': 65, 66: 'B', 9.45: 'Decimals'}\n"
          ],
          "name": "stdout"
        }
      ]
    },
    {
      "metadata": {
        "id": "8n_nsBDup4--",
        "colab_type": "text"
      },
      "cell_type": "markdown",
      "source": [
        "7) Sort dummy_list in ascending order as well as descending order and print the changed lists "
      ]
    },
    {
      "metadata": {
        "id": "Z_m7vr26qKnK",
        "colab_type": "code",
        "colab": {
          "base_uri": "https://localhost:8080/",
          "height": 67
        },
        "outputId": "a31692e0-7d20-462f-b720-28277532e3ec"
      },
      "cell_type": "code",
      "source": [
        "dummy_list = [\"Poulami\",\"Soumi\", \"Shramana\", \"Mayurima\"]\n",
        "print (dummy_list)\n",
        "print (sorted(dummy_list))\n",
        "print (sorted(dummy_list, reverse = True))"
      ],
      "execution_count": 7,
      "outputs": [
        {
          "output_type": "stream",
          "text": [
            "['Poulami', 'Soumi', 'Shramana', 'Mayurima']\n",
            "['Mayurima', 'Poulami', 'Shramana', 'Soumi']\n",
            "['Soumi', 'Shramana', 'Poulami', 'Mayurima']\n"
          ],
          "name": "stdout"
        }
      ]
    },
    {
      "metadata": {
        "id": "Znm5Qo4LqPKA",
        "colab_type": "text"
      },
      "cell_type": "markdown",
      "source": [
        "8) Remove the first item from the list whose value is equal to x. It raises a ValueError if there is no such item."
      ]
    },
    {
      "metadata": {
        "id": "1-8mlngDqYvS",
        "colab_type": "code",
        "colab": {
          "base_uri": "https://localhost:8080/",
          "height": 50
        },
        "outputId": "18f7f069-5d6b-409a-c2bb-20e9902b0e5f"
      },
      "cell_type": "code",
      "source": [
        "dummy_list = [\"Poulami\",\"Soumi\", \"Shramana\", \"Mayurima\"]\n",
        "x = 200\n",
        "\n",
        "i=0\n",
        "flag = 0\n",
        "while i < len(dummy_list):\n",
        "  item = dummy_list[i]\n",
        "  if x == dummy_list[i]:\n",
        "    flag = 1\n",
        "    dummy_list.pop(i)\n",
        "    break\n",
        "  i+=1\n",
        "  \n",
        "if flag == 0:\n",
        "  print(\"Element Not Found\")\n",
        "  \n",
        "print(dummy_list)\n",
        "\n",
        "# Let's play: try the same with something which is not in the list to get the ValueError"
      ],
      "execution_count": 8,
      "outputs": [
        {
          "output_type": "stream",
          "text": [
            "Element Not Found\n",
            "['Poulami', 'Soumi', 'Shramana', 'Mayurima']\n"
          ],
          "name": "stdout"
        }
      ]
    },
    {
      "metadata": {
        "id": "QPB6iGbeqviN",
        "colab_type": "text"
      },
      "cell_type": "markdown",
      "source": [
        "9) Remove the item at position x. x is any random integer"
      ]
    },
    {
      "metadata": {
        "id": "aMyo1gmRrVHo",
        "colab_type": "code",
        "colab": {
          "base_uri": "https://localhost:8080/",
          "height": 67
        },
        "outputId": "e90c265a-2d89-4a17-c1ec-0cb0ed593281"
      },
      "cell_type": "code",
      "source": [
        "dummy_list = [\"Poulami\",\"Soumi\", \"Shramana\", \"Mayurima\"]\n",
        "x = int(input(\"Enter The Position Where Deletion Is To Perform: \"))\n",
        "\n",
        "flag = 0\n",
        "if(x < len(dummy_list)):\n",
        "  dummy_list.pop(x)\n",
        "  flag = 1\n",
        "  \n",
        "if flag == 1:\n",
        "  print(\"Item Deleted\")\n",
        "else:\n",
        "  print(\"Item Not Found\")\n",
        "  \n",
        "print(dummy_list)\n",
        "\n",
        "# Let's play: try doing the same with x > len(dummy_list) + 1 and see what you get"
      ],
      "execution_count": 9,
      "outputs": [
        {
          "output_type": "stream",
          "text": [
            "Enter The Position Where Deletion Is To Perform: 8\n",
            "Item Not Found\n",
            "['Poulami', 'Soumi', 'Shramana', 'Mayurima']\n"
          ],
          "name": "stdout"
        }
      ]
    },
    {
      "metadata": {
        "id": "bqQnnsr8rm6G",
        "colab_type": "text"
      },
      "cell_type": "markdown",
      "source": [
        "10) Let's clean everything clear the list and then print"
      ]
    },
    {
      "metadata": {
        "id": "qBC8lKpLrtJW",
        "colab_type": "code",
        "colab": {
          "base_uri": "https://localhost:8080/",
          "height": 34
        },
        "outputId": "85385c2d-d387-4aed-f943-0a7d793ef619"
      },
      "cell_type": "code",
      "source": [
        "dummy_list = [\"Poulami\",\"Soumi\", \"Shramana\", \"Mayurima\"]\n",
        "\n",
        "while len(dummy_list)!=0:\n",
        "  dummy_list.pop()\n",
        "  \n",
        "print(dummy_list)"
      ],
      "execution_count": 10,
      "outputs": [
        {
          "output_type": "stream",
          "text": [
            "[]\n"
          ],
          "name": "stdout"
        }
      ]
    }
  ]
}