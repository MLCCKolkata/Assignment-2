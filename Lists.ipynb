{
  "nbformat": 4,
  "nbformat_minor": 0,
  "metadata": {
    "colab": {
      "name": "Lists.ipynb",
      "version": "0.3.2",
      "provenance": [],
      "include_colab_link": true
    },
    "kernelspec": {
      "name": "python3",
      "display_name": "Python 3"
    }
  },
  "cells": [
    {
      "cell_type": "markdown",
      "metadata": {
        "id": "view-in-github",
        "colab_type": "text"
      },
      "source": [
        "[View in Colaboratory](https://colab.research.google.com/github/dineshnadimpalli/Assignment-2/blob/dineshnadimpalli/Lists.ipynb)"
      ]
    },
    {
      "metadata": {
        "id": "e0R1W0Vzm4UU",
        "colab_type": "text"
      },
      "cell_type": "markdown",
      "source": [
        "# Exercise - List"
      ]
    },
    {
      "metadata": {
        "id": "TrO7XNQnnQZ7",
        "colab_type": "text"
      },
      "cell_type": "markdown",
      "source": [
        "1) Create  any random list and assign it to a variable dummy_list"
      ]
    },
    {
      "metadata": {
        "id": "bjl-2QkznWid",
        "colab_type": "code",
        "colab": {}
      },
      "cell_type": "code",
      "source": [
        "dummy_list = [200, 16, 1]"
      ],
      "execution_count": 0,
      "outputs": []
    },
    {
      "metadata": {
        "id": "cDjddNGfngnp",
        "colab_type": "text"
      },
      "cell_type": "markdown",
      "source": [
        "2) print dummy_list"
      ]
    },
    {
      "metadata": {
        "id": "RVL5178inz9M",
        "colab_type": "code",
        "colab": {
          "base_uri": "https://localhost:8080/",
          "height": 34
        },
        "outputId": "275f6bff-d8b0-4a66-d0ce-a37941bae085"
      },
      "cell_type": "code",
      "source": [
        "print(dummy_list)"
      ],
      "execution_count": 120,
      "outputs": [
        {
          "output_type": "stream",
          "text": [
            "[200, 16, 1]\n"
          ],
          "name": "stdout"
        }
      ]
    },
    {
      "metadata": {
        "id": "15jKDXxkn16M",
        "colab_type": "text"
      },
      "cell_type": "markdown",
      "source": [
        "3) Reverse dummy_list and print"
      ]
    },
    {
      "metadata": {
        "id": "bYa9gFOOn-4o",
        "colab_type": "code",
        "colab": {
          "base_uri": "https://localhost:8080/",
          "height": 34
        },
        "outputId": "3c9e72a7-4cdd-4ad5-a11b-4884c52ab702"
      },
      "cell_type": "code",
      "source": [
        "dummy_list.reverse()\n",
        "print(dummy_list)"
      ],
      "execution_count": 121,
      "outputs": [
        {
          "output_type": "stream",
          "text": [
            "[1, 16, 200]\n"
          ],
          "name": "stdout"
        }
      ]
    },
    {
      "metadata": {
        "id": "EShv0nfXpUys",
        "colab_type": "text"
      },
      "cell_type": "markdown",
      "source": [
        "4) Add the list dummy_list_2 to the previous dummy_list and now print dummy_list"
      ]
    },
    {
      "metadata": {
        "id": "Ngkc7hnYphg6",
        "colab_type": "code",
        "colab": {
          "base_uri": "https://localhost:8080/",
          "height": 34
        },
        "outputId": "2ffca45f-3bb7-41a2-ded4-6c1d3969b5d1"
      },
      "cell_type": "code",
      "source": [
        "dummy_list_2 = [2, 200, 16, 4, 1, 0, 9.45, 45.67, 90, 12.01, 12.02]\n",
        "dummy_list.extend(dummy_list_2)\n",
        "print(dummy_list)"
      ],
      "execution_count": 128,
      "outputs": [
        {
          "output_type": "stream",
          "text": [
            "[200, 16, 1, 2, 200, 16, 4, 1, 0, 9.45, 45.67, 90, 12.01, 12.02]\n"
          ],
          "name": "stdout"
        }
      ]
    },
    {
      "metadata": {
        "id": "Le1aRTuYoDzS",
        "colab_type": "text"
      },
      "cell_type": "markdown",
      "source": [
        "5) Create a dictionary named dummy_dict which contains all the elements of dummy_list as keys and frequency as values. "
      ]
    },
    {
      "metadata": {
        "id": "VHfSR_Csthnk",
        "colab_type": "code",
        "colab": {}
      },
      "cell_type": "code",
      "source": [
        "# print(str(dummy_list)+\"\\n\")\n",
        "\n",
        "dummy_dict = {key: dummy_list.count(key) for key in dummy_list}\n",
        "\n",
        "# print(dummy_dict)\n"
      ],
      "execution_count": 0,
      "outputs": []
    },
    {
      "metadata": {
        "id": "rtPC6WkSos-y",
        "colab_type": "code",
        "colab": {}
      },
      "cell_type": "code",
      "source": [
        ""
      ],
      "execution_count": 0,
      "outputs": []
    },
    {
      "metadata": {
        "id": "RgCYpFXGou6q",
        "colab_type": "text"
      },
      "cell_type": "markdown",
      "source": [
        "6) print dummy_dict"
      ]
    },
    {
      "metadata": {
        "id": "qe5E5IgxpTWU",
        "colab_type": "code",
        "colab": {
          "base_uri": "https://localhost:8080/",
          "height": 34
        },
        "outputId": "c553964f-53eb-4b8f-caf3-3af92d69437c"
      },
      "cell_type": "code",
      "source": [
        "print(dummy_dict)"
      ],
      "execution_count": 114,
      "outputs": [
        {
          "output_type": "stream",
          "text": [
            "{1: 2, 16: 2, 200: 2, 2: 1, 4: 1, 0: 1, 9.45: 1, 45.67: 1, 90: 1, 12.01: 1, 12.02: 1}\n"
          ],
          "name": "stdout"
        }
      ]
    },
    {
      "metadata": {
        "id": "8n_nsBDup4--",
        "colab_type": "text"
      },
      "cell_type": "markdown",
      "source": [
        "7) Sort dummy_list in ascending order as well as descending order and print the changed lists "
      ]
    },
    {
      "metadata": {
        "id": "Z_m7vr26qKnK",
        "colab_type": "code",
        "colab": {
          "base_uri": "https://localhost:8080/",
          "height": 153
        },
        "outputId": "217d3b91-90e1-4daf-eaa4-243c423bc05f"
      },
      "cell_type": "code",
      "source": [
        "print(\"dummy_list in normal form: \\n\" + str(dummy_list)+\"\\n\")\n",
        "\n",
        "dummy_list.sort()\n",
        "print(\"dummy_list in ascending order: \\n\" + str(dummy_list)+\"\\n\")\n",
        "dummy_list.reverse()\n",
        "\n",
        "print(\"dummy_list in descending order: \\n\" + str(dummy_list))\n",
        "  "
      ],
      "execution_count": 115,
      "outputs": [
        {
          "output_type": "stream",
          "text": [
            "dummy_list in normal form: \n",
            "[1, 16, 200, 2, 200, 16, 4, 1, 0, 9.45, 45.67, 90, 12.01, 12.02]\n",
            "\n",
            "dummy_list in ascending order: \n",
            "[0, 1, 1, 2, 4, 9.45, 12.01, 12.02, 16, 16, 45.67, 90, 200, 200]\n",
            "\n",
            "dummy_list in descending order: \n",
            "[200, 200, 90, 45.67, 16, 16, 12.02, 12.01, 9.45, 4, 2, 1, 1, 0]\n"
          ],
          "name": "stdout"
        }
      ]
    },
    {
      "metadata": {
        "id": "Znm5Qo4LqPKA",
        "colab_type": "text"
      },
      "cell_type": "markdown",
      "source": [
        "\n",
        "8) Remove the first item from the list whose value is equal to x. It raises a ValueError if there is no such item."
      ]
    },
    {
      "metadata": {
        "id": "1-8mlngDqYvS",
        "colab_type": "code",
        "colab": {
          "base_uri": "https://localhost:8080/",
          "height": 85
        },
        "outputId": "d57d8d6b-6f57-4bb6-8e54-7b9726e8b1a6"
      },
      "cell_type": "code",
      "source": [
        "x = 200\n",
        "\n",
        "print(dummy_list)\n",
        "print(\"\\n\")\n",
        "\n",
        "length = len(dummy_list)\n",
        "\n",
        "# print(length)\n",
        "\n",
        "for i in dummy_list:\n",
        "  if(i == x):\n",
        "    dummy_list.remove(i)\n",
        "    \n",
        "# print(len(dummy_list))\n",
        "\n",
        "if(length == len(dummy_list)):\n",
        "  raise ValueError(\"Item not found\")\n",
        "    \n",
        "print(dummy_list)\n",
        "\n",
        "# Let's play: try the same with something which is not in the list to get the ValueError"
      ],
      "execution_count": 116,
      "outputs": [
        {
          "output_type": "stream",
          "text": [
            "[200, 200, 90, 45.67, 16, 16, 12.02, 12.01, 9.45, 4, 2, 1, 1, 0]\n",
            "\n",
            "\n",
            "[200, 90, 45.67, 16, 16, 12.02, 12.01, 9.45, 4, 2, 1, 1, 0]\n"
          ],
          "name": "stdout"
        }
      ]
    },
    {
      "metadata": {
        "id": "QPB6iGbeqviN",
        "colab_type": "text"
      },
      "cell_type": "markdown",
      "source": [
        "9) Remove the item at position x. x is any random integer"
      ]
    },
    {
      "metadata": {
        "id": "aMyo1gmRrVHo",
        "colab_type": "code",
        "colab": {
          "base_uri": "https://localhost:8080/",
          "height": 136
        },
        "outputId": "289422e1-782b-4865-e0f0-70bc01ab0304"
      },
      "cell_type": "code",
      "source": [
        "# Let's play: try doing the same with x > len(dummy_list) + 1 and see what you get\n",
        "\n",
        "import random\n",
        "\n",
        "# print(len(dummy_list))\n",
        "\n",
        "x = random.randint(0, len(dummy_list)-1)\n",
        "# x = len(dummy_list)+1\n",
        "print(x)\n",
        "print(\"\\n\")\n",
        "print(dummy_list)\n",
        "print(\"\\n\")\n",
        "\n",
        "del dummy_list[x]\n",
        "print(dummy_list)"
      ],
      "execution_count": 132,
      "outputs": [
        {
          "output_type": "stream",
          "text": [
            "11\n",
            "\n",
            "\n",
            "[200, 16, 1, 2, 16, 4, 1, 0, 9.45, 45.67, 90, 12.01, 12.02]\n",
            "\n",
            "\n",
            "[200, 16, 1, 2, 16, 4, 1, 0, 9.45, 45.67, 90, 12.02]\n"
          ],
          "name": "stdout"
        }
      ]
    },
    {
      "metadata": {
        "id": "bqQnnsr8rm6G",
        "colab_type": "text"
      },
      "cell_type": "markdown",
      "source": [
        "10) Let's clean everything clear the list and then print"
      ]
    },
    {
      "metadata": {
        "id": "qBC8lKpLrtJW",
        "colab_type": "code",
        "colab": {
          "base_uri": "https://localhost:8080/",
          "height": 85
        },
        "outputId": "fe188b4d-cf16-4502-d170-7d64513e61fe"
      },
      "cell_type": "code",
      "source": [
        "print(dummy_list)\n",
        "dummy_list.clear()\n",
        "print(\"\\n\")\n",
        "print(dummy_list)"
      ],
      "execution_count": 133,
      "outputs": [
        {
          "output_type": "stream",
          "text": [
            "[200, 16, 1, 2, 16, 4, 1, 0, 9.45, 45.67, 90, 12.02]\n",
            "\n",
            "\n",
            "[]\n"
          ],
          "name": "stdout"
        }
      ]
    }
  ]
}