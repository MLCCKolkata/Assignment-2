{
  "nbformat": 4,
  "nbformat_minor": 0,
  "metadata": {
    "colab": {
      "name": "Lists.ipynb",
      "version": "0.3.2",
      "provenance": [],
      "include_colab_link": true
    },
    "kernelspec": {
      "name": "python3",
      "display_name": "Python 3"
    }
  },
  "cells": [
    {
      "cell_type": "markdown",
      "metadata": {
        "id": "view-in-github",
        "colab_type": "text"
      },
      "source": [
        "[View in Colaboratory](https://colab.research.google.com/github/SuprabhatDas/Assignment-2/blob/SuprabhatDas/Lists.ipynb)"
      ]
    },
    {
      "metadata": {
        "id": "e0R1W0Vzm4UU",
        "colab_type": "text"
      },
      "cell_type": "markdown",
      "source": [
        "# Exercise - List"
      ]
    },
    {
      "metadata": {
        "id": "TrO7XNQnnQZ7",
        "colab_type": "text"
      },
      "cell_type": "markdown",
      "source": [
        "1) Create  any random list and assign it to a variable dummy_list"
      ]
    },
    {
      "metadata": {
        "id": "bjl-2QkznWid",
        "colab_type": "code",
        "colab": {}
      },
      "cell_type": "code",
      "source": [
        "dummy_list = [1,2,3]"
      ],
      "execution_count": 0,
      "outputs": []
    },
    {
      "metadata": {
        "id": "cDjddNGfngnp",
        "colab_type": "text"
      },
      "cell_type": "markdown",
      "source": [
        "2) print dummy_list"
      ]
    },
    {
      "metadata": {
        "id": "RVL5178inz9M",
        "colab_type": "code",
        "colab": {
          "base_uri": "https://localhost:8080/",
          "height": 34
        },
        "outputId": "010dafa3-a34d-42f8-8690-8dc7dee9f714"
      },
      "cell_type": "code",
      "source": [
        "print(dummy_list)"
      ],
      "execution_count": 2,
      "outputs": [
        {
          "output_type": "stream",
          "text": [
            "[1, 2, 3]\n"
          ],
          "name": "stdout"
        }
      ]
    },
    {
      "metadata": {
        "id": "15jKDXxkn16M",
        "colab_type": "text"
      },
      "cell_type": "markdown",
      "source": [
        "3) Reverse dummy_list and print"
      ]
    },
    {
      "metadata": {
        "id": "bYa9gFOOn-4o",
        "colab_type": "code",
        "colab": {
          "base_uri": "https://localhost:8080/",
          "height": 34
        },
        "outputId": "1bf77b2a-db0e-4044-d282-01bc3208e4b3"
      },
      "cell_type": "code",
      "source": [
        "dummy_list.reverse()\n",
        "print(dummy_list)"
      ],
      "execution_count": 3,
      "outputs": [
        {
          "output_type": "stream",
          "text": [
            "[3, 2, 1]\n"
          ],
          "name": "stdout"
        }
      ]
    },
    {
      "metadata": {
        "id": "EShv0nfXpUys",
        "colab_type": "text"
      },
      "cell_type": "markdown",
      "source": [
        "4) Add the list dummy_list_2 to the previous dummy_list and now print dummy_list"
      ]
    },
    {
      "metadata": {
        "id": "Ngkc7hnYphg6",
        "colab_type": "code",
        "colab": {
          "base_uri": "https://localhost:8080/",
          "height": 34
        },
        "outputId": "7bbf04ae-efbf-4953-c6c4-a46b63a87afc"
      },
      "cell_type": "code",
      "source": [
        "dummy_list_2 = [2, 200, 16, 4, 1, 0, 9.45, 45.67, 90, 12.01, 12.02]\n",
        "dummy_list = dummy_list_2 + dummy_list\n",
        "print(dummy_list)"
      ],
      "execution_count": 4,
      "outputs": [
        {
          "output_type": "stream",
          "text": [
            "[2, 200, 16, 4, 1, 0, 9.45, 45.67, 90, 12.01, 12.02, 3, 2, 1]\n"
          ],
          "name": "stdout"
        }
      ]
    },
    {
      "metadata": {
        "id": "Le1aRTuYoDzS",
        "colab_type": "text"
      },
      "cell_type": "markdown",
      "source": [
        "5) Create a dictionary named dummy_dict which contains all the elements of dummy_list as keys and frequency as values. "
      ]
    },
    {
      "metadata": {
        "id": "VHfSR_Csthnk",
        "colab_type": "code",
        "colab": {}
      },
      "cell_type": "code",
      "source": [
        "dummy_dict = {\"1\":2, \"2\":2, \"3\":1, \"4\":1, \"0\":1, \"200\":1, \"16\":1, \"9.45\":1, \"45.67\":1, \"90\":1, \"12.01\":1, \"10.02\":1}"
      ],
      "execution_count": 0,
      "outputs": []
    },
    {
      "metadata": {
        "id": "RgCYpFXGou6q",
        "colab_type": "text"
      },
      "cell_type": "markdown",
      "source": [
        "6) print dummy_dict"
      ]
    },
    {
      "metadata": {
        "id": "qe5E5IgxpTWU",
        "colab_type": "code",
        "colab": {
          "base_uri": "https://localhost:8080/",
          "height": 34
        },
        "outputId": "bf21a405-1497-47e3-90eb-62f1ab8c3c49"
      },
      "cell_type": "code",
      "source": [
        "print(dummy_dict)"
      ],
      "execution_count": 6,
      "outputs": [
        {
          "output_type": "stream",
          "text": [
            "{'1': 2, '2': 2, '3': 1, '4': 1, '0': 1, '200': 1, '16': 1, '9.45': 1, '45.67': 1, '90': 1, '12.01': 1, '10.02': 1}\n"
          ],
          "name": "stdout"
        }
      ]
    },
    {
      "metadata": {
        "id": "8n_nsBDup4--",
        "colab_type": "text"
      },
      "cell_type": "markdown",
      "source": [
        "7) Sort dummy_list in ascending order as well as descending order and print the changed lists "
      ]
    },
    {
      "metadata": {
        "id": "Z_m7vr26qKnK",
        "colab_type": "code",
        "colab": {
          "base_uri": "https://localhost:8080/",
          "height": 51
        },
        "outputId": "6d47591a-7f5b-4dde-d9de-415326418357"
      },
      "cell_type": "code",
      "source": [
        "dummy_list.sort()\n",
        "print(dummy_list)\n",
        "\n",
        "dummy_list.reverse()\n",
        "print(dummy_list)"
      ],
      "execution_count": 12,
      "outputs": [
        {
          "output_type": "stream",
          "text": [
            "[0, 1, 1, 2, 2, 3, 4, 9.45, 12.01, 12.02, 16, 45.67, 90, 200]\n",
            "[200, 90, 45.67, 16, 12.02, 12.01, 9.45, 4, 3, 2, 2, 1, 1, 0]\n"
          ],
          "name": "stdout"
        }
      ]
    },
    {
      "metadata": {
        "id": "Znm5Qo4LqPKA",
        "colab_type": "text"
      },
      "cell_type": "markdown",
      "source": [
        "8) Remove the first item from the list whose value is equal to x. It raises a ValueError if there is no such item."
      ]
    },
    {
      "metadata": {
        "id": "1-8mlngDqYvS",
        "colab_type": "code",
        "colab": {
          "base_uri": "https://localhost:8080/",
          "height": 214
        },
        "outputId": "7d45536a-9443-485c-d61e-44a7ddd9ed34"
      },
      "cell_type": "code",
      "source": [
        "x = 200\n",
        "dummy_list.remove('200')\n",
        "\n",
        "# Let's play: try the same with something which is not in the list to get the ValueError"
      ],
      "execution_count": 13,
      "outputs": [
        {
          "output_type": "error",
          "ename": "ValueError",
          "evalue": "ignored",
          "traceback": [
            "\u001b[0;31m---------------------------------------------------------------------------\u001b[0m",
            "\u001b[0;31mValueError\u001b[0m                                Traceback (most recent call last)",
            "\u001b[0;32m<ipython-input-13-b7385f0ae3e0>\u001b[0m in \u001b[0;36m<module>\u001b[0;34m()\u001b[0m\n\u001b[1;32m      1\u001b[0m \u001b[0mx\u001b[0m \u001b[0;34m=\u001b[0m \u001b[0;36m200\u001b[0m\u001b[0;34m\u001b[0m\u001b[0m\n\u001b[0;32m----> 2\u001b[0;31m \u001b[0mdummy_list\u001b[0m\u001b[0;34m.\u001b[0m\u001b[0mremove\u001b[0m\u001b[0;34m(\u001b[0m\u001b[0;34m'200'\u001b[0m\u001b[0;34m)\u001b[0m\u001b[0;34m\u001b[0m\u001b[0m\n\u001b[0m\u001b[1;32m      3\u001b[0m \u001b[0;34m\u001b[0m\u001b[0m\n\u001b[1;32m      4\u001b[0m \u001b[0;31m# Let's play: try the same with something which is not in the list to get the ValueError\u001b[0m\u001b[0;34m\u001b[0m\u001b[0;34m\u001b[0m\u001b[0m\n",
            "\u001b[0;31mValueError\u001b[0m: list.remove(x): x not in list"
          ]
        }
      ]
    },
    {
      "metadata": {
        "id": "QPB6iGbeqviN",
        "colab_type": "text"
      },
      "cell_type": "markdown",
      "source": [
        "9) Remove the item at position x. x is any random integer"
      ]
    },
    {
      "metadata": {
        "id": "aMyo1gmRrVHo",
        "colab_type": "code",
        "colab": {
          "base_uri": "https://localhost:8080/",
          "height": 163
        },
        "outputId": "70ef10ab-9bd7-4a43-e664-7083afdb7369"
      },
      "cell_type": "code",
      "source": [
        "# Let's play: try doing the same with x > len(dummy_list) + 1 and see what you get\n",
        "del dummy_list[18]"
      ],
      "execution_count": 15,
      "outputs": [
        {
          "output_type": "error",
          "ename": "IndexError",
          "evalue": "ignored",
          "traceback": [
            "\u001b[0;31m---------------------------------------------------------------------------\u001b[0m",
            "\u001b[0;31mIndexError\u001b[0m                                Traceback (most recent call last)",
            "\u001b[0;32m<ipython-input-15-84aeb69ef1bb>\u001b[0m in \u001b[0;36m<module>\u001b[0;34m()\u001b[0m\n\u001b[0;32m----> 1\u001b[0;31m \u001b[0;32mdel\u001b[0m \u001b[0mdummy_list\u001b[0m\u001b[0;34m[\u001b[0m\u001b[0;36m18\u001b[0m\u001b[0;34m]\u001b[0m\u001b[0;34m\u001b[0m\u001b[0m\n\u001b[0m",
            "\u001b[0;31mIndexError\u001b[0m: list assignment index out of range"
          ]
        }
      ]
    },
    {
      "metadata": {
        "id": "bqQnnsr8rm6G",
        "colab_type": "text"
      },
      "cell_type": "markdown",
      "source": [
        "10) Let's clean everything clear the list and then print"
      ]
    },
    {
      "metadata": {
        "id": "qBC8lKpLrtJW",
        "colab_type": "code",
        "colab": {
          "base_uri": "https://localhost:8080/",
          "height": 34
        },
        "outputId": "1a13c054-8e2f-4c81-ceee-4f075bd9b3d1"
      },
      "cell_type": "code",
      "source": [
        "del dummy_list[:]\n",
        "print(dummy_list)"
      ],
      "execution_count": 17,
      "outputs": [
        {
          "output_type": "stream",
          "text": [
            "[]\n"
          ],
          "name": "stdout"
        }
      ]
    }
  ]
}