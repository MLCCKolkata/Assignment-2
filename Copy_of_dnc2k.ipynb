{
  "nbformat": 4,
  "nbformat_minor": 0,
  "metadata": {
    "colab": {
      "name": "Copy of dnc2k.ipynb",
      "version": "0.3.2",
      "provenance": [],
      "include_colab_link": true
    },
    "kernelspec": {
      "display_name": "Python 3",
      "language": "python",
      "name": "python3"
    }
  },
  "cells": [
    {
      "cell_type": "markdown",
      "metadata": {
        "id": "view-in-github",
        "colab_type": "text"
      },
      "source": [
        "[View in Colaboratory](https://colab.research.google.com/github/dnc2k/Assignment-2/blob/dnc2k/Copy_of_dnc2k.ipynb)"
      ]
    },
    {
      "metadata": {
        "id": "lqNVh-T-sXGj",
        "colab_type": "code",
        "colab": {
          "base_uri": "https://localhost:8080/",
          "height": 201
        },
        "outputId": "2830c962-2b72-4da3-8646-cad7e83ab7b8"
      },
      "cell_type": "code",
      "source": [
        "dummy_list=[23,82,98,62,16]\n",
        "\n",
        "print (dummy_list)\n",
        "\n",
        "dummy_list.reverse()\n",
        "print (dummy_list)\n",
        "\n",
        "dummy_list_2 = [2, 200, 16, 4, 1, 0, 9.45, 45.67, 90, 12.01, 12.02]\n",
        "for item in dummy_list_2:\n",
        "  dummy_list.append(item)\n",
        "print (dummy_list)\n",
        "\n",
        "dummy_dict={16:2, 62:1, 98:1, 82:1, 23:1, 2:1, 200:1, 4:1, 1:1, 0:1, 9.45:1, 45.67:1, 90:1, 12.01:1, 12.02:1}\n",
        "\n",
        "print (dummy_dict)\n",
        "\n",
        "dummy_list.sort()\n",
        "print (dummy_list)\n",
        "dummy_list.sort(reverse=True)\n",
        "print (dummy_list)\n",
        "\n",
        "x = 16\n",
        "dummy_list.remove(x)\n",
        "print (dummy_list)\n",
        "\n",
        "x=int(input())\n",
        "del dummy_list[x]\n",
        "print (dummy_list)\n",
        "\n",
        "dummy_list.clear()\n",
        "print (dummy_list)"
      ],
      "execution_count": 0,
      "outputs": [
        {
          "output_type": "stream",
          "text": [
            "[23, 82, 98, 62, 16]\n",
            "[16, 62, 98, 82, 23]\n",
            "[16, 62, 98, 82, 23, 2, 200, 16, 4, 1, 0, 9.45, 45.67, 90, 12.01, 12.02]\n",
            "{16: 2, 62: 1, 98: 1, 82: 1, 23: 1, 2: 1, 200: 1, 4: 1, 1: 1, 0: 1, 9.45: 1, 45.67: 1, 90: 1, 12.01: 1, 12.02: 1}\n",
            "[0, 1, 2, 4, 9.45, 12.01, 12.02, 16, 16, 23, 45.67, 62, 82, 90, 98, 200]\n",
            "[200, 98, 90, 82, 62, 45.67, 23, 16, 16, 12.02, 12.01, 9.45, 4, 2, 1, 0]\n",
            "[200, 98, 90, 82, 62, 45.67, 23, 16, 12.02, 12.01, 9.45, 4, 2, 1, 0]\n",
            "3\n",
            "[200, 98, 90, 62, 45.67, 23, 16, 12.02, 12.01, 9.45, 4, 2, 1, 0]\n",
            "[]\n"
          ],
          "name": "stdout"
        }
      ]
    }
  ]
}