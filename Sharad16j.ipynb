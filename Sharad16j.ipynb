{
  "nbformat": 4,
  "nbformat_minor": 0,
  "metadata": {
    "colab": {
      "name": "Sharad16j.ipynb",
      "version": "0.3.2",
      "provenance": []
    },
    "kernelspec": {
      "display_name": "Python 3",
      "language": "python",
      "name": "python3"
    }
  },
  "cells": [
    {
      "metadata": {
        "id": "gpQw6G-QcXz2",
        "colab_type": "code",
        "colab": {}
      },
      "cell_type": "code",
      "source": [
        "import random\n",
        "dummy_list=[]\n",
        "for i in range(10):\n",
        "  dummy_list.append(random.randrange(1,10))\n"
      ],
      "execution_count": 0,
      "outputs": []
    },
    {
      "metadata": {
        "id": "5joGtPzjc0-6",
        "colab_type": "code",
        "colab": {
          "base_uri": "https://localhost:8080/",
          "height": 34
        },
        "outputId": "0d08c1a8-1054-49b3-b4d7-2b31bf4d89e7"
      },
      "cell_type": "code",
      "source": [
        "print(dummy_list)"
      ],
      "execution_count": 4,
      "outputs": [
        {
          "output_type": "stream",
          "text": [
            "[8, 7, 2, 9, 4, 5, 2, 5, 5, 4]\n"
          ],
          "name": "stdout"
        }
      ]
    },
    {
      "metadata": {
        "id": "LLThHi_qc1JV",
        "colab_type": "code",
        "colab": {
          "base_uri": "https://localhost:8080/",
          "height": 34
        },
        "outputId": "8db8b91d-2110-42b0-da6a-07586204ce17"
      },
      "cell_type": "code",
      "source": [
        "dummy_list.reverse()\n",
        "print(dummy_list)"
      ],
      "execution_count": 5,
      "outputs": [
        {
          "output_type": "stream",
          "text": [
            "[4, 5, 5, 2, 5, 4, 9, 2, 7, 8]\n"
          ],
          "name": "stdout"
        }
      ]
    },
    {
      "metadata": {
        "id": "phIcgkspc1PO",
        "colab_type": "code",
        "colab": {
          "base_uri": "https://localhost:8080/",
          "height": 34
        },
        "outputId": "58745d7b-9ff9-4a7c-98b5-b7b9f4b33cd2"
      },
      "cell_type": "code",
      "source": [
        "dummy_list_2=[2,200,16,4,1,0,9.45,45.67,90,12.01,12.-2,]\n",
        "dummy_list.extend(dummy_list_2)\n",
        "print (dummy_list)"
      ],
      "execution_count": 10,
      "outputs": [
        {
          "output_type": "stream",
          "text": [
            "[4, 5, 5, 2, 5, 4, 9, 2, 7, 8, 2, 200, 16, 4, 1, 0, 9.45, 45.67, 90, 12.01, 10.0]\n"
          ],
          "name": "stdout"
        }
      ]
    },
    {
      "metadata": {
        "id": "_vTCoHYtc1TH",
        "colab_type": "code",
        "colab": {
          "base_uri": "https://localhost:8080/",
          "height": 34
        },
        "outputId": "b4ab0015-84a4-49b7-d7f2-1b3d240c8600"
      },
      "cell_type": "code",
      "source": [
        "dummy_dict={i:dummy_list.count(i)\n",
        "           for i in dummy_list}\n",
        "print (dummy_dict)\n"
      ],
      "execution_count": 11,
      "outputs": [
        {
          "output_type": "stream",
          "text": [
            "{4: 3, 5: 3, 2: 3, 9: 1, 7: 1, 8: 1, 200: 1, 16: 1, 1: 1, 0: 1, 9.45: 1, 45.67: 1, 90: 1, 12.01: 1, 10.0: 1}\n"
          ],
          "name": "stdout"
        }
      ]
    },
    {
      "metadata": {
        "id": "G0J3npYsc1ZO",
        "colab_type": "code",
        "colab": {
          "base_uri": "https://localhost:8080/",
          "height": 52
        },
        "outputId": "81bd2f98-a62d-4be9-ccda-68c630ed5ee3"
      },
      "cell_type": "code",
      "source": [
        "print(sorted(dummy_list))\n",
        "print(sorted(dummy_list,reverse=True))\n"
      ],
      "execution_count": 12,
      "outputs": [
        {
          "output_type": "stream",
          "text": [
            "[0, 1, 2, 2, 2, 4, 4, 4, 5, 5, 5, 7, 8, 9, 9.45, 10.0, 12.01, 16, 45.67, 90, 200]\n",
            "[200, 90, 45.67, 16, 12.01, 10.0, 9.45, 9, 8, 7, 5, 5, 5, 4, 4, 4, 2, 2, 2, 1, 0]\n"
          ],
          "name": "stdout"
        }
      ]
    },
    {
      "metadata": {
        "id": "k8zeFi1_c1Wf",
        "colab_type": "code",
        "colab": {
          "base_uri": "https://localhost:8080/",
          "height": 34
        },
        "outputId": "f3215c67-8644-49e3-c054-649a8bd956d8"
      },
      "cell_type": "code",
      "source": [
        "x=200\n",
        "dummy_list.remove(x)\n",
        "print(dummy_list)"
      ],
      "execution_count": 13,
      "outputs": [
        {
          "output_type": "stream",
          "text": [
            "[4, 5, 5, 2, 5, 4, 9, 2, 7, 8, 2, 16, 4, 1, 0, 9.45, 45.67, 90, 12.01, 10.0]\n"
          ],
          "name": "stdout"
        }
      ]
    },
    {
      "metadata": {
        "id": "F2Lq1SCQc1NA",
        "colab_type": "code",
        "colab": {
          "base_uri": "https://localhost:8080/",
          "height": 132
        },
        "outputId": "416538d6-8e87-4c99-c5f9-610f69af626b"
      },
      "cell_type": "code",
      "source": [
        "x=80 dummy_list.remove(80)\n",
        "print(dummy_list)\n"
      ],
      "execution_count": 14,
      "outputs": [
        {
          "output_type": "error",
          "ename": "SyntaxError",
          "evalue": "ignored",
          "traceback": [
            "\u001b[0;36m  File \u001b[0;32m\"<ipython-input-14-f759441c0cb4>\"\u001b[0;36m, line \u001b[0;32m1\u001b[0m\n\u001b[0;31m    x=80 dummy_list.remove(80)\u001b[0m\n\u001b[0m                  ^\u001b[0m\n\u001b[0;31mSyntaxError\u001b[0m\u001b[0;31m:\u001b[0m invalid syntax\n"
          ]
        }
      ]
    },
    {
      "metadata": {
        "id": "-0aBLXz8c1HY",
        "colab_type": "code",
        "colab": {
          "base_uri": "https://localhost:8080/",
          "height": 34
        },
        "outputId": "ddf500f8-e2dc-41ce-a3aa-2dd6e4db7ba6"
      },
      "cell_type": "code",
      "source": [
        "dummy_list.pop(3)\n",
        "print(dummy_list)\n"
      ],
      "execution_count": 15,
      "outputs": [
        {
          "output_type": "stream",
          "text": [
            "[4, 5, 5, 5, 4, 9, 2, 7, 8, 2, 16, 4, 1, 0, 9.45, 45.67, 90, 12.01, 10.0]\n"
          ],
          "name": "stdout"
        }
      ]
    },
    {
      "metadata": {
        "id": "AcmHsARwc1EL",
        "colab_type": "code",
        "colab": {
          "base_uri": "https://localhost:8080/",
          "height": 185
        },
        "outputId": "95307e1e-12da-4328-9dd9-7b67a4386819"
      },
      "cell_type": "code",
      "source": [
        "dummy_list.pop(40)\n",
        "print(dummy_list)\n"
      ],
      "execution_count": 16,
      "outputs": [
        {
          "output_type": "error",
          "ename": "IndexError",
          "evalue": "ignored",
          "traceback": [
            "\u001b[0;31m---------------------------------------------------------------------------\u001b[0m",
            "\u001b[0;31mIndexError\u001b[0m                                Traceback (most recent call last)",
            "\u001b[0;32m<ipython-input-16-9f35e760c4a6>\u001b[0m in \u001b[0;36m<module>\u001b[0;34m()\u001b[0m\n\u001b[0;32m----> 1\u001b[0;31m \u001b[0mdummy_list\u001b[0m\u001b[0;34m.\u001b[0m\u001b[0mpop\u001b[0m\u001b[0;34m(\u001b[0m\u001b[0;36m40\u001b[0m\u001b[0;34m)\u001b[0m\u001b[0;34m\u001b[0m\u001b[0m\n\u001b[0m\u001b[1;32m      2\u001b[0m \u001b[0mprint\u001b[0m\u001b[0;34m(\u001b[0m\u001b[0mdummy_list\u001b[0m\u001b[0;34m)\u001b[0m\u001b[0;34m\u001b[0m\u001b[0m\n",
            "\u001b[0;31mIndexError\u001b[0m: pop index out of range"
          ]
        }
      ]
    },
    {
      "metadata": {
        "id": "GYInRniHe9gr",
        "colab_type": "code",
        "colab": {
          "base_uri": "https://localhost:8080/",
          "height": 34
        },
        "outputId": "45e24950-ead6-4588-cd5e-059f0dfc8996"
      },
      "cell_type": "code",
      "source": [
        "import numpy as np\n",
        "x=[]\n",
        "for i in range (1,20,2):\n",
        "  x.append(i)\n",
        "x= np.array(x)\n",
        "print(x)\n"
      ],
      "execution_count": 18,
      "outputs": [
        {
          "output_type": "stream",
          "text": [
            "[ 1  3  5  7  9 11 13 15 17 19]\n"
          ],
          "name": "stdout"
        }
      ]
    },
    {
      "metadata": {
        "id": "BsBiYbcge9l6",
        "colab_type": "code",
        "colab": {
          "base_uri": "https://localhost:8080/",
          "height": 34
        },
        "outputId": "71d36ef1-3086-416c-8fc2-f4867c0c0659"
      },
      "cell_type": "code",
      "source": [
        "a=np.array([1,2,3,2,3,4,3,4,5,6])\n",
        "b=np.array([7,2,10,2,7,4,9,4,9,8])\n",
        "sa=set(a)\n",
        "sb=set(b)\n",
        "c=sa.intersection(sb)\n",
        "print (c)\n"
      ],
      "execution_count": 25,
      "outputs": [
        {
          "output_type": "stream",
          "text": [
            "{2, 4}\n"
          ],
          "name": "stdout"
        }
      ]
    },
    {
      "metadata": {
        "id": "utRHEdlEe9qM",
        "colab_type": "code",
        "colab": {
          "base_uri": "https://localhost:8080/",
          "height": 52
        },
        "outputId": "7a178a0a-2cc8-487a-d84c-a8e67dc28ee3"
      },
      "cell_type": "code",
      "source": [
        "a=np.arange(10)\n",
        "b=np.reshape(a,(2,5))\n",
        "print (b)\n"
      ],
      "execution_count": 28,
      "outputs": [
        {
          "output_type": "stream",
          "text": [
            "[[0 1 2 3 4]\n",
            " [5 6 7 8 9]]\n"
          ],
          "name": "stdout"
        }
      ]
    },
    {
      "metadata": {
        "id": "PpXy-EGTie7E",
        "colab_type": "code",
        "colab": {
          "base_uri": "https://localhost:8080/",
          "height": 52
        },
        "outputId": "b6c15fcf-cadb-4dd1-d22c-53cebaf7ac54"
      },
      "cell_type": "code",
      "source": [
        "a=[1,2,3,4,5,6,7,8,9]\n",
        "array=np.array(a)\n",
        "print(array)\n",
        "list =array.tolist()\n",
        "list"
      ],
      "execution_count": 31,
      "outputs": [
        {
          "output_type": "stream",
          "text": [
            "[1 2 3 4 5 6 7 8 9]\n"
          ],
          "name": "stdout"
        },
        {
          "output_type": "execute_result",
          "data": {
            "text/plain": [
              "[1, 2, 3, 4, 5, 6, 7, 8, 9]"
            ]
          },
          "metadata": {
            "tags": []
          },
          "execution_count": 31
        }
      ]
    },
    {
      "metadata": {
        "id": "RH_TH7aNe9xc",
        "colab_type": "code",
        "colab": {
          "base_uri": "https://localhost:8080/",
          "height": 191
        },
        "outputId": "7bbadcb6-5071-4c69-924f-12da787244a2"
      },
      "cell_type": "code",
      "source": [
        "a=np.zeros([10,10],dtype=int)\n",
        "a[0::9,:]=1\n",
        "a[:,0::9]=1\n",
        "print (a)"
      ],
      "execution_count": 33,
      "outputs": [
        {
          "output_type": "stream",
          "text": [
            "[[1 1 1 1 1 1 1 1 1 1]\n",
            " [1 0 0 0 0 0 0 0 0 1]\n",
            " [1 0 0 0 0 0 0 0 0 1]\n",
            " [1 0 0 0 0 0 0 0 0 1]\n",
            " [1 0 0 0 0 0 0 0 0 1]\n",
            " [1 0 0 0 0 0 0 0 0 1]\n",
            " [1 0 0 0 0 0 0 0 0 1]\n",
            " [1 0 0 0 0 0 0 0 0 1]\n",
            " [1 0 0 0 0 0 0 0 0 1]\n",
            " [1 1 1 1 1 1 1 1 1 1]]\n"
          ],
          "name": "stdout"
        }
      ]
    },
    {
      "metadata": {
        "id": "IULI3TNfe93c",
        "colab_type": "code",
        "colab": {
          "base_uri": "https://localhost:8080/",
          "height": 191
        },
        "outputId": "86323718-2707-4695-d4ac-dda5a34a1f1b"
      },
      "cell_type": "code",
      "source": [
        "a=np.zeros([10,10],dtype=int)\n",
        "a[0::2,::2]=1\n",
        "a[1::2,1::2]=1\n",
        "print (a)\n"
      ],
      "execution_count": 36,
      "outputs": [
        {
          "output_type": "stream",
          "text": [
            "[[1 0 1 0 1 0 1 0 1 0]\n",
            " [0 1 0 1 0 1 0 1 0 1]\n",
            " [1 0 1 0 1 0 1 0 1 0]\n",
            " [0 1 0 1 0 1 0 1 0 1]\n",
            " [1 0 1 0 1 0 1 0 1 0]\n",
            " [0 1 0 1 0 1 0 1 0 1]\n",
            " [1 0 1 0 1 0 1 0 1 0]\n",
            " [0 1 0 1 0 1 0 1 0 1]\n",
            " [1 0 1 0 1 0 1 0 1 0]\n",
            " [0 1 0 1 0 1 0 1 0 1]]\n"
          ],
          "name": "stdout"
        }
      ]
    },
    {
      "metadata": {
        "id": "EYpGVO4re91s",
        "colab_type": "code",
        "colab": {}
      },
      "cell_type": "code",
      "source": [
        ""
      ],
      "execution_count": 0,
      "outputs": []
    },
    {
      "metadata": {
        "id": "GrQRW1H8e9tx",
        "colab_type": "code",
        "colab": {}
      },
      "cell_type": "code",
      "source": [
        ""
      ],
      "execution_count": 0,
      "outputs": []
    }
  ]
}