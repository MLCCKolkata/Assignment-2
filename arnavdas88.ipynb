{
  "nbformat": 4,
  "nbformat_minor": 0,
  "metadata": {
    "colab": {
      "name": "arnavdas88.ipynb",
      "version": "0.3.2",
      "provenance": []
    },
    "kernelspec": {
      "display_name": "Python 3",
      "language": "python",
      "name": "python3"
    }
  },
  "cells": [
    {
      "metadata": {
        "id": "e0R1W0Vzm4UU",
        "colab_type": "text"
      },
      "cell_type": "markdown",
      "source": [
        "# Exercise - List"
      ]
    },
    {
      "metadata": {
        "id": "TrO7XNQnnQZ7",
        "colab_type": "text"
      },
      "cell_type": "markdown",
      "source": [
        "1) Create  any random list and assign it to a variable dummy_list"
      ]
    },
    {
      "metadata": {
        "id": "bjl-2QkznWid",
        "colab_type": "code",
        "colab": {}
      },
      "cell_type": "code",
      "source": [
        "dummy_list = [1, 9, 8, 5, 6, 20, 5]"
      ],
      "execution_count": 0,
      "outputs": []
    },
    {
      "metadata": {
        "id": "cDjddNGfngnp",
        "colab_type": "text"
      },
      "cell_type": "markdown",
      "source": [
        "2) print dummy_list"
      ]
    },
    {
      "metadata": {
        "id": "RVL5178inz9M",
        "colab_type": "code",
        "colab": {
          "base_uri": "https://localhost:8080/",
          "height": 35
        },
        "outputId": "ca6d8a6c-671f-4607-c29a-5bdf1a4f4fcd"
      },
      "cell_type": "code",
      "source": [
        "dummy_list"
      ],
      "execution_count": 2,
      "outputs": [
        {
          "output_type": "execute_result",
          "data": {
            "text/plain": [
              "[1, 9, 8, 5, 6, 20, 5]"
            ]
          },
          "metadata": {
            "tags": []
          },
          "execution_count": 2
        }
      ]
    },
    {
      "metadata": {
        "id": "15jKDXxkn16M",
        "colab_type": "text"
      },
      "cell_type": "markdown",
      "source": [
        "3) Reverse dummy_list and print"
      ]
    },
    {
      "metadata": {
        "id": "bYa9gFOOn-4o",
        "colab_type": "code",
        "colab": {
          "base_uri": "https://localhost:8080/",
          "height": 35
        },
        "outputId": "fbd9b472-9b06-4970-d9a0-b03ed22f656b"
      },
      "cell_type": "code",
      "source": [
        "dummy_list.reverse()\n",
        "dummy_list"
      ],
      "execution_count": 3,
      "outputs": [
        {
          "output_type": "execute_result",
          "data": {
            "text/plain": [
              "[5, 20, 6, 5, 8, 9, 1]"
            ]
          },
          "metadata": {
            "tags": []
          },
          "execution_count": 3
        }
      ]
    },
    {
      "metadata": {
        "id": "EShv0nfXpUys",
        "colab_type": "text"
      },
      "cell_type": "markdown",
      "source": [
        "4) Add the list dummy_list_2 to the previous dummy_list and now print dummy_list"
      ]
    },
    {
      "metadata": {
        "id": "Ngkc7hnYphg6",
        "colab_type": "code",
        "colab": {
          "base_uri": "https://localhost:8080/",
          "height": 35
        },
        "outputId": "bcc0e1e9-691f-4fe0-f082-88580e31c3f6"
      },
      "cell_type": "code",
      "source": [
        "dummy_list_2 = [2, 200, 16, 4, 1, 0, 9.45, 45.67, 90, 12.01, 12.02]\n",
        "dummy_list += dummy_list_2\n",
        "dummy_list"
      ],
      "execution_count": 4,
      "outputs": [
        {
          "output_type": "execute_result",
          "data": {
            "text/plain": [
              "[5, 20, 6, 5, 8, 9, 1, 2, 200, 16, 4, 1, 0, 9.45, 45.67, 90, 12.01, 12.02]"
            ]
          },
          "metadata": {
            "tags": []
          },
          "execution_count": 4
        }
      ]
    },
    {
      "metadata": {
        "id": "Le1aRTuYoDzS",
        "colab_type": "text"
      },
      "cell_type": "markdown",
      "source": [
        "5) Create a dictionary named dummy_dict which contains all the elements of dummy_list as keys and frequency as values. "
      ]
    },
    {
      "metadata": {
        "id": "VHfSR_Csthnk",
        "colab_type": "code",
        "colab": {}
      },
      "cell_type": "code",
      "source": [
        "dummy_dict = {}"
      ],
      "execution_count": 0,
      "outputs": []
    },
    {
      "metadata": {
        "id": "rtPC6WkSos-y",
        "colab_type": "code",
        "colab": {}
      },
      "cell_type": "code",
      "source": [
        "dummy_list_u = list(set(dummy_list))\n",
        "for i in dummy_list_u:\n",
        "  dummy_dict[i] = dummy_list.count(i)"
      ],
      "execution_count": 0,
      "outputs": []
    },
    {
      "metadata": {
        "id": "RgCYpFXGou6q",
        "colab_type": "text"
      },
      "cell_type": "markdown",
      "source": [
        "6) print dummy_dict"
      ]
    },
    {
      "metadata": {
        "id": "qe5E5IgxpTWU",
        "colab_type": "code",
        "colab": {
          "base_uri": "https://localhost:8080/",
          "height": 311
        },
        "outputId": "385839dc-5c4b-4b50-8d48-15e1224838ec"
      },
      "cell_type": "code",
      "source": [
        "dummy_dict"
      ],
      "execution_count": 7,
      "outputs": [
        {
          "output_type": "execute_result",
          "data": {
            "text/plain": [
              "{0: 1,\n",
              " 1: 2,\n",
              " 2: 1,\n",
              " 4: 1,\n",
              " 5: 2,\n",
              " 6: 1,\n",
              " 8: 1,\n",
              " 9: 1,\n",
              " 9.45: 1,\n",
              " 12.01: 1,\n",
              " 12.02: 1,\n",
              " 16: 1,\n",
              " 20: 1,\n",
              " 45.67: 1,\n",
              " 90: 1,\n",
              " 200: 1}"
            ]
          },
          "metadata": {
            "tags": []
          },
          "execution_count": 7
        }
      ]
    },
    {
      "metadata": {
        "id": "8n_nsBDup4--",
        "colab_type": "text"
      },
      "cell_type": "markdown",
      "source": [
        "7) Sort dummy_list in ascending order as well as descending order and print the changed lists "
      ]
    },
    {
      "metadata": {
        "id": "Z_m7vr26qKnK",
        "colab_type": "code",
        "colab": {
          "base_uri": "https://localhost:8080/",
          "height": 54
        },
        "outputId": "9bf14661-c53c-438b-d7b3-dca4dd9a08ee"
      },
      "cell_type": "code",
      "source": [
        "dummy_list.sort()\n",
        "print(dummy_list)\n",
        "dummy_list.sort(reverse = True)\n",
        "print(dummy_list)"
      ],
      "execution_count": 8,
      "outputs": [
        {
          "output_type": "stream",
          "text": [
            "[0, 1, 1, 2, 4, 5, 5, 6, 8, 9, 9.45, 12.01, 12.02, 16, 20, 45.67, 90, 200]\n",
            "[200, 90, 45.67, 20, 16, 12.02, 12.01, 9.45, 9, 8, 6, 5, 5, 4, 2, 1, 1, 0]\n"
          ],
          "name": "stdout"
        }
      ]
    },
    {
      "metadata": {
        "id": "Znm5Qo4LqPKA",
        "colab_type": "text"
      },
      "cell_type": "markdown",
      "source": [
        "8) Remove the first item from the list whose value is equal to x. It raises a ValueError if there is no such item."
      ]
    },
    {
      "metadata": {
        "id": "1-8mlngDqYvS",
        "colab_type": "code",
        "colab": {
          "base_uri": "https://localhost:8080/",
          "height": 35
        },
        "outputId": "fadaddfb-c0ff-4566-c289-af683e1db87e"
      },
      "cell_type": "code",
      "source": [
        "x = 200\n",
        "if(dummy_list.count(x) > 0):\n",
        "  dummy_list.remove(x)\n",
        "else:\n",
        "  raise ValueError(\"No Such item was found\")\n",
        "dummy_list"
      ],
      "execution_count": 9,
      "outputs": [
        {
          "output_type": "execute_result",
          "data": {
            "text/plain": [
              "[90, 45.67, 20, 16, 12.02, 12.01, 9.45, 9, 8, 6, 5, 5, 4, 2, 1, 1, 0]"
            ]
          },
          "metadata": {
            "tags": []
          },
          "execution_count": 9
        }
      ]
    },
    {
      "metadata": {
        "id": "QPB6iGbeqviN",
        "colab_type": "text"
      },
      "cell_type": "markdown",
      "source": [
        "9) Remove the item at position x. x is any random integer"
      ]
    },
    {
      "metadata": {
        "id": "aMyo1gmRrVHo",
        "colab_type": "code",
        "colab": {
          "base_uri": "https://localhost:8080/",
          "height": 246
        },
        "outputId": "729bd2e7-8d97-4c17-9a33-dc9c851981df"
      },
      "cell_type": "code",
      "source": [
        "import random\n",
        "\n",
        "x = random.randint(0, len(dummy_list))\n",
        "dummy_list.pop(x)\n",
        "print(\"Removing from \", x)\n",
        "print(dummy_list)\n",
        "\n",
        "# Let's play: try doing the same with x > len(dummy_list) + 1 and see what you get\n",
        "x = len(dummy_list) + 2\n",
        "dummy_list.pop(x)       # Got an Error : IndexError: pop index out of range"
      ],
      "execution_count": 10,
      "outputs": [
        {
          "output_type": "stream",
          "text": [
            "Removing from  6\n",
            "[90, 45.67, 20, 16, 12.02, 12.01, 9, 8, 6, 5, 5, 4, 2, 1, 1, 0]\n"
          ],
          "name": "stdout"
        },
        {
          "output_type": "error",
          "ename": "IndexError",
          "evalue": "ignored",
          "traceback": [
            "\u001b[0;31m---------------------------------------------------------------------------\u001b[0m",
            "\u001b[0;31mIndexError\u001b[0m                                Traceback (most recent call last)",
            "\u001b[0;32m<ipython-input-10-b2c3818be80e>\u001b[0m in \u001b[0;36m<module>\u001b[0;34m()\u001b[0m\n\u001b[1;32m      8\u001b[0m \u001b[0;31m# Let's play: try doing the same with x > len(dummy_list) + 1 and see what you get\u001b[0m\u001b[0;34m\u001b[0m\u001b[0;34m\u001b[0m\u001b[0m\n\u001b[1;32m      9\u001b[0m \u001b[0mx\u001b[0m \u001b[0;34m=\u001b[0m \u001b[0mlen\u001b[0m\u001b[0;34m(\u001b[0m\u001b[0mdummy_list\u001b[0m\u001b[0;34m)\u001b[0m \u001b[0;34m+\u001b[0m \u001b[0;36m2\u001b[0m\u001b[0;34m\u001b[0m\u001b[0m\n\u001b[0;32m---> 10\u001b[0;31m \u001b[0mdummy_list\u001b[0m\u001b[0;34m.\u001b[0m\u001b[0mpop\u001b[0m\u001b[0;34m(\u001b[0m\u001b[0mx\u001b[0m\u001b[0;34m)\u001b[0m\u001b[0;34m\u001b[0m\u001b[0m\n\u001b[0m",
            "\u001b[0;31mIndexError\u001b[0m: pop index out of range"
          ]
        }
      ]
    },
    {
      "metadata": {
        "id": "bqQnnsr8rm6G",
        "colab_type": "text"
      },
      "cell_type": "markdown",
      "source": [
        "10) Let's clean everything clear the list and then print"
      ]
    },
    {
      "metadata": {
        "id": "qBC8lKpLrtJW",
        "colab_type": "code",
        "colab": {
          "base_uri": "https://localhost:8080/",
          "height": 35
        },
        "outputId": "de0259b0-e69b-4c26-95b7-c091cfb138db"
      },
      "cell_type": "code",
      "source": [
        "dummy_list.clear()\n",
        "dummy_list"
      ],
      "execution_count": 11,
      "outputs": [
        {
          "output_type": "execute_result",
          "data": {
            "text/plain": [
              "[]"
            ]
          },
          "metadata": {
            "tags": []
          },
          "execution_count": 11
        }
      ]
    }
  ]
}