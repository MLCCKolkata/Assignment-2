{
  "nbformat": 4,
  "nbformat_minor": 0,
  "metadata": {
    "colab": {
      "name": "Untitled0.ipynb",
      "version": "0.3.2",
      "provenance": [],
      "include_colab_link": true
    },
    "kernelspec": {
      "name": "python3",
      "display_name": "Python 3"
    }
  },
  "cells": [
    {
      "cell_type": "markdown",
      "metadata": {
        "id": "view-in-github",
        "colab_type": "text"
      },
      "source": [
        "[View in Colaboratory](https://colab.research.google.com/github/susovan1612/Assignment-2/blob/susovan1612/Untitled0.ipynb)"
      ]
    },
    {
      "metadata": {
        "id": "e0R1W0Vzm4UU",
        "colab_type": "text"
      },
      "cell_type": "markdown",
      "source": [
        "# Exercise - List"
      ]
    },
    {
      "metadata": {
        "id": "TrO7XNQnnQZ7",
        "colab_type": "text"
      },
      "cell_type": "markdown",
      "source": [
        "1) Create  any random list and assign it to a variable dummy_list"
      ]
    },
    {
      "metadata": {
        "id": "bjl-2QkznWid",
        "colab_type": "code",
        "colab": {}
      },
      "cell_type": "code",
      "source": [
        "dummy_list=[40,1,1.2,13,100]"
      ],
      "execution_count": 0,
      "outputs": []
    },
    {
      "metadata": {
        "id": "cDjddNGfngnp",
        "colab_type": "text"
      },
      "cell_type": "markdown",
      "source": [
        "2) print dummy_list"
      ]
    },
    {
      "metadata": {
        "id": "RVL5178inz9M",
        "colab_type": "code",
        "colab": {
          "base_uri": "https://localhost:8080/",
          "height": 34
        },
        "outputId": "dd330d71-fbfb-4c57-cc5b-937f4190fcab"
      },
      "cell_type": "code",
      "source": [
        "print('dummy_list =',dummy_list)"
      ],
      "execution_count": 46,
      "outputs": [
        {
          "output_type": "stream",
          "text": [
            "dummy_list = [40, 1, 1.2, 13, 100]\n"
          ],
          "name": "stdout"
        }
      ]
    },
    {
      "metadata": {
        "id": "15jKDXxkn16M",
        "colab_type": "text"
      },
      "cell_type": "markdown",
      "source": [
        "3) Reverse dummy_list and print"
      ]
    },
    {
      "metadata": {
        "id": "bYa9gFOOn-4o",
        "colab_type": "code",
        "colab": {
          "base_uri": "https://localhost:8080/",
          "height": 51
        },
        "outputId": "4d68d59e-de05-4175-9d09-8699c9c14a29"
      },
      "cell_type": "code",
      "source": [
        "print('Orginal dummy_list =',dummy_list)\n",
        "dummy_list.reverse()\n",
        "print(\"After Reverse dummy_list\",dummy_list)"
      ],
      "execution_count": 47,
      "outputs": [
        {
          "output_type": "stream",
          "text": [
            "Orginal dummy_list = [40, 1, 1.2, 13, 100]\n",
            "After Reverse dummy_list [100, 13, 1.2, 1, 40]\n"
          ],
          "name": "stdout"
        }
      ]
    },
    {
      "metadata": {
        "id": "EShv0nfXpUys",
        "colab_type": "text"
      },
      "cell_type": "markdown",
      "source": [
        "4) Add the list dummy_list_2 to the previous dummy_list and now print dummy_list"
      ]
    },
    {
      "metadata": {
        "id": "Ngkc7hnYphg6",
        "colab_type": "code",
        "colab": {
          "base_uri": "https://localhost:8080/",
          "height": 84
        },
        "outputId": "f0b9e8c6-78ea-46d5-82e7-531e78a7b4e1"
      },
      "cell_type": "code",
      "source": [
        "print(\"dummy_list =\",dummy_list)\n",
        "dummy_list_2 = [2, 200, 16, 4, 1, 0, 9.45, 45.67, 90, 12.01, 12.02]\n",
        "print(\"dummy_list_2 =\",dummy_list_2)\n",
        "dummy_list=dummy_list+dummy_list_2\n",
        "print(\"After adding the list dummy_list_2 to the previous dummy_list\\ndummy_list =\",dummy_list)"
      ],
      "execution_count": 48,
      "outputs": [
        {
          "output_type": "stream",
          "text": [
            "dummy_list = [100, 13, 1.2, 1, 40]\n",
            "dummy_list_2 = [2, 200, 16, 4, 1, 0, 9.45, 45.67, 90, 12.01, 12.02]\n",
            "After adding the list dummy_list_2 to the previous dummy_list\n",
            "dummy_list = [100, 13, 1.2, 1, 40, 2, 200, 16, 4, 1, 0, 9.45, 45.67, 90, 12.01, 12.02]\n"
          ],
          "name": "stdout"
        }
      ]
    },
    {
      "metadata": {
        "id": "Le1aRTuYoDzS",
        "colab_type": "text"
      },
      "cell_type": "markdown",
      "source": [
        "5) Create a dictionary named dummy_dict which contains all the elements of dummy_list as keys and frequency as values. "
      ]
    },
    {
      "metadata": {
        "id": "VHfSR_Csthnk",
        "colab_type": "code",
        "colab": {
          "base_uri": "https://localhost:8080/",
          "height": 34
        },
        "outputId": "b5cd2891-dd0c-4cda-ef3c-ab1ef2e7d143"
      },
      "cell_type": "code",
      "source": [
        "print(\"dummy_list =\",dummy_list)"
      ],
      "execution_count": 49,
      "outputs": [
        {
          "output_type": "stream",
          "text": [
            "dummy_list = [100, 13, 1.2, 1, 40, 2, 200, 16, 4, 1, 0, 9.45, 45.67, 90, 12.01, 12.02]\n"
          ],
          "name": "stdout"
        }
      ]
    },
    {
      "metadata": {
        "id": "rtPC6WkSos-y",
        "colab_type": "code",
        "colab": {}
      },
      "cell_type": "code",
      "source": [
        "# Creating the dummy_dict\n",
        "dummy_dict = {}\n",
        "for i in dummy_list:\n",
        "    dummy_dict[i]=dummy_list.count(i)"
      ],
      "execution_count": 0,
      "outputs": []
    },
    {
      "metadata": {
        "id": "RgCYpFXGou6q",
        "colab_type": "text"
      },
      "cell_type": "markdown",
      "source": [
        "6) print dummy_dict"
      ]
    },
    {
      "metadata": {
        "id": "qe5E5IgxpTWU",
        "colab_type": "code",
        "colab": {
          "base_uri": "https://localhost:8080/",
          "height": 34
        },
        "outputId": "182440af-1803-4317-b098-3e6e7e3217c8"
      },
      "cell_type": "code",
      "source": [
        "print(dummy_dict)"
      ],
      "execution_count": 51,
      "outputs": [
        {
          "output_type": "stream",
          "text": [
            "{100: 1, 13: 1, 1.2: 1, 1: 2, 40: 1, 2: 1, 200: 1, 16: 1, 4: 1, 0: 1, 9.45: 1, 45.67: 1, 90: 1, 12.01: 1, 12.02: 1}\n"
          ],
          "name": "stdout"
        }
      ]
    },
    {
      "metadata": {
        "id": "8n_nsBDup4--",
        "colab_type": "text"
      },
      "cell_type": "markdown",
      "source": [
        "7) Sort dummy_list in ascending order as well as descending order and print the changed lists "
      ]
    },
    {
      "metadata": {
        "id": "Z_m7vr26qKnK",
        "colab_type": "code",
        "colab": {
          "base_uri": "https://localhost:8080/",
          "height": 67
        },
        "outputId": "b467a101-4037-429f-c3d5-954e82a8024f"
      },
      "cell_type": "code",
      "source": [
        "print(\"Orginal dummy_list =\",dummy_list)\n",
        "dummy_list.sort()\n",
        "print(\"After Sorting dummy_list in ascending order =\",dummy_list)\n",
        "dummy_list.reverse()\n",
        "print(\"After Sorting dummy_list in descending order =\",dummy_list)"
      ],
      "execution_count": 52,
      "outputs": [
        {
          "output_type": "stream",
          "text": [
            "Orginal dummy_list = [100, 13, 1.2, 1, 40, 2, 200, 16, 4, 1, 0, 9.45, 45.67, 90, 12.01, 12.02]\n",
            "After Sorting dummy_list in ascending order = [0, 1, 1, 1.2, 2, 4, 9.45, 12.01, 12.02, 13, 16, 40, 45.67, 90, 100, 200]\n",
            "After Sorting dummy_list in descending order = [200, 100, 90, 45.67, 40, 16, 13, 12.02, 12.01, 9.45, 4, 2, 1.2, 1, 1, 0]\n"
          ],
          "name": "stdout"
        }
      ]
    },
    {
      "metadata": {
        "id": "Znm5Qo4LqPKA",
        "colab_type": "text"
      },
      "cell_type": "markdown",
      "source": [
        "8) Remove the first item from the list whose value is equal to x. It raises a ValueError if there is no such item."
      ]
    },
    {
      "metadata": {
        "id": "1-8mlngDqYvS",
        "colab_type": "code",
        "colab": {
          "base_uri": "https://localhost:8080/",
          "height": 34
        },
        "outputId": "5da6a3dc-d5ce-4b89-87e5-85a326e0b92f"
      },
      "cell_type": "code",
      "source": [
        "x = 200\n",
        "try:\n",
        "  dummy_list.remove(x)\n",
        "  print(\"After deleting {} dummy_list become =\".format(x),dummy_list)\n",
        "except:\n",
        "  print(x,\"is not in the dummy_list\")\n",
        "\n",
        "# Let's play: try the same with something which is not in the list to get the ValueError"
      ],
      "execution_count": 53,
      "outputs": [
        {
          "output_type": "stream",
          "text": [
            "After deleting 200 dummy_list become = [100, 90, 45.67, 40, 16, 13, 12.02, 12.01, 9.45, 4, 2, 1.2, 1, 1, 0]\n"
          ],
          "name": "stdout"
        }
      ]
    },
    {
      "metadata": {
        "id": "QPB6iGbeqviN",
        "colab_type": "text"
      },
      "cell_type": "markdown",
      "source": [
        "9) Remove the item at position x. x is any random integer"
      ]
    },
    {
      "metadata": {
        "id": "aMyo1gmRrVHo",
        "colab_type": "code",
        "colab": {
          "base_uri": "https://localhost:8080/",
          "height": 50
        },
        "outputId": "3b84399f-e707-4ca9-9367-faad2f6f4f49"
      },
      "cell_type": "code",
      "source": [
        "# Let's play: try doing the same with x > len(dummy_list) + 1 and see what you get\n",
        "import random\n",
        "x=random.randint(1,len(dummy_list)+1)\n",
        "dummy_list.remove(dummy_list[x-1])\n",
        "print(\"From dummy_list\",x,\"position value was deleted.\")\n",
        "print(\"After that dummy_list=\",dummy_list)"
      ],
      "execution_count": 54,
      "outputs": [
        {
          "output_type": "stream",
          "text": [
            "From dummy_list 8 position value was deleted.\n",
            "After that dummy_list= [100, 90, 45.67, 40, 16, 13, 12.02, 9.45, 4, 2, 1.2, 1, 1, 0]\n"
          ],
          "name": "stdout"
        }
      ]
    },
    {
      "metadata": {
        "id": "bqQnnsr8rm6G",
        "colab_type": "text"
      },
      "cell_type": "markdown",
      "source": [
        "10) Let's clean everything clear the list and then print"
      ]
    },
    {
      "metadata": {
        "id": "qBC8lKpLrtJW",
        "colab_type": "code",
        "colab": {
          "base_uri": "https://localhost:8080/",
          "height": 50
        },
        "outputId": "047c484a-40c5-49b2-df49-7fd22445562a"
      },
      "cell_type": "code",
      "source": [
        "print(\"dummy_list=\",dummy_list)\n",
        "dummy_list.clear()\n",
        "print(\"After clear the dummy_list=\",dummy_list)"
      ],
      "execution_count": 55,
      "outputs": [
        {
          "output_type": "stream",
          "text": [
            "dummy_list= [100, 90, 45.67, 40, 16, 13, 12.02, 9.45, 4, 2, 1.2, 1, 1, 0]\n",
            "After clear the dummy_list= []\n"
          ],
          "name": "stdout"
        }
      ]
    }
  ]
}