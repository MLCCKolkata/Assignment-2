{
  "nbformat": 4,
  "nbformat_minor": 0,
  "metadata": {
    "colab": {
      "name": "shubhajit01.ipynb",
      "version": "0.3.2",
      "provenance": []
    },
    "kernelspec": {
      "display_name": "Python 3",
      "language": "python",
      "name": "python3"
    }
  },
  "cells": [
    {
      "metadata": {
        "id": "vyo4dsNAgUTE",
        "colab_type": "code",
        "colab": {
          "base_uri": "https://localhost:8080/",
          "height": 182
        },
        "outputId": "652304b0-ea2f-4e63-c90c-7dc8f0e7a4ad"
      },
      "cell_type": "code",
      "source": [
        "dummy_list = [1, 20, 30, 40, 90]\n",
        "print(\"dummy_list = \",dummy_list)\n",
        "print(\"dummy_list reversed = \",dummy_list[::-1])\n",
        "dummy_list_2 = [2, 200, 16, 4, 1, 0, 9.45, 45.67, 90, 12.01, 12.02]\n",
        "dummy_list.extend(dummy_list_2)\n",
        "print(\"dummy_list after adding dummy_list_2 = \",dummy_list)\n",
        "dummy_dict =  {}\n",
        "for i in dummy_list:\n",
        "\tif(i in dummy_dict):\n",
        "\t\tdummy_dict[i] += 1\n",
        "\telse:\n",
        "\t\tdummy_dict[i] = 1\n",
        "print(\"dummy_dict = \",dummy_dict)\n",
        "print(\"dummy_list sorted = \",sorted(dummy_list))\n",
        "print(\"dummy_list sorted descending = \",sorted(dummy_list,reverse=True))\n",
        "x = 200\n",
        "dummy_list.remove(x)\n",
        "print(\"dummy_list after removing 200 = \",dummy_list)\n",
        "y = 5\n",
        "del dummy_list[5]\n",
        "print(\"dummy_list after removing element at 5th position = \",dummy_list)\n",
        "dummy_list.clear()\n",
        "print(\"dummy_list after clearing = \",dummy_list)"
      ],
      "execution_count": 3,
      "outputs": [
        {
          "output_type": "stream",
          "text": [
            "dummy_list =  [1, 20, 30, 40, 90]\n",
            "dummy_list reversed =  [90, 40, 30, 20, 1]\n",
            "dummy_list after adding dummy_list_2 =  [1, 20, 30, 40, 90, 2, 200, 16, 4, 1, 0, 9.45, 45.67, 90, 12.01, 12.02]\n",
            "dummy_dict =  {1: 2, 20: 1, 30: 1, 40: 1, 90: 2, 2: 1, 200: 1, 16: 1, 4: 1, 0: 1, 9.45: 1, 45.67: 1, 12.01: 1, 12.02: 1}\n",
            "dummy_list sorted =  [0, 1, 1, 2, 4, 9.45, 12.01, 12.02, 16, 20, 30, 40, 45.67, 90, 90, 200]\n",
            "dummy_list sorted descending =  [200, 90, 90, 45.67, 40, 30, 20, 16, 12.02, 12.01, 9.45, 4, 2, 1, 1, 0]\n",
            "dummy_list after removing 200 =  [1, 20, 30, 40, 90, 2, 16, 4, 1, 0, 9.45, 45.67, 90, 12.01, 12.02]\n",
            "dummy_list after removing element at 5th position =  [1, 20, 30, 40, 90, 16, 4, 1, 0, 9.45, 45.67, 90, 12.01, 12.02]\n",
            "dummy_list after clearing =  []\n"
          ],
          "name": "stdout"
        }
      ]
    }
  ]
}