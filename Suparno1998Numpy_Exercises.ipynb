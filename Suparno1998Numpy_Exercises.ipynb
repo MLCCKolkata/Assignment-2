{
  "nbformat": 4,
  "nbformat_minor": 0,
  "metadata": {
    "colab": {
      "name": "Suparno1998.ipynb",
      "version": "0.3.2",
      "provenance": []
    },
    "kernelspec": {
      "display_name": "Python 3",
      "language": "python",
      "name": "python3"
    }
  },
  "cells": [
    {
      "metadata": {
        "id": "tPP5sWkXK4U9",
        "colab_type": "code",
        "colab": {}
      },
      "cell_type": "code",
      "source": [
        "import numpy as np # import numpy"
      ],
      "execution_count": 0,
      "outputs": []
    },
    {
      "metadata": {
        "id": "dxRZCimWcJkH",
        "colab_type": "text"
      },
      "cell_type": "markdown",
      "source": [
        "Create a uniform subdivision of the interval -1.3 to 2.5 with 64 subdivisions"
      ]
    },
    {
      "metadata": {
        "id": "nAgYNb6fcL1a",
        "colab_type": "code",
        "colab": {
          "base_uri": "https://localhost:8080/",
          "height": 204
        },
        "outputId": "46c178ae-4bf6-4f7a-be51-93cb9f7b79a8"
      },
      "cell_type": "code",
      "source": [
        "a = np.linspace(-1.3,2.5,num=64)\n",
        "print(a)"
      ],
      "execution_count": 12,
      "outputs": [
        {
          "output_type": "stream",
          "text": [
            "[-1.3        -1.23968254 -1.17936508 -1.11904762 -1.05873016 -0.9984127\n",
            " -0.93809524 -0.87777778 -0.81746032 -0.75714286 -0.6968254  -0.63650794\n",
            " -0.57619048 -0.51587302 -0.45555556 -0.3952381  -0.33492063 -0.27460317\n",
            " -0.21428571 -0.15396825 -0.09365079 -0.03333333  0.02698413  0.08730159\n",
            "  0.14761905  0.20793651  0.26825397  0.32857143  0.38888889  0.44920635\n",
            "  0.50952381  0.56984127  0.63015873  0.69047619  0.75079365  0.81111111\n",
            "  0.87142857  0.93174603  0.99206349  1.05238095  1.11269841  1.17301587\n",
            "  1.23333333  1.29365079  1.35396825  1.41428571  1.47460317  1.53492063\n",
            "  1.5952381   1.65555556  1.71587302  1.77619048  1.83650794  1.8968254\n",
            "  1.95714286  2.01746032  2.07777778  2.13809524  2.1984127   2.25873016\n",
            "  2.31904762  2.37936508  2.43968254  2.5       ]\n"
          ],
          "name": "stdout"
        }
      ]
    },
    {
      "metadata": {
        "id": "pJJaqRLiLDB6",
        "colab_type": "text"
      },
      "cell_type": "markdown",
      "source": [
        "Generate an array of length 3n filled with the cyclic pattern 1, 2, 3"
      ]
    },
    {
      "metadata": {
        "id": "6BhX70wmLGny",
        "colab_type": "code",
        "colab": {
          "base_uri": "https://localhost:8080/",
          "height": 34
        },
        "outputId": "a5355ddf-b14b-43c1-ae21-67fb990d29ea"
      },
      "cell_type": "code",
      "source": [
        "a = np.array([])\n",
        "n = 2 #for n =2\n",
        "for j in range(0,3*n):\n",
        "    b = np.arange(1,4)\n",
        "    a = np.concatenate([a,b]).astype(int)\n",
        "print(a)"
      ],
      "execution_count": 3,
      "outputs": [
        {
          "output_type": "stream",
          "text": [
            "[1 2 3 1 2 3 1 2 3 1 2 3 1 2 3 1 2 3]\n"
          ],
          "name": "stdout"
        }
      ]
    },
    {
      "metadata": {
        "id": "F0Ttxq-BPwrS",
        "colab_type": "text"
      },
      "cell_type": "markdown",
      "source": [
        "Create an array of the first 10 odd integers."
      ]
    },
    {
      "metadata": {
        "id": "-IYOr_IfP6E8",
        "colab_type": "code",
        "colab": {
          "base_uri": "https://localhost:8080/",
          "height": 34
        },
        "outputId": "454d4af2-a667-4317-a9f7-66c42d41532d"
      },
      "cell_type": "code",
      "source": [
        "n = 19 #10th odd integer\n",
        "a = np.linspace(1,19,num=10).astype(int)\n",
        "print(a)"
      ],
      "execution_count": 6,
      "outputs": [
        {
          "output_type": "stream",
          "text": [
            "[ 1  3  5  7  9 11 13 15 17 19]\n"
          ],
          "name": "stdout"
        }
      ]
    },
    {
      "metadata": {
        "id": "WLdc4gzEQs5-",
        "colab_type": "text"
      },
      "cell_type": "markdown",
      "source": [
        "Find intersection of a and b"
      ]
    },
    {
      "metadata": {
        "id": "Ln-0pJ2FQziz",
        "colab_type": "code",
        "colab": {
          "base_uri": "https://localhost:8080/",
          "height": 34
        },
        "outputId": "8dc08b7f-8908-4794-80e3-5446a4a1e0e6"
      },
      "cell_type": "code",
      "source": [
        "a = np.array([1,2,3,2,3,4,3,4,5,6]) #Given\n",
        "b = np.array([7,2,10,2,7,4,9,4,9,8]) #Given\n",
        "c = np.intersect1d(a,b)\n",
        "print(c)"
      ],
      "execution_count": 8,
      "outputs": [
        {
          "output_type": "stream",
          "text": [
            "[2 4]\n"
          ],
          "name": "stdout"
        }
      ]
    },
    {
      "metadata": {
        "id": "caU1R4OyadSM",
        "colab_type": "text"
      },
      "cell_type": "markdown",
      "source": [
        " Reshape 1d array a to 2d array of 2X5"
      ]
    },
    {
      "metadata": {
        "id": "Xdnzt4qnabOY",
        "colab_type": "code",
        "colab": {
          "base_uri": "https://localhost:8080/",
          "height": 51
        },
        "outputId": "699dd1bb-c416-4ea8-e582-d5d27a36ece2"
      },
      "cell_type": "code",
      "source": [
        "a = np.arange(1,11).reshape(2,5)\n",
        "print(a)"
      ],
      "execution_count": 10,
      "outputs": [
        {
          "output_type": "stream",
          "text": [
            "[[ 1  2  3  4  5]\n",
            " [ 6  7  8  9 10]]\n"
          ],
          "name": "stdout"
        }
      ]
    },
    {
      "metadata": {
        "id": "ddCNEGsbavLW",
        "colab_type": "text"
      },
      "cell_type": "markdown",
      "source": [
        "Create a 10 x 10 arrays of zeros and then \"frame\" it with a border of ones."
      ]
    },
    {
      "metadata": {
        "id": "J3YeLcVhceLl",
        "colab_type": "text"
      },
      "cell_type": "markdown",
      "source": [
        "Create a numpy array to list and vice versa"
      ]
    },
    {
      "metadata": {
        "id": "K7LhVTqscdlZ",
        "colab_type": "code",
        "colab": {
          "base_uri": "https://localhost:8080/",
          "height": 85
        },
        "outputId": "428c4be2-e0bc-4372-f6df-a9139897929f"
      },
      "cell_type": "code",
      "source": [
        "a = [1, 2, 3, 4, 5, 6, 7, 8, 9]\n",
        "res = np.array([a])\n",
        "print(res)\n",
        "print(type(res))\n",
        "c = res.tolist()\n",
        "print(c)\n",
        "print(type(c))"
      ],
      "execution_count": 20,
      "outputs": [
        {
          "output_type": "stream",
          "text": [
            "[[1 2 3 4 5 6 7 8 9]]\n",
            "<class 'numpy.ndarray'>\n",
            "[[1, 2, 3, 4, 5, 6, 7, 8, 9]]\n",
            "<class 'list'>\n"
          ],
          "name": "stdout"
        }
      ]
    },
    {
      "metadata": {
        "id": "g-ilv_HpawZU",
        "colab_type": "code",
        "colab": {
          "base_uri": "https://localhost:8080/",
          "height": 221
        },
        "outputId": "7f6582af-3a16-4c1c-e713-52da30a2040e"
      },
      "cell_type": "code",
      "source": [
        "a = np.zeros((10,10),dtype=int)\n",
        "b = np.ones((10,1),dtype=int) #vertical\n",
        "c = np.ones((1,12),dtype=int) #horizontal\n",
        "res = np.concatenate([b,a],axis=1)\n",
        "res = np.concatenate([res,b],axis=1)\n",
        "res = np.concatenate([c,res],axis=0)\n",
        "res = np.concatenate([res,c],axis=0)\n",
        "print(res)"
      ],
      "execution_count": 11,
      "outputs": [
        {
          "output_type": "stream",
          "text": [
            "[[1 1 1 1 1 1 1 1 1 1 1 1]\n",
            " [1 0 0 0 0 0 0 0 0 0 0 1]\n",
            " [1 0 0 0 0 0 0 0 0 0 0 1]\n",
            " [1 0 0 0 0 0 0 0 0 0 0 1]\n",
            " [1 0 0 0 0 0 0 0 0 0 0 1]\n",
            " [1 0 0 0 0 0 0 0 0 0 0 1]\n",
            " [1 0 0 0 0 0 0 0 0 0 0 1]\n",
            " [1 0 0 0 0 0 0 0 0 0 0 1]\n",
            " [1 0 0 0 0 0 0 0 0 0 0 1]\n",
            " [1 0 0 0 0 0 0 0 0 0 0 1]\n",
            " [1 0 0 0 0 0 0 0 0 0 0 1]\n",
            " [1 1 1 1 1 1 1 1 1 1 1 1]]\n"
          ],
          "name": "stdout"
        }
      ]
    },
    {
      "metadata": {
        "id": "Jr_RENncdVWJ",
        "colab_type": "text"
      },
      "cell_type": "markdown",
      "source": [
        ""
      ]
    },
    {
      "metadata": {
        "id": "_2qPBWHhm59G",
        "colab_type": "text"
      },
      "cell_type": "markdown",
      "source": [
        "Create an 8 x 8 array with a checkerboard pattern of zeros and ones using a slicing+striding approach."
      ]
    },
    {
      "metadata": {
        "id": "ST0WqgxMdXI2",
        "colab_type": "code",
        "colab": {
          "base_uri": "https://localhost:8080/",
          "height": 153
        },
        "outputId": "d82d5fdf-eac7-40bc-d528-75dba50bef60"
      },
      "cell_type": "code",
      "source": [
        "a = np.zeros((8,8),dtype=int)\n",
        "a[1::2, ::2] = 1\n",
        "a[::2, 1::2] = 1\n",
        "print(a)"
      ],
      "execution_count": 21,
      "outputs": [
        {
          "output_type": "stream",
          "text": [
            "[[0 1 0 1 0 1 0 1]\n",
            " [1 0 1 0 1 0 1 0]\n",
            " [0 1 0 1 0 1 0 1]\n",
            " [1 0 1 0 1 0 1 0]\n",
            " [0 1 0 1 0 1 0 1]\n",
            " [1 0 1 0 1 0 1 0]\n",
            " [0 1 0 1 0 1 0 1]\n",
            " [1 0 1 0 1 0 1 0]]\n"
          ],
          "name": "stdout"
        }
      ]
    }
  ]
}