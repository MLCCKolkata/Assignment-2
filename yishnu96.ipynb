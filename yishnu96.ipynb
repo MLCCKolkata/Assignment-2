{
  "nbformat": 4,
  "nbformat_minor": 0,
  "metadata": {
    "colab": {
      "name": "yishnu96.ipynb",
      "version": "0.3.2",
      "provenance": []
    },
    "kernelspec": {
      "display_name": "Python 3",
      "language": "python",
      "name": "python3"
    }
  },
  "cells": [
    {
      "metadata": {
        "id": "orq8keIYm6Ld",
        "colab_type": "code",
        "colab": {}
      },
      "cell_type": "code",
      "source": [
        "import operator"
      ],
      "execution_count": 0,
      "outputs": []
    },
    {
      "metadata": {
        "id": "8Q1wvuiJfwws",
        "colab_type": "code",
        "colab": {}
      },
      "cell_type": "code",
      "source": [
        "dummy_list = [12,15,20,35,75]"
      ],
      "execution_count": 0,
      "outputs": []
    },
    {
      "metadata": {
        "id": "FFWtKMnMhQxZ",
        "colab_type": "code",
        "colab": {
          "base_uri": "https://localhost:8080/",
          "height": 34
        },
        "outputId": "84b9e118-ab3b-4c6e-9d2a-614c8a68587d"
      },
      "cell_type": "code",
      "source": [
        "print(dummy_list)"
      ],
      "execution_count": 2,
      "outputs": [
        {
          "output_type": "stream",
          "text": [
            "[12, 15, 20, 35, 75]\n"
          ],
          "name": "stdout"
        }
      ]
    },
    {
      "metadata": {
        "id": "XuB9q-kohXls",
        "colab_type": "code",
        "colab": {
          "base_uri": "https://localhost:8080/",
          "height": 34
        },
        "outputId": "f27e820c-e1fa-4502-dd48-5f00acbf8e50"
      },
      "cell_type": "code",
      "source": [
        "print(sorted(dummy_list, reverse = True))"
      ],
      "execution_count": 4,
      "outputs": [
        {
          "output_type": "stream",
          "text": [
            "[75, 35, 20, 15, 12]\n"
          ],
          "name": "stdout"
        }
      ]
    },
    {
      "metadata": {
        "id": "UNgG48nViHRn",
        "colab_type": "code",
        "colab": {
          "base_uri": "https://localhost:8080/",
          "height": 34
        },
        "outputId": "60d05ea6-6efd-4cef-de34-5f3bf0dcbea3"
      },
      "cell_type": "code",
      "source": [
        "dummy_list_2 = [2, 200, 16, 4, 1, 0, 9.45, 45.67, 90, 12.01, 12.02]\n",
        "dummy_list.extend(dummy_list_2)\n",
        "print(dummy_list)"
      ],
      "execution_count": 6,
      "outputs": [
        {
          "output_type": "stream",
          "text": [
            "[75, 35, 20, 15, 12, 2, 200, 16, 4, 1, 0, 9.45, 45.67, 90, 12.01, 12.02]\n"
          ],
          "name": "stdout"
        }
      ]
    },
    {
      "metadata": {
        "id": "SektpbnXjL1j",
        "colab_type": "code",
        "colab": {}
      },
      "cell_type": "code",
      "source": [
        "dummy_dict = {75:35,20:15,12:2}"
      ],
      "execution_count": 0,
      "outputs": []
    },
    {
      "metadata": {
        "id": "3Na7iBo-mGwB",
        "colab_type": "code",
        "colab": {
          "base_uri": "https://localhost:8080/",
          "height": 34
        },
        "outputId": "5b357580-93cf-4a1f-c276-a1e041a437d4"
      },
      "cell_type": "code",
      "source": [
        "print(dummy_dict)"
      ],
      "execution_count": 11,
      "outputs": [
        {
          "output_type": "stream",
          "text": [
            "{75: 35, 20: 15, 12: 2}\n"
          ],
          "name": "stdout"
        }
      ]
    },
    {
      "metadata": {
        "id": "PsP7APgAml55",
        "colab_type": "code",
        "colab": {
          "base_uri": "https://localhost:8080/",
          "height": 34
        },
        "outputId": "491c0eef-6d9c-40d8-f376-13113379e34d"
      },
      "cell_type": "code",
      "source": [
        "print(sorted(dummy_dict.items(), key=operator.itemgetter(0)))"
      ],
      "execution_count": 14,
      "outputs": [
        {
          "output_type": "stream",
          "text": [
            "[(12, 2), (20, 15), (75, 35)]\n"
          ],
          "name": "stdout"
        }
      ]
    },
    {
      "metadata": {
        "id": "9qHuUkvvnHpB",
        "colab_type": "code",
        "colab": {
          "base_uri": "https://localhost:8080/",
          "height": 34
        },
        "outputId": "90ff4be5-ba3f-42e8-9193-570cf10aa679"
      },
      "cell_type": "code",
      "source": [
        "print(sorted(dummy_dict.items(), key=operator.itemgetter(0),reverse=True))"
      ],
      "execution_count": 18,
      "outputs": [
        {
          "output_type": "stream",
          "text": [
            "[(75, 35), (20, 15), (12, 2)]\n"
          ],
          "name": "stdout"
        }
      ]
    },
    {
      "metadata": {
        "id": "qzNzm3o6op38",
        "colab_type": "code",
        "colab": {
          "base_uri": "https://localhost:8080/",
          "height": 34
        },
        "outputId": "62b65c2b-b616-42fe-9c58-9b38436ad149"
      },
      "cell_type": "code",
      "source": [
        "x=200\n",
        "try:\n",
        "    del dummy_dict[x]\n",
        "except KeyError:\n",
        "    print(\"Key not found\")"
      ],
      "execution_count": 31,
      "outputs": [
        {
          "output_type": "stream",
          "text": [
            "Key not found\n"
          ],
          "name": "stdout"
        }
      ]
    }
  ]
}