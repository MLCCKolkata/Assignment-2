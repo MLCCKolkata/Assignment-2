{
  "nbformat": 4,
  "nbformat_minor": 0,
  "metadata": {
    "colab": {
      "name": "Copy of Numpy_Exercises.ipynb",
      "version": "0.3.2",
      "provenance": [],
      "include_colab_link": true
    },
    "kernelspec": {
      "name": "python3",
      "display_name": "Python 3"
    }
  },
  "cells": [
    {
      "cell_type": "markdown",
      "metadata": {
        "id": "view-in-github",
        "colab_type": "text"
      },
      "source": [
        "<a href=\"https://colab.research.google.com/github/Suraj1199/Assignment-2/blob/Suraj1199/NumpyExercises.ipynb\" target=\"_parent\"><img src=\"https://colab.research.google.com/assets/colab-badge.svg\" alt=\"Open In Colab\"/></a>"
      ]
    },
    {
      "metadata": {
        "id": "a_4UupTr9fbX",
        "colab_type": "text"
      },
      "cell_type": "markdown",
      "source": [
        "# Numpy Exercises\n",
        "\n",
        "1) Create a uniform subdivision of the interval -1.3 to 2.5 with 64 subdivisions"
      ]
    },
    {
      "metadata": {
        "id": "LIP5u4zi0Nmg",
        "colab_type": "code",
        "colab": {
          "base_uri": "https://localhost:8080/",
          "height": 752
        },
        "outputId": "9a616a02-c5cb-40b3-dc3d-894c2a224f2c"
      },
      "cell_type": "code",
      "source": [
        "import numpy as np #import numpy\n",
        "def frange(start, stop, step):\n",
        "    x = start\n",
        "    while x < stop:\n",
        "        yield x\n",
        "        x += step\n",
        "\n",
        "for i in frange(-1.3,2.6,0.1):\n",
        "    a = np.array(i)\n",
        "    print (a)\n",
        "    \n",
        "print(np.true_divide(a,64))"
      ],
      "execution_count": 10,
      "outputs": [
        {
          "output_type": "stream",
          "text": [
            "-1.3\n",
            "-1.2\n",
            "-1.0999999999999999\n",
            "-0.9999999999999999\n",
            "-0.8999999999999999\n",
            "-0.7999999999999999\n",
            "-0.7\n",
            "-0.6\n",
            "-0.5\n",
            "-0.4\n",
            "-0.30000000000000004\n",
            "-0.20000000000000004\n",
            "-0.10000000000000003\n",
            "-2.7755575615628914e-17\n",
            "0.09999999999999998\n",
            "0.19999999999999998\n",
            "0.3\n",
            "0.4\n",
            "0.5\n",
            "0.6\n",
            "0.7\n",
            "0.7999999999999999\n",
            "0.8999999999999999\n",
            "0.9999999999999999\n",
            "1.0999999999999999\n",
            "1.2\n",
            "1.3\n",
            "1.4000000000000001\n",
            "1.5000000000000002\n",
            "1.6000000000000003\n",
            "1.7000000000000004\n",
            "1.8000000000000005\n",
            "1.9000000000000006\n",
            "2.0000000000000004\n",
            "2.1000000000000005\n",
            "2.2000000000000006\n",
            "2.3000000000000007\n",
            "2.400000000000001\n",
            "2.500000000000001\n",
            "0.039062500000000014\n"
          ],
          "name": "stdout"
        }
      ]
    },
    {
      "metadata": {
        "id": "dBoH_A7M9jjL",
        "colab_type": "text"
      },
      "cell_type": "markdown",
      "source": [
        "2) Generate an array of length 3n filled with the cyclic pattern 1, 2, 3"
      ]
    },
    {
      "metadata": {
        "id": "4TxT66309n1o",
        "colab_type": "code",
        "colab": {}
      },
      "cell_type": "code",
      "source": [
        "a = np.array([1, 2, 3])\n",
        "\n",
        "a = np.resize(a,12)\n",
        "print (a)\n"
      ],
      "execution_count": 0,
      "outputs": []
    },
    {
      "metadata": {
        "id": "Vh-UKizx9oTp",
        "colab_type": "text"
      },
      "cell_type": "markdown",
      "source": [
        "3) Create an array of the first 10 odd integers."
      ]
    },
    {
      "metadata": {
        "id": "ebhEUZq29r32",
        "colab_type": "code",
        "colab": {}
      },
      "cell_type": "code",
      "source": [
        "b = np.arange(20)\n",
        "\n",
        "i = b%2!=0\n",
        "\n",
        "print(b[i])\n"
      ],
      "execution_count": 0,
      "outputs": []
    },
    {
      "metadata": {
        "id": "QfJRdMat90f4",
        "colab_type": "text"
      },
      "cell_type": "markdown",
      "source": [
        "4) Find intersection of a and b"
      ]
    },
    {
      "metadata": {
        "id": "gOlfuJCo-JwF",
        "colab_type": "code",
        "colab": {}
      },
      "cell_type": "code",
      "source": [
        "#expected output array([2, 4])\n",
        "a = np.array([1,2,3,2,3,4,3,4,5,6])\n",
        "b = np.array([7,2,10,2,7,4,9,4,9,8])\n",
        "\n",
        "x = np.intersect1d(a,b)\n",
        "print (x)"
      ],
      "execution_count": 0,
      "outputs": []
    },
    {
      "metadata": {
        "id": "RtVCf0UoCeB8",
        "colab_type": "text"
      },
      "cell_type": "markdown",
      "source": [
        "5) Reshape 1d array a to 2d array of 2X5"
      ]
    },
    {
      "metadata": {
        "id": "2E8b55_2Cjx5",
        "colab_type": "code",
        "colab": {}
      },
      "cell_type": "code",
      "source": [
        "a = np.arange(10)\n",
        "print (a)\n",
        "\n",
        "a = np.arange(10).reshape(2,5)\n",
        "print (a)"
      ],
      "execution_count": 0,
      "outputs": []
    },
    {
      "metadata": {
        "id": "dVrSBW1zEjp2",
        "colab_type": "text"
      },
      "cell_type": "markdown",
      "source": [
        "6) Create a numpy array to list and vice versa"
      ]
    },
    {
      "metadata": {
        "id": "tcBCyhXPEp9C",
        "colab_type": "code",
        "colab": {}
      },
      "cell_type": "code",
      "source": [
        "a = [1, 2, 3, 4, 5, 6, 7, 8, 9]\n",
        "a= np.arange(9).reshape(3, 3)\n",
        "\n",
        "print(\"Original array elements:\")\n",
        "print(a)\n",
        "\n",
        "print(\"Array to list:\")\n",
        "x = a.tolist()\n",
        "print (x)\n",
        "\n",
        "print (\"list to Array\")\n",
        "y = np.array(x)\n",
        "print(y)"
      ],
      "execution_count": 0,
      "outputs": []
    },
    {
      "metadata": {
        "id": "JNqX8wnz9sQJ",
        "colab_type": "text"
      },
      "cell_type": "markdown",
      "source": [
        "\n",
        "7) Create a 10 x 10 arrays of zeros and then \"frame\" it with a border of ones."
      ]
    },
    {
      "metadata": {
        "id": "4bjP3JAc9vRD",
        "colab_type": "code",
        "colab": {}
      },
      "cell_type": "code",
      "source": [
        "a = np.ones((10,10))\n",
        "print(\"1 on the border and 0 inside in the array\")\n",
        "a[1:-1,1:-1] = 0\n",
        "print(a)\n"
      ],
      "execution_count": 0,
      "outputs": []
    },
    {
      "metadata": {
        "id": "xaQgf8tT9v-n",
        "colab_type": "text"
      },
      "cell_type": "markdown",
      "source": [
        "8\n",
        ") Create an 8 x 8 array with a checkerboard pattern of zeros and ones using a slicing+striding approach."
      ]
    },
    {
      "metadata": {
        "id": "No7fx0Xy9zEh",
        "colab_type": "code",
        "colab": {}
      },
      "cell_type": "code",
      "source": [
        "x = np.ones((3,3))\n",
        "print(\"Checkerboard pattern:\")\n",
        "\n",
        "x = np.zeros((8,8))\n",
        "\n",
        "x[1::2,::2] = 1\n",
        "x[::2,1::2] = 1\n",
        "\n",
        "print(x)\n"
      ],
      "execution_count": 0,
      "outputs": []
    }
  ]
}