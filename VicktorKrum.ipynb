{
  "nbformat": 4,
  "nbformat_minor": 0,
  "metadata": {
    "colab": {
      "name": "VicktorKrum.ipynb",
      "version": "0.3.2",
      "provenance": []
    },
    "kernelspec": {
      "display_name": "Python 3",
      "language": "python",
      "name": "python3"
    }
  },
  "cells": [
    {
      "metadata": {
        "id": "l_5Q-bRdQuf0",
        "colab_type": "text"
      },
      "cell_type": "markdown",
      "source": [
        "**ASSIGNMENT 2:**\n",
        "\n",
        "\n",
        "3. NUMPY EXERCISES"
      ]
    },
    {
      "metadata": {
        "id": "BrGjHSVZRoJN",
        "colab_type": "code",
        "colab": {}
      },
      "cell_type": "code",
      "source": [
        "import numpy as np"
      ],
      "execution_count": 0,
      "outputs": []
    },
    {
      "metadata": {
        "id": "g0MmK9_aRP_P",
        "colab_type": "text"
      },
      "cell_type": "markdown",
      "source": [
        "1).Create a uniform subdivision of the interval -1.3 to 2.5 with 64 subdivisions"
      ]
    },
    {
      "metadata": {
        "id": "1-yzUHV6RHqU",
        "colab_type": "code",
        "colab": {
          "base_uri": "https://localhost:8080/",
          "height": 204
        },
        "outputId": "e5a38b3c-8f68-4b5d-d38a-cb67ebdec662"
      },
      "cell_type": "code",
      "source": [
        "a = np.linspace(-1.3,2.5,64)\n",
        "print(a)\n"
      ],
      "execution_count": 4,
      "outputs": [
        {
          "output_type": "stream",
          "text": [
            "[-1.3        -1.23968254 -1.17936508 -1.11904762 -1.05873016 -0.9984127\n",
            " -0.93809524 -0.87777778 -0.81746032 -0.75714286 -0.6968254  -0.63650794\n",
            " -0.57619048 -0.51587302 -0.45555556 -0.3952381  -0.33492063 -0.27460317\n",
            " -0.21428571 -0.15396825 -0.09365079 -0.03333333  0.02698413  0.08730159\n",
            "  0.14761905  0.20793651  0.26825397  0.32857143  0.38888889  0.44920635\n",
            "  0.50952381  0.56984127  0.63015873  0.69047619  0.75079365  0.81111111\n",
            "  0.87142857  0.93174603  0.99206349  1.05238095  1.11269841  1.17301587\n",
            "  1.23333333  1.29365079  1.35396825  1.41428571  1.47460317  1.53492063\n",
            "  1.5952381   1.65555556  1.71587302  1.77619048  1.83650794  1.8968254\n",
            "  1.95714286  2.01746032  2.07777778  2.13809524  2.1984127   2.25873016\n",
            "  2.31904762  2.37936508  2.43968254  2.5       ]\n"
          ],
          "name": "stdout"
        }
      ]
    },
    {
      "metadata": {
        "id": "OBqeZ1lUR3eR",
        "colab_type": "text"
      },
      "cell_type": "markdown",
      "source": [
        "3).Create an array of the first 10 odd integers."
      ]
    },
    {
      "metadata": {
        "id": "SKJxWzAUR-aN",
        "colab_type": "code",
        "colab": {
          "base_uri": "https://localhost:8080/",
          "height": 34
        },
        "outputId": "8ac2ecd2-155c-44dd-f876-b0494cf624e6"
      },
      "cell_type": "code",
      "source": [
        "a=[]\n",
        "for i in range(1,20): \n",
        "  if i%2!=0:\n",
        "     a.append(i)\n",
        "  if (len(a)!=20):\n",
        "         i+=1\n",
        "print(a)"
      ],
      "execution_count": 10,
      "outputs": [
        {
          "output_type": "stream",
          "text": [
            "[1, 3, 5, 7, 9, 11, 13, 15, 17, 19]\n"
          ],
          "name": "stdout"
        }
      ]
    },
    {
      "metadata": {
        "id": "ntiapz3rSq1s",
        "colab_type": "text"
      },
      "cell_type": "markdown",
      "source": [
        "4) Find intersection of a and b"
      ]
    },
    {
      "metadata": {
        "id": "dB85INg1Suix",
        "colab_type": "code",
        "colab": {
          "base_uri": "https://localhost:8080/",
          "height": 51
        },
        "outputId": "db9b0da1-d330-4c9d-b773-2da9f7600959"
      },
      "cell_type": "code",
      "source": [
        "c = [ ]\n",
        "\n",
        "#expected output array([2, 4])\n",
        "a = np.array([1,2,3,2,3,4,3,4,5,6])\n",
        "b = np.array([7,2,10,2,7,4,9,4,9,8])\n",
        "#if (for i in a: for j in b: if i==j: c.append[i] i++)\n",
        "print (c)\n",
        "\n",
        "list (set(a) & set(b))"
      ],
      "execution_count": 13,
      "outputs": [
        {
          "output_type": "stream",
          "text": [
            "[]\n"
          ],
          "name": "stdout"
        },
        {
          "output_type": "execute_result",
          "data": {
            "text/plain": [
              "[2, 4]"
            ]
          },
          "metadata": {
            "tags": []
          },
          "execution_count": 13
        }
      ]
    },
    {
      "metadata": {
        "id": "9n4n-5s7S9wO",
        "colab_type": "text"
      },
      "cell_type": "markdown",
      "source": [
        "5) Reshape 1d array a to 2d array of 2X5\n"
      ]
    },
    {
      "metadata": {
        "id": "N-wLyL2nTArS",
        "colab_type": "code",
        "colab": {
          "base_uri": "https://localhost:8080/",
          "height": 68
        },
        "outputId": "fffa2581-698d-4097-f017-008590f1df6d"
      },
      "cell_type": "code",
      "source": [
        "a = np.arange(10)\n",
        "print(a)\n",
        "#b = a.reshape(a.shape[-10:5],5)\n",
        "b = a.reshape(2,5)\n",
        "print(b)"
      ],
      "execution_count": 36,
      "outputs": [
        {
          "output_type": "stream",
          "text": [
            "[0 1 2 3 4 5 6 7 8 9]\n",
            "[[0 1 2 3 4]\n",
            " [5 6 7 8 9]]\n"
          ],
          "name": "stdout"
        }
      ]
    },
    {
      "metadata": {
        "id": "5L5C1N6RWmyK",
        "colab_type": "text"
      },
      "cell_type": "markdown",
      "source": [
        "6) Create a numpy array to list and vice versa\n"
      ]
    },
    {
      "metadata": {
        "id": "JJtmfaw9WqNE",
        "colab_type": "code",
        "colab": {
          "base_uri": "https://localhost:8080/",
          "height": 68
        },
        "outputId": "6a8740cd-61f1-484b-ac31-785502c88144"
      },
      "cell_type": "code",
      "source": [
        "a = ([1, 2, 3, 4, 5, 6, 7, 8, 9])\n",
        "#print(a.tolist())\n",
        "print(list(a))\n",
        "a = [1, 2, 3, 4, 5, 6, 7, 8, 9]\n",
        "b = np.asarray(a)\n",
        "d = np.array(a)\n",
        "print(d)\n",
        "b"
      ],
      "execution_count": 42,
      "outputs": [
        {
          "output_type": "stream",
          "text": [
            "[1, 2, 3, 4, 5, 6, 7, 8, 9]\n",
            "[1 2 3 4 5 6 7 8 9]\n"
          ],
          "name": "stdout"
        },
        {
          "output_type": "execute_result",
          "data": {
            "text/plain": [
              "array([1, 2, 3, 4, 5, 6, 7, 8, 9])"
            ]
          },
          "metadata": {
            "tags": []
          },
          "execution_count": 42
        }
      ]
    },
    {
      "metadata": {
        "id": "_Uk8P1i2XCTL",
        "colab_type": "text"
      },
      "cell_type": "markdown",
      "source": [
        "7) Create a 10 x 10 arrays of zeros and then \"frame\" it with a border of ones."
      ]
    },
    {
      "metadata": {
        "id": "G4hsEI__XF3N",
        "colab_type": "code",
        "colab": {
          "base_uri": "https://localhost:8080/",
          "height": 221
        },
        "outputId": "1a00c201-5420-41e8-9d17-a30d172bc4e0"
      },
      "cell_type": "code",
      "source": [
        "z = np.ones((12,12))\n",
        "#z = zeros((12,12))\n",
        "#a = ones(12)\n",
        "#b = ones((,10))\n",
        "#v = [a,b,z,b,a]  */\n",
        "z[1:-1,1:-1] = 0\n",
        "print(z)"
      ],
      "execution_count": 46,
      "outputs": [
        {
          "output_type": "stream",
          "text": [
            "[[1. 1. 1. 1. 1. 1. 1. 1. 1. 1. 1. 1.]\n",
            " [1. 0. 0. 0. 0. 0. 0. 0. 0. 0. 0. 1.]\n",
            " [1. 0. 0. 0. 0. 0. 0. 0. 0. 0. 0. 1.]\n",
            " [1. 0. 0. 0. 0. 0. 0. 0. 0. 0. 0. 1.]\n",
            " [1. 0. 0. 0. 0. 0. 0. 0. 0. 0. 0. 1.]\n",
            " [1. 0. 0. 0. 0. 0. 0. 0. 0. 0. 0. 1.]\n",
            " [1. 0. 0. 0. 0. 0. 0. 0. 0. 0. 0. 1.]\n",
            " [1. 0. 0. 0. 0. 0. 0. 0. 0. 0. 0. 1.]\n",
            " [1. 0. 0. 0. 0. 0. 0. 0. 0. 0. 0. 1.]\n",
            " [1. 0. 0. 0. 0. 0. 0. 0. 0. 0. 0. 1.]\n",
            " [1. 0. 0. 0. 0. 0. 0. 0. 0. 0. 0. 1.]\n",
            " [1. 1. 1. 1. 1. 1. 1. 1. 1. 1. 1. 1.]]\n"
          ],
          "name": "stdout"
        }
      ]
    },
    {
      "metadata": {
        "id": "SJjZG7jzXZ08",
        "colab_type": "text"
      },
      "cell_type": "markdown",
      "source": [
        "8).Write a Python program to create a 8*8 matrix and fill it with a checkerboard pattern."
      ]
    },
    {
      "metadata": {
        "id": "xIPYT3vLXdyn",
        "colab_type": "code",
        "colab": {
          "base_uri": "https://localhost:8080/",
          "height": 170
        },
        "outputId": "8ed4a15a-3929-43c4-dc3d-fbabd505d4c3"
      },
      "cell_type": "code",
      "source": [
        "x=np.ones((3,3))\n",
        "print(\"Checkerboard pattern:\")\n",
        "x=np.zeros((8,8),dtype=int)\n",
        "x[1::2,::2] = 1\n",
        "x[::2,1::2] = 1\n",
        "print(x)\n"
      ],
      "execution_count": 48,
      "outputs": [
        {
          "output_type": "stream",
          "text": [
            "Checkerboard pattern:\n",
            "[[0 1 0 1 0 1 0 1]\n",
            " [1 0 1 0 1 0 1 0]\n",
            " [0 1 0 1 0 1 0 1]\n",
            " [1 0 1 0 1 0 1 0]\n",
            " [0 1 0 1 0 1 0 1]\n",
            " [1 0 1 0 1 0 1 0]\n",
            " [0 1 0 1 0 1 0 1]\n",
            " [1 0 1 0 1 0 1 0]]\n"
          ],
          "name": "stdout"
        }
      ]
    },
    {
      "metadata": {
        "id": "CO89jPWgXtKo",
        "colab_type": "text"
      },
      "cell_type": "markdown",
      "source": [
        "**1) LISTS**"
      ]
    },
    {
      "metadata": {
        "id": "XbcuYw7zXzIx",
        "colab_type": "text"
      },
      "cell_type": "markdown",
      "source": [
        "1) Create any random list and assign it to a variable dummy_list"
      ]
    },
    {
      "metadata": {
        "id": "Mp2udy3oX2lH",
        "colab_type": "code",
        "colab": {}
      },
      "cell_type": "code",
      "source": [
        "import random\n",
        "dummy_list = random.sample(range(20),7)"
      ],
      "execution_count": 0,
      "outputs": []
    },
    {
      "metadata": {
        "id": "uaPTS1TwX9oV",
        "colab_type": "text"
      },
      "cell_type": "markdown",
      "source": [
        "2) print dummy_list\n"
      ]
    },
    {
      "metadata": {
        "id": "JEneP1T0YAzH",
        "colab_type": "code",
        "colab": {
          "base_uri": "https://localhost:8080/",
          "height": 34
        },
        "outputId": "00019f0f-bb2d-4a86-f551-9f7de480a4f2"
      },
      "cell_type": "code",
      "source": [
        "print(dummy_list)\n"
      ],
      "execution_count": 69,
      "outputs": [
        {
          "output_type": "stream",
          "text": [
            "[0, 0, 0, 1, 1, 2, 2, 4, 4, 6, 8, 9.45, 9.45, 11, 12, 12.01, 12.01, 12.02, 12.02, 14, 16, 16, 17, 45.67, 45.67, 90, 90, 200, 200]\n"
          ],
          "name": "stdout"
        }
      ]
    },
    {
      "metadata": {
        "id": "sk1oKePOYD9L",
        "colab_type": "text"
      },
      "cell_type": "markdown",
      "source": [
        "3)Reverse dummy_list and print"
      ]
    },
    {
      "metadata": {
        "id": "ceVOBdYQYHWh",
        "colab_type": "code",
        "colab": {
          "base_uri": "https://localhost:8080/",
          "height": 34
        },
        "outputId": "bbb25995-ce9b-4dbc-bda6-02ec86b5e36c"
      },
      "cell_type": "code",
      "source": [
        "print(dummy_list.reverse())"
      ],
      "execution_count": 70,
      "outputs": [
        {
          "output_type": "stream",
          "text": [
            "None\n"
          ],
          "name": "stdout"
        }
      ]
    },
    {
      "metadata": {
        "id": "hYoLIQIqYRpr",
        "colab_type": "text"
      },
      "cell_type": "markdown",
      "source": [
        "4) Add the list dummy_list_2 to the previous dummy_list and now print dummy_list\n"
      ]
    },
    {
      "metadata": {
        "id": "QU-C3c4LYU8u",
        "colab_type": "code",
        "colab": {
          "base_uri": "https://localhost:8080/",
          "height": 54
        },
        "outputId": "5f185b29-dba2-4383-e7ad-281fe4fc9b87"
      },
      "cell_type": "code",
      "source": [
        "dummy_list_2 = [2, 200, 16, 4, 1, 0, 9.45, 45.67, 90, 12.01, 12.02]\n",
        "dummy_list.extend(dummy_list_2)\n",
        "print(dummy_list)\n",
        "\n"
      ],
      "execution_count": 71,
      "outputs": [
        {
          "output_type": "stream",
          "text": [
            "[200, 200, 90, 90, 45.67, 45.67, 17, 16, 16, 14, 12.02, 12.02, 12.01, 12.01, 12, 11, 9.45, 9.45, 8, 6, 4, 4, 2, 2, 1, 1, 0, 0, 0, 2, 200, 16, 4, 1, 0, 9.45, 45.67, 90, 12.01, 12.02]\n"
          ],
          "name": "stdout"
        }
      ]
    },
    {
      "metadata": {
        "id": "edEMLOZNYnk6",
        "colab_type": "text"
      },
      "cell_type": "markdown",
      "source": [
        "5) Create a dictionary named dummy_dict which contains all the elements of dummy_list as keys and frequency as values.\n",
        "\n",
        "6) print dummy_dict"
      ]
    },
    {
      "metadata": {
        "id": "KuPHVLPHYvSF",
        "colab_type": "code",
        "colab": {
          "base_uri": "https://localhost:8080/",
          "height": 34
        },
        "outputId": "e7212dc2-d97f-4ad7-b9a3-480e32ea1d4f"
      },
      "cell_type": "code",
      "source": [
        "import collections\n",
        "cntr = collections.Counter(a)\n",
        "#j = []\n",
        "dummy_dict = cntr\n",
        "#for i in cntr.values:\n",
        "#  j.append(i)\n",
        "  \n",
        "#dummy_dict = {a[i]: a[i+1] for i in range(0, len(a), 2)}  \n",
        "print(dummy_dict)"
      ],
      "execution_count": 72,
      "outputs": [
        {
          "output_type": "stream",
          "text": [
            "Counter({1: 1, 2: 1, 3: 1, 4: 1, 5: 1, 6: 1, 7: 1, 8: 1, 9: 1})\n"
          ],
          "name": "stdout"
        }
      ]
    },
    {
      "metadata": {
        "id": "T731revYebYq",
        "colab_type": "text"
      },
      "cell_type": "markdown",
      "source": [
        "7) ) Sort dummy_list in ascending order as well as descending order and print the changed lists\n"
      ]
    },
    {
      "metadata": {
        "id": "ZtE4zbvFeZl9",
        "colab_type": "code",
        "colab": {
          "base_uri": "https://localhost:8080/",
          "height": 163
        },
        "outputId": "3d06fa71-1394-4d3f-8c51-61dc06d10783"
      },
      "cell_type": "code",
      "source": [
        "dummy_list.sort()\n",
        "print(dummy_list)\n",
        "dummy_list.sort(reverse=True)\n",
        "print(dummy_list)"
      ],
      "execution_count": 0,
      "outputs": [
        {
          "output_type": "error",
          "ename": "NameError",
          "evalue": "ignored",
          "traceback": [
            "\u001b[0;31m---------------------------------------------------------------------------\u001b[0m",
            "\u001b[0;31mNameError\u001b[0m                                 Traceback (most recent call last)",
            "\u001b[0;32m<ipython-input-61-68ba44928570>\u001b[0m in \u001b[0;36m<module>\u001b[0;34m()\u001b[0m\n\u001b[0;32m----> 1\u001b[0;31m \u001b[0mprint\u001b[0m\u001b[0;34m(\u001b[0m\u001b[0mdummy_dict\u001b[0m\u001b[0;34m)\u001b[0m\u001b[0;34m\u001b[0m\u001b[0m\n\u001b[0m",
            "\u001b[0;31mNameError\u001b[0m: name 'dummy_dict' is not defined"
          ]
        }
      ]
    },
    {
      "metadata": {
        "id": "N5-LKs4Dfdsz",
        "colab_type": "text"
      },
      "cell_type": "markdown",
      "source": [
        "8) Remove the first item from the list whose value is equal to x. It raises a ValueError if there is no such item."
      ]
    },
    {
      "metadata": {
        "id": "wR4CIdVqfieh",
        "colab_type": "code",
        "colab": {}
      },
      "cell_type": "code",
      "source": [
        "x= 200\n",
        "for i in list:\n",
        "  if i==5:\n",
        "    dummy_list.remove(x)\n",
        "    "
      ],
      "execution_count": 0,
      "outputs": []
    },
    {
      "metadata": {
        "id": "KXLlwhLTgA7Z",
        "colab_type": "text"
      },
      "cell_type": "markdown",
      "source": [
        "9) Remove the item at position x. x is any random integer"
      ]
    },
    {
      "metadata": {
        "id": "73oy80JlgJUY",
        "colab_type": "code",
        "colab": {}
      },
      "cell_type": "code",
      "source": [
        "#similar to deleting by index,i.e., del[a : b]"
      ],
      "execution_count": 0,
      "outputs": []
    },
    {
      "metadata": {
        "id": "VIWaH3WgguJA",
        "colab_type": "text"
      },
      "cell_type": "markdown",
      "source": [
        "10) Let's clean everything clear the list and then print"
      ]
    },
    {
      "metadata": {
        "id": "VvvPY34LgxJL",
        "colab_type": "code",
        "colab": {}
      },
      "cell_type": "code",
      "source": [
        "dummy_list.clear()"
      ],
      "execution_count": 0,
      "outputs": []
    }
  ]
}